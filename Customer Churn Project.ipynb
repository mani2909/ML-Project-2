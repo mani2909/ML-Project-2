{
 "cells": [
  {
   "cell_type": "markdown",
   "id": "73d2d897",
   "metadata": {},
   "source": [
    "# Predicting Customer Churn using ML methods"
   ]
  },
  {
   "cell_type": "code",
   "execution_count": 1,
   "id": "6a90ea82",
   "metadata": {},
   "outputs": [],
   "source": [
    "#import basic libraries\n",
    "import os,sys\n",
    "import numpy as np\n",
    "import pandas as pd\n",
    "import matplotlib.pyplot as plt\n",
    "%matplotlib inline\n",
    "import seaborn as sns\n",
    "sns.set()\n",
    "import warnings\n",
    "warnings.filterwarnings('ignore')"
   ]
  },
  {
   "cell_type": "code",
   "execution_count": 2,
   "id": "253e785f",
   "metadata": {},
   "outputs": [
    {
     "data": {
      "text/html": [
       "<div>\n",
       "<style scoped>\n",
       "    .dataframe tbody tr th:only-of-type {\n",
       "        vertical-align: middle;\n",
       "    }\n",
       "\n",
       "    .dataframe tbody tr th {\n",
       "        vertical-align: top;\n",
       "    }\n",
       "\n",
       "    .dataframe thead th {\n",
       "        text-align: right;\n",
       "    }\n",
       "</style>\n",
       "<table border=\"1\" class=\"dataframe\">\n",
       "  <thead>\n",
       "    <tr style=\"text-align: right;\">\n",
       "      <th></th>\n",
       "      <th>customerID</th>\n",
       "      <th>gender</th>\n",
       "      <th>SeniorCitizen</th>\n",
       "      <th>Partner</th>\n",
       "      <th>Dependents</th>\n",
       "      <th>tenure</th>\n",
       "      <th>PhoneService</th>\n",
       "      <th>MultipleLines</th>\n",
       "      <th>InternetService</th>\n",
       "      <th>OnlineSecurity</th>\n",
       "      <th>...</th>\n",
       "      <th>DeviceProtection</th>\n",
       "      <th>TechSupport</th>\n",
       "      <th>StreamingTV</th>\n",
       "      <th>StreamingMovies</th>\n",
       "      <th>Contract</th>\n",
       "      <th>PaperlessBilling</th>\n",
       "      <th>PaymentMethod</th>\n",
       "      <th>MonthlyCharges</th>\n",
       "      <th>TotalCharges</th>\n",
       "      <th>Churn</th>\n",
       "    </tr>\n",
       "  </thead>\n",
       "  <tbody>\n",
       "    <tr>\n",
       "      <th>0</th>\n",
       "      <td>7590-VHVEG</td>\n",
       "      <td>Female</td>\n",
       "      <td>0</td>\n",
       "      <td>Yes</td>\n",
       "      <td>No</td>\n",
       "      <td>1</td>\n",
       "      <td>No</td>\n",
       "      <td>No phone service</td>\n",
       "      <td>DSL</td>\n",
       "      <td>No</td>\n",
       "      <td>...</td>\n",
       "      <td>No</td>\n",
       "      <td>No</td>\n",
       "      <td>No</td>\n",
       "      <td>No</td>\n",
       "      <td>Month-to-month</td>\n",
       "      <td>Yes</td>\n",
       "      <td>Electronic check</td>\n",
       "      <td>29.85</td>\n",
       "      <td>29.85</td>\n",
       "      <td>No</td>\n",
       "    </tr>\n",
       "    <tr>\n",
       "      <th>1</th>\n",
       "      <td>5575-GNVDE</td>\n",
       "      <td>Male</td>\n",
       "      <td>0</td>\n",
       "      <td>No</td>\n",
       "      <td>No</td>\n",
       "      <td>34</td>\n",
       "      <td>Yes</td>\n",
       "      <td>No</td>\n",
       "      <td>DSL</td>\n",
       "      <td>Yes</td>\n",
       "      <td>...</td>\n",
       "      <td>Yes</td>\n",
       "      <td>No</td>\n",
       "      <td>No</td>\n",
       "      <td>No</td>\n",
       "      <td>One year</td>\n",
       "      <td>No</td>\n",
       "      <td>Mailed check</td>\n",
       "      <td>56.95</td>\n",
       "      <td>1889.5</td>\n",
       "      <td>No</td>\n",
       "    </tr>\n",
       "    <tr>\n",
       "      <th>2</th>\n",
       "      <td>3668-QPYBK</td>\n",
       "      <td>Male</td>\n",
       "      <td>0</td>\n",
       "      <td>No</td>\n",
       "      <td>No</td>\n",
       "      <td>2</td>\n",
       "      <td>Yes</td>\n",
       "      <td>No</td>\n",
       "      <td>DSL</td>\n",
       "      <td>Yes</td>\n",
       "      <td>...</td>\n",
       "      <td>No</td>\n",
       "      <td>No</td>\n",
       "      <td>No</td>\n",
       "      <td>No</td>\n",
       "      <td>Month-to-month</td>\n",
       "      <td>Yes</td>\n",
       "      <td>Mailed check</td>\n",
       "      <td>53.85</td>\n",
       "      <td>108.15</td>\n",
       "      <td>Yes</td>\n",
       "    </tr>\n",
       "    <tr>\n",
       "      <th>3</th>\n",
       "      <td>7795-CFOCW</td>\n",
       "      <td>Male</td>\n",
       "      <td>0</td>\n",
       "      <td>No</td>\n",
       "      <td>No</td>\n",
       "      <td>45</td>\n",
       "      <td>No</td>\n",
       "      <td>No phone service</td>\n",
       "      <td>DSL</td>\n",
       "      <td>Yes</td>\n",
       "      <td>...</td>\n",
       "      <td>Yes</td>\n",
       "      <td>Yes</td>\n",
       "      <td>No</td>\n",
       "      <td>No</td>\n",
       "      <td>One year</td>\n",
       "      <td>No</td>\n",
       "      <td>Bank transfer (automatic)</td>\n",
       "      <td>42.30</td>\n",
       "      <td>1840.75</td>\n",
       "      <td>No</td>\n",
       "    </tr>\n",
       "    <tr>\n",
       "      <th>4</th>\n",
       "      <td>9237-HQITU</td>\n",
       "      <td>Female</td>\n",
       "      <td>0</td>\n",
       "      <td>No</td>\n",
       "      <td>No</td>\n",
       "      <td>2</td>\n",
       "      <td>Yes</td>\n",
       "      <td>No</td>\n",
       "      <td>Fiber optic</td>\n",
       "      <td>No</td>\n",
       "      <td>...</td>\n",
       "      <td>No</td>\n",
       "      <td>No</td>\n",
       "      <td>No</td>\n",
       "      <td>No</td>\n",
       "      <td>Month-to-month</td>\n",
       "      <td>Yes</td>\n",
       "      <td>Electronic check</td>\n",
       "      <td>70.70</td>\n",
       "      <td>151.65</td>\n",
       "      <td>Yes</td>\n",
       "    </tr>\n",
       "  </tbody>\n",
       "</table>\n",
       "<p>5 rows × 21 columns</p>\n",
       "</div>"
      ],
      "text/plain": [
       "   customerID  gender  SeniorCitizen Partner Dependents  tenure PhoneService  \\\n",
       "0  7590-VHVEG  Female              0     Yes         No       1           No   \n",
       "1  5575-GNVDE    Male              0      No         No      34          Yes   \n",
       "2  3668-QPYBK    Male              0      No         No       2          Yes   \n",
       "3  7795-CFOCW    Male              0      No         No      45           No   \n",
       "4  9237-HQITU  Female              0      No         No       2          Yes   \n",
       "\n",
       "      MultipleLines InternetService OnlineSecurity  ... DeviceProtection  \\\n",
       "0  No phone service             DSL             No  ...               No   \n",
       "1                No             DSL            Yes  ...              Yes   \n",
       "2                No             DSL            Yes  ...               No   \n",
       "3  No phone service             DSL            Yes  ...              Yes   \n",
       "4                No     Fiber optic             No  ...               No   \n",
       "\n",
       "  TechSupport StreamingTV StreamingMovies        Contract PaperlessBilling  \\\n",
       "0          No          No              No  Month-to-month              Yes   \n",
       "1          No          No              No        One year               No   \n",
       "2          No          No              No  Month-to-month              Yes   \n",
       "3         Yes          No              No        One year               No   \n",
       "4          No          No              No  Month-to-month              Yes   \n",
       "\n",
       "               PaymentMethod MonthlyCharges  TotalCharges Churn  \n",
       "0           Electronic check          29.85         29.85    No  \n",
       "1               Mailed check          56.95        1889.5    No  \n",
       "2               Mailed check          53.85        108.15   Yes  \n",
       "3  Bank transfer (automatic)          42.30       1840.75    No  \n",
       "4           Electronic check          70.70        151.65   Yes  \n",
       "\n",
       "[5 rows x 21 columns]"
      ]
     },
     "execution_count": 2,
     "metadata": {},
     "output_type": "execute_result"
    }
   ],
   "source": [
    "#import dataset\n",
    "dataset=pd.read_csv('Telcom Data.csv')\n",
    "dataset.head()"
   ]
  },
  {
   "cell_type": "code",
   "execution_count": 3,
   "id": "756ef8af",
   "metadata": {},
   "outputs": [
    {
     "data": {
      "text/plain": [
       "(7043, 21)"
      ]
     },
     "execution_count": 3,
     "metadata": {},
     "output_type": "execute_result"
    }
   ],
   "source": [
    "dataset.shape"
   ]
  },
  {
   "cell_type": "code",
   "execution_count": 4,
   "id": "19a5b6c9",
   "metadata": {},
   "outputs": [],
   "source": [
    "dataset1=dataset.copy()"
   ]
  },
  {
   "cell_type": "code",
   "execution_count": 5,
   "id": "f2ba0b24",
   "metadata": {},
   "outputs": [
    {
     "name": "stdout",
     "output_type": "stream",
     "text": [
      "<class 'pandas.core.frame.DataFrame'>\n",
      "RangeIndex: 7043 entries, 0 to 7042\n",
      "Data columns (total 21 columns):\n",
      " #   Column            Non-Null Count  Dtype  \n",
      "---  ------            --------------  -----  \n",
      " 0   customerID        7043 non-null   object \n",
      " 1   gender            7043 non-null   object \n",
      " 2   SeniorCitizen     7043 non-null   int64  \n",
      " 3   Partner           7043 non-null   object \n",
      " 4   Dependents        7043 non-null   object \n",
      " 5   tenure            7043 non-null   int64  \n",
      " 6   PhoneService      7043 non-null   object \n",
      " 7   MultipleLines     7043 non-null   object \n",
      " 8   InternetService   7043 non-null   object \n",
      " 9   OnlineSecurity    7043 non-null   object \n",
      " 10  OnlineBackup      7043 non-null   object \n",
      " 11  DeviceProtection  7043 non-null   object \n",
      " 12  TechSupport       7043 non-null   object \n",
      " 13  StreamingTV       7043 non-null   object \n",
      " 14  StreamingMovies   7043 non-null   object \n",
      " 15  Contract          7043 non-null   object \n",
      " 16  PaperlessBilling  7043 non-null   object \n",
      " 17  PaymentMethod     7043 non-null   object \n",
      " 18  MonthlyCharges    7043 non-null   float64\n",
      " 19  TotalCharges      7043 non-null   object \n",
      " 20  Churn             7043 non-null   object \n",
      "dtypes: float64(1), int64(2), object(18)\n",
      "memory usage: 1.1+ MB\n"
     ]
    }
   ],
   "source": [
    "dataset.info()"
   ]
  },
  {
   "cell_type": "code",
   "execution_count": 6,
   "id": "c1620c5a",
   "metadata": {},
   "outputs": [
    {
     "name": "stdout",
     "output_type": "stream",
     "text": [
      "************* customerID *************\n",
      "\n",
      "{'5624-BQSSA', '7209-JCUDS', '1062-LHZOD', '2969-VAPYH', '7779-LGOVN', '0795-XCCTE', '2474-LCNUE', '1976-AZZPJ', '2796-UUZZO', '2034-CGRHZ', '4988-IQIGL', '3486-HOOGQ', '9283-LZQOH', '0302-JOIVN', '7129-AZJDE', '5312-UXESG', '0639-TSIQW', '1699-HPSBG', '4154-AQUGT', '1839-UMACK', '6655-LHBYW', '2162-FRZAA', '0702-PGIBZ', '8063-GBATB', '3943-KDREE', '1875-QIVME', '1064-FBXNK', '4884-TVUQF', '6243-OZGFH', '5144-TVGLP', '5827-MWCZK', '6797-UCJHZ', '5760-WRAHC', '8718-PTMEZ', '1775-KWJKQ', '6701-DHKWQ', '7025-IWFHT', '1471-GIQKQ', '5619-PTMIK', '6892-EZDTG', '9052-VKDUW', '6870-ZWMNX', '9644-UMGQA', '7797-EJMDP', '3023-GFLBR', '9470-RTWDV', '7096-UCLNH', '7079-QRCBC', '2135-DQWAQ', '8388-DMKAE', '0917-EZOLA', '8917-SZTTJ', '6366-ZGQGL', '9867-NNXLC', '0516-VRYBW', '6746-WAUWT', '1270-XKUCC', '2862-PFNIK', '3804-RVTGV', '8630-QSGXK', '2880-FPNAE', '0701-TJSEF', '9730-DRTMJ', '1971-DTCZB', '1582-RAFML', '1022-RKXDR', '9871-ELEYA', '0376-YMCJC', '0011-IGKFF', '7277-KAMWT', '2927-CVULT', '0604-THJFP', '9227-UAQFT', '0621-JFHOL', '2786-GCDPI', '4694-PHWFW', '4614-NUVZD', '1583-IHQZE', '1346-PJWTK', '6096-EGVTU', '8221-EQDGL', '9944-HKVVB', '1488-PBLJN', '3259-FDWOY', '4430-UZIPO', '1564-NTYXF', '1702-CCFNJ', '9732-EQMWY', '9526-JAWYF', '0739-UUAJR', '3079-BCHLN', '9103-CXVOK', '2672-OJQZP', '9013-AQORL', '6543-XRMYR', '1841-YSJGV', '8000-REIQB', '5168-MSWXT', '6080-TCMYC', '2775-SEFEE', '4176-RELJR', '9391-DXGGG', '1087-UDSIH', '5995-SNNEW', '6047-YHPVI', '9451-WLYRI', '5868-YWPDW', '1796-JANOW', '6339-YPSAH', '0480-KYJVA', '4137-BTIKL', '7128-GGCNO', '1156-ZFYDO', '2003-CKLOR', '5982-PSMKW', '1755-FZQEC', '2436-QBZFP', '3276-HDUEG', '9391-LMANN', '8821-KVZKQ', '2311-QYMUQ', '7184-LRUUR', '2245-ADZFJ', '4316-XCSLJ', '0197-PNKNK', '2612-PHGOX', '5519-NPHVG', '3577-AMVUX', '7055-HNEOJ', '7077-XJMET', '5609-CEBID', '5322-ZSMZY', '2700-LUEVA', '3662-FXJFO', '1853-ARAAQ', '6377-WHAOX', '8819-WFGGJ', '7748-UMTRK', '0673-IGUQO', '8780-IHCRN', '8601-QACRS', '4210-QFJMF', '3550-SAHFP', '6614-VBEGU', '0430-IHCDJ', '9526-BIHHD', '9821-POOTN', '0096-BXERS', '6986-IJDHX', '5214-CHIWJ', '3961-SXAXY', '7228-OMTPN', '6663-JOCQO', '0231-LXVAP', '4584-LBNMK', '3688-FTHLT', '3318-OSATS', '5795-BKOYE', '6347-DCUIK', '0484-FFVBJ', '0623-GDISB', '1492-KGETH', '3571-RFHAR', '2239-JALAW', '7054-DMVAS', '5875-YPQFJ', '4598-XLKNJ', '4979-HPRFL', '5848-FHRFC', '7325-ENZFI', '8748-HFWBO', '9770-KXGQU', '3704-IEAXF', '9003-CPATH', '0536-ACXIP', '2987-BJXIK', '5156-UMKOW', '0980-FEXWF', '4338-EYCER', '1125-SNVCK', '9631-RXVJM', '2974-GGUXS', '2826-UWHIS', '3194-ORPIK', '2680-XKKNJ', '4550-EVXNY', '9940-RHLFB', '3969-GYXEL', '2656-TABEH', '0017-DINOC', '0193-ESZXP', '2325-WINES', '4521-YEEHE', '0661-KBKPA', '2834-SPCJV', '1045-LTCYT', '9650-VBUOG', '1636-NTNCO', '9710-NJERN', '8016-ZMGMO', '6506-EYCNH', '7956-XQWGU', '5709-LVOEQ', '4890-VMUAV', '1575-KRZZE', '6559-ILWKJ', '4273-MBHYA', '9637-EIHEQ', '2400-XIWIO', '6712-OAWRH', '2320-JRSDE', '6734-PSBAW', '0618-XWMSS', '4360-QRAVE', '6253-WRFHY', '6766-HFKLA', '3956-MGXOG', '9121-PHQSR', '3992-YWPKO', '4486-EFAEB', '0971-QIFJK', '0280-XJGEX', '1171-TYKUR', '1078-TDCRN', '8535-SFUTN', '6242-MBHPK', '7606-BPHHN', '0375-HVGXO', '3976-BWUCK', '3266-FTKHB', '4419-UJMUS', '1360-JYXKQ', '7483-IQWIB', '4193-ORFCL', '6242-SGYTS', '5236-PERKL', '1154-HYWWO', '6366-XIVKZ', '0537-QYZZN', '5027-XWQHA', '6194-HBGQN', '1488-SYSFC', '4873-ILOLJ', '9027-TMATR', '8937-RDTHP', '4871-JTKJF', '4194-WHFCB', '3466-WAESX', '8197-BFWVU', '1527-SXDPN', '4785-FCIFB', '3039-MJSLN', '6692-YQHXC', '4323-SADQS', '3884-UEBXB', '5949-XIKAE', '4439-YRNVD', '9572-WUKSB', '1919-RTPQD', '7912-SYRQT', '5298-GSTLM', '9637-CDTKZ', '3496-LFSZU', '8199-ZLLSA', '0354-VXMJC', '5712-VBOXD', '5091-HFAZW', '1231-YNDEK', '3457-PQBYH', '4877-EVATK', '6685-XSHHU', '6407-UTSLV', '1468-DEFNC', '3744-ZRRDZ', '6569-KTMDU', '6972-SNKKW', '7089-RKVSZ', '0089-IIQKO', '7156-MHUGY', '9804-ICWBG', '6908-VVYHM', '7064-JHXCE', '8582-KRHPJ', '5364-EVNIB', '6901-GOGZG', '4957-SREEC', '3006-XIMLN', '9588-YRFHY', '9481-SFCQY', '8543-MSDMF', '6371-NZYEG', '3798-EPWRR', '2719-BDAQO', '6131-FOYAS', '2040-VZIKE', '7191-ADRGF', '0282-NVSJS', '1131-ALZWV', '1965-DDBWU', '3295-YVUSR', '6919-ELBGL', '2927-QRRQV', '3934-HXCFZ', '9992-UJOEL', '7470-DYNOE', '4186-ZBUEW', '8124-NZVGJ', '3179-GBRWV', '2165-VOEGB', '0181-RITDD', '4182-BGSIQ', '5519-YLDGW', '2430-USGXP', '5380-XPJNZ', '9225-BZLNZ', '0277-ORXQS', '5847-MXBEO', '8630-FJLIB', '8929-KSWIH', '1680-VDCWW', '3389-YGYAI', '5839-SUYVZ', '1335-MXCSE', '8062-YBDOE', '2475-MROZF', '2874-YXVVA', '8639-NHQEI', '0458-HEUZG', '5542-DHSXL', '3707-GNWHM', '2750-BJLSB', '3259-KNMRR', '3537-HPKQT', '7459-RRWQZ', '4629-NRXKX', '2845-AFFTX', '0887-WBJVH', '8008-HAWED', '8111-RKSPX', '1389-WNUIB', '7217-JYHOQ', '4710-NKCAW', '3948-KXDUF', '7156-MXBJE', '3694-GLTJM', '6771-XWBDM', '9773-PEQBZ', '1196-AMORA', '6874-SGLHU', '2164-SOQXL', '4106-HADHQ', '4488-KQFDT', '5402-HTOTQ', '1850-AKQEP', '7100-FQPRV', '9342-VNIMQ', '3721-CNEYS', '3090-LETTY', '8003-EWNDZ', '3059-NGMXB', '4424-TKOPW', '6184-DYUOB', '2589-AYCRP', '0268-QKIWO', '6743-HHQPF', '1965-AKTSX', '8952-WCVCD', '6218-KNUBD', '9233-PSYHO', '4178-EGMON', '0114-PEGZZ', '0307-BCOPK', '1307-ATKGB', '7566-DSRLQ', '8044-BGWPI', '3606-TWKGI', '3658-QQJYD', '6000-APYLU', '1761-AEZZR', '3057-VJJQE', '1391-UBDAR', '1915-OAKWD', '7054-LGEQW', '3315-IKYZQ', '1110-KYLGQ', '8757-TFHHJ', '5981-ITEMU', '5842-POCOP', '5378-IKEEG', '5129-JLPIS', '9441-QHEVC', '2773-OVBPK', '1891-FZYSA', '4933-IKULF', '2077-MPJQO', '4174-LPGTI', '5158-RIVOP', '5899-MQZZL', '7520-HQWJU', '0487-VVUVK', '7544-ZVIKX', '2824-MYYBN', '6248-TKCQV', '8393-JMVMB', '1265-HVPZB', '1401-FTHFQ', '4132-POCZS', '3999-QGRJH', '0756-MPZRL', '8769-KKTPH', '9399-APLBT', '5140-FOMCQ', '5010-IPEAQ', '4302-ZYFEL', '6728-VOIFY', '0220-EBGCE', '2091-GPPIQ', '4925-LMHOK', '4583-PARNH', '3450-WXOAT', '7945-HLKEA', '9430-NKQLY', '1241-EZFMJ', '3177-LASXD', '5304-EFJLP', '7596-IIWYC', '5832-EXGTT', '1447-PJGGA', '1728-CXQBE', '7359-SSBJK', '0968-GSIKN', '6497-TILVL', '5392-AKEMH', '0723-DRCLG', '9846-GKXAS', '5268-DSMNQ', '1535-VTJOQ', '3508-CFVZL', '4198-VFOEA', '4237-RLAQD', '9938-PRCVK', '2995-UPRYS', '2952-QAYZF', '6509-TSGWN', '5318-IXUZF', '6131-JLWZM', '1596-BBVTG', '6637-KYRCV', '1057-FOGLZ', '5862-BRIXZ', '3009-JWMPU', '8685-WHQPW', '8749-TZYEC', '2925-VDZHY', '2252-NKNSI', '8837-VVWLQ', '3323-CPBWR', '7340-KEFQE', '4075-JFPGR', '9929-PLVPA', '8919-FYFQZ', '1428-IEDPR', '1074-WVEVG', '7248-VZQLC', '0052-YNYOT', '6298-QDFNH', '1855-CFULU', '7176-WRTNX', '5909-ECHUI', '7921-LMDFQ', '8707-RMEZH', '1320-REHCS', '3494-JCHRQ', '0675-NCDYU', '3746-EUBYR', '0856-NAOES', '8984-HPEMB', '6313-GIDIT', '6479-SZPLM', '4455-BFSPD', '8559-CIZFV', '5186-EJEGL', '3717-LNXKW', '3716-LRGXK', '5222-JCXZT', '3910-MRQOY', '9548-ZMVTX', '9257-AZMTZ', '9860-LISIZ', '7145-FEJWU', '8938-UMKPI', '4060-LDNLU', '7789-CRUVC', '2651-ZCBXV', '0691-JVSYA', '1228-FZFRV', '1767-TGTKO', '6425-YQLLO', '0883-EIBTI', '1353-LJWEM', '0727-IWKVK', '4990-ALDGW', '2040-LDIWQ', '4160-AMJTL', '9962-BFPDU', '4957-TIALW', '3913-RDSJZ', '9919-FZDED', '5780-INQIK', '9259-PACGQ', '8268-YDIXR', '1219-NNDDO', '0872-JCPIB', '0178-SZBHO', '0853-NWIFK', '6173-GOLSU', '4184-VODJZ', '2753-JMMCV', '6630-UJZMY', '9605-WGJVW', '2347-WKKAE', '9560-ARGQJ', '2097-YVPKN', '3481-JHUZH', '6408-OTUBZ', '6726-NNFWD', '6661-EIPZC', '0876-WDUUZ', '9885-AIBVB', '1334-PDUKM', '8512-WIWYV', '4559-UWIHT', '0730-KOAVE', '3500-RMZLT', '0719-SYFRB', '3902-FOIGH', '7717-BICXI', '0564-MUUQK', '0625-AFOHS', '5201-FRKKS', '8017-UVSZU', '7609-YBPXG', '4587-VVTOX', '8887-IPQNC', '3398-GCPMU', '9231-ZJYAM', '1555-HAPSU', '6480-YAGIY', '6807-SIWJI', '0455-XFASS', '2379-ENZGV', '0689-NKYLF', '1357-MVDOZ', '8305-VHZBZ', '8292-TYSPY', '7439-DKZTW', '5834-ASPWA', '3195-TQDZX', '6941-PMGEP', '6173-ITPWD', '6075-QMNRR', '9541-ZPSEA', '5087-SUURX', '6749-UTDVX', '1104-FEJAM', '0303-WMMRN', '4002-BQWPQ', '7486-KSRVI', '8106-GWQOK', '5384-ZTTWP', '7549-MYGPK', '8922-NPKBJ', '6614-YOLAC', '3247-MHJKM', '9786-IJYDL', '0657-DOGUM', '6445-TNRXS', '2088-IEBAU', '3537-RYBHH', '8593-WHYHV', '2632-TACXW', '5872-OEQNH', '4911-BANWH', '5013-SBUIH', '8338-QIUNR', '9436-ZBZCT', '9720-JJJOR', '9825-YCXWZ', '3143-ILDAL', '4102-OQUPX', '7336-RLLRH', '2800-QQUSO', '2483-XSSMZ', '6693-FRIRW', '7089-XXAYG', '5245-VDBUR', '0314-TKOSI', '7808-DVWEP', '6599-GZWCM', '6898-MDLZW', '3012-VFFMN', '0953-LGOVU', '3144-KMTWZ', '1952-DVVSW', '5286-YHCVC', '5216-WASFJ', '2472-OVKUP', '5115-SQAAU', '2277-VWCNI', '5650-YLIBA', '4189-NAKJS', '5569-IDSEY', '3620-MWJNE', '6248-BSHKG', '2192-CKRLV', '3584-WKTTW', '8498-XXGWA', '7758-XKCBS', '5276-KQWHG', '5081-NWSUP', '8775-CEBBJ', '3786-WOVKF', '9606-PBKBQ', '4817-KEQSP', '0942-KOWSM', '0112-QAWRZ', '4115-BNPJY', '4280-DLSHD', '5027-QPKTE', '2926-JEJJC', '3733-ZEECP', '9089-UOWJG', '9965-YOKZB', '6258-PVZWJ', '5186-SAMNZ', '3085-QUOZK', '4719-UMSIY', '0495-ZBNGW', '4671-VJLCL', '8430-TWCBX', '1493-AMTIE', '8039-ACLPL', '7234-KMNRQ', '6034-ZRYCV', '0617-AQNWT', '5012-YSPJJ', '1024-GUALD', '9801-NOSHQ', '9093-FPDLG', '0295-PPHDO', '4742-TXUEX', '6112-KTHFQ', '7971-HLVXI', '6741-QRLUP', '5889-JTMUL', '2606-PKWJB', '2207-QPJED', '7860-KSUGX', '6296-DDOOR', '8993-IZEUX', '1084-UQCHV', '5651-CRHKQ', '3520-FJGCV', '7409-JURKQ', '9168-INPSZ', '1345-ZUKID', '0709-TVGUR', '9714-EDSUC', '7103-ZGVNT', '3932-IJWDZ', '7665-VIGUD', '0742-NXBGR', '7140-ADSMJ', '7693-QPEFS', '5666-MBJPT', '4891-NLUBA', '1421-HCERK', '1945-XISKS', '3106-ULWFW', '8627-EHGIP', '1894-IGFSG', '9369-XFEHK', '2706-QZIHY', '7251-XFOIL', '2070-FNEXE', '6574-MCOEH', '9975-SKRNR', '9518-IMLHK', '3729-OWRVL', '2834-JRTUA', '8329-GWVPJ', '3701-SFMUH', '2265-CYWIV', '0442-ZXKVS', '5443-SCMKX', '5628-FCGYG', '5366-OBVMR', '3523-QRQLL', '8966-OIQHG', '0322-YINQP', '5671-RQRLP', '4289-DTDKW', '7901-HXJVA', '4945-RVMTE', '2868-LLSKM', '4701-AHWMW', '4464-JCOLN', '2144-BFDSO', '8706-HRADD', '2013-SGDXK', '7663-ZTEGJ', '4512-ZUIYL', '0928-JMXNP', '1658-BYGOY', '9152-AMKAK', '6463-MVYRY', '8348-HFYIV', '5414-OFQCB', '5567-WSELE', '7615-ESMYF', '1090-PYKCI', '2351-BKRZW', '6960-HVYXR', '2696-RZVZW', '4806-HIPDW', '3717-OFRTN', '1709-EJDOX', '2041-JIJCI', '4274-DRSQT', '5553-AOINX', '3488-PGMQJ', '9863-JZAIC', '5148-HKFIR', '5564-NEMQO', '5849-ASHZJ', '1754-GKYPY', '6559-RAKOZ', '0048-LUMLS', '7587-RZNME', '1470-PSXNM', '4598-ZADCK', '5906-CVLHP', '3795-CAWEX', '4393-OBCRR', '7501-VTYLJ', '6331-LWDTQ', '7517-LDMPS', '6131-IUNXN', '4495-LHSSK', '7909-FIOIY', '4797-MIWUM', '7998-ZLXWN', '9415-TPKRV', '0329-GTIAJ', '3597-YASZG', '1522-VVDMG', '2018-PZKMU', '8566-YPRGL', '2212-LYASK', '3892-NXAZG', '3453-RTHJQ', '1069-XAIEM', '6519-ZHPXP', '3115-JPJDD', '2332-TODQS', '6890-PFRQX', '0379-DJQHR', '5133-POWUA', '6906-MPARY', '7609-NRNCA', '6034-YMTOB', '7855-DIWPO', '7952-OBOYL', '1395-OFUWC', '9489-JMTTN', '4526-RMTLL', '1410-RSCMR', '5197-PYEPU', '4228-ZGYUW', '5748-RNCJT', '6339-RZCBJ', '7131-ZQZNK', '0020-INWCK', '8075-GXIUB', '1386-ZIKUV', '7599-FKVXZ', '0118-JPNOY', '2476-YGEFM', '4918-FYJNT', '2404-JIBFC', '0071-NDAFP', '1697-BCSHV', '6161-UUUTA', '4589-IUAJB', '5438-QMDDL', '8945-GRKHX', '9138-EFSMO', '5774-XZTQC', '2550-AEVRU', '7219-TLZHO', '4765-OXPPD', '2446-ZKVAF', '1293-BSEUN', '8069-YQQAJ', '3256-EZDBI', '3398-FSHON', '4503-BDXBD', '7242-QZLXF', '6870-ECSHE', '9801-GDWGV', '3318-NMQXL', '1004-NOZNR', '2050-ONYDQ', '6773-LQTVT', '5975-BAICR', '0519-XUZJU', '3237-AJGEH', '0196-VULGZ', '1209-VFFOC', '5568-DMXZS', '2710-WYVXG', '3677-TNKIO', '1810-BOHSY', '5697-GOMBF', '8591-NXRCV', '7379-FNIUJ', '3402-XRIUO', '7787-BNTZM', '5073-WXOYN', '1036-GUDCL', '4109-CYRBD', '6461-PPAXN', '0303-UNCIP', '1624-NALOJ', '5222-IMUKT', '3363-DTIVD', '4412-YLTKF', '0319-QZTCO', '0343-QLUZP', '5146-CBVOE', '3823-KYNQY', '9274-UARKJ', '8859-DZTGQ', '2195-ZRVAX', '8905-IAZPF', '8290-YWKHZ', '7926-IJOOU', '6143-JQKEA', '6732-VAILE', '6603-YRDCJ', '9050-QLROH', '0870-VEMYL', '0945-TSONX', '0019-GFNTW', '8480-PPONV', '0577-WHMEV', '7321-KKSDU', '2387-KDZQY', '1635-HDGFT', '9076-AXYIK', '4727-MCYZG', '3957-SQXML', '7402-PWYJJ', '8012-SOUDQ', '3178-FESZO', '2568-BRGYX', '4646-QZXTF', '8019-ENHXU', '5649-VUKMC', '3161-ONRWK', '4804-NCPET', '9753-OYLBX', '3865-ZYKAD', '7660-HDPJV', '4648-YPBTM', '5542-TBBWB', '3675-YDUPJ', '0345-XMMUG', '5696-QURRL', '1282-IHQAC', '2851-MMUTZ', '6242-FEGFD', '8970-ANWXO', '0436-TWFFZ', '5747-PMBSQ', '0670-KDOMA', '8661-BOYNW', '9614-RMGHA', '8212-DJRCH', '8328-SKJNO', '6331-EWIEB', '7711-GQBZC', '2810-FTLEM', '3126-WQMGH', '4578-PHJYZ', '8739-XNIKG', '9074-KGVOX', '0637-YLETY', '7718-UPSKJ', '2592-HODOV', '5356-CSVSQ', '5293-WXJAK', '6942-LBFDP', '9066-QRSDU', '5702-SKUOB', '7159-FVYPK', '6647-ZEDXT', '4456-RHSNB', '4320-QMLLA', '0107-YHINA', '8263-JQAIK', '8080-DDEMJ', '2984-MIIZL', '1041-RXHRA', '1987-AUELQ', '2982-VPSGI', '2369-UAPKZ', '0506-YLVKJ', '0623-EJQEG', '9845-QOMAD', '3148-AOIQT', '4922-CVPDX', '6861-XWTWQ', '5816-SCGFC', '1813-JLKWR', '5956-YHHRX', '6994-FGRHH', '2842-JTCCU', '3249-ZPQRG', '4837-QUSFT', '7115-IRDHS', '1732-VHUBQ', '7825-GKXMW', '9755-JHNMN', '4822-RVYBB', '0235-KGSLC', '9000-PLFUZ', '1450-GALXR', '6877-LGWXO', '8404-VIOMB', '6463-HHXJR', '3094-JOJAI', '8481-YYXWG', '1724-IQWNM', '2619-WFQWU', '3893-JRNFS', '9750-BOOHV', '3239-TPHPZ', '3633-CDBUW', '4554-YGZIH', '6050-FFXES', '8060-HIWJJ', '1840-BIUOG', '6504-VBLFL', '5074-FBGHB', '7627-JKIAZ', '3200-MNQTF', '5143-WMWOG', '5028-HTLJB', '2321-OMBXY', '2011-TRQYE', '0390-DCFDQ', '7274-RTAPZ', '5924-IFQTT', '4291-YZODP', '9239-ZBZZV', '3865-QBWSJ', '2599-CZABP', '4403-BWPAY', '7322-OCWHC', '9933-QRGTX', '6670-MFRPK', '0842-IWYCP', '1722-LDZJS', '8679-LZBMD', '6461-SZMCV', '1724-BQUHA', '4570-QHXHL', '3156-QLHBO', '9048-JVYVF', '4709-LKHYG', '0324-BRPCJ', '8791-GFXLZ', '4877-TSOFF', '7753-USQYQ', '7595-EHCDL', '7673-BQGKU', '0594-UFTUL', '8731-WBBMB', '1573-LGXBA', '5297-MDOIR', '0334-GDDSO', '2520-SGTTA', '8345-MVDYC', '8033-VCZGH', '8745-PVESG', '7198-GLXTC', '6467-CHFZW', '5889-LFOLL', '4350-ZTLPI', '9058-MJLZC', '2203-GHNWN', '1193-RTSLK', '4255-DDUOU', '1370-GGAWX', '1794-HBQTJ', '5804-JMYIO', '4831-EOBFE', '5996-DAOQL', '0270-THENM', '9330-DHBFL', '4827-LTQRJ', '4480-QQRHC', '5117-IFGPS', '3258-SANFR', '5039-LZRQT', '6178-KFNHS', '5120-ZBLAI', '8845-LWKGE', '0549-CYCQN', '1548-FEHVL', '9061-TIHDA', '0187-WZNAB', '9817-APLHW', '2027-FECZV', '0595-ITUDF', '5924-SNGKP', '5816-JMLGY', '9838-BFCQT', '4298-OYIFC', '2817-LVCPP', '0557-ASKVU', '2468-SJFLM', '4415-WNGVR', '8413-VONUO', '9426-SXNHE', '3739-YBWAB', '2616-FLVQC', '9732-KPKBW', '4471-KXAUH', '3957-LXOLK', '4092-OFQZS', '3038-PQIUY', '4446-BZKHU', '4433-JCGCG', '1752-OZXFY', '9842-EFSYY', '6692-UDPJC', '6400-BWQKW', '5908-QMGOE', '0780-XNZFN', '8740-CRYFY', '6618-RYATB', '3392-EHMNK', '9803-FTJCG', '6180-YBIQI', '1320-GVNHT', '8920-NAVAY', '0744-GKNGE', '2474-BRUCM', '7824-PANSQ', '2523-EWWZL', '4367-NHWMM', '0961-ZWLVI', '9681-OXGVC', '4718-DHSMV', '6365-HITVU', '8761-NSOBC', '3482-ABPKK', '7427-AUFPY', '2101-RANCD', '3793-MMFUH', '9534-NSXEM', '4299-OPXEJ', '5327-XOKKY', '7101-HRBLJ', '9947-OTFQU', '9522-ZSINC', '3679-XASPY', '9355-NPPFS', '7422-WNBTY', '7299-GNVPL', '8949-JTMAY', '2674-MLXMN', '4075-WKNIU', '6815-ABQFQ', '5598-IKHQQ', '3120-FAZKD', '2229-DPMBI', '8677-HDZEE', '5348-CAGXB', '4299-SIMNS', '2208-UGTGR', '0178-CIIKR', '3580-GICBM', '9626-WEQRM', '2190-PHBHR', '4952-YSOGZ', '6738-ISCBM', '1088-AUUZZ', '5320-BRKGK', '6813-GZQCG', '2208-NQBCT', '0840-DCNZE', '2897-DOVND', '1619-YWUBB', '0793-TWELN', '4854-SSLTN', '6733-LRIZX', '0928-XUTSN', '1098-TDVUQ', '2499-AJYUA', '1981-INRFU', '3249-VHRIP', '1073-XXCZD', '8456-QDAVC', '8695-WDYEA', '6693-DJWTY', '9133-AYJZG', '9796-MVYXX', '8257-RZAHR', '2830-LEWOA', '8690-UPCZI', '3640-PHQXK', '2249-YPRNG', '4644-PIZRT', '1337-BOZWO', '6595-COKXZ', '2683-JXWQQ', '4673-KKSLS', '5789-LDFXO', '5022-KVDQT', '6583-QGCSI', '4893-GYUJU', '5965-GGPRW', '0378-XSZPU', '2038-LLMLM', '8714-EUHJO', '2801-NISEI', '6447-EGDIV', '9692-TUSXH', '7853-OETYL', '7957-RYHQD', '6432-TWQLB', '3668-QPYBK', '1303-SRDOK', '1371-DWPAZ', '7619-ODSGN', '2929-ERCFZ', '8627-ZYGSZ', '1162-ECVII', '2694-CIUMO', '3970-XGJDU', '8182-PNAGI', '5442-UTCVD', '4903-CNOZC', '3022-BEXHZ', '5356-KZCKT', '9618-LFJRU', '2266-FUBDZ', '0411-EZJZE', '7326-RIGQZ', '5605-IYGFG', '4702-HDRKD', '0378-NHQXU', '5371-VYLSX', '7742-MYPGI', '6139-ZZRBQ', '3209-ZPKFI', '5701-YVSVF', '5324-KTGCG', '5449-FIBXJ', '2739-CCZMB', '9314-QDMDW', '6838-HVLXG', '5365-LLFYV', '8063-RJYNF', '7537-CBQUZ', '5505-OVWQW', '9907-SWKKF', '4625-LAMOB', '2190-BCXEC', '3878-AVSOQ', '8766-PAFNE', '6386-SZZKH', '2754-XBHTB', '5227-JSCFE', '8637-XJIVR', '4712-AUQZO', '0727-BNRLG', '1599-MMYRQ', '4625-XMOYM', '4023-RTIQM', '0426-TIRNE', '3423-HHXAO', '3212-KXOCR', '0602-DDUML', '1310-QRITU', '7305-ZWMAJ', '1399-UBQIU', '7442-YGZFK', '9136-ALYBR', '9780-FKVVF', '6210-KBBPI', '2739-CACDQ', '6181-AXXYF', '5054-IEXZT', '6578-KRMAW', '4560-WQAQW', '6439-LAJXL', '0114-RSRRW', '0902-RFHOF', '2511-MORQY', '9374-YOLBJ', '7410-OIEDU', '6128-AQBMT', '0993-OSGPT', '4500-HKANN', '3663-MITLP', '2709-UQGNP', '8676-TRMJS', '5668-MEISB', '6029-CSMJE', '5828-AVIPD', '9767-FFLEM', '5153-LXKDT', '1818-ESQMW', '0380-NEAVX', '2674-MIAHT', '4818-DRBQT', '3703-TTEPD', '9844-FELAJ', '3841-CONLJ', '4072-IPYLT', '4229-CZMLL', '1897-OKVMW', '3415-TAILE', '6479-VDGRK', '3258-ZKPAI', '6599-RCLCJ', '7801-KICAO', '4566-QVRRW', '0491-KAPQG', '1221-GHZEP', '0626-QXNGV', '7488-MXJIV', '6586-MYGKD', '9467-ROOLM', '8280-MQRQN', '7954-MLBUN', '0582-AVCLN', '0396-UKGAI', '1777-JYQPJ', '6668-CNMFP', '7356-IWLFW', '0635-WKOLD', '9560-BBZXK', '8849-GYOKR', '7905-TVXTA', '9600-UDOPK', '1561-BWHIN', '8816-VXNZD', '4524-QCSSM', '1360-RCYRT', '4521-WFJAI', '8132-YPVBX', '7997-EASSD', '0475-RIJEP', '5336-UFNZP', '0513-RBGPE', '4948-WBBKL', '8908-SLFCJ', '7401-JIXNM', '0003-MKNFE', '4707-MAXGU', '2115-BFTIW', '5692-ICXLW', '4110-PFEUZ', '2320-TZRRH', '5935-FCCNB', '3487-EARAT', '0027-KWYKW', '6916-HIJSE', '0580-PIQHM', '3026-ATZYV', '6421-SZVEM', '8966-SNIZF', '7319-ZNRTR', '2866-IKBTM', '1545-JFUML', '5188-HGMLP', '4238-HFHSN', '8213-TAZPM', '3627-FHKBK', '0396-YCHWO', '9351-HXDMR', '7404-JLKQG', '6861-OKBCE', '5122-CYFXA', '2575-GFSOE', '9070-BCKQP', '6175-IRFIT', '3768-NLUBH', '6464-KEXXH', '6776-TLWOI', '4450-MDZFX', '7879-CGSFV', '8595-SIZNC', '9253-VIFJQ', '8565-WUXZU', '1114-CENIM', '0787-LHDYT', '3838-OZURD', '2642-MAWLJ', '6353-BRMMA', '7716-YTYHG', '9674-EHPPG', '2172-EJXVF', '1264-FUHCX', '6664-FPDAC', '3097-NQYSN', '6705-LNMDD', '7109-CQYUZ', '2056-EVGZL', '0761-AETCS', '2458-EOMRE', '5204-HMGYF', '9574-BOSMD', '5249-QYHEX', '5868-YTYKS', '4779-ZGICK', '5649-ANRML', '5855-EIBDE', '3384-CTMSF', '0111-KLBQG', '3973-SKMLN', '7663-YJHSN', '7011-CVEUC', '1024-VRZHF', '8413-YNHNV', '8150-QUDFX', '7605-BDWDC', '3522-CDKHF', '2889-FPWRM', '8634-MPHTR', '4566-GOLUK', '2761-XECQW', '2665-NPTGL', '8023-QHAIO', '9289-LBQVU', '9610-WCESF', '3936-QQFLL', '4140-MUHUG', '0991-BRRFB', '1254-IZEYF', '0023-HGHWL', '0094-OIFMO', '1618-CFHME', '3521-HTQTV', '1565-RHDJD', '1436-ZMJAN', '9909-IDLEK', '3787-TRIAL', '1174-FGIFN', '7301-ABVAD', '2432-TFSMK', '4061-UKJWL', '5266-PFRQK', '3301-LSLWQ', '4283-FUTGF', '8024-XNAFQ', '4550-VBOFE', '5178-LMXOP', '5995-LFTLE', '4869-EPIUS', '7931-PXHFC', '7074-STDCN', '5419-CONWX', '4622-YNKIJ', '9777-IQHWP', '8942-DBMHZ', '9831-BPFRI', '0997-YTLNY', '0177-PXBAT', '6551-ZCOTS', '6023-GSSXW', '7136-IHZJA', '5663-QBGIS', '0334-ZFJSR', '0397-GZBBC', '2842-BCQGE', '3683-QKIUE', '8029-XYPWT', '1352-VHKAJ', '5609-IMCGG', '0815-MFZGM', '2911-IJORQ', '2372-HWUHI', '3536-IQCTX', '2362-IBOOY', '3946-MHCZW', '4806-KEXQR', '9445-ZUEQE', '2273-QCKXA', '6379-RXJRQ', '5998-VVEJY', '7938-OUHIO', '4636-TVXVG', '2654-VBVPB', '0851-DFJKB', '7503-ZGUZJ', '2363-BJLSL', '5480-HPRRX', '4786-UKSNZ', '6518-LGAOV', '1545-ACTAS', '1932-UEDCX', '9758-MFWGD', '4291-HPAXL', '9835-ZIITK', '1442-OKRJE', '6029-WTIPC', '7560-QJAVJ', '6147-CBCRA', '8086-OVPWV', '6627-CFOSN', '9837-FWLCH', '5947-SGKCL', '7181-BQYBV', '7089-IVVAZ', '2452-SNHFZ', '6270-OMFIW', '8461-EFQYM', '7771-ZONAT', '9677-AVKED', '0060-FUALY', '8128-YVJRG', '2325-NBPZG', '8108-UXRQN', '2882-WDTBA', '9350-VLHMB', '7473-ZBDSN', '3538-WZPHD', '4431-EDMIQ', '6946-LMSQS', '7602-MVRMB', '5600-PDUJF', '8681-ICONS', '0679-TDGAK', '3508-VLHCZ', '4360-PNRQB', '9927-DSWDF', '0690-SRQID', '0939-EREMR', '7206-GZCDC', '1723-HKXJQ', '4628-CTTLA', '8780-YRMTT', '3424-NMNBO', '1374-DMZUI', '4188-FRABG', '2924-KHUVI', '2542-HYGIQ', '2067-QYTCF', '1261-FWTTE', '1325-USMEC', '8084-OIVBS', '5108-ADXWO', '2188-SXWVT', '1140-UKVZG', '4608-LCIMN', '2833-SLKDQ', '0723-VSOBE', '2969-WGHQO', '4067-HLYQI', '7234-FECYN', '7696-AMHOD', '2748-MYRVK', '6924-TDGMT', '5887-IKKYO', '0868-VJRDR', '6013-BHCAW', '2884-GBPFB', '3748-FVMZZ', '6214-EDAKZ', '0315-LVCRK', '5214-NLTIT', '7065-YUNRY', '2227-JRSJX', '3566-VVORZ', '3451-VAWLI', '6656-JWRQX', '2055-BFOCC', '0654-PQKDW', '0750-EBAIU', '9512-UIBFX', '1273-MTETI', '0661-XEYAN', '4065-JJAVA', '5986-WWXDV', '2817-NTQDO', '5917-RYRMG', '7338-ERIVA', '3316-UWXUY', '6437-UDQJM', '1744-JHKYS', '1716-LSAMB', '4795-KTRTH', '7684-XSZIY', '3509-GWQGF', '9798-OPFEM', '0326-VDYXE', '1972-XMUWV', '0980-PVMRC', '2621-UDNLU', '0754-UKWQP', '0859-YGKFW', '7009-PCARS', '5995-WWKKG', '0292-WEGCH', '1866-RZZQS', '9207-ZPANB', '4032-RMHCI', '2900-PHPLN', '5968-HYJRZ', '4801-JZAZL', '1265-ZFOSD', '8884-MRNSU', '7026-YMSBE', '0786-VSSUD', '2419-FSORS', '0471-ARVMX', '0820-FNRNX', '1599-EAHXY', '1371-WEPDS', '5502-RLUYV', '0076-LVEPS', '0201-OAMXR', '9700-ZCLOT', '6619-RPLQZ', '5879-SESNB', '0872-NXJYS', '0322-CHQRU', '9308-ANMVE', '0835-JKADZ', '7010-BRBUU', '9938-ZREHM', '7279-BUYWN', '2661-GKBTK', '0547-HURJB', '2514-GINMM', '9921-QFQUL', '3750-YHRYO', '9504-YAZWB', '5196-SGOAK', '7905-NJMXS', '8969-PRHFK', '1498-NHTLT', '9385-NXKDA', '8042-JVNFH', '2309-OSFEU', '7359-PTSXY', '5998-DZLYR', '3995-WFCSM', '5445-GLVOT', '1197-BVMVG', '1930-BZLHI', '7601-DHFWZ', '9297-EONCV', '6311-UEUME', '3525-DVKFN', '4402-FTBXC', '3544-FBCAS', '8915-NNTRC', '8550-XSXUQ', '2144-ESWKO', '5204-QZXPU', '2393-DIVAI', '3976-HXHCE', '9450-TRJUU', '0100-DUVFC', '2659-VXMWZ', '0434-CSFON', '2103-ZRXFN', '2956-GGUCQ', '2770-NSVDG', '1725-MIMXW', '6174-NRBTZ', '7377-DMMRI', '3284-SVCRO', '5726-CVNYA', '4702-IOQDC', '8779-YIQQA', '2027-OAQQC', '8058-DMYRU', '5673-TIYIB', '9503-XJUME', '7570-WELNY', '2320-YKQBO', '2843-CQMEG', '5945-AZYHT', '9624-EGDEQ', '1732-FEKLD', '6769-DCQLI', '2612-RANWT', '5498-TXHLF', '9688-YGXVR', '7706-DZNKK', '0812-WUPTB', '6332-FBZRI', '5882-CMAZQ', '8722-PRFDV', '9124-LHCJQ', '1137-DGOWI', '3063-QFSZL', '9300-RENDD', '8356-WUAOJ', '8809-RIHDD', '8007-YYPWD', '3097-IDVPU', '7083-MIOPC', '1077-HUUJM', '5539-TMZLF', '6999-CHVCF', '6016-NXBNJ', '6689-VRRTK', '0363-SVHYR', '1915-IOFGU', '4501-VCPFK', '3351-NGXYI', '7508-SMHXL', '2272-UOINI', '9591-YVTEB', '6341-AEVKX', '2682-KEVRP', '0578-SKVMF', '7508-KBIMB', '8348-JLBUG', '3503-TYDAY', '2123-AGEEN', '2676-ISHSF', '8514-VZHEB', '6418-PIQSP', '5569-KGJHX', '7706-YLMQA', '2782-JEEBU', '2873-ZLIWT', '0048-PIHNL', '9372-TXXPS', '6092-QZVPP', '8313-NDOIA', '3097-FQTVJ', '0584-BJQGZ', '5897-ZYEKH', '1768-ZAIFU', '0363-QJVFX', '9057-SIHCH', '7480-QNVZJ', '0266-GMEAO', '8146-QQKZH', '9906-NHHVC', '8896-RAZCR', '1705-GUHPV', '0224-RLWWD', '9800-ONTFE', '0771-CHWSK', '9938-TKDGL', '0929-HYQEW', '2639-UGMAZ', '6483-OATDN', '9680-NIAUV', '3886-CERTZ', '5960-MVTUK', '2001-EWBQU', '2985-FMWYF', '7639-SUPCW', '8332-OSJDW', '8207-VVMYB', '1395-WSWXR', '6778-YSNIH', '3935-TBRZZ', '1600-DILPE', '8696-JKZNU', '7036-TYDEC', '3737-GCSPV', '5228-EXCET', '0909-SELIE', '9278-VZKCD', '2636-OHFMN', '0722-SVSFK', '1472-TNCWL', '5236-XMZJY', '3069-SSVSN', '1666-JXLKU', '9742-XOKTS', '6616-AALSR', '8849-PRIQJ', '4361-FEBGN', '6579-JPICP', '2359-QWQUL', '2108-GLPQB', '5047-LHVLY', '9763-GRSKD', '1459-QNFQT', '1031-IIDEO', '4376-KFVRS', '0799-DDIHE', '3644-QXEHN', '9802-CAQUT', '8234-GSZYK', '9101-BWFSS', '6508-NJYRO', '4536-PLEQY', '9026-LHEVG', '9170-CCKOU', '2717-HVIZY', '3638-VBZTA', '7601-WFVZV', '1452-VOQCH', '1135-LMECX', '6164-HAQTX', '6987-XQSJT', '0506-LVNGN', '1216-BGTSP', '2294-DMMUS', '8746-BFOAJ', '7817-BOQPW', '3376-BMGFE', '6215-NQCPY', '4993-JCRGJ', '7524-VRLPL', '7852-LECYP', '7356-AYNJP', '9625-QNLUX', '0373-AIVNJ', '3055-MJDSB', '0328-GRPMV', '9633-DENPU', '3091-FYHKI', '3709-OIJEA', '1240-HCBOH', '5274-XHAKY', '1009-IRMNA', '9402-CXWPL', '4030-VPZBD', '1921-KYSAY', '9481-WHGWY', '2905-KFQUV', '3847-BAERP', '8327-LZKAS', '5996-EBTKM', '8034-RYTVV', '1902-XBTFB', '6847-KJLTS', '2832-KJCRD', '3472-QPRCH', '4989-LIXVT', '0134-XWXCE', '0836-SEYLU', '7785-RDVIG', '7739-LAXOG', '7241-AJHFS', '9968-FFVVH', '1830-IPXVJ', '7878-JGDKK', '4745-LSPLO', '4670-TABXH', '0744-BIKKF', '2466-FCCPT', '0924-BJCRC', '5071-FBJFS', '4741-WWJQZ', '4484-GLZOU', '5143-EGQFK', '5360-LJCNJ', '1834-WULEG', '4134-BSXLX', '6646-QVXLR', '4077-CROMM', '1482-OXZSY', '5338-YHWYT', '7816-VGHTO', '3003-CMDUU', '0962-CQPWQ', '7599-NTMDP', '6116-RFVHN', '3621-CEOVK', '2150-UWTFY', '6253-GNHWH', '8606-OEGQZ', '2868-MZAGQ', '2351-RRBUE', '0644-OQMDK', '5003-OKNNK', '4282-YMKNA', '1452-KIOVK', '2626-VEEWG', '9359-JANWS', '2951-QOQTK', '8780-RSYYU', '3882-IYOIJ', '6088-BXMRG', '2606-RMDHZ', '3571-DPYUH', '1334-FJSVR', '9364-YKUVW', '8844-TONUD', '3352-RICWQ', '6585-WCEWR', '2930-UOTMB', '4130-MZLCC', '5966-EMAZU', '4854-CIDCF', '9601-BRXPO', '6007-TCTST', '7813-TKCVO', '4785-QRJHC', '5948-UJZLF', '0650-BWOZN', '7823-JSOAG', '8183-ONMXC', '4860-YZGZM', '1852-QSWCD', '3604-WLABM', '0266-CLZKZ', '4597-NUCQV', '3755-JBMNH', '1685-VAYJF', '1740-CSDJP', '3137-NYQQI', '0946-CLJTI', '8277-RVRSV', '4707-YNOQA', '3460-TJBWI', '3808-HFKDE', '2205-YMZZJ', '5294-DMSFH', '4079-WWQQQ', '6362-QHAFM', '4813-HQMGZ', '4129-LYCOI', '8010-EZLOU', '5095-AESKG', '6257-RJOHI', '3900-AQPHZ', '0068-FIGTF', '1849-RJYIG', '4803-AXVYP', '7690-KPNCU', '6050-IJRHS', '8219-VYBVI', '7994-UYIVZ', '3908-BLSYF', '0257-KXZGU', '4459-BBGHE', '1131-SUEKT', '5376-DEQCP', '4195-PNGZS', '6234-PFPXL', '2675-OTVVJ', '1585-MQSSU', '1060-ENTOF', '8999-YPYBV', '0576-WNXXC', '5829-NVSQN', '9489-UTFKA', '4501-EQDRN', '5915-ANOEI', '5277-ZLOOR', '1403-GYAFU', '5110-CHOPY', '1399-OUPJN', '4998-IKFSE', '7967-HYCDE', '7137-RYLPP', '4636-OLWOE', '0617-FHSGK', '1629-DQQVB', '9494-BDNNC', '0463-TXOAK', '5349-AZPEW', '9648-BCHKM', '4531-AUZNK', '2582-FFFZR', '8622-ZLFKO', '5533-NHFRF', '5644-PDMZC', '1251-STYSZ', '9764-REAFF', '8882-TLVRW', '4825-XJGDM', '9689-PTNPG', '1929-ZCBHE', '4091-TVOCN', '7644-OMVMY', '1150-FTQGN', '1431-CYWMH', '2146-EGVDT', '3422-WJOYD', '0556-FJEGU', '0057-QBUQH', '5226-NOZFC', '7577-SWIFR', '7157-SMCFK', '0485-ZBSLN', '2043-WVTQJ', '6599-SFQVE', '3230-WYKIR', '3841-NFECX', '7521-YXVZY', '4508-OEBEY', '5696-EXCYS', '2634-HCZGT', '8091-TTVAX', '9822-OAOVB', '0378-CJKPV', '7722-CVFXN', '3751-KTZEL', '8295-KMENE', '2266-SJNAT', '2219-MVUSO', '4767-HZZHQ', '8245-UMPYT', '7349-ALMUX', '3280-NMUVX', '6609-MXJHJ', '3262-EIDHV', '0916-KNFAJ', '0516-QREYC', '0641-EVBOJ', '5539-HIVAK', '7881-EVUAD', '5118-MUEYH', '4013-TLDHQ', '7083-YNSKY', '2391-SOORI', '5307-UVGNB', '1898-JSNDC', '3797-VTIDR', '3951-NJCVI', '0848-ZGQIJ', '2516-VQRRV', '3049-NDXFL', '8717-VCTXJ', '9220-CXRSC', '9029-FEGVJ', '2608-BHKFN', '5537-UXXVS', '1848-LBZHY', '9904-EHEVJ', '2338-BQEZT', '4452-ROHMO', '3186-AJIEK', '4806-DXQCE', '5512-IDZEI', '7714-YXSMB', '8361-LTMKD', '9095-HFAFX', '4329-YPDDQ', '5883-GTGVD', '2087-QAREY', '4006-HKYHO', '3422-GALYP', '3181-MIZBN', '1208-DNHLN', '9194-GFVOI', '3410-YOQBQ', '9514-JDSKI', '9365-SRSZE', '7319-VENRZ', '5524-KHNJP', '2259-OUUSZ', '7625-XCQRH', '8292-FRFZQ', '7538-GWHML', '4958-GZWIY', '0786-IVLAW', '9928-BZVLZ', '5168-MQQCA', '4815-GBTCD', '2402-TAIRZ', '9895-VFOXH', '9916-AYHTC', '8869-TORSS', '5673-FSSMF', '9823-EALYC', '4137-JOPHL', '5442-BXVND', '3387-PLKUI', '6729-FZWSY', '3186-BAXNB', '3824-RHKVR', '2019-HDCZY', '8822-KNBHV', '1016-DJTSV', '1862-QRWPE', '8258-GSTJK', '4361-BKAXE', '0277-BKSQP', '7321-ZNSLA', '3923-CSIHK', '2037-SGXHH', '5161-UBZXI', '7472-EQOAV', '5176-LMJXE', '8760-ZRHKE', '5959-BELXA', '4083-EUGRJ', '6022-UGGSO', '7208-PSIHR', '3071-MVJCD', '8065-BVEPF', '9200-NLNPD', '6849-WLEYG', '3410-MHHUM', '8663-UPDGF', '4290-BSXUX', '4315-MURBD', '9696-RMYBA', '9447-YPTBX', '0774-RMNUW', '4373-VVHQL', '9249-FXSCK', '3721-WKIIL', '4822-NGOCH', '1676-MQAOA', '2805-EDJPQ', '1052-QJIBV', '1384-RCUXW', '0637-UBJRP', '1194-SPVSP', '8118-TJAFG', '8490-BXHEO', '2386-LAHRK', '9619-GSATL', '3407-QGWLG', '2320-SLKMB', '9375-MHRRS', '8972-HJWNV', '1298-PHBTI', '3373-YZZYM', '5311-IHLEI', '9987-LUTYD', '5501-TVMGM', '5278-PNYOX', '8739-QOTTN', '5590-BYNII', '9415-ZNBSX', '5396-IZEPB', '6024-RUGGH', '1091-SOZGA', '6837-BJYDQ', '5896-NPFWW', '3165-HDOEW', '2139-FQHLM', '9518-XXBXE', '3154-HMWUU', '2207-NHRJK', '0536-BGFMZ', '4750-UKWJK', '6267-DCFFZ', '4568-TTZRT', '9496-IVVRP', '4983-CLMLV', '8999-XXGNS', '0887-HJGAR', '7481-ATQQS', '9932-WBWIK', '9548-LERKT', '5339-TJFEK', '0533-BNWKF', '9365-CSLBQ', '9065-ZCPQX', '5656-JAMLX', '8957-THMOA', '6394-MFYNG', '1696-HXOWK', '8059-UDZFY', '0093-EXYQL', '0885-HMGPY', '3128-YOVTD', '6015-VVHHE', '5825-XJOCM', '9584-EXCDZ', '5562-BETPV', '9553-DLCLU', '1136-XGEQU', '1730-ZMAME', '8149-AIQCG', '7268-IGMFD', '2091-MJTFX', '2990-IAJSV', '5261-QSHQM', '7130-VTEWQ', '8963-JLGJT', '2921-XWDJH', '8189-DUKMV', '5482-VXSXJ', '8800-ZKRFW', '3769-MHZNV', '9248-OJYKK', '3363-EWLGO', '2724-FJDYW', '6614-YWYSC', '4304-TSPVK', '7005-CYUIL', '4878-BUNFV', '2455-USLMV', '1784-EZDKJ', '8785-CJSHH', '6557-BZXLQ', '8777-MBMTS', '3074-GQWYX', '9281-PKKZE', '8065-QBYTO', '9114-AAFQH', '6258-NGCNG', '7919-ZODZZ', '2955-BJZHG', '8375-DKEBR', '3671-SHRSP', '4572-DVCGN', '2550-QHZGP', '7102-JJVTX', '5233-AOZUF', '7142-HVGBG', '0311-UNPFF', '3853-LYGAM', '2675-IJRGJ', '0432-CAJZV', '1627-AFWVJ', '4819-HJPIW', '0386-CWRGM', '4016-BJKTZ', '9638-JIQYA', '2903-YYTBW', '0516-WJVXC', '5334-AFQJB', '0306-JAELE', '1297-VQDRP', '8402-EIVQS', '4724-WXVWF', '1205-WNWPJ', '8226-BXGES', '0042-JVWOJ', '7691-XVTZH', '9069-LGEUL', '2316-ESMLS', '7798-JVXYM', '7123-WQUHX', '4686-GEFRM', '0196-JTUQI', '4476-OSWTN', '7721-DVEKZ', '2829-HYVZP', '6158-HDPXZ', '1734-ZMNTZ', '0365-BZUWY', '4774-HHGGS', '4003-OCTMP', '5092-STPKP', '3234-VKACU', '4018-PPNDW', '8466-PZBLH', '2004-OCQXK', '3162-KKZXO', '1571-SAVHK', '8262-COGGB', '1304-BCCFO', '0221-WMXNQ', '5680-LQOGP', '3721-CNZHX', '6582-OIVSP', '2233-TXSIU', '6711-FLDFB', '5229-PRWKT', '2039-JONDJ', '0940-OUQEC', '0743-HRVFF', '7771-CFQRQ', '4829-AUOAX', '4730-AWNAU', '1227-UDMZR', '2369-FEVNO', '8380-MQINP', '9381-NDKME', '5014-WUQMG', '1871-MOWRM', '8242-PDSGJ', '3842-QTGDL', '4177-JPDFU', '6867-ACCZI', '9018-PCIOK', '9851-KIELU', '4611-ANLQC', '6817-WTYHE', '1907-UBQFC', '3378-AJRAO', '8838-GPHZP', '0748-RDGGM', '5693-PIPCS', '8735-NBLWT', '1557-EMYVT', '3146-JTQHR', '6198-PNNSZ', '6770-XUAGN', '7469-LKBCI', '2773-MADBQ', '8903-WMRNW', '2823-LKABH', '4526-EXKKN', '0621-TSSMU', '8404-FYDIB', '4195-NZGTA', '4999-IEZLT', '1833-VGRUM', '3768-VHXQO', '7233-IOQNP', '2371-JUNGC', '5859-HZYLF', '9063-ZGTUY', '5003-XZWWO', '4159-NAAIX', '3654-ARMGP', '8930-XOTDP', '3799-ISUZQ', '8208-EUMTE', '2504-DSHIH', '7718-RXDGG', '0447-RXSGD', '1608-GMEWB', '5858-EAFCZ', '6496-JDSSB', '7975-TZMLR', '7460-ITWWP', '3329-WDIOK', '9134-WYRVP', '2737-YNGYW', '9272-LSVYH', '8039-EQPIM', '7244-QWYHG', '8314-HTWVE', '7531-GQHME', '6048-QBXKL', '1905-OEILC', '8931-GJJIQ', '4277-UDIEF', '9435-JMLSX', '7239-HZZCX', '8961-QDZZJ', '1644-IRKSF', '2625-TRCZQ', '6390-DSAZX', '7869-ZYDST', '9108-EJFJP', '9504-DSHWM', '4971-PUYQO', '8099-MZPUJ', '7298-IZWLY', '1790-NESIO', '0869-PAPRP', '2525-GVKQU', '6516-NKQBO', '0431-APWVY', '3131-NWVFJ', '5419-KLXBN', '0464-WJTKO', '2636-ALXXZ', '8111-SLLHI', '6176-YJWAS', '2308-STERM', '4548-SDBKE', '2522-AHJXR', '1536-YHDOE', '9169-BSVIN', '4238-JSSWH', '8727-XDPUD', '6923-EFPNL', '4847-QNOKA', '4390-KYULV', '5569-OUICF', '3308-MHOOC', '6723-CEGQI', '7632-YUTXB', '6631-HMANX', '1746-TGTWV', '6621-NRZAK', '3082-VQXNH', '2788-CJQAQ', '0601-WZHJF', '0080-OROZO', '4957-TREIR', '2462-XIIJB', '9571-EDEBV', '1506-YJTYT', '9060-HJJRW', '1097-FSPVW', '7993-NQLJE', '8874-EJNSR', '2498-XLDZR', '8433-WXGNA', '3088-FVYWK', '8178-EYZUO', '3567-PQTSO', '4335-UPJSI', '3027-ZTDHO', '8818-DOPVL', '0620-DLSLK', '7521-AFHAB', '9253-QXKBE', '3164-YAXFY', '2660-EMUBI', '8932-CZHRQ', '2519-ERQOJ', '4910-GMJOT', '8375-KVTHK', '8532-UEFWH', '4003-FUSHP', '5970-GHJAW', '1264-BYWMS', '0247-SLUJI', '4451-RWASJ', '1730-VFMWO', '5356-RHIPP', '4115-NZRKS', '7746-QYVCO', '1206-EHBDD', '8777-PVYGU', '9185-TQCVP', '7831-QGOXH', '4667-QONEA', '2725-IWWBA', '1089-HDMKP', '6360-SVNWV', '9507-EXLTT', '4381-MHQDC', '2434-EEVDB', '5447-WZAFP', '3174-RKMOW', '7621-VPNET', '2230-XTUWL', '5275-PMFUT', '0674-DGMAQ', '4322-RCYMT', '6559-PDZLR', '0228-MAUWC', '3694-DELSO', '6635-MYYYZ', '2607-DHDAK', '8265-HKSOW', '0225-ZORZP', '5854-KSRBJ', '9919-KNPOO', '0257-ZESQC', '5651-WYIPH', '2603-HVKCG', '5067-XJQFU', '2758-RNWXS', '0297-RBCSG', '8241-JUIQO', '6996-KNSML', '6365-MTGZX', '7279-NMVJC', '9135-HSWOC', '6950-TWMYB', '9861-PDSZP', '3627-FCRDW', '0103-CSITQ', '7551-JOHTI', '1679-JRFBR', '6217-TOWGS', '2388-LAESQ', '7632-MNYOY', '0983-TATYJ', '2911-UREFD', '7941-RCJOW', '1866-NXPSP', '4603-JANFB', '5567-GZKQY', '6715-OFDBP', '9995-HOTOH', '2027-WKXMW', '9019-QVLZD', '7554-NEWDD', '3223-DWFIO', '9053-JZFKV', '8313-KTIHG', '9277-JOOMO', '9314-IJWSQ', '9498-FIMXL', '6474-FVJLC', '7013-PSXHK', '4415-IJZTP', '8587-XYZSF', '8065-YKXKD', '7267-FRMJW', '8421-WZOOW', '5493-SDRDQ', '6633-MPWBS', '4919-MOAVT', '7030-NJVDP', '5306-BVTKJ', '3982-JGSFD', '4248-QPAVC', '8735-DCXNF', '0899-WZRSD', '6778-JFCMK', '0727-BMPLR', '4664-NJCMS', '7009-LGECI', '9629-NHXFW', '2209-XADXF', '0129-QMPDR', '8076-FEZKJ', '0531-XBKMM', '9558-IHEZX', '4683-WYDOU', '0310-SUCIN', '5453-YBTWV', '2509-TFPJU', '9799-CAYJJ', '9931-DCEZH', '0853-TWRVK', '5712-AHQNN', '2169-RRLFW', '8992-JQYUN', '2040-XBAVJ', '5895-QSXOD', '5696-JVVQY', '8058-JMEQO', '3347-YJZZE', '7435-ZNUYY', '0269-XFESX', '3545-CNWRG', '4717-GHADL', '4817-VYYWS', '5174-RNGBH', '4256-ZWTZI', '6135-OZQVA', '1088-CNNKB', '9445-SZLCH', '1937-OTUKY', '2292-XQWSV', '6217-KDYWC', '0310-VQXAM', '5593-SUAOO', '8597-CTXVJ', '1735-XMJVH', '3413-BMNZE', '7696-CFTAT', '0952-KMEEH', '8387-UGUSU', '5949-HGVJL', '4884-ZTHVF', '9851-QXEEQ', '6368-TZZDT', '5345-BMKWB', '2480-SQIOB', '7216-KAOID', '4102-HLENU', '8818-XYFCQ', '1934-SJVJK', '7291-CDTMJ', '0098-BOWSO', '7225-IILWY', '8680-CGLTP', '0804-YGEQV', '8204-YJCLA', '1478-VPOAD', '8812-ZRHFP', '4658-HCOHW', '2082-OJVTK', '5707-ORNDZ', '4013-GUXND', '0136-IFMYD', '8631-NBHFZ', '3255-GRXMG', '7054-ENNGU', '9442-JTWDL', '9993-LHIEB', '4317-VTEOA', '0794-YVSGE', '8443-ZRDBZ', '5977-CKHON', '9967-ATRFS', '1084-MNSMJ', '3422-LYEPQ', '0835-DUUIQ', '0562-HKHML', '7576-OYWBN', '9489-DEDVP', '3752-CQSJI', '9554-DFKIC', '2378-YIZKA', '0489-WMEMG', '2716-GFZOR', '8707-HOEDG', '2226-ICFDO', '9189-JWSHV', '2808-CHTDM', '1215-EXRMO', '0461-CVKMU', '8409-WQJUX', '8165-ZJRNM', '0963-ZBDRN', '3511-APPBJ', '8399-YNDCH', '9881-VCZEP', '4365-MSDYN', '9027-YFHQJ', '7596-ZYWBB', '5208-FVQKB', '2279-AXJJK', '5968-XQIVE', '5093-FEGLU', '4121-AGSIN', '0376-OIWME', '7762-ONLJY', '8544-JNBOX', '3096-WPXBT', '9537-JALFH', '6072-NUQCB', '9822-BIIGN', '6250-CGGUN', '8148-NLEGT', '8603-IJWDN', '0504-HHAPI', '8182-BJDSI', '1043-YCUTE', '3639-XJHKQ', '1356-MKYSK', '2469-DTSGX', '3794-NFNCH', '0734-OXWBT', '4190-MFLUW', '6888-SBYAI', '8992-CEUEN', '2637-FKFSY', '8250-ZNGGW', '4359-INNWN', '5202-IVJNU', '5630-AHZIL', '3920-HIHMQ', '5736-YEJAX', '7515-LODFU', '0040-HALCW', '9269-CQOOL', '8261-GWDBQ', '6380-ARCEH', '4079-ULGFR', '2314-TNDJQ', '8347-GDTMP', '9135-MGVPY', '0082-LDZUE', '6997-UVGOX', '8336-TAVKX', '3043-TYBNO', '5876-HZVZM', '9738-QLWTP', '6786-OBWQR', '5499-ECUTN', '3891-PUQOD', '6736-DHUQI', '7872-BAAZR', '4029-HPFVY', '5760-FXFVO', '6223-DHJGV', '1455-UGQVH', '1061-PNTHC', '9943-VSZUV', '2018-QKYGT', '4872-VXRIL', '7698-YFGEZ', '1984-FCOWB', '1741-WTPON', '7103-IPXPJ', '7977-HXJKU', '6486-LHTMA', '2272-WUSPA', '5893-KCLGT', '2845-KDHVX', '6568-POCUI', '1304-SEGFY', '9546-CQJSU', '2569-WGERO', '9332-GYWLO', '9415-DPEWS', '8405-IGQFX', '5743-KHMNA', '6904-JLBGY', '7601-GNDYK', '9134-CEQMF', '5815-HGGHV', '6005-OBZPH', '2111-DWYHN', '0164-XAIRP', '7306-YDSOI', '8155-IBNHG', '0130-SXOUN', '7341-LXCAF', '6635-CPNUN', '6418-HNFED', '6784-XYJAE', '2806-MLNTI', '6691-CCIHA', '4518-FZBSX', '9402-ROUMJ', '4220-TINQT', '2657-VPXTA', '5281-BUZGT', '5419-JKZNQ', '4211-MMAZN', '6645-MXQJT', '7579-OOPEC', '6234-RAAPL', '5678-VFNEQ', '3982-XWFZQ', '5846-QFDFI', '4987-GQWPO', '6295-OSINB', '2232-DMLXU', '3898-GUYTS', '9033-EOXWV', '5025-GOOKI', '1474-JUWSM', '4808-YNLEU', '6625-FLENO', '4918-QLLIW', '0587-DMGBH', '4619-EVPHY', '9850-OWRHQ', '1963-VAUKV', '6227-HWPWX', '5299-SJCZT', '9210-IAHGH', '7398-LXGYX', '0816-TSPHQ', '0616-ATFGB', '2858-MOFSQ', '9102-OXKFY', '4070-OKWVH', '0895-LMRSF', '6023-YEBUP', '4701-LKOZD', '8043-PNYSD', '5649-RXQTV', '4450-YOOHP', '7996-MHXLW', '5197-LQXXH', '9102-IAYHT', '6898-RBTLU', '7814-LEEVE', '1218-VKFPE', '8650-RHRKE', '0699-NDKJM', '7854-FOKSF', '2371-JQHZZ', '3647-GMGDH', '0018-NYROU', '3569-VLDHH', '7643-RCHXS', '8020-BWHYL', '2480-EJWYP', '7328-OWMOM', '7394-FKDNK', '1431-AIDJQ', '4782-OSFXZ', '3001-CBHLQ', '8541-QVFKM', '7138-GIRSH', '3812-LRZIR', '8311-UEUAB', '1354-YZFNB', '5049-GLYVG', '3068-OMWZA', '8097-VBQTZ', '3551-HUAZH', '1427-VERSM', '6402-ZFPPI', '0248-IPDFW', '9392-XBGTD', '8945-MUQUF', '9837-BMCLM', '0323-XWWTN', '3696-DFHHB', '7876-BEUTG', '3452-FLHYD', '3132-TVFDZ', '4282-MSACW', '0621-CXBKL', '6818-DJXAA', '9734-YWGEX', '8028-PNXHQ', '6823-SIDFQ', '4342-HFXWS', '3967-VQOGC', '5206-HPJKM', '7401-RUBNK', '5666-CYCYZ', '3726-TBHQT', '6439-PKTRR', '7197-VOJMM', '3134-DSHVC', '0188-GWFLE', '8316-BBQAY', '6127-IYJOZ', '8883-ANODQ', '7729-JTEEC', '7638-QVMVY', '5915-DGNVC', '2996-XAUVF', '7061-OVMIM', '1015-JPFYW', '3417-TSCIC', '6376-GAHQE', '9940-HPQPG', '6458-CYIDZ', '0680-DFNNY', '7973-DZRKH', '8445-DNBAE', '3873-NFTGI', '9805-FILKB', '1335-HQMKX', '6961-MJKBO', '1809-DMJHQ', '4900-MSOMT', '8584-KMVXD', '8083-YTZES', '1872-EBWSC', '2616-UUTFK', '6077-BDPXA', '0106-GHRQR', '3396-DKDEL', '6633-SYEUS', '9386-LDCZR', '8382-SHQEH', '7530-HDYDS', '2108-YKQTY', '3192-LNKRK', '2662-NNTDK', '1170-SASML', '5614-DNZCE', '7247-XOZPB', '3088-LHEFH', '7014-ZZXAW', '3070-FNFZQ', '2799-TSLAG', '4697-LUPSU', '9208-OLGAQ', '7479-NITWS', '1202-KKGFU', '4973-MGTON', '1469-LBJQJ', '2452-KDRRH', '4335-BSMJS', '4234-XTNEA', '1927-QEWMY', '8041-TMEID', '6166-ILMNY', '9732-OUYRN', '1698-XFZCI', '2187-PKZAY', '7940-UQQUG', '6848-YLDFR', '9912-OMZDS', '7409-KIUTL', '0186-CAERR', '0440-UEDAI', '6322-HRPFA', '6120-RJKLU', '4695-WJZUE', '1658-XUHBX', '8561-NMTBD', '9575-IWCAZ', '2538-OIMXF', '6476-EPYZR', '1183-CANVH', '8189-HBVRW', '2384-OVPSA', '1038-RQOST', '3462-BJQQA', '3938-YFPXD', '2856-NNASM', '5939-XAIXZ', '6551-VLJMV', '3208-YPIOE', '8224-KDLKN', '8439-LTUGF', '7801-CEDNV', '3096-YXENJ', '5628-RKIFK', '6650-BWFRT', '6641-XRPSU', '7394-LWLYN', '6933-VLYFX', '2696-NARTR', '7594-RQHXR', '1525-LNLOJ', '7975-JMZNT', '6338-AVWCY', '7016-BPGEU', '7398-SKNQZ', '0956-SYCWG', '5816-QVHRX', '8120-JDCAM', '8808-ELEHO', '7636-PEPNS', '6169-PPETC', '3569-EDBPQ', '7432-FFVAR', '5575-TPIZQ', '4847-TAJYI', '0529-ONKER', '7153-CHRBV', '2985-JUUBZ', '2323-ARSVR', '5656-MJEFC', '5918-VUKWP', '5446-DKWYW', '3413-DHLPB', '8570-KLJYJ', '8861-HGGKB', '3764-MNMOI', '3338-CVVEH', '8869-LIHMK', '3796-ENZGF', '9513-DXHDA', '8100-HZZLJ', '7925-PNRGI', '2947-DOMLJ', '2150-WLKUW', '0511-JTEOY', '5480-TBGPH', '3955-JBZZM', '3606-SBKRY', '6885-PKOAM', '6854-EXGSF', '1406-PUQVY', '7134-MJPDY', '2982-IHMFT', '9505-SQFSW', '3413-CSSTH', '3672-YITQD', '6840-RESVB', '9586-JGQKH', '3354-OADJP', '2684-EIWEO', '9405-GPBBG', '7426-WEIJX', '6614-FHDBO', '6651-AZVTJ', '5627-TVBPP', '9581-GVBXT', '0361-HJRDX', '4201-JMNGR', '4132-KALRO', '0128-MKWSG', '5028-GZLDO', '2845-HSJCY', '6127-ISGTU', '4576-CSAJH', '3930-ZGWVE', '8143-ETQTI', '1251-KRREG', '5382-TEMLV', '2155-AMQRX', '8229-MYEJZ', '6718-BDGHG', '7037-MTYVW', '9348-YVOMK', '8910-LEDAG', '9142-KZXOP', '0260-ZDLGK', '3703-KBKZP', '2580-ASVVY', '4701-MLJPN', '5981-ZVXOT', '2853-CWQFQ', '8671-KKKOS', '3472-OAOOR', '1260-TTRXI', '1697-NVVGY', '6285-FTQBF', '5321-NTRKC', '0133-BMFZO', '0979-PHULV', '4826-TZEVA', '9330-VOFSZ', '3441-CGZJH', '4759-PXTAN', '5424-RLQLC', '3243-ZHOHY', '4257-GAESD', '9290-SHCMB', '5206-XZZQI', '2657-ALMWY', '8398-TBIYD', '0378-TOVMS', '0125-LZQXK', '4112-LUEIZ', '7517-SAWMO', '2181-UAESM', '7028-DVOIQ', '5195-KPUNQ', '8100-PNJMH', '4183-MYFRB', '9972-NKTFD', '5334-JLAXU', '3981-QSVQI', '2898-MRKPI', '8486-AYEQH', '6907-FLBER', '7129-ACFOG', '1122-JWTJW', '2235-DWLJU', '7839-QRKXN', '3407-JMJQQ', '1941-HOSAM', '8854-CCVSQ', '6872-HXFNF', '9500-WBGRP', '3757-NJYBX', '7384-GHBPI', '3027-YNWZU', '3521-SYVOR', '2346-CZYIL', '6416-JNVRK', '7688-AWMDX', '8224-DWCKX', '5480-XTFFL', '0142-GVYSN', '4853-RULSV', '6289-CPNLD', '4749-OJKQU', '2361-FJWNO', '5940-AHUHD', '4395-PZMSN', '1704-NRWYE', '6437-UKHMV', '0407-BDJKB', '5832-XKAES', '4716-MRVEN', '1248-DYXUB', '2595-KIWPV', '1928-BXYIV', '6103-QCKFX', '7795-CFOCW', '8443-WVPSS', '5997-OPVFA', '3071-VBYPO', '3174-AKMAS', '5669-SRAIP', '8417-GSODA', '5766-FTRTS', '2592-SEIFQ', '1143-NMNQJ', '8943-URTMR', '3638-DIMPH', '7297-DVYGA', '9711-FJTBX', '0621-HJWXJ', '3761-FLYZI', '7929-SKFGK', '6839-ITVZJ', '2869-ADAWR', '5057-LCOUI', '5980-BDHPY', '5515-RUGKN', '8441-SHIPE', '0265-EDXBD', '4959-JOSRX', '1423-BMPBQ', '3292-PBZEJ', '3597-MVHJT', '6876-ADESB', '4323-ELYYB', '5934-RMPOV', '4913-EHYUI', '4879-GZLFH', '3831-YCPUO', '5099-BAILX', '1624-WOIWJ', '6110-OHIHY', '5307-DZCVC', '6617-WLBQC', '8325-QRPZR', '9158-VCTQB', '3621-CHYVB', '8519-QJGJD', '8216-AZUUZ', '3648-GZPHF', '2754-SDJRD', '4334-HOWRP', '4139-SUGLD', '8087-LGYHQ', '5135-RDDQL', '3716-UVSPD', '1428-GTBJJ', '5207-PLSTK', '3336-JORSO', '5066-GFJMM', '4355-CVPVS', '8496-EJAUI', '9774-NRNAU', '0440-EKDCF', '2079-FBMZK', '3312-UUMZW', '7868-BGSZA', '9788-HNGUT', '2904-GGUAZ', '5756-JYOJT', '3224-DFQNQ', '0531-ZZJWQ', '1429-UYJSV', '0264-CNITK', '8079-XRJRS', '7124-UGSUR', '1099-GODLO', '4933-BSAIP', '8747-UDCOI', '7552-KEYGT', '0603-OLQDC', '6134-KWTBV', '2150-OEGBV', '7161-DFHUF', '5985-TBABQ', '7346-MEDWM', '7020-OZKXZ', '9961-JBNMK', '8749-CLJXC', '1241-FPMOF', '9547-ITEFG', '6087-MVHJH', '4295-YURET', '2159-TURXX', '9633-XQABV', '5339-PXDVH', '8249-THVEC', '8592-PLTMQ', '0487-RPVUM', '6233-HXJMX', '9402-ORRAH', '4623-ZKHLY', '5201-CBWYG', '3275-RHRNE', '4547-LYTDD', '6402-EJMWF', '4860-IJUDE', '0137-OCGAB', '4465-VDKIQ', '1891-UAWWU', '8610-WFCJF', '6121-VZNQB', '1699-UOTXU', '7854-EDSSA', '5762-TJXGK', '8167-GJLRN', '3429-IFLEM', '0637-KVDLV', '9809-IMGCQ', '3090-HAWSU', '1095-WGNGG', '2812-SFXMJ', '4307-KWMXE', '1597-LHYNC', '0628-CNQRM', '8464-EETCQ', '9621-OUPYD', '8344-WFMFH', '3870-SPZSI', '0380-ZCSBI', '8922-LIEGH', '9488-FVZCC', '5177-RVZNU', '0023-XUOPT', '4445-KWOKW', '7614-QVWQL', '1093-YSWCA', '3125-RAHBV', '2027-CWDNU', '0771-WLCLA', '4573-JKNAE', '3244-CQPHU', '0742-MOABM', '7613-LLQFO', '3640-JQGJG', '0607-DAAHE', '8225-BTJAU', '2373-NTKOD', '9170-ARBTB', '1379-FRVEB', '4021-RQSNY', '0696-UKTOX', '0215-BQKGS', '4929-BSTRX', '0212-ISBBF', '3572-UUHRS', '6166-YIPFO', '4751-ERMAN', '2541-YGPKE', '5685-IIXLY', '0682-USIXD', '4849-PYRLQ', '8496-DMZUK', '2153-MREFK', '3324-OIRTO', '3370-HXOPH', '5527-ACHSO', '6897-RWMUB', '7047-YXDMZ', '5879-HMFFH', '4909-JOUPP', '7029-RPUAV', '1247-QBVSH', '1324-NLTJE', '9828-QHFBK', '2234-XADUH', '9640-ZSLDC', '3658-KIBGF', '2778-OCLGR', '7779-ORAEL', '8859-AXJZP', '0516-UXRMT', '7781-EWARA', '6500-JVEGC', '1508-DFXCU', '2791-SFVEW', '1699-TLDLZ', '0886-QGENL', '8670-ERCJH', '0704-VCUMB', '7526-IVLYU', '6103-BOCOU', '6537-OTKMY', '6963-EZQEE', '6195-MELTI', '5018-GWURO', '1169-SAOCL', '9350-ZXYJC', '1910-FMXJM', '6646-VRFOL', '7114-AEOZE', '0230-UBYPQ', '9281-OFDMF', '4124-MMETB', '6297-NOOPG', '5788-YPOEG', '3099-OONVS', '0526-SXDJP', '2626-URJFX', '1776-SPBWV', '3419-SNJJD', '2202-CUYXZ', '8429-XIBUM', '0854-UYHZD', '3199-XGZCY', '5199-FPUSP', '9128-CPXKI', '1015-OWJKI', '6734-GMPVK', '5382-SOYZL', '3254-YRILK', '5956-VKDTT', '1750-CSKKM', '9710-ZUSHQ', '9909-DFRJA', '1112-CUNAO', '7639-LIAYI', '9103-TCIHJ', '8380-PEFPE', '8695-ARGXZ', '4718-WXBGI', '1544-JJMYL', '6017-PPLPX', '6856-RAURS', '6259-WJQLC', '2176-LVPNX', '8875-AKBYH', '3753-TSEMP', '1092-WPIVQ', '6584-VQMYT', '8626-XHBIE', '3583-KRKMD', '6698-OXETB', '2577-GVSIL', '4672-FOTSD', '7176-WIONM', '0330-BGYZE', '6407-GSJNL', '2080-GKCWQ', '1936-UAFEH', '3253-HKOKL', '4929-ROART', '2916-BQZLN', '8433-WPJTV', '3653-NCRDJ', '5899-OUVKV', '3580-REOAC', '9643-AVVWI', '6777-TGHTM', '7677-SJJJK', '0463-ZSDNT', '7446-YPODE', '4397-FRLTA', '2460-NGXBJ', '0524-IAVZO', '0310-MVLET', '6581-NQCBA', '8232-CTLKO', '1217-VASWC', '1710-RCXUS', '7449-HVPIV', '5846-NEQVZ', '7395-XWZOY', '2014-MKGMH', '0230-WEQUW', '8944-AILEF', '2761-OCIAX', '7529-ZDFXI', '1245-HARPS', '6674-KVJHG', '4187-CINZD', '6425-JWTDV', '5325-UWTWJ', '9986-BONCE', '0219-YTZUE', '1208-NBVFH', '2883-ILGWO', '1444-VVSGW', '2025-JKFWI', '3976-NLDEZ', '9191-MYQKX', '2530-ENDWQ', '8454-AATJP', '1304-NECVQ', '7133-VBDCG', '9079-LWTFD', '8404-VLQFB', '6599-CEBNN', '4821-WQOYN', '6128-DAFVY', '5061-PBXFW', '2796-NNUFI', '6689-TCZHQ', '4079-VTGLK', '7389-KBFIT', '4950-BDEUX', '6726-WEXXK', '8361-LBRDI', '5019-GQVCR', '7410-KTVFV', '1159-WFSGR', '5701-SVCWR', '3162-ZJZFU', '6368-NWMCE', '2959-FENLU', '4223-WOZCM', '1686-STUHN', '7242-EDTYC', '4391-RESHN', '7783-YKGDV', '2428-ZMCTB', '0203-HHYIJ', '2957-JIRMN', '4001-TSBTV', '7359-WWYJV', '4910-AQFFX', '8292-ITGYJ', '7328-ZJAJO', '9979-RGMZT', '9891-NQDBD', '8784-CGILN', '3426-NIYYL', '7508-MYBOG', '3810-PJUHR', '7850-THJMU', '5370-IIVVL', '7266-GSSJX', '0643-OKLRP', '7096-ZNBZI', '8378-LKJAF', '4090-KPJIP', '2091-RFFBA', '2683-BPJSO', '2586-CWXVV', '8580-QVLOC', '5845-BZZIB', '5522-JBWMO', '4791-QRGMF', '5002-GCQFH', '8756-RDDLT', '5248-KWLAR', '2439-QKJUL', '5351-QESIO', '7075-BNDVQ', '5724-BIDBU', '6340-DACFT', '5950-AAAGJ', '3301-VKTGC', '6469-QJKZW', '9313-CDOGY', '6538-POCHL', '4716-HHKQH', '2251-PYLPB', '9050-IKDZA', '8123-QBNAZ', '1167-OYZJF', '9565-JSNFM', '6967-QIQRV', '3778-FOAQW', '9600-NAXZN', '2585-KTFRE', '0480-BIXDE', '6326-MTTXK', '6572-ADKRS', '3612-YUNGG', '8713-IGZSO', '3957-HHLMR', '9555-SAHUZ', '9509-MPYOD', '3359-DSRKA', '6654-QGBZZ', '6954-OOYZZ', '6302-JGYRJ', '0289-IVARM', '2961-VNFKL', '6094-ZIVKX', '9728-FTTVZ', '9845-PEEKO', '1956-YIFGE', '7976-CICYS', '4735-BJKOU', '5375-XLDOF', '8434-PNQZX', '5575-GNVDE', '7064-FRRSW', '1985-MBRYP', '2673-CXQEU', '8625-AZYZY', '0840-DFEZH', '3902-MIVLE', '6229-UOLQL', '1663-MHLHE', '5035-PGZXH', '3863-IUBJR', '8623-TMRBY', '3521-MNKLV', '9931-KGHOA', '7861-UVUFT', '4510-HIMLV', '1814-DKOLC', '5397-TUPSH', '8232-UTFOZ', '2371-KFUOG', '8562-GHPPI', '8947-YRTDV', '5716-EZXZN', '6060-DRTNL', '2672-HUYVI', '5027-YOCXN', '3623-FQBOX', '8751-EDEKA', '2558-BUOZZ', '1376-HHBDV', '8623-ULFNQ', '6723-WSNTY', '0931-MHTEM', '6300-BWMJX', '4366-CTOUZ', '9512-PHSMG', '4671-LXRDQ', '2267-WTPYD', '7465-ZZRVX', '7365-BVCJH', '9305-CDSKC', '7623-HKYRK', '7722-VJRQD', '8620-RJPZN', '8958-JPTRR', '9944-AEXBM', '5439-WIKXB', '1485-YDHMM', '4789-KWMXN', '2405-LBMUW', '0487-CRLZF', '1481-ZUWZA', '6510-UPNKS', '7534-BFESC', '1373-ORVIZ', '4983-CCWMC', '1579-KLYDT', '0536-ESJEP', '3137-LUPIX', '4698-KVLLG', '0562-FGDCR', '2969-QWUBZ', '0823-HSCDJ', '8266-VBFQL', '4737-AQCPU', '6527-PZFPV', '9378-FXTIZ', '1017-FBQMM', '6168-WFVVF', '9639-BUJXT', '8859-YSTWS', '7777-UNYHB', '2253-KPMNB', '4530-NDRKU', '0168-XZKBB', '6244-BESBM', '5699-BNCAS', '0439-IFYUN', '3160-TYXLT', '9917-KWRBE', '5913-INRQV', '9251-WNSOD', '2239-CFOUJ', '6689-KXGBO', '1089-XZWHH', '5117-ZSMHQ', '9079-YEXQJ', '7315-WYOAW', '3635-QQRQD', '5820-PTRYM', '1133-KXCGE', '7254-IQWOZ', '1400-MMYXY', '2887-JPYLU', '5778-BVOFB', '4505-EXZHB', '8590-OHDIW', '8910-ICHIU', '2186-QZEYA', '4986-MXSFP', '6608-QQLVK', '5337-IIWKZ', '9469-WEJBT', '1555-DJEQW', '9279-CJEOJ', '5126-RCXYW', '0258-NOKBL', '2215-ZAFGX', '9578-FOMUK', '6266-QHOJZ', '8402-OOOHJ', '6384-VMJHP', '6837-HAEVO', '1000-AJSLD', '8469-SNFFH', '5960-WPXQM', '9396-ZSFLL', '0238-WHBIQ', '6980-IMXXE', '3389-KTRXV', '6212-ATMLK', '0923-PNFUB', '3588-WSTTJ', '5624-RYAMH', '3318-ISQFQ', '6967-PEJLL', '0129-KPTWJ', '4927-WWOOZ', '2453-SAFNS', '1100-DDVRV', '1703-MGIAB', '9702-AIUJO', '7951-VRDVK', '0822-QGCXA', '2640-PMGFL', '6196-HBOBZ', '1951-IEYXM', '4391-LNRXK', '9778-OGKQZ', '5175-WLYXL', '1257-SXUXQ', '6976-BWGLQ', '2208-NKVVH', '9667-EQRXU', '3452-ABWRL', '8414-OOEEL', '5923-GXUOC', '5213-TWWJU', '9617-UDPEU', '1134-YWTYF', '8414-MYSHR', '5546-BYZSM', '1628-BIZYP', '1453-RZFON', '1536-HBSWP', '2811-POVEX', '1830-GGFNM', '5433-KYGHE', '2257-BOVXD', '2545-LXYVJ', '7074-IEVOJ', '0818-OCPZO', '1024-KPRBB', '3977-QCRSL', '4713-ZBURT', '3397-AVTKU', '8668-KNZTI', '1867-TJHTS', '4236-UJPWO', '4693-VWVBO', '8974-OVACP', '0929-PECLO', '8573-JGCZW', '4616-EWBNJ', '5533-RJFTJ', '3605-JISKB', '6303-KFWSL', '3583-EKAPL', '4013-UBXWQ', '2886-KEFUM', '7463-IFMQU', '8901-HJXTF', '9570-KYEUA', '7665-NKLAV', '8194-PEEBY', '0301-FIDRB', '6907-CQGPN', '7811-JIVPF', '4114-QMKVN', '8070-AAWZP', '1106-HRLKZ', '7730-CLDSV', '7492-TAFJD', '2193-SFWQW', '6101-IMRMM', '9667-TKTVZ', '6308-CQRBU', '3594-IVHJZ', '7272-QDCKA', '7310-EGVHZ', '2607-FBDFF', '9992-RRAMN', '7895-VONWT', '2834-JKOOW', '8066-POXGX', '9812-GHVRI', '1098-KFQEC', '9589-ABEPT', '4654-DLAMQ', '2082-CEFLT', '1926-QUZNN', '7243-LCGGZ', '9137-NOQKA', '3115-CZMZD', '8125-QPFJD', '6993-OHLXR', '6917-IAYHD', '3278-FSIXX', '9746-YKGXB', '5240-CAOYT', '0187-QSXOE', '0872-CASZJ', '9501-UKKNL', '5485-ITNPC', '7813-ZGGAW', '0568-ONFPC', '6896-SRVYQ', '0248-PGHBZ', '9025-ZRPVR', '8417-FMLZI', '4549-ZDQYY', '6682-VCIXC', '0895-LNKRC', '8873-TMKGR', '9359-UGBTK', '6981-TDRFT', '4811-JBUVU', '5917-HBSDW', '4143-HHPMK', '6484-LATFU', '6485-QXWWE', '6319-QSUSR', '6427-FEFIG', '5135-GRQJV', '0139-IVFJG', '2001-MCUUW', '9221-OTIVJ', '4081-DYXAV', '2819-GWENI', '8085-MSNLK', '4227-OJHAL', '6563-VNPMN', '0295-QVKPB', '4482-FTFFX', '2672-TGEFF', '5968-VXZLG', '8207-DMRVL', '7302-ZHMHP', '7493-GVFIO', '4674-HGNUA', '5035-BVCXS', '3398-ZOUAA', '4203-QGNZA', '8242-SOQUO', '5231-FIQPA', '6211-WWLTF', '4010-YLMVT', '9224-VTYID', '5995-OIGLP', '0916-QOFDP', '3235-ETOOB', '2894-QOJRX', '9938-EKRGF', '8450-LUGUK', '5256-SKJGO', '3858-XHYJO', '1338-CECEE', '1935-IMVBB', '0973-KYVNF', '3557-HTYWR', '7181-OQCUT', '2856-HYAPG', '7838-LAZFO', '1867-BDVFH', '6621-YOBKI', '0015-UOCOJ', '2007-QVGAW', '9708-KFDBY', '8773-HHUOZ', '2305-MRGLV', '8212-CRQXP', '3420-YJLQT', '6814-ZPWFQ', '0701-RFGFI', '4423-YLHDV', '0839-QNXME', '3190-XFANI', '1095-JUDTC', '9734-UYXQI', '2668-TZSPS', '9722-UJOJR', '9897-KXHCM', '3349-ANQNH', '0691-NIKRI', '2277-BKJKN', '2176-OSJUV', '5149-QYTTU', '5229-DTFYB', '1452-UZOSF', '7799-DSEWS', '0254-FNMCI', '9313-QOLTZ', '8317-BVKSO', '8051-HJRLT', '4163-NCJAK', '9548-LIGTA', '3104-OWCGK', '2587-YNLES', '3978-YNKDD', '9588-OZDMQ', '7459-IMVYU', '5919-VCZYM', '2720-WGKHP', '9036-CSKBW', '0795-GMVQO', '6598-KELSS', '7108-DGVUU', '2929-QNSRW', '1998-VHJHK', '7294-TMAOP', '3911-RSNHI', '7634-HLQJR', '4145-UQXUQ', '1984-GPTEH', '6734-FQAJX', '6681-ZSEXG', '3427-GGZZI', '7196-LIWRH', '0366-NQSHS', '0107-WESLM', '0810-BDHAW', '2108-XWMPY', '6732-FZUGP', '3518-PZXZQ', '8048-DSDFQ', '7041-TXQJH', '4135-FRWKJ', '3466-RITXD', '4373-MAVJG', '5730-DBDSI', '9537-VHDTA', '2877-VDUER', '5472-CVMDX', '5498-IBWPI', '1502-XFCVR', '4652-ODEVH', '0666-UXTJO', '5884-GCYMI', '6988-CJEYV', '0440-QEXBZ', '4277-PVRAN', '8849-AYPTR', '2465-BLLEU', '0377-JBKKT', '0259-GBZSH', '9356-AXGMP', '5302-BDJNT', '2239-CGBUZ', '5220-AGAAX', '8865-TNMNX', '2920-RNCEZ', '8468-EHYJA', '1163-VIPRI', '3387-VATUS', '8008-OTEZX', '5622-UEJFI', '3500-NSDOA', '8515-OCTJS', '8295-FHIVV', '5835-BEQEU', '8802-UNOJF', '6261-LHRTG', '3566-HJGPK', '4377-VDHYI', '8725-JEDFD', '6281-FKEWS', '0864-FVJNJ', '4012-ZTHBR', '7078-NVFAM', '6582-PLFUU', '8485-GJCDN', '8246-SHFGA', '4541-RMRLG', '8263-OKETD', '4283-IVYCI', '4836-WNFNO', '1166-PQLGG', '0875-CABNR', '7799-LGRDP', '1839-FBNFR', '3205-MXZRA', '2792-VPPET', '6652-YFFJO', '0036-IHMOT', '2858-EIMXH', '5707-ZMDJP', '5619-XZZKR', '3211-AAPKX', '9173-IVZVP', '0234-TEVTT', '8168-UQWWF', '1319-YLZJG', '6278-FEPBZ', '1866-ZSLJM', '3084-DOWLE', '8364-TRMMK', '7110-BDTWG', '5939-SXWHM', '1640-PLFMP', '6230-BSUXY', '9544-PYPSJ', '5898-IGSLP', '2988-QRAJY', '4662-EKDPQ', '4742-DRORA', '2359-KLTEK', '9762-YAQAA', '4825-FUREZ', '2685-SREOM', '7854-EKTJL', '2143-LJULT', '1150-WFARN', '8851-RAGOV', '3678-MNGZX', '2885-HIJDH', '6260-XLACS', '3948-FVVRP', '4450-DLLMH', '1422-DGUBX', '7850-VWJUU', '5976-JCJRH', '0621-TWIEM', '7021-XSNYE', '6818-WOBHJ', '4667-OHGKG', '0674-GCDXG', '6490-FGZAT', '3629-ZNKXA', '6275-YDUVO', '6283-GITPX', '1357-BIJKI', '4353-HYOJD', '4644-OBGFZ', '0369-ZGOVK', '2057-ZBLPD', '0902-XKXPN', '0265-PSUAE', '6038-GCYEC', '5494-HECPR', '7277-OZCGZ', '5630-IXDXV', '7853-GVUDZ', '9371-BITHB', '9398-MMQTO', '3727-OVPRY', '0263-FJTQO', '7471-MQPOS', '9746-MDMBK', '1302-UHBDD', '8819-IMISP', '3720-DBRWL', '9391-EOYLI', '1621-YNCJH', '0674-EYYZV', '8902-ZEOVF', '2890-WFBHU', '1563-IWQEX', '7963-SHNDT', '4558-CGYCZ', '3181-VTHOE', '6481-LXPWL', '7760-OYPDY', '9611-CTWIH', '7008-LZVOZ', '2026-TGDHM', '1764-VUUMT', '4781-ZXYGU', '5022-JNQEQ', '2223-GDSHL', '3834-XUIFC', '9959-WOFKT', '8008-ESFLK', '1658-TJVOA', '5318-YKDPV', '7593-XFKDI', '1925-TIBLE', '4633-MKHYU', '6261-RCVNS', '6927-WTFIV', '9046-DQMTP', '0947-IDHRQ', '4626-GYCZP', '5055-BRMNE', '6754-WKSHP', '8058-INTPH', '7693-LCKZL', '2507-QZPQS', '0515-YPMCW', '5712-PTIWW', '2878-DHMIN', '6122-EFVKN', '5793-YOLJN', '2580-ATZSQ', '4104-PVRPS', '3913-FCUUW', '4475-NVTLU', '5565-FILXA', '7928-VJYAB', '0422-OHQHQ', '6358-LYNGM', '7168-HDQHG', '4522-XRWWI', '3296-SILRA', '6075-SLNIL', '6968-URWQU', '7691-KGKGP', '2480-JZOSN', '5536-SLHPM', '0278-YXOOG', '4277-BWBML', '3474-BAFSJ', '2386-OWURY', '6252-DFGTK', '7246-ZGQDF', '9552-TGUZV', '4884-LEVMQ', '8710-YGLWG', '6546-OPBBH', '1564-HJUVY', '3926-CUQZX', '3692-JHONH', '0080-EMYVY', '7663-RGWBC', '0581-MDMPW', '6734-CKRSM', '3317-HRTNN', '8917-FAEMR', '9840-EFJQB', '3011-WQKSZ', '9620-QJREV', '8395-ETZKQ', '3399-BMLVW', '5131-PONJI', '3030-YDNRM', '2038-OEQZH', '0122-OAHPZ', '2171-UDMFD', '4325-NFSKC', '6265-SXWBU', '0208-BPQEJ', '0829-XXPLX', '8835-VSDSE', '8174-TBVCF', '2506-TNFCO', '2189-UXTKY', '9432-VOFYX', '5176-OLSKT', '8597-CWYHH', '6036-TTFYU', '1666-JZPZT', '9099-FTUHS', '4634-JLRJT', '3950-VPYJB', '6993-YCOBK', '6469-MRVET', '5242-UOWHD', '5244-IRFIH', '4049-ZPALD', '3863-QSTYI', '1465-LNTLJ', '4195-SMMNX', '8374-UULRV', '7968-QUXNS', '1215-VFYVK', '5310-NOOVA', '6979-ZNSFF', '4703-MQYKT', '7516-GMHUV', '7109-MFBYV', '9101-NTIXF', '7318-EIVKO', '5641-DMBFJ', '5696-CEIQJ', '5063-IUOKK', '8327-WKMIE', '5456-ITGIC', '9391-TTOYH', '7794-JASDG', '0877-SDMBN', '7711-YIJWC', '4567-AKPIA', '5186-PEIZU', '3374-LXDEV', '4631-OACRM', '1550-EENBN', '6993-YGFJV', '8857-CUPFQ', '6917-YACBP', '0895-UADGO', '8173-RXAYP', '2865-TCHJW', '9067-YGSCA', '4632-XJMEX', '6537-QLGEX', '2424-WVHPL', '4846-WHAFZ', '6416-TVAIH', '1480-IVEVR', '6994-ORCWG', '8884-FEEWR', '0388-EOPEX', '3665-JATSN', '9574-RKJIF', '5383-MMTWC', '3580-HYCSP', '0906-QVPMS', '8164-OCKUJ', '8967-SZQAS', '5394-SVGJV', '6087-YPWHO', '8406-LNMHF', '1268-ASBGA', '0394-YONDK', '1047-RNXZV', '9483-GCPWE', '3552-CTCYF', '3452-GWUIN', '0032-PGELS', '5552-ZNFSJ', '9025-AOMKI', '0253-ZTEOB', '9661-JALZV', '2931-XIQBR', '8950-MTZNV', '4958-XCBDQ', '0807-ZABDG', '0723-FDLAY', '5360-XGYAZ', '7774-OJSXI', '9839-ETQOE', '2466-NEJOJ', '5914-GXMDA', '9388-ZEYVT', '0932-YIXYU', '1075-BGWOH', '2958-NHPPS', '9256-JTBNZ', '6035-BXTTY', '6202-DYYFX', '9475-NNDGC', '7623-TRNQN', '3440-JPSCL', '9824-QCJPK', '1212-GLHMD', '5774-QPLTF', '8779-QRDMV', '5357-TZHPP', '9154-QDGTH', '4393-RYCRE', '8200-KLNYW', '5170-PTRKA', '4710-FDUIZ', '6873-UDNLD', '8715-KKTFG', '6507-ZJSUR', '2332-EFBJY', '5702-KVQRD', '6897-UUBNU', '7978-DKUQH', '4926-UMJZD', '7252-NTGSS', '0585-EGDDA', '2516-XSJKX', '4525-VZCZG', '4111-BNXIF', '9373-WSLOY', '6369-MCAKO', '4818-QIUFN', '0655-YDGFJ', '1157-BQCUW', '8220-OCUFY', '7841-TZDMQ', '2482-CZGBB', '3058-WQDRE', '0679-IDSTG', '5016-LIPDW', '5461-QKNTN', '2330-PQGDQ', '5084-OOVCJ', '7233-DRTRF', '2229-VWQJH', '0455-ENTCR', '3339-EAQNV', '6567-HOOPW', '2876-GZYZC', '8259-DZLIZ', '5248-RPYWW', '5329-KRDTM', '0607-MVMGC', '7016-NVRIC', '5955-ERIHD', '6992-TKNYO', '3649-JPUGY', '1101-SSWAG', '0082-OQIQY', '6000-UKLWI', '9617-INGJY', '2521-NPUZR', '0254-WWRKD', '1816-FLZDK', '4304-XUMGI', '7892-QVYKW', '5751-USDBL', '8444-WRIDW', '3887-PBQAO', '1063-DHQJF', '7551-DACSP', '5269-NRGDP', '7596-LDUXP', '3680-CTHUH', '1725-IQNIY', '4946-EDSEW', '5288-AHOUP', '3345-PBBFH', '1842-EZJMK', '8755-OGKNA', '3446-QDSZF', '6344-SFJVH', '4310-KEDTB', '0581-BXBUB', '5766-XQXMQ', '4676-WLUHT', '5727-MYATE', '6603-QWSPR', '7647-GYYKX', '6374-NTQLP', '9524-EGPJC', '9114-DPSIA', '1891-QRQSA', '8166-ORCHU', '7017-VFHAY', '4544-RXFMG', '2604-IJPDU', '9286-DOJGF', '1641-BYBTK', '3138-BKYAV', '0404-AHASP', '4844-JJWUY', '8166-ZZTFS', '7550-WIQVA', '6754-LZUKA', '2908-ZTPNF', '8819-ZBYNA', '1577-HKTFG', '1925-LFCZZ', '8878-RYUKI', '9874-QLCLH', '9793-WECQC', '3166-PNEOF', '3207-OYBWH', '6682-QJDGB', '7240-ETPTR', '7593-JNWRU', '4607-CHPCA', '9115-YQHGA', '5294-IMHHT', '4116-TZAQJ', '7153-OANIO', '7607-QKKTJ', '6284-AHOOQ', '4706-AXVKM', '5151-HQRDG', '4546-FOKWR', '5089-IFSDP', '8720-RQSBJ', '9699-UBQFS', '4750-ZRXIU', '7569-NMZYQ', '2640-LYMOV', '2429-AYKKO', '8659-IOOPU', '8654-DHAOW', '3227-WLKLI', '9067-SQTNS', '5954-BDFSG', '4680-KUTAJ', '2138-VFAPZ', '2828-SLQPF', '3723-BFBGR', '1568-BEKZM', '7541-YLXCL', '4472-LVYGI', '9873-MNDKV', '1302-TPUBN', '6685-GBWJZ', '8823-RLPWL', '9824-BEMCV', '5445-UTODQ', '6728-CZFEI', '2851-STERV', '6521-YYTYI', '9896-UYMIE', '3518-FSTWG', '9691-HKOVS', '4074-SJFFA', '9163-GHAYE', '8152-VETUR', '7989-VCQOH', '0784-GTUUK', '0423-UDIJQ', '3373-DIUUN', '2228-BZDEE', '7025-WCBNE', '4685-TFLLS', '7786-WBJYI', '1934-MKPXS', '4324-BZCKL', '3372-CDXFJ', '1670-SVOWZ', '0354-WYROK', '6713-OKOMC', '6374-AFWOX', '8853-TZDGH', '4123-DVHPH', '9643-YBLUR', '9031-ZVQPT', '3346-BRMIS', '1635-FJFCC', '8752-GHJFU', '0716-BQNDX', '1178-PZGAB', '2937-FTHUR', '0839-JTCUD', '1814-WFGVS', '7817-OMJNA', '6397-JNZZG', '3689-MOZGR', '5701-GUXDC', '5808-TOTXO', '9451-LPGOO', '3642-BYHDO', '7734-DBOAI', '0596-BQCEQ', '2519-FAKOD', '4351-QLCSU', '3173-WSSUE', '8017-LXHFA', '9885-MFVSU', '6598-RFFVI', '2276-YDAVZ', '8148-BPLZQ', '9092-GDZKO', '1963-SVUCV', '4692-NNQRU', '2533-TIBIX', '7663-CUXZB', '5296-BFCYD', '8847-GEOOQ', '8807-ARQET', '5989-PGKJB', '1355-KUSBG', '3714-NTNFO', '8387-MOJJT', '0925-VYDLG', '8614-VGMMV', '3213-VVOLG', '5961-VUSRV', '3167-SNQPL', '1179-INLAT', '4676-MQUEA', '8565-CLBZW', '0520-FDVVT', '0135-NMXAP', '3807-XHCJH', '4163-KIUHY', '4367-NUYAO', '6921-OZMFH', '9840-DVNDC', '5514-YQENT', '7353-YOWFP', '6704-UTUKK', '0496-AHOOK', '5583-EJXRD', '5840-NVDCG', '0825-CPPQH', '6710-HSJRD', '9172-ANCRX', '4385-ZKVNW', '9058-CBREO', '5799-JRCZO', '4566-NECEV', '5944-UGLLK', '8053-WWDRO', '9286-BHDQG', '6851-WEFYX', '9894-EZEWG', '9258-CNWAC', '8999-BOHSE', '8203-XJZRC', '2824-DXNKN', '3589-PPVKW', '2167-FQSTQ', '6591-QGOYB', '1452-XRSJV', '0463-WZZKO', '6128-CZOMY', '2260-USTRB', '9500-IWPXQ', '3750-CKVKH', '1099-BTKWT', '5138-WVKYJ', '3283-WCWXT', '8763-KIAFH', '0078-XZMHT', '3948-XHGNA', '7998-WNZEM', '0732-OCQOC', '7048-GXDAY', '9110-HSGTV', '9866-OCCKE', '9540-JYROE', '8148-WOCMK', '9866-QEVEE', '7130-CTCUS', '5465-BUBFA', '3018-TFTSU', '0013-EXCHZ', '3524-WQDSG', '7964-VEXDG', '6383-ZTSIW', '6100-QQHEB', '9139-WQQDY', '7916-VCCPB', '2452-MRMZF', '5447-VYTKW', '6476-YHMGA', '7470-MCQTK', '5373-SFODM', '4749-VFKVB', '7216-EWTRS', '9818-XQCUV', '5686-CMAWK', '7576-ASEJU', '4827-DPADN', '6705-LXORM', '4441-NIHPT', '0488-GSLFR', '4078-SAYYN', '0151-ONTOV', '8082-GHXOP', '3148-BLQJT', '6229-LSCKB', '5985-BEHZK', '9294-TDIPC', '5180-UCIIQ', '5032-MIYKT', '7017-VFULY', '5973-EJGDP', '7639-OPLNG', '6986-IXNDM', '1142-IHLOO', '6108-OQZDQ', '9693-XMUOB', '4056-QHXHZ', '9236-NDUCW', '5583-SXDAG', '5494-WOZRZ', '7993-PYKOF', '1996-DBMUS', '3258-SYSWS', '4063-EIKNQ', '9766-HGEDE', '4369-HTUIF', '1169-WCVAK', '7205-BAIAD', '9770-LXDBK', '1042-HFUCW', '8152-UOBNY', '4529-CKBCL', '6893-ODYYE', '5150-ITWWB', '1936-CZAKF', '6859-RKMZJ', '7284-ZZLOH', '8285-ABVLB', '3655-SNQYZ', '8095-WANWK', '1389-CXMLU', '6543-CPZMK', '5160-UXJED', '9391-YZEJW', '3274-NSDWE', '7605-SNLQG', '9717-IOAAF', '5478-JJVZK', '6357-JJPQT', '0668-OGMHD', '5515-IDEJJ', '1307-TVUFB', '0795-LAFGP', '9779-DPNEJ', '5931-FLJJF', '0285-INHLN', '4840-ORQXB', '8799-OXZMD', '4737-HOBAX', '6620-JDYNW', '3990-QYKBE', '6595-YGXIT', '1371-OJCEK', '2397-BRLOM', '6894-LFHLY', '0960-HUWBM', '7519-JTWQH', '6661-HBGWL', '5485-WUYWF', '9796-BPKIW', '5832-TRLPB', '1977-STDKI', '8644-XYTSV', '4700-UBQMV', '7586-ZATGZ', '5405-ZMYXQ', '8774-GSBUN', '0899-LIIBW', '4872-JCVCA', '8660-BUETV', '8067-NIOYM', '0067-DKWBL', '2378-HTWFW', '6646-JPPHA', '7036-ZZKBD', '7629-WFGLW', '2907-ILJBN', '9091-WTUUY', '4232-JGKIY', '5161-XEUVX', '5129-HHMZC', '1846-XWOQN', '4895-TMWIR', '0365-GXEZS', '4827-USJHP', '8914-RBTSB', '3411-WLRSQ', '0318-QUUOB', '0274-JKUJR', '6284-KMNUF', '7137-NAXML', '1813-JYWTO', '7966-YOTQW', '4083-BFNYK', '5473-KHBPS', '1766-GKNMI', '0402-OAMEN', '3758-CKOQL', '1465-VINDH', '9122-UMROB', '1299-AURJA', '5299-RULOA', '9675-ICXCT', '5393-RXQSZ', '6304-IJFSQ', '3546-GHEAE', '0019-EFAEP', '7812-FZHPE', '8499-BRXTD', '1271-UODNO', '7989-AWGEH', '6377-KSLXC', '2207-RYYRL', '3745-HRPHI', '3229-USWAR', '7668-XCFYV', '5448-VWNAM', '6575-SUVOI', '2931-SVLTV', '2120-SMPEX', '9039-RBEEE', '8455-HIRAQ', '1678-FYZOW', '4929-XIHVW', '7562-UXTPG', '8231-BSWXX', '3319-DWOEP', '8993-PHFWD', '3511-BFTJW', '7654-YWJUF', '0847-HGRML', '7951-QKZPL', '1763-KUAAW', '9685-WKZGT', '2391-IPLOP', '3439-GVUSX', '5038-ETMLM', '2712-SYWAY', '3865-ZFZIB', '9945-PSVIP', '1265-BCFEO', '2346-DJQTB', '2535-PBCGC', '3512-IZIKN', '5777-KJIRB', '2234-EOFPT', '9602-WCXPI', '5016-IBERQ', '4318-RAJVY', '1322-AGOQM', '2267-FPIMA', '6855-VLGOS', '2197-OMWGI', '9167-APMXZ', '4192-GORJT', '0810-DHDBD', '2578-JQPHZ', '1539-LNKHM', '7880-XSOJX', '4776-XSKYQ', '9488-FYQAU', '9578-VRMNM', '7235-NXZCP', '3191-CSNMG', '1696-MZVAU', '2236-HILPA', '2187-LZGPL', '0392-BZIUW', '4291-HYEBC', '7964-ZRKKG', '5732-IKGQH', '5076-YVXCM', '4086-WITJG', '2027-DNKIV', '6505-OZNPG', '4094-NSEDU', '0301-KOBTQ', '2656-FMOKZ', '8383-SGHJU', '6040-CGACY', '8806-EAGWC', '5453-AXEPF', '7617-EYGLW', '7622-NXQZR', '7996-BPXHY', '6179-GJPSO', '6937-GCDGQ', '8612-GXIDD', '4097-YODCF', '2999-AANRQ', '7851-WZEKY', '0959-WHOKV', '7754-IXRMC', '1513-XNPPH', '2612-RRIDN', '8741-LQOBK', '2275-RBYQS', '0484-JPBRU', '0308-GIQJT', '5149-CUZUJ', '4332-MUOEZ', '4183-WCSEP', '9898-KZQDZ', '4588-YBNIB', '1960-UYCNN', '1862-SKORY', '3565-UNOCC', '5792-JALQC', '0567-XRHCU', '2649-HWLYB', '7890-VYYWG', '6961-VCPMC', '1460-UZPRJ', '8564-LDKFL', '2000-MPKCA', '6060-QBMGV', '4086-ATNFV', '5155-AZQPB', '2576-HXMPA', '7407-SUJIZ', '3594-KADLU', '4816-OKWNX', '6078-VESFR', '4250-WAROZ', '4795-WRNVT', '3143-JQEGI', '2081-KJSQF', '9500-LTVBP', '5115-GZDEL', '2495-INZWQ', '0164-APGRB', '5376-PCKNB', '5196-WPYOW', '3285-UCQVC', '4487-ZYJZK', '6288-LBEAR', '8788-DOXSU', '4883-KCPZJ', '3865-YIOTT', '1051-GEJLJ', '5394-MEITZ', '9420-LOJKX', '0013-MHZWF', '5312-IRCFR', '8963-MQVYN', '4713-LZDRV', '7746-AWNQW', '5543-QDCRY', '8388-FYNPZ', '8752-IMQOS', '5906-BFOZT', '4747-LCAQL', '6121-TNHBO', '7094-MSZAO', '0769-MURVM', '6825-UYPFK', '5999-LCXAO', '9142-XMYJH', '0831-JNISG', '8035-BUYVG', '7766-CLTIC', '7480-SPLEF', '4690-PKDQG', '8878-HMWBV', '4817-QRJSX', '4609-KNNWG', '6891-JPYFF', '2157-MXBJS', '8735-SDUFN', '3458-IDMFK', '6198-RTPMF', '1657-DYMBM', '5469-CTCWN', '4937-QPZPO', '2058-DCJBE', '3549-ZTMNH', '6838-YAUVY', '3587-PMCOY', '5380-WJKOV', '2348-KCJLT', '4659-NZRUF', '8778-LMWTJ', '6917-FIJHC', '0613-WUXUM', '9084-OAYKL', '6393-WRYZE', '0999-QXNSA', '5275-SQEIZ', '2960-NKRSO', '4057-FKCZK', '2718-YSKCS', '7780-OTDSO', '0930-EHUZA', '6372-RFVNS', '9058-HRZSV', '7270-BDIOA', '7833-PKIHD', '4458-KVRBJ', '2774-LVQUS', '9761-XUJWD', '9054-FOWNV', '7080-TNUWP', '6103-LIANB', '7167-PCEYD', '2867-UIMSS', '6656-GULJQ', '2303-PJYHN', '3272-VUHPV', '9327-QSDED', '4422-QVIJA', '5144-PQCDZ', '1177-XZBJL', '1439-LCGVL', '5295-PCJOO', '7558-IMLMT', '9481-IEBZY', '0746-JTRFU', '3045-XETSH', '4616-ULAOA', '0880-FVFWF', '1955-IBMMB', '2302-OUZXB', '0871-URUWO', '3716-BDVDB', '5914-XRFQB', '3806-DXQOM', '1223-UNPKS', '5020-ZSTTY', '7673-LPRNY', '2380-DAMQP', '8267-KFGYD', '9651-GTSAQ', '8495-LJDFO', '3563-SVYLG', '5056-FIMPT', '7602-DBTOU', '7273-TEFQD', '9492-TOKRI', '5760-IFJOZ', '6857-VWJDT', '4851-BQDNX', '7527-QNRUS', '8015-IHCGW', '2511-ALLCS', '9178-JHUVJ', '7675-OZCZG', '0017-IUDMW', '1960-UOTYM', '0114-IGABW', '6518-KZXCB', '2194-IIQOF', '5198-HQAEN', '0620-XEFWH', '3062-ICYZQ', '4656-CAURT', '2208-MPXIO', '2277-AXSDC', '9150-HEPMB', '6394-HHHZM', '2911-WDXMV', '8259-NFJTV', '2731-GJRDG', '2272-JKMSI', '0042-RLHYP', '8224-IVVPA', '0778-NELLA', '7245-NIIWQ', '7860-UXCRM', '3312-ZWLGF', '1576-PFZIW', '4760-XOHVN', '9725-SCPZG', '3365-SAIGS', '0308-IVGOK', '7395-IGJOS', '2896-TBNBE', '4726-DLWQN', '8981-FJGLA', '0357-NVCRI', '5197-YPYBZ', '8821-XNHVZ', '3523-BRGUW', '2129-ALKBS', '6982-SSHFK', '2789-CZANW', '4837-PZTIC', '1843-TLSGD', '4816-JBHOV', '8896-BQTTI', '0156-FVPTA', '3904-UKFRE', '5159-YFPKQ', '6199-IWKGC', '3164-AALRN', '6844-DZKRF', '8868-WOZGU', '3643-AHCFP', '1918-ZBFQJ', '3154-CFSZG', '5055-MGMGF', '1346-UFHAX', '5203-XEHAX', '5850-BDWCY', '6507-DTJZV', '7148-XZPHA', '1266-NZYUI', '1086-LXKFY', '2080-SRCDE', '3669-LVWZB', '7416-CKTEP', '7503-EPSZW', '8410-BGQXN', '2237-ZFSMY', '6429-SHBCB', '5442-BHQNG', '4828-FAZPK', '0564-JJHGS', '0572-ZJKLT', '0689-DSXGL', '3996-ZNWYK', '8871-JLMHM', '0640-YJTPY', '4615-PIVVU', '4301-VVZKA', '3750-RNQKR', '7339-POGZN', '9227-LUNBG', '0233-FTHAV', '0224-HJAPT', '6350-XFYGW', '8540-ZQGEA', '0013-SMEOE', '0481-SUMCB', '5863-OOKCL', '6952-OMNWB', '3420-ZDBMA', '0237-YFUTL', '7874-ECPQJ', '5018-LXQQG', '9251-AWQGT', '4510-PYUSH', '0236-HFWSV', '1394-SUIUH', '2408-PSJVE', '2379-GYFLQ', '2074-GUHPQ', '2898-LSJGD', '9974-JFBHQ', '5312-TSZVC', '1285-OKIPP', '4568-KNYWR', '5797-APWZC', '3850-OKINF', '2270-CHBFN', '7044-YAACC', '0479-HMSWA', '5640-CAXOA', '1568-LJSZU', '1080-BWSYE', '7703-ZEKEF', '2632-IVXVF', '3001-UNBTL', '9978-HYCIN', '2296-DKZFP', '0898-XCGTF', '2195-VVRJF', '7029-IJEJK', '9576-ANLXO', '3969-JQABI', '9462-MJUAW', '6877-TJMBR', '5626-MGTUK', '4393-GEADV', '4011-ARPHK', '2967-MXRAV', '5803-NQJZO', '7112-OPOTK', '2581-VKIRT', '2235-EZAIK', '4732-RRJZC', '9705-ZJBCG', '8224-UAXBZ', '1271-SJBGZ', '6035-RIIOM', '6199-IPCAO', '4801-KFYKL', '2919-HBCJO', '2925-MXLSX', '3320-VEOYC', '6615-ZGEDR', '4950-HKQTE', '8174-LNWMW', '6457-USBER', '0774-IFUVM', '8617-ENBDS', '9769-TSBZE', '8049-WJCLQ', '7721-JXEAW', '9140-CZQZZ', '7055-JCGNI', '3170-GWYKC', '9647-ERGBE', '7207-RMRDB', '8883-GRDWQ', '8800-JOOCF', '6496-SLWHQ', '1982-FEBTD', '5440-FLBQG', '7269-JISCY', '9209-NWPGU', '7408-OFWXJ', '6164-HXUGH', '3199-NPKCN', '3198-VELRD', '9108-EQPNQ', '4389-UEFCZ', '6968-MHOMU', '5597-GLBUC', '7590-VHVEG', '1852-XEMDW', '6119-SPUDB', '8073-IJDCM', '0428-AXXLJ', '4098-NAUKP', '0014-BMAQU', '9470-YFUYI', '2568-OIADY', '2673-ZALNP', '7446-SFAOA', '2954-PIBKO', '9184-GALIL', '9889-TMAHG', '1689-MRZQR', '6211-WHMYA', '9800-OUIGR', '5442-XSDCW', '7563-BIUPC', '9412-ARGBX', '4635-EJYPD', '9924-JPRMC', '4282-ACRXS', '6322-PJJDJ', '0115-TFERT', '8565-HBFNN', '2812-ENYMO', '8350-NYMVI', '4523-WXCEF', '5119-KEPFY', '7820-ZYGNY', '4678-DVQEO', '8879-ZKJOF', '3118-UHVVQ', '2274-XUATA', '2282-YGNOR', '5828-DWPIL', '1120-BMWUB', '2105-PHWON', '0320-JDNQG', '2984-RGEYA', '8815-LMFLX', '4647-MUZON', '3374-PZLXD', '4936-YPJNK', '2284-VFLKH', '9564-KCLHR', '9323-HGFWY', '6032-KRXXO', '3733-UOCWF', '8626-PTQGE', '7130-YXBRO', '1184-PJVDB', '7450-NWRTR', '3572-UOLYZ', '0337-CNPZE', '4826-DXMUP', '2038-YSEZE', '3078-ZKNTS', '8229-TNIQA', '8050-DVOJX', '4191-XOVOM', '3740-RLMVT', '9670-BPNXF', '3445-HXXGF', '5215-LNLDJ', '6648-INWPS', '7508-DQAKK', '9477-LGWQI', '7049-GKVZY', '8840-DQLGN', '7218-HKQFK', '9490-DFPMD', '6625-UTXEW', '5301-GAUUY', '6933-FHBZC', '3470-OBUET', '7858-GTZSP', '5577-OTWWW', '3813-DHBBB', '0708-SJDIS', '9795-VOWON', '5130-YPIRV', '0939-YAPAF', '5125-CNDSP', '8608-OZTLB', '6625-IUTTT', '9661-MHUMO', '4892-VLANZ', '6849-OYAMU', '0348-SDKOL', '6048-UWKAL', '8400-WZICQ', '6542-LWGXJ', '8705-WZCYL', '8218-FFJDS', '9408-HRXRK', '3714-JTVOV', '2049-BAFNW', '0533-UCAAU', '0447-BEMNG', '0330-IVZHA', '1195-OIYEJ', '7629-WIXZF', '0305-SQECB', '0541-FITGH', '0206-OYVOC', '6923-AQONU', '2720-FVBQP', '8337-UPOAQ', '2862-JVEOY', '7503-QQRVF', '4902-OHLSK', '0841-NULXI', '9153-BTBVV', '2000-DHJUY', '5811-IWXYM', '0384-LPITE', '1682-VCOIO', '5049-MUBWG', '8644-XLFBW', '8903-XEBGX', '6305-YLBMM', '7312-XSBAT', '9776-OJUZI', '3096-GKWEB', '8701-DGLVH', '1986-PHGZF', '7452-FOLON', '2832-SCUCO', '7789-HKSBS', '9659-ZTWSM', '2205-LPVGL', '4009-ALQFH', '6203-HBZPA', '3717-OEAUQ', '3932-CMDTD', '7781-HVGMK', '2037-XJFUP', '0468-YRPXN', '4632-PAOYU', '6728-DKUCO', '1069-QJOEE', '3675-EQOZA', '7982-VCELR', '8510-TMWYB', '3987-KQDDU', '5343-SGUBI', '6047-SUHPR', '5777-ZPQNC', '8181-YHCMF', '9576-SYUHJ', '6137-NICCO', '2335-GSODA', '1025-FALIX', '0191-EQUUH', '1194-HVAIF', '1899-VXWXM', '7845-URHJN', '3727-OWVYD', '0655-RBDUG', '2240-HSJQD', '6339-TBELP', '7410-YTJIK', '5804-HYIEZ', '3014-WJKSM', '2277-DJJDL', '7426-GSWPO', '9495-SKLKD', '5419-JPRRN', '1047-NNCBF', '3756-VNWDH', '4355-HBJHH', '1465-WCZVT', '0112-QWPNC', '3785-NRHYR', '6519-CFDBX', '3845-FXCYS', '9117-SHLZX', '5399-ZIMKF', '1964-SVLEA', '0784-ZQJZX', '8096-LOIST', '5729-KLZAR', '6286-SUUWT', '2528-HFYZX', '1393-IMKZG', '4000-VGMQP', '7815-PDTHL', '8436-BJUMM', '6982-UQZLY', '4226-KKDON', '3566-CAAYU', '9754-CLVZW', '2882-DDZPG', '5172-RKOCB', '7399-QHBJS', '1623-NLDOT', '7733-UDMTP', '4723-BEGSG', '3400-ESFUW', '9593-CVZKR', '2080-CAZNM', '1622-HSHSF', '3308-DGHKL', '7921-BEPCI', '3050-GBUSH', '6479-OAUSD', '9546-KDTRB', '0824-VWDPO', '2868-SNELZ', '8118-LSUEL', '4682-BLBUC', '4429-WYGFR', '0559-CKHUS', '3898-BSJYF', '6048-NJXHX', '2560-PPCHE', '2242-MFOTG', '9474-PHLYD', '3870-MQAMG', '2933-FILNV', '5821-MMEIL', '2361-UPSND', '9174-FKWZE', '6719-FGEDO', '0867-LDTTC', '4859-ZSRDZ', '9828-AOQLM', '6696-YDAYZ', '4992-LTJNE', '1614-JBEBI', '3530-VWVGU', '7568-PODML', '8064-RAVOH', '9668-PUGNU', '5474-LAMUQ', '6051-PTVNS', '5294-CDGWY', '4343-EJVQB', '5804-LEPIM', '1907-YLNYW', '8434-VGEQQ', '1051-EQPZR', '5331-RGMTT', '4829-ZLJTK', '5857-XRECV', '6974-DAFLI', '7354-OIJLX', '7255-SSFBC', '9244-ZVAPM', '9073-ZZIAY', '3486-NPGST', '6286-ZHAOK', '3638-WEABW', '8711-LOBKY', '1409-PHXTF', '3050-RLLXC', '6980-CDGFC', '0665-XHDJU', '3780-YVMFA', '3489-VSFRD', '0909-SDHNU', '1237-WIYYZ', '2400-FEQME', '7175-NTIXE', '3021-VLNRJ', '2408-TZMJL', '3556-BVQGL', '1385-TQOZW', '9028-LIHRP', '9972-VAFJJ', '2135-RXIHG', '4489-SNOJF', '2506-CLAKW', '3914-FDRHP', '8631-WUXGY', '5171-EPLKN', '7608-RGIRO', '4785-NKHCX', '3705-RHRFR', '9318-NKNFC', '8992-OBVDG', '5955-EPOAZ', '4378-MYPGO', '6434-TTGJP', '3724-UCSHY', '1113-IUJYX', '6583-SZVGP', '9473-CBZOP', '2798-NYLMZ', '3086-RUCRN', '5201-USSQZ', '2262-SLNVK', '9957-YODKZ', '0404-SWRVG', '2250-IVBWA', '6356-ELRKD', '6114-TCFID', '5921-NGYRH', '3192-NQECA', '4547-KQRTM', '8714-CTZJW', '4855-SNKMY', '3617-XLSGQ', '9495-REDIY', '9479-HYNYL', '3269-ATYWD', '3043-SUDUA', '9541-PWTWO', '2342-CKIAO', '0750-EKNGL', '5566-SOEZD', '6240-EURKS', '3066-RRJIO', '1942-OQFRW', '3005-NFMTA', '7622-FWGEW', '0409-WTMPL', '9206-GVPEQ', '6959-UWKHF', '3791-LGQCY', '2207-OBZNX', '5136-RGMZO', '9419-IPPBE', '0519-DRGTI', '5482-PLVPE', '7560-QRBXH', '0083-PIVIK', '1642-HMARX', '5906-DVAPM', '2225-ZRGSG', '4704-ERYFC', '5353-WILCI', '0422-UXFAP', '6328-ZPBGN', '2324-EFHVG', '4835-YSJMR', '9361-YNQWJ', '3541-ZNUHK', '0817-HSUSE', '9242-TKFSV', '6549-YMFAW', '8628-MFKAX', '8782-LKFPK', '8357-EQXFO', '8180-AKMJV', '1455-ESIQH', '0345-HKJVM', '4018-KJYUY', '8050-WYBND', '1596-OQSPS', '3230-JCNZS', '0654-HMSHN', '9985-MWVIX', '1122-YJBCS', '4088-YLDSU', '1228-ZLNBX', '4652-NNHNY', '7337-CINUD', '8205-OTCHB', '9424-CMPOG', '7682-AZNDK', '7571-YXDAD', '2645-QTLMB', '7382-DFJTU', '1930-QPBVZ', '2200-DSAAL', '7943-RQCHR', '6862-CQUMB', '7856-GANIL', '0550-DCXLH', '0420-TXVSG', '2045-BMBTJ', '2485-ITVKB', '9953-ZMKSM', '8624-GIOUT', '8237-ULIXL', '6202-JVYEU', '2359-KMGLI', '4654-ULTTN', '9223-UCPVT', '0508-SQWPL', '7765-LWVVH', '3173-NVMPX', '2154-KVJFF', '9746-UGFAC', '8621-MNIHH', '8785-EPNCG', '4981-FLTMF', '5167-GBFRE', '9795-NREXC', '8559-WNQZS', '6683-VLCTZ', '3540-RZJYU', '4729-XKASR', '6762-QVYJO', '5766-ZJYBB', '8205-VSLRB', '8404-GFGCZ', '3197-ARFOY', '3097-PYWXL', '6725-TPKJO', '5232-NXPAY', '0093-XWZFY', '6419-ZTTLE', '9708-HPXWZ', '6416-YJTTB', '4140-WJAWW', '0742-LAFQK', '4328-VUFWD', '6985-HAYWX', '9137-UIYPG', '8372-JUXUI', '1589-AGTLK', '8749-JMNKX', '9357-UJRUN', '0106-UGRDO', '5181-OABFK', '8329-UTMVM', '9715-WZCLW', '8393-DLHGA', '3096-IZETN', '4881-GQJTW', '4285-GYRQC', '0004-TLHLJ', '4685-ERGHK', '4897-QSUYC', '5606-AMZBO', '0866-QLSIR', '3325-FUYCG', '2669-OIDSD', '9172-JITSM', '1591-MQJTP', '0486-HECZI', '3547-LQRIK', '1496-GGSUK', '6030-REHUX', '8563-OYMQY', '9787-XVQIU', '0311-QYWSS', '6857-TKDJV', '1697-LYYYX', '7826-VVKWT', '2307-FYNNL', '5730-RIITO', '3002-WQZWT', '6341-JVQGF', '3765-JXVKY', '9053-EJUNL', '9430-FRQOC', '7032-LMBHI', '9603-OAIHC', '8709-KRDVL', '0967-BMLBD', '1301-LOPVR', '7253-UVNDW', '7743-EXURX', '3915-ODIYG', '6769-DYBQN', '7649-SIJJF', '4443-EMBNA', '2565-JSLRY', '4824-GUCBY', '2114-MGINA', '9418-RUKPH', '6177-PEVRA', '3669-OYSJI', '4480-MBMLB', '2928-HLDBA', '9518-RWHZL', '3506-OVLKD', '7892-POOKP', '8984-EYLLL', '0031-PVLZI', '7873-CVMAW', '6963-KQYQB', '7898-PDWQE', '3374-TTZTK', '5366-IJEQJ', '4293-ETKAP', '8735-IJJEG', '0254-KCJGT', '3280-MRDOF', '7649-PHJVR', '7271-AJDTL', '9752-ZNQUT', '1139-WUOAH', '9970-QBCDA', '7024-OHCCK', '7594-LZNWR', '2812-REYAT', '9146-JRIOX', '4439-JMPMT', '1904-WAJAA', '2408-WITXK', '1450-SKCVI', '7969-FFOWG', '3866-MDTUB', '1226-UDFZR', '1240-KNSEZ', '5032-USPKF', '1085-LDWAM', '7055-VKGDA', '7883-ROJOC', '4119-ZYPZY', '9086-YJYXS', '1543-LLLFT', '4501-UYKBC', '6734-JDTTV', '0603-TPMIB', '2878-RMWXY', '6586-PSJOX', '5423-BHIXO', '5642-MHDQT', '7963-GQRMY', '2005-DWQZJ', '6860-YRJZP', '7694-VLBWQ', '6728-WYQBC', '6435-SRWBJ', '4558-FANTW', '6711-VTNRE', '2519-LBNQL', '2672-DZUOY', '7396-VJUZB', '6265-FRMTQ', '8040-MNRTF', '4759-TRPLW', '2691-NZETQ', '6513-EECDB', '9114-VEPUF', '1591-XWLGB', '2978-XXSOG', '5296-PSYVW', '1360-XFJMR', '9531-NSBMR', '5052-PNLOS', '5930-GBIWP', '2692-PFYTJ', '1602-IJQQE', '9127-QRZMH', '9903-LYSAB', '1342-JPNKI', '7853-WNZSY', '7945-PRBVF', '3097-NNSPB', '3530-CRZSB', '3585-ISXZP', '3351-NQLDI', '2696-ECXKC', '7740-BTPUX', '3096-JRDSO', '8665-UTDHZ', '4398-HSCJH', '6465-GSRCL', '5844-QVTAT', '1820-TQVEV', '6789-HJBWG', '2800-VEQXM', '1028-FFNJK', '7901-IIDQV', '4753-PADAS', '5922-ABDVO', '8272-ONJLV', '5309-TAIKL', '5578-NKCXI', '3988-RQIXO', '1269-FOYWN', '6502-KUGLL', '3058-HJCUY', '4585-HETAI', '6821-JPCDC', '1323-OOEPC', '0454-OKRCT', '2368-GAKKQ', '8149-RSOUN', '1684-FLBGS', '8050-XGRVL', '5934-TSSAU', '8190-ZTQFB', '2178-PMGCJ', '5233-GEEAX', '3551-GAEGL', '4760-THGOT', '6288-CHQJB', '4763-PGDPO', '0121-SNYRK', '3108-PCCGG', '7369-TRPFD', '8313-AFGBW', '5457-COLHT', '5469-NUJUR', '3629-WEAAM', '1363-TXLSL', '6925-BAYGL', '8107-RZLNV', '4248-HCETZ', '8738-JOKAR', '5600-KTXFM', '4695-VADHF', '5183-SNMJQ', '9170-GYZJC', '7000-WCEVQ', '0471-LVHGK', '8670-MEFCP', '3891-NLXJB', '7758-UJWYS', '5868-CZJDR', '5172-MIGPM', '2725-TTRIQ', '7233-PAHHL', '0195-IESCP', '4770-QAZXN', '1769-GRUIK', '4039-PIMHX', '3814-MLAXC', '3803-KMQFW', '7503-MIOGA', '1833-TCXKK', '0104-PPXDV', '5067-DGXLL', '6522-YRBXD', '8652-YHIYU', '1094-BKOSX', '6719-OXYBR', '0757-WCUUZ', '1625-JAIIY', '6922-NCEDI', '4236-XPXAV', '2023-VQFDL', '0356-ERHVT', '4307-KTUMW', '1791-PQHBB', '9659-QEQSY', '2908-WGAXL', '5519-TEEUH', '5902-WBLSE', '8988-ECPJR', '5708-EVONK', '8548-AWOFC', '1580-BMCMR', '6061-GWWAV', '7908-QCBCA', '2957-LOLHO', '2072-ZVJJX', '6168-YBYNP', '2923-ARZLG', '4445-ZJNMU', '5876-QMYLD', '0206-TBWLC', '8201-AAXCB', '1494-EJZDW', '8309-PPCED', '4537-DKTAL', '6918-UMQCG', '4059-IIEBK', '4418-LZMSV', '4080-OGPJL', '1970-KKFWL', '7548-SEPYI', '1035-IPQPU', '5791-KAJFD', '7375-WMVMT', '8982-NHAVY', '4800-VHZKI', '6481-OGDOO', '1222-KJNZD', '1291-CUOCY', '8873-GLDMH', '3705-PSNGL', '7633-MVPUY', '8651-ENBZX', '6502-HCJTI', '8401-EMUWF', '0137-UDEUO', '7180-PISOG', '2840-XANRC', '1768-HNVGJ', '1820-DJFPH', '7878-RTCZG', '4581-LNWUM', '5919-TMRGD', '3244-DCJWY', '2676-OXPPQ', '7661-CPURM', '4647-XXZAM', '8319-QBEHW', '5993-BQHEA', '6115-ZTBFQ', '1320-HTRDR', '3594-BDSOA', '3259-QMXUN', '2235-ZGKPT', '7504-UWHNB', '7105-MXJLL', '7129-CAKJW', '2959-EEXWB', '1855-AGAWH', '1930-WNXSB', '5989-AXPUC', '6133-OZILE', '1853-UDXBW', '7511-YMXVQ', '0862-PRCBS', '8740-XLHDR', '1763-WQFUK', '2519-TWKFS', '4912-PIGUY', '9625-QSTYE', '1309-BXVOQ', '5602-BVFMK', '3345-JHUEO', '9747-DDZOS', '5982-XMDEX', '0530-IJVDB', '5315-CKEQK', '2272-QAGFO', '6172-FECYY', '2481-SBOYW', '3785-KTYSH', '5364-XYIRR', '0064-YIJGF', '3030-ZKIWL', '3685-YLCMQ', '4274-OWWYO', '8727-JQFHV', '2831-EBWRN', '7950-XWOVN', '9068-FHQHD', '5385-SUIRI', '2876-VBBBL', '1708-PBBOA', '9919-YLNNG', '2977-CEBSX', '4514-GFCFI', '5781-RFZRP', '9964-WBQDJ', '7392-YYPYJ', '7190-XHTWJ', '4423-JWZJN', '5451-MHQOF', '1173-NOEYG', '0880-TKATG', '6804-GDMOI', '8104-OSKWT', '7825-ECJRF', '5173-ZXXXL', '2324-AALNO', '6821-BUXUX', '5451-YHYPW', '4830-FAXFM', '5146-YYFRZ', '7994-XIRTR', '6959-GQEGV', '4452-QIIEB', '9453-PATOS', '1449-XQEMT', '7143-BQIBA', '3211-ILJTT', '2333-KWEWW', '7072-MBHEV', '5529-GIBVH', '6910-HADCM', '1810-MVMAI', '4580-TMHJU', '3391-JSQEW', '2202-OUTMO', '0804-XBFBV', '9577-WJVCQ', '1989-PRJHP', '3113-IWHLC', '2211-RMNHO', '2122-YWVYA', '6188-UXBBR', '1729-VLAZJ', '0813-TAXXS', '0927-CNGRH', '5562-YJQGT', '0619-OLYUR', '2322-VCZHZ', '9658-WYUFB', '5285-MVEHD', '3956-CJUST', '7802-EFKNY', '3967-KXAPS', '9480-BQJEI', '9592-ERDKV', '7595-EUIVN', '7610-TVOPG', '0788-DXBFY', '9389-ACWBI', '6827-IEAUQ', '5133-VRSAB', '7446-KQISO', '4291-TPNFG', '0570-BFQHT', '8976-OQHGT', '2782-LFZVW', '9143-CANJF', '8374-XGEJJ', '2692-AQCPF', '3707-LRWZD', '1043-UXOVO', '1845-ZLLIG', '6806-YDEUL', '4628-WQCQQ', '3754-DXMRT', '9715-SBVSU', '8577-QSOCG', '2722-JMONI', '9274-CNFMO', '9565-FLVCG', '8468-FZTOE', '9139-TWBAS', '3724-BSCVH', '6475-VHUIZ', '0419-YAAPX', '9040-KZVWO', '3570-YUEKJ', '4163-HFTUK', '6695-FRVEC', '1821-BUCWY', '8109-YUOHE', '4816-LXZYW', '5124-EOGYE', '1027-LKKQQ', '3926-YZVVX', '7120-RFMVS', '6994-KERXL', '2121-JAFOM', '0970-ETWGE', '6522-OIQSX', '2418-TPEUN', '7547-EKNFS', '7932-WPTDS', '3811-VBYBZ', '1548-ARAGG', '8619-IJNDK', '9661-ACXBS', '7250-EQKIY', '4184-TJFAN', '0064-SUDOG', '5684-FJVYR', '6413-XKKPU', '7841-FCRQD', '3161-GETRM', '8775-ERLNB', '1432-FPAXX', '5380-AFSSK', '4024-CSNBY', '0281-CNTZX', '7274-CGTOD', '7244-KXYZN', '0229-LFJAF', '6833-JMZYP', '0383-CLDDA', '2988-PLAHS', '6729-GDNGC', '6292-TOSSS', '3963-RYFNS', '1415-YFWLT', '4538-WNTMJ', '1832-PEUTS', '4378-BZYFP', '0508-OOLTO', '7927-AUXBZ', '5795-KTGUD', '0730-BGQGF', '9432-RUVSL', '3657-COGMW', '7493-TPUWZ', '4661-NJEUX', '6956-SMUCM', '8107-KNCIM', '5148-ORICT', '2346-LOCWC', '4955-VCWBI', '2692-BUCFV', '6141-OOXUQ', '3219-JQRSL', '7363-QTBIW', '9625-RZFUK', '4803-LBYPN', '1794-SWWKL', '2382-BCKQJ', '5522-NYKPB', '0412-UCCNP', '0440-MOGPM', '2107-FBPTK', '5406-KGRMX', '5951-AOFIH', '1032-MAELW', '5067-WJEUN', '0174-QRVVY', '7803-XOCCZ', '0975-UYDTX', '4657-FWVFY', '5916-QEWPT', '5655-JSMZM', '6473-ULUHT', '5914-DVBWJ', '3806-YAZOV', '3884-HCSWG', '1866-DIOQZ', '4323-OHFOW', '6892-BOGQE', '8495-PRWFH', '0396-HUJBP', '0442-TDYUO', '3873-WOSBC', '3858-VOBET', '1877-HKBQX', '4735-ASGMA', '2357-COQEK', '1343-EHPYB', '2085-BOJKI', '3308-JSGML', '4208-UFFGW', '3092-IGHWF', '2959-MJHIC', '2484-DGXPZ', '2075-RMJIK', '7752-XUSCI', '7030-FZTFM', '5260-UMPWX', '2729-VNVAP', '8605-ITULD', '0402-CQAJN', '5088-QZLRL', '7767-UXAGJ', '1230-QAJDW', '9408-SSNVZ', '5223-UZAVK', '9565-DJPIB', '4822-LPTYJ', '2664-XJZNO', '7924-GJZFI', '3677-IYRBF', '2065-MMKGR', '6349-JDHQP', '1272-ILHFG', '2650-GYRYL', '4905-JEFDW', '8467-WYNSR', '8996-ZROXE', '7901-TBKJX', '7445-WMRBW', '0733-VUNUW', '6447-GORXK', '5429-LWCMV', '4526-ZJJTM', '7666-WKRON', '3055-VTCGS', '6319-IEJWJ', '2410-CIYFZ', '1172-VIYBP', '6620-HVDUJ', '9926-PJHDQ', '8098-LLAZX', '0218-QNVAS', '0052-DCKON', '2192-OZITF', '0224-NIJLP', '3519-ZKXGG', '8659-HDIYE', '8161-QYMTT', '6968-GMKPR', '2141-RRYGO', '4976-LNFVV', '5756-OZRIO', '9444-JTXHZ', '7776-QWNFX', '9565-AXSMR', '0239-OXEXL', '5313-FPXWG', '7868-TMWMZ', '5372-FBKBN', '2749-CTKAJ', '9572-MTILT', '9250-WYPLL', '0459-SPZHJ', '8006-PYCSW', '5150-LJNSR', '5103-MHMHY', '2995-YWTCD', '5173-WXOQV', '8318-LCNBW', '2722-VOJQL', '3874-EQOEP', '5652-MSDEY', '3645-DEYGF', '8679-JOEVF', '0907-HQNTS', '1216-JWVUX', '5982-FPVQN', '4908-XAXAY', '6171-ZTVYB', '7162-WPHPM', '0956-ACVZC', '7164-BPTUT', '7134-HBPBS', '0661-KQHNK', '4311-QTTAI', '5445-PZWGX', '6671-NGWON', '9385-EHGDO', '7776-QGYJC', '7343-EOBEU', '4923-ADWXJ', '3985-HOYPM', '3916-NRPAP', '6207-WIOLX', '7641-EUYET', '9298-WGMRW', '7018-FPXHH', '6772-WFQRD', '3190-FZATL', '5671-UUNXD', '6549-NNDYT', '9508-ILZDG', '5886-VLQVU', '2688-BHGOG', '3352-ALMCK', '7249-WBIYX', '2676-SSLTO', '6086-ESGRL', '7351-MHQVU', '3736-BLEPA', '2790-XUYMV', '3642-GKTCT', '3801-HMYNL', '2667-WYLWJ', '6235-VDHOM', '6137-MFAJN', '8221-HVAYI', '8990-ZXLSU', '6478-HRRCZ', '3190-ITQXP', '7426-RHZGU', '9862-KJTYK', '6067-NGCEU', '2068-WWXQZ', '2055-PDADH', '8080-POTJR', '4237-CLSMM', '7421-ZLUPA', '8722-NGNBH', '7562-GSUHK', '7989-CHGTL', '3871-IKPYH', '8980-WQFWL', '2479-BRAMR', '0897-FEGMU', '9786-YWNHU', '1567-DSCIC', '0567-GGCAC', '8904-OPDCK', '0562-KBDVM', '0415-MOSGF', '7502-BNYGS', '1131-QQZEB', '0608-JDVEC', '6439-GTPCA', '2632-UCGVD', '8129-GMVGI', '6695-AMZUF', '3146-MSEGF', '2077-DDHJK', '4815-YOSUK', '4826-XTSOH', '6370-ZVHDV', '7285-KLOTR', '0848-SOMKO', '1448-PWKYE', '0207-MDKNV', '9254-RBFON', '1402-PTHGN', '2740-JFBOK', '1226-JZNKR', '4043-MKDTV', '6317-YPKDH', '2040-OBMLJ', '0191-ZHSKZ', '2533-QVMSK', '6941-KXRRV', '7088-FBAWU', '9107-UKCKY', '5208-HFSBT', '5014-GSOUQ', '9239-GZHZE', '7750-EYXWZ', '7317-GGVPB', '8204-TIFGJ', '0365-TRTPY', '7576-JMYWV', '0374-IOEGQ', '2560-WBWXF', '3340-QBBFM', '6410-LEFEN', '6615-NGGZJ', '9529-OFXHY', '9833-TGFHX', '4994-OBRSZ', '2888-ADFAO', '9360-AHGNL', '9853-JFZDU', '1591-NFNLQ', '8200-LGKSR', '3594-UVONA', '2530-FMFXO', '8033-ATFAS', '9975-GPKZU', '8634-CILSZ', '5949-EBSQK', '4612-THJBS', '5574-NXZIU', '2428-HYUNX', '3282-ZISZV', '1757-TCATG', '6221-AVQYL', '0599-XNYDO', '1552-CZCLL', '7402-EYFXX', '2398-YPMUR', '8676-OOQEJ', '2669-QVCRG', '3845-JHAMY', '4537-CIBHB', '8046-DNVTL', '7278-CKDNC', '2545-EBUPK', '5647-URDKA', '5781-BKHOP', '0298-XACET', '0843-WTBXE', '8198-RKSZG', '8286-AFUYI', '2293-IJWPS', '3470-BTGQO', '9830-ECLEN', '2746-DIJLO', '3620-EHIMZ', '1135-HIORI', '1492-QGCLU', '9717-QEBGU', '6061-PQHMK', '9127-FHJBZ', '8894-JVDCV', '8979-CAMGB', '2777-PHDEI', '7105-BENQF', '1010-DIAUQ', '4883-QICIH', '2085-JVGAD', '1751-NCDLI', '9522-BNTHX', '3733-LSYCE', '3049-SOLAY', '0975-VOOVL', '3927-NLNRY', '5837-LXSDN', '3771-PZOBW', '0336-PIKEI', '4778-IZARL', '6082-GLJIX', '4484-CGXFK', '6345-ULYRW', '3896-RCYYE', '3454-JFUBC', '9367-OIUXP', '6124-ACRHJ', '7228-PAQPD', '2302-ANTDP', '4188-PCPIG', '3766-EJLFL', '2233-FAGXV', '1792-UXAFY', '5681-LLOEI', '6549-BTYPG', '1480-BKXGA', '3468-DRVQJ', '0148-DCDOS', '3307-TLCUD', '2055-SIFSS', '2137-DQMEV', '4881-JVQOD', '3800-LYTRK', '9700-ISPUP', '0667-NSRGI', '3082-WQRVY', '0401-WDBXM', '2933-XEUJM', '9820-RMCQV', '6352-GIGGQ', '3946-JEWRQ', '2599-CIPQE', '2002-MZHWP', '3507-GASNP', '5590-ZSKRV', '4007-NHVHI', '9367-WXLCH', '7206-PQBBZ', '1053-MXTTK', '3999-WRNGR', '7240-FQLHE', '9507-HSMMZ', '9220-ZNKJI', '5192-EBGOV', '7851-FLGGQ', '6848-HJTXY', '2096-XOTMO', '0678-RLHVP', '1345-GKDZZ', '9878-TNQGW', '0147-ESWWR', '3842-IYKUE', '7587-AOVVU', '3214-IYUUQ', '1552-AAGRX', '6388-TABGU', '8640-SDGKB', '1309-XGFSN', '6158-DWPZT', '7434-SHXLS', '9309-BZGNT', '2988-GBIVW', '8513-OLYGY', '9763-PDTKK', '5193-QLVZB', '5175-AOBHI', '5043-TRZWM', '6402-SSEJG', '5802-ADBRC', '7636-OWBPG', '2181-TIDSV', '7669-LCRSD', '4250-ZBWLV', '2344-JMOGN', '1116-DXXDF', '5989-OMNJE', '3034-ZBEQN', '6424-ELEYH', '3144-AUDBS', '8755-IWJHN', '7542-CYDDM', '3261-CQXOL', '7995-ZHHNZ', '6865-JZNKO', '9300-AGZNL', '3317-VLGQT', '3230-IUALN', '6204-IEUXJ', '3982-DQLUS', '8331-ZXFOE', '6152-ONASV', '7567-ECMCM', '9681-KYGYB', '3158-MOERK', '9847-HNVGP', '3129-AAQOU', '9306-CPCBC', '9337-SRRNI', '3795-GWTRD', '0670-ANMUU', '2081-VEYEH', '3889-VWBID', '8309-IEYJD', '9129-UXERG', '7603-USHJS', '1660-HSOOQ', '4896-CPRPF', '4626-OZDTJ', '3489-HHPFY', '4194-FJARJ', '2522-WLNSF', '4115-UMJFQ', '8908-NMQTX', '5057-RKGLH', '9958-MEKUC', '6907-NZZIJ', '8314-DPQHL', '7710-JSYOA', '2839-RFSQE', '2074-GKOWZ', '1950-KSVVJ', '9880-TDQAC', '8547-NSBBO', '7579-KKLOE', '0016-QLJIS', '7296-PIXQY', '5993-JSUWV', '5980-NOPLP', '0565-JUPYD', '5515-AKOAJ', '8169-SAEJD', '1559-DTODC', '5651-CPDND', '5510-BOIUJ', '9743-DQKQW', '4581-SSPWD', '0947-MUGVO', '3890-RTCMS', '1530-ZTDOZ', '8898-KASCD', '5393-HJZSM', '2478-EEWWM', '0913-XWSCN', '8069-RHUXK', '4980-URKXC', '8450-UYIBU', '3452-SRFEG', '7683-CBDKJ', '4962-CHQPW', '9443-JUBUO', '4553-DVPZG', '7695-PKLCZ', '6351-SCJKT', '0244-LGNFY', '9626-VFRGG', '9362-MWODR', '3370-GQEAL', '3055-OYMSE', '5073-RZGBK', '2360-RDGRO', '5346-BZCHP', '9297-FVVDH', '3779-OSWCF', '7182-OVLBJ', '7876-DNYAP', '1207-BLKSA', '0020-JDNXP', '6161-ERDGD', '8519-IMDHU', '9506-UXUSK', '3133-PZNSR', '2703-AMTUL', '5153-RTHKF', '2254-DLXRI', '8734-FNWVH', '1336-EZFZY', '3744-ZBHON', '7707-PYBBH', '0936-NQLJU', '4712-UYOOI', '8097-OMULG', '7929-DMBCV', '3442-ZHHCC', '1229-RCALF', '0058-EVZWM', '8138-EALND', '1038-ZAGBI', '4482-EWFMI', '0201-MIBOL', '9821-BESNZ', '4116-IQRFR', '7047-FWEYA', '6576-FBXOJ', '8645-KOMJQ', '3223-WZWJM', '3717-FDJFU', '4973-RLZVI', '9360-OMDZZ', '2984-AFWNC', '4039-HEUNW', '4374-YMUSQ', '1518-VOWAV', '1087-GRUYI', '3130-ICDUP', '3714-XPXBW', '2892-GESUL', '2123-VSCOT', '1023-BQXZE', '6145-NNPNO', '5734-EJKXG', '0988-JRWWP', '1447-GIQMR', '1104-TNLZA', '9087-EYCPR', '0023-UYUPN', '3933-DQPWX', '6156-UZDLF', '8728-SKJLR', '3815-SLMEF', '0356-OBMAC', '0827-ITJPH', '1641-RQDAY', '4062-HBMOS', '2826-DXLQO', '0969-RGKCU', '1980-KXVPM', '0021-IKXGC', '3404-JNXAX', '3466-BYAVD', '0347-UBKUZ', '6834-NXDCA', '6457-GIRWB', '9412-GHEEC', '1767-CJKBA', '1163-ONYEY', '2126-GSEGL', '2403-BCASL', '5404-GGUKR', '6900-RBKER', '7314-OXENN', '6198-ZFIOJ', '6330-JKLPC', '1329-VHWNP', '3334-CTHOL', '8184-WMOFI', '7537-RBWEA', '4146-SVFUD', '8337-MSSXB', '0943-ZQPXH', '0320-DWVTU', '2100-BDNSN', '1728-BQDMA', '5846-ABOBJ', '7113-HIPFI', '1534-OULXE', '3077-RSNTJ', '6345-HOVES', '9646-NMHXE', '3279-DYZQM', '1755-RMCXH', '5243-SAOTC', '5549-ZGHFB', '7572-KPVKK', '1569-TTNYJ', '5572-ZDXHY', '2460-FPSYH', '3030-YZADT', '2990-OGYTD', '1925-GMVBW', '6969-MVBAI', '5248-YGIJN', '6556-DBKZF', '4468-YDOVK', '5740-YHGTW', '8098-TDCBU', '2804-ETQDK', '2968-SSGAA', '4020-KIUDI', '5154-VEKBL', '1306-RPWXZ', '6629-LADHQ', '8606-CIQUL', '0867-MKZVY', '5940-NFXKV', '9782-LGXMC', '4430-YHXGG', '2133-TSRRM', '9777-WJJPR', '6762-NSODU', '5996-NRVXR', '8510-AWCXC', '3007-FDPEA', '9046-JBFWA', '2243-FNMMI', '0318-ZOPWS', '0781-LKXBR', '6257-DTAYD', '4361-JEIVL', '6905-NIQIN', '4940-KHCWD', '1430-SFQSA', '7005-CCBKV', '4821-SJHJV', '4641-FROLU', '8158-WPEZG', '0486-LGCCH', '3712-PKXZA', '1407-DIGZV', '5698-BQJOH', '6227-FBDXH', '9237-HQITU', '8646-JCOMS', '6339-DKLMK', '6953-PBDIN', '3635-JBPSG', '2809-ZMYOQ', '0214-JHPFW', '2061-VVFST', '6122-LJADA', '8687-BAFGU', '8746-OQQRW', '5759-RCVCB', '3612-YVGSJ', '5174-ITUMV', '6408-WHTEF', '1635-NZATJ', '0970-QXPXW', '5701-ZIKJE', '1194-BHJYC', '1333-PBMXB', '6745-JEFZB', '2256-YLYLP', '4462-CYWMH', '4342-HENTK', '3877-JRJIP', '8384-FZBJK', '8165-CBKXO', '1328-EUZHC', '0722-TROQR', '3776-EKTKM', '2697-NQBPF', '3777-XROBG', '1293-HHSHJ', '8160-HOWOX', '7554-AKDQF', '3473-XIIIT', '4118-CEVPF', '3656-TKRVZ', '1029-QFBEN', '0634-SZPQA', '9057-MSWCO', '8263-QMNTJ', '0725-CXOTM', '9488-HGMJH', '6010-DDPPW', '8648-PFRMP', '4199-QHJNM', '5240-IJOQT', '3070-DVEYC', '1397-XKKWR', '0754-EEBDC', '9348-ROUAI', '1612-EOHDH', '2972-YDYUW', '5095-ETBRJ', '2946-KIQSP', '7658-UYUQS', '0030-FNXPP', '7979-CORPM', '3331-HQDTW', '7980-MHFLQ', '5387-ASZNZ', '5843-TTHGI', '4597-ELFTS', '7251-LJBQN', '2495-TTHBQ', '1200-TUZHR', '1121-QSIVB', '6923-JHPMP', '7107-UBYKY', '9030-QGZNL', '8035-PWSEV', '4636-JGAAI', '7657-DYEPJ', '4534-WGCIR', '7033-CLAMM', '5134-IKDAY', '5813-UECBU', '3722-WPXTK', '6532-YLWSI', '0056-EPFBG', '7173-TETGO', '7903-CMPEY', '9174-IHETN', '2073-QBVBI', '8805-JNRAZ', '6502-MJQAE', '7188-CBBBA', '6481-ESCNL', '8631-XVRZL', '2450-ZKEED', '5060-TQUQN', '7727-SHVZV', '5599-HVLTW', '9798-DRYDS', '9867-JCZSP', '2740-TVLFN', '3585-YNADK', '5271-DBYSJ', '0772-GYEQQ', '6064-PUPMC', '2223-KAGMX', '4939-KYYPY', '7351-KYHQH', '8699-ASUFO', '6543-JXSOO', '0505-SPOOW', '5018-HEKFO', '6791-YBNAK', '1895-QTKDO', '6624-JDRDS', '5937-EORGB', '9948-YPTDG', '8191-XWSZG', '9227-YBAXE', '8474-UMLNT', '2560-QTSBS', '5495-GPSRW', '8189-XRIKE', '1222-LRYKO', '5676-CFLYY', '7964-YESJC', '4636-QRJKY', '2378-VTKDH', '7821-DPRQE', '6688-UZPWD', '3696-XRIEN', '2990-HWIML', '1442-BQPVU', '6650-VJONK', '1518-OMDIK', '0495-RVCBF', '1779-PWPMG', '4660-IRIBM', '2725-KXXWT', '6518-PPLMZ', '5520-FVEWJ', '8966-KZXXA', '4915-BFSXL', '4513-CXYIX', '7330-WZLNC', '8473-VUVJN', '2075-PUEPR', '6653-CBBOM', '5183-KLYEM', '9497-QCMMS', '8985-OOPOS', '5458-CQJTA', '9848-JQJTX', '5136-KCKGI', '9894-QMIMJ', '1785-BPHTP', '7295-JOMMD', '2955-PSXOE', '3797-FKOGQ', '9281-CEDRU', '7674-YTAFD', '2160-GPFXD', '9867-XOBQA', '9090-SGQXL', '9885-CSMWE', '6064-ZATLR', '8708-XPXHZ', '8909-BOLNL', '7764-BDPEE', '2430-RRYUW', '4504-YOULA', '1262-OPMFY', '5149-TGWDZ', '2863-IMQDR', '9644-KVCNC', '9609-BENEA', '8144-DGHXP', '4903-UYAVB', '0811-GSDTP', '5167-ZFFMM', '2024-BASKD', '0623-IIHUG', '4472-VESGY', '1236-WFCDV', '2263-SFSQZ', '6810-VCAEX', '3506-LCJDC', '7159-NOKYQ', '3067-SVMTC', '9739-JLPQJ', '4054-CUMIA', '6440-DKQGE', '6765-MBQNU', '4432-ADRLB', '2054-PJOCK', '5044-XDPYX', '5871-DGTXZ', '9741-YLNTD', '4931-TRZWN', '2984-TBYKU', '3719-TDVQB', '7311-MQJCH', '3836-FZSDJ', '4587-NUKOX', '3298-QEICA', '8260-NGFNY', '7495-OOKFY', '1501-SGHBW', '3682-YEUWS', '0691-IFBQW', '7876-AEHIG', '0927-LCSMG', '5647-FXOTP', '3428-MMGUB', '7010-ZMVBF', '6231-WFGFH', '1414-YADCW', '1020-JPQOW', '3082-YVEKW', '5550-VFRLC', '1400-WIVLL', '2294-SALNE', '7321-VGNKU', '8591-TKMZH', '5536-RTPWK', '4139-JPIAM', '3533-UVMOM', '1153-GNOLC', '5198-EFNBM', '0743-HNPFG', '8205-MQUGY', '1541-ETJZO', '7564-GHCVB', '6778-EICRF', '8544-GOQSH', '7636-XUHWW', '6845-RGTYS', '2615-YVMYX', '6772-KSATR', '8294-UIMBA', '9530-GRMJG', '2364-UFROM', '0117-LFRMW', '8133-ANHHJ', '7969-AULMZ', '7245-JMTTQ', '2792-LSHWX', '6680-NENYN', '3217-FZDMN', '4770-UEZOX', '7136-RVDTZ', '4123-FCVCB', '0988-AADSA', '6770-UAYGJ', '5692-FPTAH', '1116-FRYVH', '4223-BKEOR', '9888-ZCUMM', '6906-ANDWJ', '8563-IIOXK', '6008-NAIXK', '5555-RNPGT', '7729-XBTWX', '0685-MLYYM', '0221-NAUXK', '2931-VUVJN', '7147-AYBAA', '9955-QOPOY', '1142-WACZW', '7501-IWUNG', '5349-IECLD', '8397-MVTAZ', '2675-DHUTR', '2604-XVDAM', '3070-BDOQC', '1976-CFOCS', '2732-ISEZX', '2805-AUFQN', '3780-DDGSE', '8580-AECUZ', '8215-NGSPE', '1335-NTIUC', '4919-IKATY', '8042-RNLKO', '5442-PPTJY', '5542-NKVRU', '2848-YXSMW', '8705-DWKTI', '1991-VOPLL', '4291-SHSBH', '5616-PRTNT', '8092-NLTGF', '8885-QSQBX', '4686-UXDML', '2446-BEGGB', '5440-VHLUL', '8390-FESFV', '4324-AHJKS', '0575-CUQOV', '2636-SJDOU', '9282-IZGQK', '8267-ZNYVZ', '4193-IBKSW', '0565-IYCGT', '0002-ORFBO', '5322-TEUJK', '7839-NUIAA', '5590-YRFJT', '7018-WBJNK', '1383-EZRWL', '1396-QWFBJ', '6878-GGDWG', '8016-NCFVO', '0895-DQHEW', '0708-LGSMF', '3327-YBAKM', '0410-IPFTY', '9620-ENEJV', '1096-ADRUX', '3859-CVCET', '1958-RNRKS', '4797-AXPXK', '4176-FXYBO', '0687-ZVTHB', '2737-WFVYW', '3774-VBNXY', '5570-PTWEH', '9068-VPWQQ', '5136-GFPMB', '4868-AADLV', '3486-KHMLI', '6352-TWCAU', '6100-FJZDG', '1689-YQBYY', '7611-YKYTC', '4026-SKKHW', '2122-SZZZD', '3197-NNYNB', '3941-XTSKM', '6701-YVNQG', '3945-GFWQL', '9097-ZUBYC', '8750-QWZAJ', '8647-SDTWQ', '9822-WMWVG', '2794-XIMMO', '6551-GNYDG', '4822-YCXMX', '4254-QPEDE', '5688-KZTSN', '6435-VWCCY', '8884-ADFVN', '1456-TWCGB', '7056-IMHCC', '2252-ISRNH', '1215-FIGMP', '2623-DRYAM', '0362-RAOQO', '0612-RTZZA', '9367-TCUYN', '6323-AYBRX', '2718-GAXQD', '5546-QUERU', '5687-DKDTV', '1187-WILMM', '1661-CZBAU', '4565-NLZBV', '2592-YKDIF', '8879-XUAHX', '0325-XBFAC', '0123-CRBRT', '1784-BXEFA', '4654-GGUII', '2446-PLQVO', '4853-OITSN', '8457-XIGKN', '9585-KKMFD', '1685-BQULA', '7471-WNSUF', '2433-KMEAS', '3528-HFRIQ', '5928-QLDHB', '6583-KQJLK', '9465-RWMXL', '2789-HQBOU', '3428-XZMAZ', '5389-FFVKB', '8270-RKSAP', '6680-WKXRZ', '8752-STIVR', '2012-NWRPA', '2220-IAHLS', '8739-WWKDU', '6022-KOUQO', '7893-IXHRQ', '9814-AOUDH', '8734-DKSTZ', '1552-TKMXS', '7361-YPXFS', '7284-BUYEC', '4815-TUMEQ', '9411-TPQQV', '5176-LDKUH', '8465-SBRXP', '7670-ZBPOQ', '4807-IZYOZ', '2931-FSOHN', '7169-YWAMK', '8552-OBVRU', '8450-JOVAH', '4951-UKAAQ', '8809-XKHMD', '9530-EHPOH', '3315-TOTBP', '0374-AACSZ', '3896-ZVNET', '8610-ZIKJJ', '6097-EQISJ', '5062-CJJKH', '3016-KSVCP', '6741-EGCBI', '6990-YNRIO', '6651-RLGGM', '2573-GYRUU', '9026-RNUJS', '4488-PSYCG', '1090-ESELR', '1213-NGCUN', '2821-WARNZ', '4942-VZZOM', '9494-MRNYX', '8329-IBCTI', '8690-ZVLCL', '8590-YFFQO', '6828-HMKWP', '6859-QNXIQ', '3393-FMZPV', '7923-IYJWY', '1353-GHZOS', '4213-HKBJO', '5119-NZPTV', '7293-LSCDV', '6333-YDVLT', '4349-GFQHK', '1760-CAZHT', '5130-IEKQT', '1731-TVIUK', '6140-QNRQQ', '0611-DFXKO', '9921-EZKBY', '4833-QTJNO', '0829-DDVLK', '4012-YCFAI', '0362-ZBZWJ', '3810-DVDQQ', '2754-VDLTR', '9039-ZVJDC', '3061-BCKYI', '6082-OQFBA', '2860-RANUS', '4425-OWHWB', '0384-RVBPI', '1349-WXNGG', '9317-WZPGV', '4086-YQSNZ', '0141-YEAYS', '9695-IDRZR', '8868-GAGIO', '5327-CNLUQ', '0979-MOZQI', '9261-WDCAF', '0397-ZXWQF', '5075-JSDKI', '2252-JHJGE', '8510-BBWMU', '0946-FKYTX', '0512-FLFDW', '9094-AZPHK', '9330-IJWIO', '0022-TCJCI', '8975-SKGRX', '2809-ILCYT', '6260-ONULR', '0256-LTHVJ', '0731-EBJQB', '8775-LHDJH', '0428-IKYCP', '4795-UXVCJ', '9912-GVSEQ', '1845-CSBRZ', '7268-WNTCP', '9199-PWQVC', '6702-OHFWR', '0096-FCPUF', '0697-ZMSWS', '1803-BGNBD', '8990-YOZLV', '9347-AERRL', '3569-JFODW', '8217-QYOHV', '3251-YMVWZ', '2034-GDRCN', '6080-LNESI', '2057-BOYKM', '7139-JZFVG', '0822-GAVAP', '2495-KZNFB', '7225-CBZPL', '5605-XNWEN', '3727-RJMEO', '2799-ARNLO', '6900-PXRMS', '2587-EKXTS', '4396-KLSEH', '3178-CIFOT', '4706-DGAHW', '4231-LZUYM', '4967-WPNCF', '4612-SSVHJ', '2983-ZANRP', '1587-FKLZB', '2017-CCBLH', '4947-DSMXK', '8901-UPRHR', '7321-PKUYW', '5716-LIBJC', '6032-IGALN', '5482-NUPNA', '1866-OBPNR', '2030-BTZRO', '3737-XBQDD', '6563-VRERX', '9795-SHUHB', '4522-AKYLR', '6899-PPEEA', '9819-FBNSV', '4468-KAZHE', '5219-YIPTK', '6348-SNFUS', '9397-TZSHA', '2962-XPMCQ', '8999-EXMNO', '0336-KXKFK', '3669-WHAFY', '3348-CFRNX', '7073-QETQY', '9052-DHNKM', '5006-MXVRN', '2971-SGAFL', '2609-IAICY', '8276-MQBYC', '3966-HRMZA', '3855-ONCAR', '1074-AMIOH', '9229-RQABD', '9190-MFJLN', '2180-DXNEG', '7740-KKCXF', '9470-XCCEM', '2454-RPBRZ', '6869-FGJJC', '0222-CNVPT', '5504-WSIUR', '4312-KFRXN', '1834-ABKHQ', '2189-WWOEW', '1049-FYSYG', '1173-XZPYF', '6185-TASNN', '1013-QCWAM', '8111-BKVDS', '2486-WYVVE', '8642-GVWRF', '4690-LLKUA', '1226-IENZN', '0074-HDKDG', '4720-VSTSI', '0420-HLGXF', '4128-ETESU', '1771-OADNZ', '9921-ZVRHG', '8573-CGOCC', '3498-LZGQZ', '7619-PLRLP', '5857-TYBCJ', '9950-MTGYX', '0327-WFZSY', '8672-OAUPW', '2451-YMUXS', '0406-BPDVR', '9705-IOVQQ', '9701-CDXHR', '2439-LYPMQ', '5090-EMGTC', '9339-FIIJL', '8645-KWHJO', '1498-DQNRX', '7665-TOALD', '0958-YHXGP', '5016-ETTFF', '7379-POKDZ', '8807-OPMBM', '7126-RBHSD', '2642-DTVCO', '0921-OHLVP', '6727-IOTLZ', '9150-KPBJQ', '4627-MIHJH', '2325-ZUSFD', '4565-EVZMJ', '5481-NTDOH', '1837-YQUCE', '7598-UAASY', '4625-EWPTF', '4250-FDVOU', '3313-QKNKB', '3908-MKIMJ', '3196-NVXLZ', '3727-JEZTU', '1352-HNSAW', '5127-BZENZ', '1066-JKSGK', '7580-UGXNC', '1897-RCFUM', '4592-IWTJI', '4800-CZMPC', '9499-XPZXM', '5271-YNWVR', '5468-BPMMO', '1403-LKLIK', '1448-CYWKC', '7203-OYKCT', '4906-ZHGPK', '8946-BFWSG', '5046-NUHWD', '3703-VAVCL', '5651-YLPRD', '4385-GZQXV', '7672-VFMXZ', '5377-NDTOU', '3170-NMYVV', '8022-BECSI', '8089-UZWLX', '3590-TCXTB', '3807-BPOMJ', '1597-FZREH', '1455-HFBXA', '5386-THSLQ', '1092-GANHU', '6979-TNDEU', '5141-ZUVBH', '1475-VWVDO', '4312-GVYNH', '9334-GWGOW', '2546-KZAAT', '3221-CJMSG', '4832-VRBMR', '8792-AOROI', '4547-FZJWE', '2300-RQGOI', '9055-MOJJJ', '8229-BUJHX', '0219-QAERP', '5884-FBCTL', '6928-ONTRW', '2501-XWWTZ', '2979-SXESE', '9631-XEYKE', '6142-VSJQO', '3005-TYFRD', '6797-LNAQX', '2815-CPTUL', '9776-CLUJA', '7762-URZQH', '1626-ERCMM', '1574-DYCWE', '3090-QFUVD', '5317-FLPJF', '6345-FZOQH', '0707-HOVVN', '7581-EBBOU', '5561-NWEVX', '3401-URHDA', '0749-IRGQE', '9788-YTFGE', '6892-XPFPU', '1258-YMZNM', '5787-KXGIY', '9081-WWXKP', '0661-WCQNQ', '5753-QQWPW', '6169-PGNCD', '8992-VONJD', '6629-CZTTH', '7730-IUTDZ', '9448-REEVD', '4138-NAXED', '1707-HABPF', '0516-OOHAR', '6016-LVTJQ', '5397-NSKQG', '4369-NYSCF', '0684-AOSIH', '9112-WSNPU', '5287-QWLKY', '0523-VNGTF', '0374-FIUCA', '9351-LZYGF', '4139-DETXS', '7881-INRLC', '4640-UHDOS', '8185-UPYBR', '6686-YPGHK', '8782-NUUOL', '9972-EWRJS', '5639-NTUPK', '1265-XTECC', '9971-ZWPBF', '7634-WSWDB', '8780-IXSTS', '7067-KSAZT', '7641-TQFHN', '4080-IIARD', '1656-DRSMG', '3372-KWFBM', '2690-DVRVK', '4143-OOBWZ', '9214-EKVXR', '8071-SBTRN', '5649-TJHOV', '2070-XYMFH', '0420-BWTPW', '1347-KTTTA', '4077-HWUYD', '5077-DXTCG', '5650-VDUDS', '4404-HIBDJ', '1550-LOAHA', '7526-BEZQB', '7398-HPYZQ', '7872-RDDLZ', '8242-JSVBO', '8824-RWFXJ', '8571-ZCMCX', '6794-HKIAJ', '6752-APNJL', '5893-PYOLZ', '3646-ITDGM', '3763-GCZHZ', '0871-OPBXW', '7163-OCEQI', '3247-ZVOUO', '5044-LRQAQ'}\n",
      "\n",
      "************* gender *************\n",
      "\n",
      "{'Male', 'Female'}\n",
      "\n",
      "************* SeniorCitizen *************\n",
      "\n",
      "{0, 1}\n",
      "\n",
      "************* Partner *************\n",
      "\n",
      "{'No', 'Yes'}\n",
      "\n",
      "************* Dependents *************\n",
      "\n",
      "{'No', 'Yes'}\n",
      "\n",
      "************* tenure *************\n",
      "\n",
      "{0, 1, 2, 3, 4, 5, 6, 7, 8, 9, 10, 11, 12, 13, 14, 15, 16, 17, 18, 19, 20, 21, 22, 23, 24, 25, 26, 27, 28, 29, 30, 31, 32, 33, 34, 35, 36, 37, 38, 39, 40, 41, 42, 43, 44, 45, 46, 47, 48, 49, 50, 51, 52, 53, 54, 55, 56, 57, 58, 59, 60, 61, 62, 63, 64, 65, 66, 67, 68, 69, 70, 71, 72}\n",
      "\n",
      "************* PhoneService *************\n",
      "\n",
      "{'No', 'Yes'}\n",
      "\n",
      "************* MultipleLines *************\n",
      "\n",
      "{'No phone service', 'Yes', 'No'}\n",
      "\n",
      "************* InternetService *************\n",
      "\n",
      "{'No', 'Fiber optic', 'DSL'}\n",
      "\n",
      "************* OnlineSecurity *************\n",
      "\n",
      "{'No', 'No internet service', 'Yes'}\n",
      "\n",
      "************* OnlineBackup *************\n",
      "\n",
      "{'No', 'No internet service', 'Yes'}\n",
      "\n",
      "************* DeviceProtection *************\n",
      "\n",
      "{'No', 'No internet service', 'Yes'}\n",
      "\n",
      "************* TechSupport *************\n",
      "\n",
      "{'No', 'No internet service', 'Yes'}\n",
      "\n",
      "************* StreamingTV *************\n",
      "\n",
      "{'No', 'No internet service', 'Yes'}\n",
      "\n",
      "************* StreamingMovies *************\n",
      "\n",
      "{'No', 'No internet service', 'Yes'}\n",
      "\n",
      "************* Contract *************\n",
      "\n",
      "{'Month-to-month', 'Two year', 'One year'}\n",
      "\n",
      "************* PaperlessBilling *************\n",
      "\n",
      "{'No', 'Yes'}\n",
      "\n",
      "************* PaymentMethod *************\n",
      "\n",
      "{'Credit card (automatic)', 'Bank transfer (automatic)', 'Mailed check', 'Electronic check'}\n",
      "\n",
      "************* MonthlyCharges *************\n",
      "\n",
      "{18.95, 19.8, 20.65, 20.15, 20.2, 20.75, 24.95, 20.4, 24.25, 25.9, 19.95, 29.75, 29.85, 30.2, 24.3, 33.75, 30.15, 31.05, 35.45, 29.95, 30.4, 39.65, 35.9, 40.2, 42.3, 42.1, 44.35, 45.25, 45.55, 45.65, 45.3, 49.95, 49.55, 49.25, 49.05, 53.85, 54.4, 55.2, 56.95, 56.15, 55.3, 59.9, 59.6, 55.65, 54.65, 62.15, 64.7, 64.15, 66.15, 64.5, 66.85, 69.7, 70.7, 69.2, 69.5, 70.45, 74.8, 74.85, 76.2, 75.3, 78.9, 79.85, 80.65, 79.75, 79.2, 74.75, 84.5, 79.35, 82.05, 84.0, 85.2, 89.1, 90.05, 90.25, 89.9, 91.65, 94.4, 95.5, 96.35, 97.85, 95.45, 99.65, 100.35, 99.35, 102.45, 102.7, 103.8, 103.4, 104.15, 104.4, 104.6, 105.35, 108.0, 109.2, 103.7, 104.8, 105.5, 106.7, 108.45, 111.6, 110.5, 113.25, 111.05, 112.25, 24.75, 115.1, 115.05, 116.05, 25.25, 24.5, 25.75, 25.0, 25.5, 26.25, 26.0, 26.5, 28.5, 29.5, 29.25, 30.75, 30.5, 30.25, 31.0, 33.5, 34.25, 34.5, 34.0, 35.75, 35.5, 35.0, 35.25, 36.0, 36.25, 36.5, 38.5, 38.25, 39.0, 39.5, 40.25, 40.0, 40.75, 43.75, 43.25, 44.0, 44.75, 44.25, 44.5, 45.0, 45.75, 45.5, 46.0, 46.25, 48.75, 48.25, 49.5, 49.0, 49.75, 50.25, 50.0, 50.5, 50.75, 51.25, 51.0, 51.75, 51.5, 52.5, 52.0, 53.75, 53.5, 53.0, 54.75, 54.25, 54.0, 54.5, 55.0, 55.5, 55.25, 55.75, 56.0, 56.75, 56.25, 56.5, 57.75, 57.5, 58.75, 58.25, 58.5, 58.0, 59.75, 59.0, 59.5, 59.25, 60.0, 60.25, 60.5, 60.75, 61.5, 61.25, 61.75, 61.0, 62.25, 62.5, 63.25, 63.75, 64.25, 64.75, 64.0, 65.0, 65.5, 65.75, 65.25, 66.5, 66.25, 66.0, 66.75, 67.25, 67.5, 67.75, 68.75, 68.5, 68.25, 69.75, 69.0, 69.25, 70.0, 70.5, 70.75, 70.25, 71.5, 71.0, 71.25, 71.75, 72.75, 72.25, 72.0, 73.25, 73.5, 73.0, 73.75, 74.5, 74.25, 74.0, 75.0, 75.25, 75.5, 75.75, 76.5, 76.0, 76.75, 76.25, 77.75, 77.0, 77.5, 78.75, 78.0, 78.5, 78.25, 79.25, 79.5, 79.0, 80.0, 80.25, 80.5, 80.75, 81.0, 81.25, 81.5, 81.75, 82.5, 82.75, 82.0, 83.25, 83.75, 83.5, 83.0, 84.25, 84.75, 85.75, 85.5, 85.0, 85.25, 86.75, 86.0, 86.5, 86.25, 87.0, 87.25, 87.75, 88.0, 88.5, 88.75, 88.25, 89.25, 89.0, 89.75, 89.5, 90.0, 90.5, 90.75, 18.25, 18.75, 91.0, 91.5, 91.25, 91.75, 92.0, 92.5, 93.0, 93.5, 93.25, 93.75, 94.5, 94.25, 94.75, 94.0, 95.25, 95.0, 95.75, 19.5, 19.75, 19.25, 96.75, 96.5, 19.0, 96.0, 96.25, 97.0, 97.75, 97.25, 98.75, 98.25, 98.5, 98.0, 99.25, 99.0, 99.75, 99.5, 100.0, 100.75, 100.25, 20.25, 20.5, 101.75, 100.5, 20.0, 101.0, 101.5, 102.5, 102.0, 101.25, 102.25, 103.75, 103.25, 103.0, 103.5, 104.0, 104.5, 104.75, 104.25, 105.0, 105.25, 21.0, 21.25, 105.75, 106.0, 106.75, 106.5, 106.25, 107.5, 107.25, 107.0, 107.75, 108.5, 108.25, 108.75, 109.25, 109.5, 109.75, 109.0, 110.0, 110.75, 110.25, 111.25, 111.5, 111.75, 112.75, 113.0, 113.75, 114.5, 114.0, 114.75, 115.75, 115.0, 23.75, 115.5, 115.25, 116.25, 116.75, 116.0, 116.5, 23.5, 117.5, 118.75, 24.0, 18.4, 18.9, 19.4, 19.9, 19.65, 19.15, 20.9, 21.15, 23.65, 23.4, 23.9, 23.15, 24.9, 24.4, 24.15, 24.65, 25.15, 25.4, 25.65, 26.4, 26.9, 29.65, 29.9, 29.15, 29.4, 30.9, 31.65, 33.15, 33.65, 33.9, 34.65, 34.4, 35.4, 35.65, 35.15, 36.65, 36.15, 38.9, 39.9, 39.4, 39.15, 40.4, 40.65, 40.15, 40.9, 41.15, 41.9, 42.9, 42.4, 43.65, 43.9, 44.4, 44.65, 44.9, 44.15, 45.4, 45.15, 45.9, 46.4, 47.15, 47.4, 48.15, 48.9, 48.65, 48.4, 49.15, 49.9, 49.4, 49.65, 50.65, 50.15, 50.9, 50.4, 51.65, 51.4, 51.15, 52.15, 53.65, 53.9, 53.4, 53.15, 54.9, 54.15, 55.15, 55.9, 55.4, 56.4, 56.9, 56.65, 57.15, 57.65, 58.65, 58.9, 58.4, 59.4, 59.65, 59.15, 60.9, 60.15, 60.65, 60.4, 61.65, 61.9, 61.4, 61.15, 62.65, 63.15, 63.4, 63.9, 18.55, 64.9, 64.4, 64.65, 65.15, 65.65, 19.05, 65.4, 65.9, 66.4, 66.9, 66.65, 67.65, 67.4, 68.65, 68.4, 68.9, 68.15, 69.65, 69.9, 69.15, 69.4, 70.9, 70.15, 70.4, 70.65, 71.15, 71.9, 71.4, 71.65, 72.65, 72.9, 72.15, 73.9, 73.15, 73.65, 74.9, 74.4, 74.65, 74.15, 75.9, 75.15, 75.65, 75.4, 21.3, 76.9, 76.65, 76.4, 76.15, 77.4, 77.15, 77.9, 77.65, 78.4, 78.65, 78.15, 79.9, 79.15, 79.4, 79.65, 80.9, 80.4, 80.15, 81.15, 81.4, 81.65, 81.9, 82.4, 82.9, 82.65, 82.15, 83.4, 83.15, 83.9, 83.65, 84.15, 84.9, 84.4, 84.65, 85.4, 85.65, 85.15, 85.9, 23.05, 86.65, 86.15, 86.4, 86.9, 87.65, 87.9, 87.4, 87.15, 88.15, 88.9, 88.65, 88.4, 89.15, 89.65, 89.4, 75.05, 90.4, 90.15, 90.65, 90.9, 91.4, 91.15, 92.9, 92.65, 92.15, 92.4, 93.15, 93.4, 93.9, 93.65, 94.9, 94.65, 94.15, 76.55, 95.15, 95.4, 95.65, 95.9, 96.65, 96.15, 96.9, 96.4, 97.65, 97.9, 98.65, 98.9, 98.15, 98.4, 99.9, 99.4, 99.15, 77.8, 77.55, 100.9, 100.15, 100.65, 100.4, 101.9, 101.15, 101.4, 102.15, 102.65, 102.9, 102.4, 103.9, 103.15, 103.65, 104.65, 104.9, 105.65, 105.15, 105.9, 105.4, 106.9, 106.4, 106.65, 106.15, 107.15, 107.65, 107.9, 107.4, 108.15, 108.65, 108.4, 108.9, 109.9, 109.4, 109.15, 109.65, 110.65, 110.15, 110.9, 111.9, 111.65, 111.15, 111.4, 112.4, 112.9, 113.65, 113.4, 113.15, 114.65, 114.9, 115.65, 115.15, 29.3, 116.15, 116.4, 117.15, 118.65, 33.55, 34.55, 34.8, 34.05, 34.3, 35.8, 35.55, 35.05, 35.3, 36.05, 38.55, 38.8, 39.3, 39.55, 39.05, 40.05, 40.3, 40.55, 41.05, 43.8, 43.55, 43.3, 43.05, 44.8, 44.3, 44.05, 44.55, 45.05, 45.8, 46.3, 46.05, 47.8, 47.05, 48.55, 48.8, 49.3, 49.8, 50.55, 50.05, 50.3, 50.8, 51.8, 51.05, 51.55, 51.3, 52.55, 52.3, 53.8, 53.3, 53.55, 54.8, 54.3, 54.55, 54.05, 55.05, 55.8, 55.55, 56.8, 56.05, 56.3, 56.55, 57.8, 57.55, 58.55, 59.8, 59.3, 59.55, 59.05, 60.3, 60.05, 60.8, 60.55, 61.05, 61.8, 61.55, 61.3, 62.8, 62.05, 62.55, 62.3, 63.3, 63.55, 63.8, 63.05, 64.8, 64.05, 64.3, 64.55, 65.55, 65.8, 65.05, 65.3, 66.8, 66.05, 66.3, 67.8, 67.05, 68.55, 68.8, 68.05, 68.3, 18.8, 69.3, 69.55, 69.05, 69.8, 19.3, 70.8, 70.05, 19.55, 70.3, 20.3, 71.55, 20.55, 20.05, 20.8, 70.55, 72.8, 21.05, 71.05, 71.3, 71.8, 73.8, 73.55, 73.05, 73.3, 23.8, 74.3, 74.05, 23.3, 23.55, 24.55, 24.05, 74.55, 24.8, 75.55, 25.3, 75.8, 25.05, 76.05, 25.55, 26.8, 26.05, 26.3, 76.8, 25.8, 76.3, 78.05, 78.3, 78.55, 78.8, 77.3, 79.3, 79.05, 79.55, 79.8, 29.05, 80.55, 29.8, 80.05, 80.3, 30.3, 81.8, 81.3, 80.8, 81.05, 81.55, 82.3, 30.55, 30.05, 82.55, 83.3, 83.55, 83.8, 83.05, 84.55, 84.8, 84.3, 84.05, 85.8, 85.3, 85.05, 85.55, 86.8, 86.05, 86.3, 86.55, 87.05, 87.55, 87.8, 87.3, 88.55, 88.05, 88.8, 88.3, 89.05, 89.55, 89.8, 89.3, 90.3, 90.55, 90.8, 91.3, 91.55, 91.05, 91.8, 92.05, 92.55, 92.3, 93.05, 93.8, 93.55, 93.3, 94.05, 94.8, 94.3, 94.55, 95.05, 95.8, 95.3, 95.55, 96.05, 96.8, 96.55, 96.3, 97.55, 97.8, 97.05, 98.3, 98.8, 98.05, 98.55, 99.3, 99.8, 99.05, 99.55, 100.8, 100.55, 100.05, 100.3, 101.05, 101.55, 101.3, 101.8, 102.05, 102.55, 102.8, 103.05, 103.3, 104.3, 104.55, 104.05, 105.3, 105.55, 105.05, 105.8, 106.05, 106.8, 106.55, 106.3, 107.05, 107.55, 108.55, 108.05, 108.3, 108.8, 109.55, 109.8, 109.05, 109.3, 110.05, 110.3, 110.8, 110.55, 111.55, 111.8, 111.3, 112.55, 113.3, 113.05, 113.8, 114.05, 114.55, 114.3, 115.8, 115.55, 116.8, 116.3, 116.55, 117.8, 18.7, 19.2, 19.45, 19.7, 20.7, 20.45, 20.95, 21.2, 21.45, 22.95, 23.95, 23.45, 24.7, 24.45, 24.2, 25.7, 25.2, 25.45, 25.95, 26.2, 26.45, 28.45, 29.45, 29.2, 29.7, 30.45, 31.2, 33.45, 33.7, 34.7, 34.2, 34.95, 35.7, 35.2, 36.45, 37.7, 39.7, 39.2, 39.95, 39.45, 40.7, 40.45, 41.95, 43.95, 43.7, 43.45, 44.95, 44.45, 44.7, 44.2, 45.7, 45.95, 45.2, 45.45, 46.2, 47.95, 48.95, 48.7, 48.2, 48.45, 49.2, 49.45, 49.7, 50.2, 50.45, 50.95, 50.7, 51.2, 51.7, 51.45, 52.2, 52.7, 53.95, 53.45, 53.7, 54.7, 54.2, 54.45, 54.95, 55.45, 55.95, 55.7, 56.45, 56.7, 56.2, 57.95, 57.45, 57.2, 58.45, 58.95, 58.7, 58.2, 59.95, 59.45, 59.2, 59.7, 60.45, 60.2, 60.7, 60.95, 61.2, 61.95, 61.45, 62.7, 62.45, 63.95, 63.7, 64.95, 64.2, 64.45, 65.2, 65.7, 65.45, 66.7, 66.2, 67.45, 67.95, 67.2, 67.7, 68.95, 68.7, 68.45, 69.45, 69.95, 70.2, 70.95, 71.7, 71.45, 71.95, 72.95, 72.45, 72.2, 73.2, 73.45, 73.95, 73.7, 74.2, 74.7, 74.45, 74.95, 75.95, 75.45, 75.7, 75.2, 76.45, 76.95, 77.95, 77.2, 78.45, 78.95, 78.2, 78.7, 79.95, 79.45, 79.7, 80.95, 80.7, 80.45, 80.2, 81.95, 81.45, 81.7, 81.2, 82.95, 82.45, 82.7, 83.7, 83.2, 83.45, 83.95, 84.2, 84.95, 84.7, 84.45, 85.95, 85.45, 85.7, 86.2, 86.45, 86.95, 86.7, 87.95, 87.2, 87.45, 87.7, 88.95, 88.2, 88.45, 88.7, 89.7, 89.2, 89.45, 89.95, 90.95, 90.45, 90.7, 90.2, 91.7, 91.2, 91.45, 91.95, 92.2, 92.95, 92.45, 92.7, 93.95, 93.45, 93.2, 93.7, 94.45, 94.2, 94.7, 94.95, 95.2, 95.95, 95.7, 96.7, 96.2, 96.95, 97.45, 97.95, 97.2, 97.7, 98.7, 98.2, 98.45, 99.45, 99.7, 99.95, 99.2, 100.45, 100.7, 100.95, 100.2, 101.45, 101.95, 101.7, 102.95, 103.2, 103.45, 103.95, 104.95, 104.7, 104.45, 104.2, 105.45, 105.2, 105.95, 105.7, 106.45, 106.95, 106.2, 107.95, 107.45, 107.2, 107.7, 108.95, 108.2, 109.7, 109.95, 109.45, 110.45, 110.2, 110.7, 111.95, 111.2, 111.45, 112.95, 112.2, 113.2, 113.45, 113.95, 114.95, 114.7, 114.45, 114.2, 116.45, 116.95, 116.2, 117.2, 117.45, 118.2, 64.35, 64.85, 64.6, 64.1, 65.35, 65.85, 65.1, 65.6, 66.35, 66.1, 66.6, 67.85, 67.6, 68.85, 68.6, 68.35, 68.1, 69.35, 69.85, 69.1, 69.6, 70.35, 70.6, 70.85, 70.1, 71.1, 71.35, 71.6, 71.85, 72.1, 72.85, 72.35, 72.6, 73.6, 73.85, 73.35, 73.1, 74.35, 74.6, 74.1, 75.35, 75.6, 75.1, 75.85, 76.1, 76.85, 76.35, 76.6, 77.35, 77.85, 78.85, 78.1, 78.6, 78.35, 79.1, 79.6, 80.6, 80.35, 80.1, 80.85, 81.85, 81.35, 81.1, 81.6, 82.85, 82.1, 82.35, 83.35, 83.85, 83.6, 84.6, 84.85, 84.35, 84.1, 85.1, 85.35, 85.6, 85.85, 86.1, 86.6, 86.85, 86.35, 87.35, 87.1, 87.6, 88.1, 88.6, 88.85, 88.35, 89.85, 89.35, 89.6, 90.85, 90.35, 90.1, 90.6, 91.35, 91.1, 91.85, 91.6, 92.1, 92.35, 92.85, 92.6, 93.35, 93.85, 93.6, 94.35, 94.85, 94.1, 94.6, 95.6, 95.1, 95.35, 95.85, 96.1, 96.85, 96.6, 97.1, 97.35, 98.85, 98.6, 98.35, 98.1, 99.1, 99.85, 99.6, 100.6, 100.85, 100.1, 101.35, 101.1, 101.6, 101.85, 102.1, 102.85, 102.6, 102.35, 103.1, 103.85, 103.35, 103.6, 104.1, 104.85, 104.35, 105.1, 105.6, 105.85, 106.35, 106.6, 106.1, 106.85, 107.35, 107.6, 108.1, 108.85, 108.6, 108.35, 109.85, 109.6, 109.1, 110.85, 110.35, 110.1, 110.6, 111.35, 111.1, 112.6, 112.1, 112.35, 113.1, 113.6, 113.35, 114.35, 114.85, 114.1, 114.6, 115.6, 115.85, 116.1, 116.85, 116.6, 117.6, 117.35, 118.6, 118.35, 18.85, 19.6, 19.35, 19.85, 19.1, 20.85, 20.6, 20.1, 20.35, 21.1, 23.6, 23.85, 24.1, 24.85, 24.6, 24.35, 25.35, 25.6, 25.1, 25.85, 26.1, 26.35, 28.6, 29.6, 29.35, 29.1, 30.1, 30.85, 30.35, 30.6, 31.35, 31.1, 33.6, 34.6, 34.85, 35.6, 35.1, 35.35, 36.1, 36.85, 38.6, 38.1, 38.85, 39.6, 39.1, 39.85, 39.35, 40.6, 40.35, 40.1, 41.35, 41.1, 41.6, 42.6, 42.35, 43.85, 43.35, 43.6, 44.6, 44.85, 44.1, 45.6, 45.35, 45.85, 45.1, 46.35, 46.1, 46.6, 47.85, 47.6, 48.6, 48.85, 48.35, 49.85, 49.35, 49.1, 49.6, 50.6, 50.35, 50.1, 50.85, 51.6, 51.35, 51.1, 52.1, 52.85, 53.6, 53.1, 53.35, 54.1, 54.6, 54.85, 54.35, 55.1, 55.35, 55.85, 55.6, 56.6, 56.35, 56.1, 56.85, 57.6, 58.6, 58.35, 58.85, 59.85, 59.1, 60.85, 60.35, 60.6, 60.1, 61.6, 61.35, 61.1, 62.1, 62.85, 63.85, 63.35, 63.6, 63.1}\n",
      "\n",
      "************* TotalCharges *************\n",
      "\n",
      "{'484.05', '3094.05', '79.2', '39.8', '1389.6', '880.05', '3030.6', '3632', '7397', '1275.6', '1001.2', '2460.15', '4627.8', '1715.1', '68.35', '905.55', '3634.8', '7138.65', '68.75', '5435', '8331.95', '106.8', '1548.65', '6383.35', '431', '5893.9', '1317.95', '525.55', '89.35', '6431.05', '69.85', '3684.95', '5071.9', '2289.9', '125.95', '2210.2', '971.3', '4327.5', '2259.35', '98.5', '7548.1', '529.5', '4932.5', '417', '454', '1348.9', '5436.45', '58.15', '2679.7', '51.15', '363.15', '1502.25', '6474.45', '1766.75', '7303.05', '865.8', '7031.3', '6643.5', '3877.95', '452.7', '2681.15', '55', '39.3', '270.15', '921.4', '6425.65', '470.2', '578.5', '4855.35', '2062.15', '1782.4', '6398.05', '614.45', '490.55', '6993.65', '7251.7', '1463.45', '78.95', '7982.5', '6506.15', '422.4', '7984.15', '3238.4', '5703', '735.9', '1127.2', '1071.4', '6067.4', '55.2', '1354.4', '1363.25', '601.6', '20.6', '785.75', '1790.15', '653.95', '2390.45', '670.35', '19.3', '165.45', '2897.95', '2748.7', '2979.2', '2467.75', '573.3', '1673.4', '1415.85', '3640.45', '1217.25', '999.8', '901.25', '369.05', '414.95', '112.3', '5727.45', '1033.95', '1887', '3704.15', '1712.7', '4284.2', '490.65', '6581.9', '189.1', '2169.75', '552.7', '2345.2', '3409.6', '3004.15', '208.85', '2181.75', '6382', '3655.45', '1267.05', '1983.15', '308.1', '8306.05', '937.5', '866.45', '4995.35', '1129.75', '387.2', '3058.15', '49.3', '465.85', '7467.5', '6383.9', '762.25', '50.05', '1836.25', '583.45', '5762.95', '1438.05', '3902.45', '5925.75', '425.9', '20.7', '562.7', '1506.4', '1071.6', '235.2', '58.3', '677.9', '333.6', '1011.5', '620.55', '1767.35', '2369.7', '781.4', '5329.55', '398.55', '1304.8', '1079.05', '189.2', '4478.85', '2909.95', '566.5', '1275.65', '6674.65', '7789.6', '5409.75', '6055.55', '4304.5', '5243.05', '6350.5', '7661.8', '5886.85', '723.4', '1285.05', '5044.8', '5308.7', '6352.4', '19.7', '4014.2', '4473', '1872.2', '5824.75', '89.9', '129.15', '150.35', '709.5', '523.15', '1431.65', '3423.5', '3069.45', '170.5', '343.6', '3662.25', '1291.3', '5236.4', '6252.9', '1611.15', '4657.95', '1033.9', '7035.6', '4453.3', '131.05', '7713.55', '821.6', '113.55', '872.65', '999.45', '660.05', '8456.75', '8078.1', '1747.85', '55.3', '2282.95', '251.65', '2291.2', '220.35', '295.95', '122', '4111.35', '55.4', '70.5', '3126.45', '1815.65', '7782.85', '664.4', '539.85', '1900.25', '1087.45', '100.35', '520.55', '169.8', '2146.5', '156.85', '7386.05', '114.1', '740.8', '1284.2', '6046.1', '265.8', '389.1', '19.4', '3870.3', '295.65', '3068.6', '2139.2', '6735.05', '1067.65', '547.65', '452.35', '4805.65', '7209', '84.5', '1873.7', '3173.35', '5764.7', '1413', '1862.9', '480.75', '6741.15', '6989.7', '4282.4', '7348.8', '934.15', '534.7', '5386.5', '1369.8', '307.6', '1222.05', '573.15', '7993.3', '1993.2', '1729.35', '2203.65', '2106.05', '1051.9', '217.5', '25.4', '5639.05', '408.5', '1081.45', '6301.7', '78.25', '1258.3', '1845.9', '3152.5', '8033.1', '834.2', '5276.1', '3147.5', '305.95', '195.3', '906.85', '4285.8', '492.1', '693.3', '777.35', '324.15', '4594.65', '4214.25', '712.75', '8152.3', '79.35', '1048.45', '3432.9', '825.4', '3116.15', '1127.35', '19.25', '6033.3', '420.45', '146.05', '5017.7', '1008.55', '47.5', '1134.25', '4275.75', '1664.3', '5861.75', '3827.9', '617.35', '2586', '3653.35', '3403.4', '1252', '1446.8', '4378.35', '940.35', '299.2', '99.75', '2016.3', '187.45', '365.55', '304.6', '637.4', '3161.6', '355.9', '256.6', '36.55', '1600.25', '1423.05', '1579.7', '1414.65', '216.9', '1346.9', '313', '1374.35', '765.15', '730.1', '3617.1', '7840.6', '3954.1', '150.85', '113.85', '1270.25', '2928.5', '2272.8', '6885.75', '8477.6', '70.1', '849.1', '118.4', '1359.7', '334.8', '4509.5', '5405.8', '527.35', '98.35', '711.95', '5931.75', '2181.55', '473.9', '184.95', '1312.45', '5437.1', '2952.85', '42.9', '319.85', '4299.95', '122.9', '239.05', '772.4', '2018.1', '828.85', '403.15', '4575.35', '347.25', '4386.2', '1355.1', '827.05', '5924.4', '718.1', '731.3', '780.15', '6754.35', '2624.25', '4322.85', '198.1', '3180.5', '471.85', '45.3', '2018.4', '1226.45', '2807.65', '1077.95', '232.35', '5121.75', '606.55', '6448.05', '540.95', '6632.75', '6873.75', '2781.85', '2265', '1742.95', '3058.65', '130.75', '70.15', '1849.2', '1584.8', '247.25', '2142.8', '4059.35', '2283.15', '2509.95', '364.55', '1270.55', '3545.1', '1013.05', '172.35', '474.8', '178.5', '827.3', '2404.15', '116.85', '1443.65', '2339.3', '1748.9', '29.15', '6141.65', '1570.7', '161.5', '2452.7', '3899.05', '6401.25', '1532.45', '125.5', '2894.55', '81.05', '76', '8035.95', '889', '3491.55', '846', '4326.25', '5940.85', '567.8', '4830.25', '256.75', '459.95', '104.3', '259.4', '280.85', '130.55', '4264', '3959.35', '31.55', '5825.5', '5551.15', '3762', '8164.1', '6375.2', '168.2', '3488.15', '4534.9', '3364.55', '3833.95', '2568.55', '293.85', '49.9', '3941.7', '1165.9', '3865.45', '593.3', '3829.75', '1390.6', '4905.75', '4042.2', '5574.75', '358.05', '4236.6', '3027.25', '1090.1', '6152.3', '3399.85', '7009.5', '152.7', '5229.45', '1567', '1013.35', '998.1', '163.55', '3906.7', '1375.6', '3062.45', '1167.6', '6341.45', '2962', '6157.6', '997.65', '79.15', '837.5', '45.05', '215.2', '546.95', '654.55', '3707.6', '3097.2', '467.55', '3990.6', '4872.2', '324.3', '1131.3', '1516.6', '126.05', '1517.5', '2135.5', '122.7', '4779.45', '786.5', '292.4', '3187.65', '4577.75', '927.1', '235.8', '1074.3', '1810.55', '6849.75', '2568.15', '6205.5', '360.1', '1949.4', '262.05', '6654.1', '2745.7', '2779.5', '2010.55', '6474.4', '3895.35', '2967.35', '939.7', '7069.25', '5848.6', '3708.4', '2647.2', '3348.1', '5601.4', '1269.55', '34.8', '225.55', '5991.05', '1370.35', '40.1', '6921.7', '747.2', '2868.15', '394.85', '7576.7', '1258.35', '157.55', '854.45', '3778', '1724.15', '143.9', '3480.35', '1952.25', '1884.65', '89.3', '149.55', '3875.4', '454.05', '62', '1910.6', '3548.3', '393.45', '994.8', '6066.55', '222.65', '3320.6', '1144.6', '281', '4689.15', '4532.3', '412.6', '6703.5', '7047.5', '5794.65', '467.7', '1313.55', '272.15', '4039.5', '2793.55', '7251.9', '1826.7', '4331.4', '2413.05', '1888.45', '4680.05', '1119.35', '3778.2', '580.1', '4126.2', '6838.6', '4839.15', '1286.05', '169.75', '3303.05', '330.6', '19.95', '6333.4', '3103.25', '3419.5', '378.6', '1164.05', '5528.9', '1796.55', '201', '7467.55', '2231.05', '509.3', '118.3', '4451.85', '6668.05', '743.5', '1337.45', '416.3', '1498.2', '90.6', '107.25', '2165.05', '2933.95', '3616.25', '5686.4', '6293.75', '5733.4', '3046.15', '1851.45', '3953.7', '4557.5', '5542.55', '882.55', '828.05', '472.25', '653.9', '3794.5', '1160.75', '239.55', '856.5', '865.55', '499.4', '3314.15', '251.6', '5129.3', '6770.85', '495.15', '6033.1', '3462.1', '216.75', '80.3', '2978.3', '3015.75', '77.5', '1597.4', '181.65', '7040.85', '3952.45', '798.2', '2773.9', '779.25', '2007.85', '456.85', '7159.7', '4484.05', '358.5', '1783.6', '1088.25', '5682.25', '4946.7', '79.55', '1752.55', '2406.1', '3119.9', '735.5', '1426.45', '1779.95', '1326.25', '32.7', '1344.5', '58.85', '3085.35', '1672.15', '6254.45', '4113.7', '8684.8', '5224.95', '155.65', '840.1', '1400.55', '1356.7', '6034.85', '1886.25', '842.9', '1029.8', '2745.2', '1642.75', '3470.8', '4758.8', '438.05', '827.45', '4228.55', '3480', '5040.2', '3273.55', '6253', '8405', '285.2', '831.75', '5757.2', '4627.85', '1110.05', '362.6', '6126.1', '36.45', '156.25', '442.6', '2747.2', '3027.65', '5025.8', '6297.65', '5985.75', '25.1', '1395.05', '1250.1', '223.9', '1206.05', '4914.9', '1022.5', '6891.4', '416.45', '1718.2', '1118.8', '552.1', '5681.1', '7049.5', '2416.55', '3249.4', '1073.3', '171', '3357.9', '2462.55', '3851.45', '1912.15', '2627.2', '2847.2', '4872.35', '990.9', '204.55', '7195.35', '8308.9', '4730.9', '8086.4', '1863.8', '6440.25', '4052.4', '127.1', '53.15', '3326.2', '678.8', '288.35', '69.75', '536.4', '3019.7', '4036', '1303.25', '242.95', '5812', '1601.2', '4693.2', '284.9', '1332.4', '2718.3', '826', '3580.3', '2326.05', '7104.2', '296.1', '1360.25', '1971.5', '918.7', '632.2', '1093.4', '1105.4', '3190.25', '2427.1', '644.5', '1169.35', '862.4', '475', '3219.75', '6994.8', '814.75', '315.3', '552.95', '5941.05', '2215', '5327.25', '244.85', '864.85', '554.05', '391.7', '765.45', '4688.65', '520', '970.45', '24.05', '1208.15', '250.8', '5980.75', '1414.8', '438.25', '1340.1', '1901.05', '773.65', '452.2', '4925.35', '624.6', '2250.65', '2656.3', '1657.4', '799', '7325.1', '2379.1', '893.55', '743.75', '455.3', '160.85', '835.5', '2375.2', '1277.5', '314.45', '5611.7', '2015.8', '108.65', '7008.15', '5305.05', '4024.2', '5563.65', '388.6', '419.9', '1090.65', '6127.6', '2933.2', '2448.75', '5360.75', '2862.75', '4447.75', '239.75', '587.7', '7337.55', '6312.9', '1453.1', '284.3', '6589.6', '2494.65', '6518.35', '6496.15', '1290', '1299.8', '1742.75', '399.6', '2178.6', '3532', '676.7', '742.95', '1652.95', '1923.85', '1498.35', '2768.35', '7346.2', '3263.6', '108.95', '378.4', '695.85', '400.3', '48.95', '661.25', '958.25', '926', '2092.9', '96.8', '7470.1', '428.45', '2384.15', '191.05', '2796.35', '1175.85', '1151.05', '413.25', '4368.85', '2364', '6823.4', '3686.05', '8337.45', '2212.55', '2016.45', '1411.65', '143.65', '923.5', '3297', '51.2', '2067', '4159.45', '167.2', '1982.1', '5215.1', '1710.45', '663.55', '6339.45', '85.7', '4692.95', '2882.25', '1700.9', '2874.45', '1149.65', '1859.5', '7548.6', '4264.25', '159.45', '740.3', '106.2', '2019.8', '134.75', '7112.15', '169.65', '819.4', '878.35', '1210.4', '1411.2', '2168.15', '7843.55', '595.5', '923.1', '181.7', '72.4', '291.45', '2954.5', '221.9', '1905.7', '2479.05', '1147.85', '4916.95', '3574.5', '4983.05', '605.75', '7472.15', '198.25', '2684.35', '6687.85', '6597.25', '4652.4', '3141.7', '779.2', '320.45', '173', '4298.45', '1357.1', '331.9', '342.3', '1253.8', '96.05', '2470.1', '95.05', '7082.5', '4368.95', '1054.6', '935.9', '4200.25', '612.95', '162.3', '206.15', '6152.4', '3778.85', '1451.9', '1882.8', '7544', '93.85', '5348.65', '3092', '605.45', '4138.05', '1750.7', '2095', '368.1', '1444.05', '2365.15', '4230.25', '5067.45', '4475.9', '6435.25', '2024.1', '338.1', '303.7', '1396.9', '105.5', '287.85', '1421.9', '3213.75', '657.5', '4891.5', '291.9', '85.05', '6368.2', '583', '1210.3', '1156.1', '5831.2', '107.6', '615.35', '1564.4', '810.3', '2758.15', '140.4', '5791.85', '688.2', '5124.6', '169.05', '261.3', '3529.95', '309.1', '788.35', '354.05', '1616.15', '1461.45', '2234.55', '5154.5', '1498.85', '1696.2', '3937.45', '5224.35', '5088.4', '3959.15', '4016.85', '3126.85', '58', '6126.15', '7589.8', '1403.1', '435.45', '4692.55', '7610.1', '4055.5', '6300.15', '433.75', '350.1', '450.4', '1128.1', '734.35', '1968.1', '157.75', '6510.45', '5673.7', '1230.9', '186.05', '6603', '914.3', '3021.6', '4398.15', '2058.5', '865', '120.25', '934.1', '6223.3', '676.35', '61.35', '1424.9', '350.3', '78.05', '3371', '5832', '3579.15', '847.8', '4902.8', '1183.05', '1846.65', '2317.1', '789.55', '1718.95', '2896.6', '1713.1', '1178.25', '3804.4', '1171.3', '994.55', '1078.9', '546.85', '5329', '49.25', '1338.15', '957.1', '1026.35', '970.85', '4977.2', '3260.1', '4747.65', '2184.35', '662.95', '119.5', '1794.65', '604.7', '6172', '648.65', '810.45', '501.35', '6819.45', '6875.35', '447.9', '944.65', '5453.4', '755.6', '365.65', '867.1', '3496.3', '1614.05', '239.45', '4265', '1391.15', '321.65', '59.05', '2970.3', '159.15', '903.7', '1135.7', '1022.95', '1559.15', '44.4', '1447.9', '3236.35', '59.85', '2495.2', '78.45', '3782.4', '5798.3', '641.15', '387.9', '446.8', '75.7', '79.9', '92.65', '1255.1', '930.4', '381.3', '5193.2', '2401.05', '4378.8', '2893.4', '2576.8', '5555.3', '2283.3', '4904.85', '369.1', '791.15', '1067.05', '1379.6', '4539.35', '167.5', '8670.1', '1842.7', '4805.3', '6683.4', '5706.2', '780.5', '2898.95', '166.3', '3990.75', '3635.15', '2595.25', '1240.15', '6941.2', '85.8', '76.2', '5903.15', '68.2', '4069.9', '5567.45', '6014.85', '4018.55', '8332.15', '38.7', '1687.95', '6322.1', '4730.6', '1523.4', '1676.95', '5917.55', '3590.2', '5029.2', '300.8', '483.15', '141.7', '220.95', '359.4', '5610.15', '7332.4', '2078.55', '7544.3', '3522.65', '238.15', '321.9', '2852.4', '696.35', '7015.9', '1857.25', '7246.15', '234.85', '688.65', '5720.95', '5943.65', '2553.7', '545.2', '5341.8', '1857.85', '2626.15', '6314.35', '776.25', '2117.2', '116.65', '2911.5', '86', '4541.9', '3888.65', '5149.5', '4149.45', '1304.85', '6903.1', '184.05', '5835.5', '2070.6', '4116.15', '312.7', '1293.8', '641.35', '682.1', '1355.45', '6586.85', '1008.7', '6227.5', '487.95', '907.05', '689.35', '1558.7', '5060.85', '684.05', '4845.4', '1818.9', '7349.35', '2633.95', '1936.85', '4849.1', '1161.75', '790.15', '6816.95', '357.15', '465.45', '1563.95', '2979.5', '2989.6', '4188.4', '832.35', '3077', '89.25', '297.3', '6151.9', '163.7', '370.5', '7609.75', '1203.95', '672.55', '4140.1', '81.1', '1119.9', '4911.05', '150.6', '144.8', '875.35', '2424.5', '307.4', '3009.5', '1249.25', '1358.6', '5219.65', '1195.75', '4424.2', '80.85', '405.7', '257.05', '54.65', '1820.45', '1404.65', '4959.6', '183.15', '5059.75', '154.8', '3641.5', '5811.8', '829.3', '73.45', '4804.65', '1750.85', '253.9', '389.95', '553.4', '5538.8', '1864.2', '4226.7', '49.5', '668.85', '827.7', '5898.6', '2066', '3091.75', '80.55', '1331.05', '3301.05', '2342.2', '435.25', '93.4', '101.1', '3369.25', '755.4', '897.75', '1929.95', '309.25', '349.65', '7998.8', '1263.05', '955.75', '1604.5', '4884.85', '1411.9', '1509.8', '268.35', '4018.35', '2431.95', '4554.85', '8129.3', '2919.85', '4858.7', '6236.75', '6194.1', '1414.45', '7173.15', '715', '7611.55', '3418.2', '2879.2', '2931', '3958.2', '609.05', '1985.15', '669.85', '1145.7', '1537.85', '1004.5', '8175.9', '78.9', '6293.2', '4993.4', '104.2', '7878.3', '4513.65', '1910.75', '208', '159.4', '777.3', '670.65', '573.75', '82.15', '2603.3', '1712.9', '6692.65', '2044.75', '3268.05', '7459', '996.45', '92.05', '2149.05', '1583.5', '2094.65', '609.9', '2613.4', '3838.2', '4458.15', '1272.05', '5483.9', '7159.05', '84.3', '1637.4', '973.65', '135.2', '1383.6', '3409.1', '1147', '541.9', '4627.65', '527.9', '515.45', '1113.95', '780.2', '7804.15', '755.5', '1253.65', '3882.3', '2815.25', '1022.6', '6563.4', '7962.2', '5969.85', '46', '231.45', '4145.25', '3682.45', '2483.05', '2435.15', '5025', '7111.3', '4667', '5321.25', '1433.8', '2419', '2078.95', '3190.65', '2789.7', '4959.15', '4681.75', '3474.45', '1347.15', '4113.1', '1080.55', '121.25', '117.8', '1062.1', '5688.05', '1009.25', '2621.75', '6293.45', '45.4', '251.75', '1247.75', '660.9', '2093.4', '49.75', '5919.35', '4267.15', '7848.5', '3656.25', '1400.3', '266.6', '3605.2', '3801.7', '482.25', '152.6', '91.7', '6292.7', '500.1', '2538.2', '1665.2', '4533.7', '3147.15', '2106.3', '483.3', '3050.15', '1023.85', '278.4', '5969.3', '68.5', '5576.3', '2727.3', '6132.7', '100.2', '5985', '6689', '2199.05', '1051.05', '689', '7405.5', '85.1', '4338.6', '61.45', '6130.95', '5515.45', '3527.3', '1157.05', '369.3', '1510.5', '93.45', '70.65', '825.7', '3509.4', '3344.1', '185.55', '608.15', '3204.4', '163.2', '639.7', '3330.1', '2929.75', '3454.6', '679.55', '357.7', '4738.3', '838.5', '6049.5', '1234.6', '7795.95', '181.6', '3969.35', '2157.3', '2737.05', '996.95', '7181.25', '2475.35', '1348.95', '1399.35', '1875.25', '80.95', '4039.3', '1387.35', '5502.55', '237.3', '329.95', '855.3', '4664.2', '374.5', '2341.5', '1329.2', '84.85', '422.3', '1536.75', '1107.2', '341.45', '4361.55', '60.15', '2536.55', '8312.4', '20.9', '1232.9', '790.7', '6083.1', '6069.25', '194.55', '20.35', '607.7', '1138.8', '89.1', '927.15', '5364.8', '8124.2', '1901.25', '255.25', '1115.15', '667.7', '3692.85', '1153.25', '803.3', '3474.05', '682.15', '1270.2', '673.1', '1043.4', '1440.75', '502.6', '426.65', '1856.4', '4889.3', '716.4', '955.6', '319.6', '2085.45', '780.85', '4867.95', '72', '3375.9', '7752.3', '692.55', '7149.35', '4551.5', '1356.3', '1709.15', '399.25', '2303.35', '3410.6', '316.9', '92.5', '346.4', '1261.45', '3389.25', '130.1', '3023.85', '74.9', '2483.5', '2356.75', '7624.2', '2597.6', '97', '463.05', '5598', '4953.25', '2614.1', '401.1', '1594.75', '6140.85', '1305.95', '330.05', '723.35', '3251.85', '6363.45', '510.8', '1938.05', '1192.3', '757.95', '2310.2', '8317.95', '2110.15', '1334.5', '5127.95', '593.45', '4109', '1253.9', '1441.65', '5330.2', '1177.95', '531', '1451.1', '959.9', '163.6', '59.2', '3532.25', '153.95', '4687.9', '5981.65', '140.7', '5976.9', '2277.65', '1885.15', '2595.85', '50.8', '5515.8', '115.1', '1879.25', '2042.05', '198', '1489.3', '224.5', '1815.3', '3770', '2011.4', '483.7', '38.45', '70.8', '586.05', '535.05', '1612.2', '3953.15', '179.35', '3625.2', '1296.15', '6397.6', '3688.6', '438.9', '158.35', '154.65', '6851.65', '278.85', '1620.2', '856.35', '6077.75', '84.75', '1445.3', '3930.55', '4362.05', '4445.3', '8289.2', '1465.75', '6770.5', '273.2', '1327.4', '507.9', '1160.45', '156.1', '75.6', '4408.45', '296.15', '3479.05', '1266.4', '3436.1', '146.9', '318.5', '4882.8', '655.85', '24.9', '6841.4', '69.1', '6725.5', '3972.25', '377.85', '933.3', '25.7', '788.8', '1406.9', '7142.5', '44.55', '7382.85', '7559.55', '5706.3', '6130.85', '5817.7', '52.05', '7511.65', '1709.1', '1943.2', '5471.75', '4209.95', '1442.2', '19.55', '1764.75', '139.75', '151.3', '84.6', '69.95', '188.7', '2191.15', '1588.7', '124.4', '382.2', '2651.1', '4504.55', '2177.45', '1201.15', '1180.95', '1982.6', '1195.25', '3706.95', '690.5', '3217.55', '1123.65', '8240.85', '1222.8', '1442', '1597.05', '1208.6', '4016.75', '432.5', '5817.45', '467.15', '749.25', '3562.5', '7176.55', '3901.25', '2337.45', '411.6', '1328.15', '1323.7', '1099.6', '5623.7', '651.5', '1934.45', '4519.5', '222.3', '6511.25', '2111.45', '1336.9', '226.55', '1648.45', '434.5', '60.65', '6176.6', '1798.65', '1820.9', '1959.5', '413.65', '4133.95', '243.65', '754.5', '2879.9', '7317.1', '1743.9', '2868.05', '7930.55', '1201.65', '2203.7', '2754.45', '2937.65', '79.45', '2997.45', '1781.35', '6786.4', '830.8', '515.75', '371.4', '1734.65', '1888.25', '7875', '3023.55', '3942.45', '1060.2', '7853.7', '523.1', '947.75', '2588.95', '717.95', '533.6', '343.45', '109.25', '439.75', '1031.1', '1230.25', '2763.35', '43.8', '318.1', '233.55', '1309', '7521.95', '5064.85', '1600.95', '199.45', '1725', '5600.15', '617.85', '180.7', '6179.35', '3088.75', '1372.9', '101.45', '19.15', '3923.8', '313.45', '124.45', '5585.4', '268.4', '158.4', '1625.65', '4266.4', '4166.35', '2427.35', '4676.7', '1753', '4154.55', '49.05', '1806.35', '5869.4', '1534.75', '560.85', '4003.85', '1259.35', '981.45', '4312.5', '1093.1', '1152.8', '2768.65', '440.2', '113.5', '658.95', '5586.45', '1111.85', '74.1', '29.9', '6549.45', '4911.35', '1765.95', '947.4', '1607.2', '5411.65', '7031.45', '4674.4', '3638.25', '3011.65', '2958.95', '4760.3', '4388.4', '2447.95', '150', '5815.15', '3571.6', '4096.9', '2471.6', '20.1', '171.45', '1035.5', '49.7', '7920.7', '6164.7', '4837.6', '415.55', '351.55', '2871.5', '7556.9', '5139.65', '1758.6', '102.5', '85.55', '82.9', '1474.75', '697.65', '244.65', '2570', '225.65', '6548.65', '2431.35', '5427.05', '248.4', '1951', '3527.6', '865.05', '45.75', '4131.2', '668.4', '1776.55', '73.1', '1861.5', '7953.25', '144.55', '4238.45', '778.1', '292.85', '8165.1', '788.6', '2727.8', '1094.5', '1242.25', '5029.05', '2965.75', '4798.4', '6153.85', '6325.25', '1923.5', '147.75', '945.7', '6219.6', '345.5', '5618.3', '25', '5714.2', '53.95', '1654.75', '5960.5', '140.95', '5588.8', '293.15', '20.8', '1740.7', '4590.35', '6144.55', '908.15', '267', '1017.35', '6392.85', '531.15', '337.9', '6479.4', '72.1', '7283.25', '2369.05', '4664.5', '6487.2', '167.3', '655.3', '4392.5', '5194.05', '7677.4', '1790.6', '865.75', '639.65', '87.9', '1087.25', '19.85', '6758.45', '196.4', '3162.65', '1513.6', '2625.55', '5175.3', '7942.15', '99.45', '4220.35', '3161.4', '863.1', '1801.1', '7085.5', '85.45', '18.8', '6029.9', '24.25', '7719.5', '808.95', '4534.45', '418.3', '424.75', '3186.7', '7623.2', '2193.65', '6721.6', '3208.65', '5746.15', '153.3', '102.75', '548.8', '1188.2', '947.3', '1422.1', '1231.85', '394.1', '2335.3', '5617.75', '936.85', '6697.2', '2848.45', '3169.55', '749.35', '86.05', '2301.15', '1007.8', '5986.55', '71.55', '4263.45', '7550.3', '1988.05', '1423.15', '330.8', '679.3', '5347.95', '3540.65', '418.25', '6937.95', '1072', '4297.95', '1072.6', '369.25', '386.5', '4036.85', '3566.7', '50.6', '5069.65', '1478.85', '6287.25', '1005.7', '262.3', '244.1', '582.5', '2184.6', '400', '3089.1', '150.75', '1424.2', '8564.75', '1618.2', '5356.45', '6669.05', '1200.15', '368.85', '1199.4', '6501.35', '631.4', '3342', '1978.65', '632.95', '3112.05', '6782.15', '979.05', '2867.75', '834.15', '4819.75', '3243.45', '25.75', '3510.3', '190.05', '1622.45', '2816.65', '438.4', '1285.8', '1608.15', '1498.55', '505.45', '1335.2', '3425.35', '2638.1', '929.45', '930.45', '4641.1', '608.8', '1327.85', '215.25', '5997.1', '784.45', '2823', '5822.3', '4931.8', '1505.15', '46.4', '5289.8', '1556.85', '2537', '6605.55', '5265.5', '4764', '1120.3', '3533.6', '5617.95', '229.55', '159.2', '880.2', '88.35', '1171.5', '6241.35', '6962.85', '5714.25', '6895.5', '3512.15', '824.75', '2386.85', '5324.5', '1056.95', '2088.8', '1029.75', '6840.95', '3198.6', '3591.25', '3487.95', '916.15', '3008.55', '6444.05', '3217.65', '95.1', '810.2', '3944.5', '5643.4', '1294.6', '38.15', '69.65', '685.55', '221.35', '2633.3', '1301.1', '1125.2', '1803.7', '2874.15', '655.5', '3265.95', '2193', '4917.75', '444.75', '349.8', '7965.95', '2538.05', '3626.35', '8127.6', '5999.85', '2333.85', '393.15', '3023.65', '100.9', '1850.65', '1641.8', '2447.45', '1373.05', '90.85', '830.7', '5424.25', '3588.4', '4653.85', '1558.65', '1096.25', '2001', '3928.3', '1129.1', '2531.4', '6441.85', '1611.65', '6890', '638.55', '847.3', '1178.4', '1809.35', '989.45', '69.55', '1497.9', '1580.1', '3545.35', '5552.05', '24.6', '2908.2', '465.05', '1274.05', '60', '1359', '2383.6', '69.9', '408.25', '3250.45', '7862.25', '1378.45', '3263.9', '5730.7', '181.8', '4753.85', '4903.15', '713.1', '44.05', '6145.85', '1405.3', '2983.8', '1563.9', '445.95', '1024', '279.25', '2455.05', '5969.95', '5309.5', '1133.65', '462.8', '4738.85', '1525.35', '1218.55', '3870', '3674.95', '23.45', '1007.9', '93.7', '2698.35', '63.75', '6953.4', '629.55', '4461.85', '309.35', '3363.8', '930.95', '6688.1', '4481', '1307.8', '3759.05', '1041.8', '2157.95', '926.2', '5278.15', '6281.45', '1358.85', '6697.35', '7882.25', '212.3', '5102.35', '847.25', '1115.2', '161.95', '953.65', '239', '1448.8', '896.75', '2038.7', '119.3', '2669.45', '2169.8', '4786.15', '45.2', '5809.75', '6155.4', '1068.85', '1797.75', '326.8', '1385.85', '1849.95', '1454.15', '5000.05', '564.35', '919.4', '5826.65', '411.25', '5893.95', '327.45', '1108.8', '1430.05', '416.4', '3309.25', '4594.95', '488.65', '1024.65', '2200.25', '2448.5', '264.8', '4390.25', '1867.6', '1259', '6230.1', '4138.7', '3183.4', '19.8', '533.5', '2122.05', '1688.9', '4318.35', '1927.3', '1315', '1389.35', '5435.6', '633.85', '1363.45', '770.5', '76.95', '581.85', '157.65', '377.55', '6448.85', '314.95', '1941.5', '2514.5', '711.9', '834.1', '7288.4', '2347.9', '161.65', '551.3', '865.1', '1110.5', '4735.35', '838.7', '3473.4', '5082.8', '295.55', '853', '1931.75', '2045.55', '343.95', '355.1', '5232.9', '1454.25', '741', '320.4', '79.5', '6365.35', '2440.15', '1313.25', '7751.7', '3678.3', '504.05', '2939.8', '577.15', '1058.25', '5890', '1737.45', '2820.65', '493.4', '422.7', '220.45', '196.75', '521', '1652.4', '385.9', '374', '5760.65', '5610.7', '7213.75', '2877.95', '2075.1', ' ', '1574.45', '4250.1', '162.45', '1374.9', '4454.25', '547.8', '5265.2', '973.35', '6565.85', '4990.25', '937.6', '587.4', '74.7', '144.35', '816.8', '422.5', '3486.65', '4155.95', '417.65', '1398.25', '2077.95', '292.8', '253', '812.4', '2934.3', '59.75', '711.15', '2053.05', '1778.7', '7244.7', '1211.65', '4747.5', '572.85', '7181.95', '2302.35', '178.8', '134.7', '5437.75', '3769.7', '4859.25', '874.8', '20.05', '4512.7', '5224.5', '987.95', '989.05', '321.05', '1146.05', '543', '415.4', '412.1', '55.8', '481.1', '5036.3', '77.6', '3726.15', '1267.95', '1261.35', '5589.45', '4982.5', '1654.7', '244.8', '3756.4', '297.35', '5212.65', '7101.5', '5426.85', '5935.1', '658.1', '4890.5', '5948.7', '226.8', '1083', '8100.55', '334.65', '223.75', '1147.45', '136.75', '1441.1', '329.8', '6766.95', '113.95', '4317.35', '25.05', '587.45', '3242.5', '6631.85', '4615.9', '76.4', '3754.6', '746.05', '5166.2', '5196.1', '3353.4', '7774.05', '477.6', '2257.75', '25.2', '4056.75', '7133.45', '1993.8', '1032', '5986.45', '516.3', '6994.6', '605.25', '2917.65', '5614.45', '1261', '1719.15', '1174.8', '946.95', '280', '890.5', '255.6', '476.8', '923.85', '1311.75', '1336.8', '1495.1', '2433.5', '1463.7', '3772.65', '4065', '4889.2', '1184', '144', '70.2', '8182.75', '75.45', '6449.15', '4820.15', '270.6', '4997.5', '7882.5', '3791.6', '1108.2', '2838.55', '1697.7', '7362.9', '1653.45', '261.25', '261.65', '20.2', '109.8', '4732.35', '3883.3', '4449.75', '3871.85', '1380.4', '4415.75', '198.6', '1258.15', '4213.35', '2312.55', '1345.85', '293.65', '3649.6', '7537.5', '6511.8', '4040.2', '1381.2', '176.3', '1189.9', '1423.35', '829.55', '6143.15', '4874.8', '250.05', '523.5', '1025.15', '1673.8', '914.6', '424.15', '3795.45', '2540.1', '1042.65', '396.1', '1035.7', '53.55', '958.1', '42.45', '1752.65', '336.15', '7922.75', '310.6', '708.2', '4442.75', '3221.25', '1185', '2499.3', '425.1', '1901', '242.05', '147.15', '42.7', '1301', '342.4', '4039', '371.9', '170.9', '49.85', '1194.3', '3139.8', '1553.9', '19.05', '2239.4', '5552.5', '299.05', '3846.75', '675.6', '44.95', '836.35', '2688.85', '1079.45', '100.8', '4464.8', '196.95', '144.95', '1643.25', '4176.7', '89.55', '3157', '3199', '401.85', '5012.35', '659.45', '200.2', '7732.65', '3808', '25.15', '461.3', '4542.35', '301.9', '1263.85', '1137.05', '3842.6', '237.95', '5550.1', '35.05', '4543.15', '395.6', '45.35', '2839.95', '373.5', '40.9', '520.95', '1129.35', '1468.9', '7475.85', '3105.55', '3615.6', '6585.35', '756.4', '593.75', '2753.8', '151.75', '4126.35', '593.05', '3171.15', '1245.6', '4991.5', '71.35', '2416.1', '3043.7', '59.25', '20.5', '2409.9', '1266.35', '5968.4', '1905.4', '442.45', '3521.7', '1278.8', '1398.6', '305.55', '4619.55', '811.65', '1756.2', '143.35', '3274.35', '839.65', '4920.8', '389.25', '2602.9', '168.9', '202.9', '7388.45', '1216.6', '21.05', '518.9', '3471.1', '2516.2', '741.5', '3121.45', '6405', '4564.9', '606.25', '1221.55', '55.55', '54.35', '892.7', '1493.1', '3784', '3145.9', '837.95', '76.65', '210.3', '131.65', '153.05', '5165.7', '3930.6', '56', '3645.5', '331.85', '2369.3', '125', '2896.4', '258.35', '7491.75', '4589.85', '997.75', '1253.15', '411.75', '199.75', '1070.15', '1793.25', '686.95', '3266', '979.5', '101.9', '1057.55', '1907.85', '20.95', '1653.85', '434.8', '5251.75', '1902', '5696.6', '3358.65', '4385.05', '204.7', '718.55', '2341.55', '1875.55', '1326.35', '3207.55', '552.65', '4981.15', '19.9', '117.95', '442.2', '18.9', '1483.25', '5959.3', '4863.85', '1911.5', '1269.6', '1414.2', '65.95', '92.45', '5475.9', '1401.15', '19.2', '112.75', '5624.85', '212.4', '2425.4', '3694.7', '1108', '4062.2', '6373.1', '1686.15', '302.75', '5718.2', '912', '3912.9', '663.05', '527.5', '574.35', '930.05', '1244.5', '2191.7', '411.15', '1021.75', '4309.55', '3092.65', '3019.1', '1929', '655.9', '2398.4', '467.85', '62.8', '1181.75', '2835.5', '4684.3', '3306.85', '4872.45', '2347.85', '5420.65', '993.15', '244.75', '1790.8', '4653.25', '1638.7', '218.55', '2322.85', '3845.45', '2649.15', '1322.85', '1145.35', '3175.85', '1120.95', '1539.75', '4297.6', '2524.45', '3184.25', '516.15', '5638.3', '347.4', '2030.3', '1679.4', '240.45', '2596.15', '5553.25', '1514.85', '151.65', '219.5', '3384', '4965', '111.05', '1288', '107.1', '522.35', '1582.75', '2688.45', '20.25', '4092.85', '89.15', '89.75', '1237.85', '4009.2', '8310.55', '616.9', '1646.45', '6780.1', '5688.45', '1057.85', '2890.65', '3410', '8182.85', '3948.45', '1277.75', '2467.1', '6256.2', '1821.2', '5215.25', '6555.2', '791.75', '6382.55', '3035.35', '5769.6', '7129.45', '4713.4', '4003', '5174.35', '6171.2', '1912.85', '2878.55', '1955.4', '2015.35', '81', '4017.45', '80.2', '7113.75', '5785.5', '2239.65', '3983.6', '1267', '367.95', '1096.65', '3645.05', '2088.45', '1620.25', '7099', '873.4', '2184.85', '572.2', '6743.55', '4677.1', '832.05', '1288.3', '1662.05', '1043.35', '1521.2', '8468.2', '193.6', '759.35', '3254.35', '1248.9', '5839.3', '50.65', '5950.2', '4194.85', '4242.35', '1177.05', '2530.4', '357', '2094.9', '1537.9', '214.75', '301.4', '1672.35', '6218.45', '1266.1', '1372.45', '4740', '5776.45', '6078.75', '8013.55', '921.55', '3472.05', '3131.8', '1312.15', '432.25', '645.8', '746.75', '2674.15', '4859.95', '2362.1', '2723.75', '697.7', '2162.6', '1193.55', '666', '1448.6', '1242.45', '6404', '6856.95', '1847.55', '41.85', '1055.9', '2511.95', '1412.4', '1466.1', '1107.25', '5894.5', '633.4', '2484', '1388.45', '1544.05', '597', '242', '270.2', '146.4', '136.05', '593.85', '3483.45', '4541.2', '6423', '792.15', '2309.55', '3778.1', '1519', '43.15', '486.2', '485.2', '7061.65', '1663.75', '817.95', '1889.5', '381.2', '927.35', '1242.2', '773.2', '3822.45', '2566.3', '958.15', '1240.8', '514.75', '1162.85', '2028.8', '5841.35', '94.4', '3161.2', '5895.45', '1068.15', '20.85', '54.7', '5646.6', '2813.05', '1311.3', '6424.25', '3848.8', '20', '507.4', '1212.1', '2510.7', '36.8', '2237.55', '868.5', '2619.15', '6747.35', '1187.05', '54.3', '5629.15', '4264.6', '1531.4', '44.35', '5025.85', '45.7', '2460.35', '1131.2', '134.35', '1244.8', '450.65', '559.2', '402.5', '550.1', '548.9', '2806.9', '37.2', '992.7', '2145', '4908.25', '184.65', '1303.5', '3264.5', '5607.75', '27.55', '2048.8', '607.3', '176.2', '3264.45', '1114.55', '316.2', '6302.85', '4059.85', '4145.9', '407.05', '73', '1868.4', '5737.6', '1028.75', '3177.25', '568.2', '1683.6', '5037.55', '280.35', '7726.35', '955.15', '624.15', '8075.35', '333.65', '1031.4', '3713.95', '2070.75', '1111.2', '4063', '4029.95', '1267.2', '8016.6', '2348.45', '453.4', '1064.65', '1416.75', '826.1', '5979.7', '8349.7', '1821.8', '250.1', '2444.25', '3886.45', '7966.9', '1434.1', '3457.45', '2375.4', '2907.55', '19.45', '3847.6', '454.15', '2884.9', '308.25', '30.2', '3475.55', '1095.65', '2862.55', '6201.95', '3121.1', '1029.35', '1461.15', '235.1', '587.1', '63', '736.8', '3665.55', '415.05', '8309.55', '469.8', '2807.1', '1654.6', '5290.45', '3973.2', '1789.9', '3316.1', '1654.85', '2249.95', '3109.9', '1970.5', '1376.5', '86.6', '283.75', '4698.05', '3551.65', '2130.45', '3007.25', '886.4', '6849.4', '2658.4', '1013.6', '1554', '229.6', '7321.05', '1426.75', '941', '2575.45', '74.3', '5655.45', '580.8', '7234.8', '7108.2', '852.7', '123.8', '1667.25', '5199.8', '2830.45', '1430.25', '5746.75', '810.85', '4985.9', '470.95', '727.85', '5692.65', '135.75', '1175.6', '5785.65', '94.45', '949.85', '5031.85', '4749.15', '6096.45', '5676.65', '5753.25', '563.65', '1629.2', '2201.75', '1281', '7002.95', '845.25', '2497.35', '469.85', '7904.25', '4861.45', '6979.8', '330.25', '1205.05', '493.95', '216.2', '7856', '6547.7', '894.3', '3416.85', '2555.05', '1049.6', '119.75', '2979.3', '6411.25', '5961.1', '1422.65', '1567.55', '4896.35', '1601.5', '1830.05', '825.1', '1641.3', '7578.05', '2203.1', '1888.65', '1702.9', '680.05', '3887.25', '3110.1', '1937.4', '1611', '4459.8', '1493.2', '4586.15', '2607.6', '7943.45', '637.55', '6369.45', '6309.65', '864.2', '1509.9', '1346.2', '1908.35', '51.25', '5708.2', '2264.05', '1126.35', '5253.95', '3554.6', '5844.65', '5749.8', '886.7', '1785.65', '340.85', '332.45', '6139.5', '3273.8', '1732.6', '4263.4', '299.75', '3478.75', '6717.9', '3058.3', '1164.3', '1043.3', '501', '267.6', '985.05', '7968.85', '805.2', '1143.8', '6985.65', '2215.45', '1493.75', '7028.5', '4237.5', '3084.9', '263.05', '1843.05', '6876.05', '810.7', '4920.55', '6413.65', '475.25', '3474.2', '7611.85', '1263.9', '3035.8', '678.45', '178.7', '520.1', '1742.45', '1166.7', '7238.6', '246.6', '1442.65', '1070.5', '6393.65', '1775.8', '2625.25', '137.25', '639.45', '19.6', '2724.25', '4634.35', '1993.25', '107.05', '97.5', '857.25', '2799.75', '5289.05', '529.8', '5411.4', '1346.3', '7069.3', '5794.45', '290.55', '2835.9', '1066.15', '3166.9', '741.7', '225.85', '3735.45', '7412.25', '673.2', '683.75', '4972.1', '724.65', '3334.95', '130.25', '1816.75', '1264.2', '3435.6', '3808.2', '1476.25', '5625.55', '452.8', '147.5', '967.85', '592.65', '7262', '2598.95', '69.7', '1061.6', '7565.35', '6480.9', '5031', '5442.05', '512.25', '145.4', '4976.15', '4663.4', '202.3', '1566.9', '4443.45', '6578.55', '44.9', '1421.75', '1292.65', '1459.35', '914', '3587.25', '5060.9', '210.65', '6529.25', '2995.45', '5846.65', '5448.6', '531.55', '1838.15', '314.6', '6859.5', '174.7', '720.05', '228.4', '2531.8', '4222.95', '111.4', '49', '4786.1', '1507', '460.2', '3355.65', '2845.15', '6767.1', '6614.9', '6118.95', '801.3', '571.05', '147.8', '43.85', '521.8', '2180.55', '2033.05', '141.6', '2686.05', '6056.9', '265.45', '6039.9', '5498.2', '44.6', '1286', '2627.35', '74', '769.1', '3753.2', '2357.75', '28.3', '6638.35', '764.95', '106.85', '745.3', '956.65', '4447.55', '3624.3', '602.9', '7679.65', '401.95', '2754', '3825.85', '294.2', '1252.85', '560.6', '1457.25', '1625', '4860.35', '488.25', '1626.4', '3563.8', '91.3', '68.95', '485.9', '2209.75', '701.3', '1474.35', '1784.5', '514', '8443.7', '704.3', '563.5', '95', '1275.7', '4174.35', '1287.85', '3862.55', '4438.2', '1460.65', '6045.9', '223.45', '6145.2', '497.3', '3836.3', '1527.5', '350.35', '4492.9', '3532.85', '1493.55', '550.6', '461.7', '1439.35', '174.8', '2139.1', '417.75', '1972.35', '7133.25', '4042.3', '4045.65', '191.35', '2351.45', '3365.4', '576.65', '298.45', '1001.5', '521.1', '4903.2', '854.9', '6428.4', '5832.65', '128.6', '1623.4', '1679.25', '4690.65', '3880.05', '4144.8', '3921.3', '7845.8', '6375.8', '4233.95', '702.05', '1799.3', '3420.5', '1237.65', '323.45', '19.5', '110.05', '2510.2', '978', '5608.4', '2443.3', '5264.5', '159.35', '1108.6', '477.05', '502.85', '5043.2', '883.35', '2802.3', '1520.9', '1219.85', '6975.25', '6886.25', '69.35', '2460.55', '1417.9', '5229.8', '291.4', '3877.65', '220.4', '7455.45', '7634.25', '1004.35', '3437.5', '2731', '5727.15', '3255.35', '44.2', '1394.55', '415.1', '3014.65', '117.05', '7007.6', '6052.25', '4828.05', '6239.05', '2258.25', '183.75', '3950.85', '44.65', '2243.9', '489.45', '2171.15', '6465', '478.75', '1167.8', '1233.15', '3673.6', '223.6', '768.45', '844.45', '2208.75', '1367.75', '130.15', '4965.1', '3042.25', '4885.85', '1046.1', '1125.6', '55.45', '900.9', '5971.25', '1502.65', '740.55', '18.85', '2076.2', '7323.15', '4868.4', '2211.8', '46.35', '4178.65', '8192.6', '146.6', '600.25', '82.85', '70.6', '5883.85', '1144.5', '2244.95', '851.75', '35.25', '2583.75', '79.95', '1146.65', '834.7', '1401.4', '1533.8', '1743.5', '303.15', '1685.9', '702', '279.2', '3777.15', '2998', '3320.75', '5445.95', '4765', '3013.05', '3043.6', '1043.8', '35.75', '1620.8', '6362.35', '3370.2', '6707.15', '3974.15', '3395.8', '1777.6', '132.25', '1633', '743.05', '477.7', '50.9', '1561.5', '439.2', '387.7', '7806.6', '2660.2', '1837.9', '4189.7', '1564.05', '31.9', '7365.7', '2511.55', '293.3', '3921.1', '2404.85', '1471.75', '6065.3', '876.75', '385', '494.95', '1228.65', '5730.15', '2723.4', '3857.1', '2535.55', '402.6', '7074.4', '4793.8', '1769.6', '7581.5', '1229.1', '2032.3', '299.3', '1931.3', '4746.05', '4164.4', '1024.7', '300.7', '4191.45', '4234.15', '6093.3', '6841.3', '4915.15', '8477.7', '2333.05', '1540.05', '2006.1', '5073.1', '1415', '2338.35', '55.05', '1032.05', '3985.35', '3720.35', '29.7', '6339.3', '1193.05', '830.85', '813.45', '6302.8', '7220.35', '2200.7', '3887.85', '1924.1', '253.8', '242.4', '5200.8', '486.85', '482.8', '187.75', '2665', '5497.05', '1036', '1329.15', '2090.25', '4107.3', '566.1', '2188.5', '1390.85', '1500.95', '154.3', '25.25', '419.4', '3046.4', '973.1', '266.95', '1222.65', '2276.95', '6889.8', '1651.95', '2298.55', '4869.35', '1505.85', '552.9', '628.65', '113.1', '3313.4', '75.55', '1763.55', '45.1', '3465.05', '94.6', '1463.5', '2790.65', '532.1', '214.4', '669', '3371.75', '50.1', '4674.55', '1740.8', '1183.8', '4122.9', '5731.4', '4555.2', '6347.55', '609.1', '259.8', '475.7', '1948.35', '564.4', '5398.6', '5511.65', '649.4', '7082.45', '858.6', '551.95', '605.9', '533.05', '2839.65', '451.1', '6536.5', '1901.65', '6843.15', '272', '5536.5', '3440.25', '5549.4', '672.2', '1689.45', '4630.2', '6925.9', '2021.35', '1411.35', '538.2', '6471.85', '179.25', '156.35', '385.55', '661.55', '1626.05', '5431.4', '459.6', '1079.65', '5916.45', '545.15', '1451.6', '1841.2', '1158.85', '1893.5', '926.25', '6567.9', '2288.7', '2023.55', '938.65', '913.3', '1155.6', '7852.4', '1233.4', '435', '1682.4', '7517.7', '70', '6976.75', '264.85', '78.8', '5791.1', '5064.45', '81.25', '3444.85', '412.5', '196.35', '54.75', '1348.5', '5315.1', '174.3', '8071.05', '2924.05', '4374.55', '970.55', '8672.45', '4547.25', '326.65', '1725.4', '49.55', '1821.95', '6296.75', '1054.75', '487.75', '4754.3', '6109.65', '6068.65', '700.45', '209.9', '6844.5', '57.2', '6751.35', '1501.75', '6590.8', '3171.6', '228.65', '920.5', '321.7', '6017.9', '1218.45', '273.75', '206.6', '2169.4', '860.85', '4108.15', '160.05', '633.3', '6038.55', '1436.95', '93.3', '1932.75', '4213.9', '1614.2', '625.05', '1375.4', '818.45', '4300.45', '4527.45', '5878.9', '7082.85', '1958.45', '525', '973.95', '5264.3', '5013', '765.5', '367.55', '733.35', '70.05', '3975.9', '331.3', '3771.5', '217.1', '275.9', '842.25', '6640.7', '4929.55', '1375.15', '6716.45', '6185.15', '1269.1', '4016.3', '55.7', '2566.5', '780.1', '1759.4', '563.05', '6075.9', '1732.95', '1010', '1429.65', '3165.6', '3581.6', '2964', '3687.75', '1494.5', '3848', '184.4', '419.35', '1430.95', '158.95', '7334.05', '1052.35', '383.65', '734.6', '888.65', '1087.7', '1520.1', '2541.25', '535.35', '4254.1', '601.55', '1655.35', '161.15', '324.2', '3342.45', '346.45', '5597.65', '219', '5916.95', '463.6', '7250.15', '8404.9', '3527', '152.45', '1254.7', '3624.35', '6001.45', '7532.15', '8399.15', '761.95', '50.55', '2782.4', '7508.55', '1173.35', '237.7', '1281.25', '4103.9', '3047.15', '475.1', '246.5', '417.7', '2716.3', '340.35', '6719.9', '7279.35', '1928.7', '4747.2', '139.25', '4735.2', '1133.9', '55.25', '3321.35', '3756.45', '1652.1', '1123.15', '1321.3', '109.5', '1710.9', '5610.25', '478.1', '1810.85', '174.65', '3340.55', '383.55', '4079.55', '638', '7344.45', '358.15', '3024.15', '2651.2', '4528', '3505.1', '1761.05', '726.1', '1992.85', '2438.6', '38.25', '1490.4', '2689.35', '61.7', '851.2', '6561.25', '80.8', '703.55', '7039.05', '25.85', '4664.15', '8333.95', '1852.85', '6557.75', '1170.5', '1504.05', '2320.8', '44.3', '3247.55', '4448.8', '443.9', '5023', '6094.25', '306.05', '3414.65', '2657.55', '4060.55', '7542.25', '2281.6', '264.55', '73.05', '705.45', '3597.5', '5206.55', '1339.8', '76.35', '374.8', '4346.4', '373', '6585.2', '2866.45', '679', '2343.85', '1306.3', '90.35', '4729.75', '5311.85', '1341.5', '3415.25', '5743.3', '1539.45', '4162.05', '259.65', '2495.15', '319.15', '5265.55', '951.55', '4947.55', '4824.45', '74.6', '1682.05', '625.65', '1958.95', '20.15', '1714.55', '4307.1', '69.5', '3343.15', '3204.65', '2082.95', '370.25', '5526.75', '813.85', '3460.3', '433.5', '1215.45', '812.5', '5784.3', '1743.05', '237.2', '4284.65', '1364.3', '346.2', '4984.85', '1301.7', '6460.55', '7839.85', '105.6', '2030.75', '903.6', '713.6', '6029', '3801.3', '232.5', '409.9', '2387.75', '815.55', '69.2', '5036.9', '2618.3', '7842.3', '4952.95', '1098.85', '3966.3', '7222.75', '5763.3', '3442.15', '471.7', '1039.45', '1101.85', '160.8', '5430.35', '1112.3', '269.65', '7030.65', '1841.9', '1393.6', '213.35', '617.15', '4326.8', '533.9', '87.3', '6287.3', '869.9', '7379.8', '33.7', '3581.4', '238.1', '356.65', '5731.85', '3969.4', '6590.5', '4600.95', '797.1', '487.05', '370.4', '44.7', '2434.45', '653.15', '537.35', '1092.35', '839.4', '5669.5', '1790.35', '4600.7', '3431.75', '887.35', '153.8', '442.85', '565.75', '446.1', '70.85', '1540.35', '5885.4', '5438.9', '2492.25', '365.4', '6010.05', '2168.9', '197.4', '5460.2', '6982.5', '3460.95', '830.25', '4187.75', '7365.3', '5480.25', '5150.55', '1377.7', '1882.55', '1620.45', '1686.85', '5163', '1460.85', '1534.05', '294.9', '2271.85', '2381.55', '4546', '3557.7', '1049.05', '1191.2', '331.35', '692.1', '918.75', '276.5', '5705.05', '94.55', '4224.7', '49.8', '168.15', '7711.45', '5629.55', '198.5', '3902.6', '146.65', '5897.4', '7322.5', '56.35', '70.9', '3603.45', '384.5', '3582.4', '5237.4', '2673.45', '2186.4', '138.85', '275.7', '436.6', '7114.25', '142.35', '211.95', '74.25', '4348.65', '335.95', '2349.8', '6944.5', '91.1', '5234.95', '4820.55', '868.1', '7567.2', '723.3', '954.9', '2757.85', '73.55', '4524.05', '589.25', '351.5', '3282.75', '1778.5', '662.65', '1170.55', '208.25', '20.75', '155.8', '1789.65', '61.05', '202.15', '7881.2', '148.05', '2659.4', '97.1', '221.1', '39.65', '4615.25', '720.1', '4871.45', '7049.75', '227.45', '2172.05', '52', '2209.15', '6283.3', '1733.15', '3036.75', '294.5', '6056.15', '229.5', '1152.7', '916', '1373', '1208.35', '170.85', '4859.1', '2192.9', '114.15', '917.15', '1940.85', '4874.7', '438', '1784.9', '4964.7', '5468.45', '5568.35', '139.35', '325.45', '7987.6', '1011.8', '1178.75', '6328.7', '918.6', '990.45', '6637.9', '1474.9', '168.5', '3605.6', '3846.35', '4904.2', '311.6', '813.3', '6367.2', '220.6', '190.5', '4119.4', '84.2', '2545.7', '4939.25', '1386.9', '2554', '855.1', '1322.55', '7039.45', '877.35', '936.7', '20.55', '1734.5', '2391.15', '2948.6', '6690.75', '8297.5', '3646.8', '225.75', '1025.95', '2603.1', '145', '4025.5', '226.45', '929.2', '6744.25', '5163.3', '96.85', '7880.25', '970.4', '360.35', '1529.45', '3096.9', '185.4', '1596.6', '1683.7', '504.2', '268.45', '1698.55', '6519.75', '3515.25', '6998.95', '35.45', '3723.65', '5867', '2560.1', '8166.8', '6989.45', '5680.9', '4479.2', '7308.95', '742.9', '819.95', '1391.65', '3419.3', '1545.4', '455.5', '433.95', '2546.85', '7318.2', '50.7', '1612.75', '865.85', '338.9', '1825.5', '1898.1', '784.25', '6615.15', '3517.9', '4375.8', '4345', '876.15', '3915.4', '241.3', '888.75', '1416.5', '68.8', '6880.85', '1677.85', '1752.45', '1956.4', '3231.05', '762.5', '3766.2', '69.25', '436.9', '6859.05', '6860.6', '6688.95', '521.3', '1328.35', '1938.9', '6224.8', '5458.8', '6137', '4483.95', '3233.85', '355.2', '2000.2', '4525.8', '2234.95', '1406.65', '2065.15', '1233.65', '7746.7', '5265.1', '1027.25', '4862.5', '251.25', '806.95', '1315.35', '3810.8', '2708.2', '1345.55', '1432.55', '44.8', '84.8', '1337.5', '249.95', '1215.1', '43.3', '950.2', '1840.75', '453.75', '908.75', '1730.65', '1132.35', '1021.8', '1236.15', '2282.55', '5293.95', '6856.45', '5769.75', '1224.05', '2361.8', '2471.25', '990.3', '219.35', '5373.1', '1058.1', '1573.7', '2424.45', '6310.9', '1699.15', '2368.4', '2034.25', '331.6', '1681.6', '931.55', '3273.95', '4669.2', '1546.3', '1505.05', '5431.9', '237.25', '1275.85', '3088.25', '5135.15', '684.4', '45.25', '2496.7', '2661.1', '1218.65', '3003.55', '1808.7', '71', '45.85', '116.95', '2666.75', '466.6', '1794.8', '1581.95', '5514.95', '771.95', '1943.9', '450.9', '357.75', '78.65', '805.1', '6109.75', '202.25', '7227.45', '8424.9', '5780.7', '1830.1', '2653.65', '141.45', '701.05', '819.55', '6538.45', '4599.15', '79.8', '1122.4', '2236.2', '530.05', '164.3', '1132.75', '4807.35', '1359.45', '6223.8', '4136.4', '3349.1', '739.35', '5034.05', '5299.65', '2107.15', '3045.75', '2576.2', '164.5', '5017.9', '233.9', '7281.6', '4254.85', '713', '181.1', '1857.75', '793.55', '2854.95', '8594.4', '2728.6', '75.05', '7245.9', '5956.85', '8046.85', '2076.05', '4070.95', '1783.75', '6652.45', '29.85', '91.4', '78.3', '4508.65', '538.5', '45.65', '851.8', '526.95', '324.8', '1364.75', '404.2', '528.45', '695.75', '457.1', '294.95', '19', '1559.45', '38.8', '8093.15', '3089.6', '1311.6', '5233.25', '90.1', '6416.7', '1117.55', '21.1', '415.95', '6306.5', '6058.95', '4919.7', '471.55', '8061.5', '1110.35', '6342.7', '5042.75', '6161.9', '497.6', '335.65', '1237.3', '4303.65', '1747.2', '526.7', '339.9', '5538.35', '4414.3', '4685.55', '71.65', '7261.25', '759.55', '44', '7297.75', '7413.55', '5763.15', '2415.95', '1422.05', '4304', '266.8', '1759.55', '8058.55', '902.25', '1215.6', '2196.15', '751.65', '874.2', '2238.5', '405.6', '454.65', '2498.4', '4888.7', '179.85', '8425.3', '3958.85', '593.2', '579', '5965.95', '2960.1', '3439', '184.1', '890.6', '1530.6', '2088.05', '5485.5', '2263.45', '1238.45', '21', '2656.5', '3053', '864.55', '3512.9', '413', '678.2', '3398.9', '2276.1', '2755.35', '101.65', '95.85', '352.65', '934.8', '1423.65', '2134.3', '2193.2', '195.05', '622.9', '3211.2', '25.3', '7714.65', '5508.35', '1730.35', '750.1', '1470.95', '1274.45', '137.6', '4085.75', '335.75', '235.65', '2421.6', '5388.15', '102.45', '305.1', '249.4', '7553.6', '1587.55', '1797.1', '5498.8', '8436.25', '164.6', '75.9', '3994.45', '272.35', '3919.15', '522.95', '6316.2', '3608', '6376.55', '3229.65', '5129.45', '1048.85', '321.4', '5070.4', '2111.3', '1016.7', '6668', '5317.8', '6311.2', '556.35', '323.25', '25.8', '1298.7', '665.45', '186.3', '4025.6', '1078.75', '5564.85', '5068.05', '1510.3', '1861.1', '4783.5', '4576.3', '246.3', '2550.9', '1222.25', '2857.6', '717.5', '4158.25', '1233.25', '4245.55', '7396.15', '684.85', '4812.75', '1221.65', '94.15', '5731.45', '56.25', '5487', '910.45', '80.35', '46.3', '5656.75', '2215.4', '1553.2', '3838.75', '627.4', '2976.95', '1742.5', '5647.95', '845.6', '6579.05', '1630.4', '299.4', '3134.7', '2345.55', '4747.85', '900.5', '3145.15', '7919.8', '1917.1', '5186', '1539.8', '233.7', '857.2', '24.4', '2248.05', '6110.75', '79.65', '118.5', '4156.8', '1442.6', '7210.85', '1496.9', '5000.2', '223.15', '80', '137.85', '108.15', '298.35', '1816.2', '1037.75', '4456.65', '1835.3', '757.1', '3815.4', '62.25', '2196.45', '7674.55', '7854.9', '581.7', '1045.25', '7854.15', '1295.4', '1886.4', '770.6', '1952.8', '365.35', '2633.4', '265.75', '1070.7', '94', '2710.25', '3186.65', '5560', '348.8', '6991.9', '5567.55', '2722.2', '162.15', '931.75', '1033', '1505.35', '1212.25', '3744.05', '7482.1', '832.3', '6441.4', '6388.65', '19.1', '173.15', '5882.75', '2080.1', '6079', '1235.55', '2292.75', '1992.95', '24.45', '5743.05', '802.35', '272.95', '3974.7', '1212.85', '809.25', '201.95', '688', '3229.4', '1021.55', '576.95', '415.9', '1057', '3893.6', '5333.35', '2839.45', '1660', '4523.25', '284.35', '8349.45', '669.45', '470.6', '535.55', '1593.1', '48.6', '4904.25', '8543.25', '916.75', '3520.75', '353.65', '2683.2', '302.6', '2043.45', '257', '3055.5', '1308.1', '4428.45', '7887.25', '1083.7', '1515.1', '5124.55', '1916', '6333.8', '152.95', '3988.5', '733.95', '189.95', '1052.4', '1940.8', '7266.95', '2861.45', '139.4', '585.95', '4122.65', '1265.65', '613.95', '4759.55', '608.5', '318.9', '238.5', '6669.45', '370.65', '5450.7', '1031.7', '19.65', '973.55', '2215.25', '255.35', '1173.55', '2012.7', '917.45', '1706.45', '4428.6', '2054.4', '5118.95', '4510.8', '145.15', '412.55', '4144.9', '246.7', '4563', '216.45', '449.3', '6744.2', '829.1', '590.35', '89.5', '611.65', '2658.8', '6841.05', '2655.25', '1410.25', '151.8', '1245.05', '505.95', '2324.7', '3566.6', '1260.7', '4193.4', '1527.35', '137.95', '828.2', '2585.95', '1425.45', '7629.85', '402.85', '7748.75', '321.75', '1081.25', '2684.85', '5154.6', '1701.65', '5125.75', '74.95', '729.95', '600.15', '853.1', '524.35', '1990.5', '1140.05', '931.9', '5438.95', '313.4', '7320.9', '6004.85', '88.8', '2196.3', '4946.05', '572.45', '207.35', '890.35', '6954.15', '44.1', '5294.6', '3886.05', '879.8', '2490.15', '1672.1', '274.35', '3729.75', '33.6', '553', '2298.9', '3365.85', '1859.2', '541.5', '672.7', '401.3', '205.05', '68.65', '123.65', '336.7', '20.65', '492', '7534.65', '3465.7', '44.15', '794.25', '103.7', '654.5', '7849.85', '953.45', '1299.1', '5270.6', '4086.3', '1215.65', '5222.35', '2628.6', '5496.9', '1497.05', '1529.2', '3275.15', '4350.1', '568.85', '129.6', '362.2', '3251.3', '6733.15', '2440.25', '1397.3', '775.3', '929.3', '1388', '835.15', '2208.05', '5703.25', '1566.75', '2391.8', '4671.7', '357.6', '1727.5', '1093', '5899.85', '161.45', '1710.15', '237.65', '1801.9', '95.65', '4720', '702.9', '414.1', '4949.1', '2555.9', '6148.45', '1772.25', '688.5', '252.75', '3027.4', '48.45', '140.1', '1462.05', '7053.35', '84.65', '7459.05', '4089.45', '34.75', '1172.95', '3545.05', '1292.6', '49.65', '3442.8', '7895.15', '485.25', '1389.2', '411.45', '681.4', '3541.35', '299.7', '406.05', '256.25', '916.9', '70.7', '2723.15', '77.15', '2025.1', '67.1', '1691.9', '129.55', '6779.05', '5468.95', '428.7', '77.75', '91.45', '1462.6', '2274.1', '226.2', '5509.3', '558.8', '5594', '833.55', '800.3', '154.85', '3019.25', '3097', '82.7', '600', '75.3', '760.05', '74.4', '4299.2', '720.45', '8312.75', '201.1', '257.6', '1871.85', '710.05', '141.5', '4543.95', '3645.6', '2296.25', '7752.05', '1866.45', '231.8', '7118.9', '1379.8', '2623.65', '75.1', '966.55', '8244.3', '2096.1', '1336.15', '420.2', '1082.75', '6991.6', '214.55', '4370.75', '5744.35', '7665.8', '224.05', '790', '2841.55', '2619.25', '543.8', '1680.25', '2217.15', '90.05', '7689.8', '39.25', '399.45', '60.1', '1671.6', '7530.8', '390.85', '506.9', '875.55', '4741.45', '1165.6', '1133.7', '106.9', '4186.3', '8100.25', '3739.8', '761.85', '531.6', '1802.55', '235.5', '4040.65', '2907.35', '494.9', '3627.3', '233.65', '3949.15', '79.6', '1400.85', '5810.9', '165', '1205.5', '617.65', '382.8', '6869.7', '3233.6', '791.7', '540.05', '649.65', '2888.7', '2570.2', '1095.3', '226.95', '2122.45', '4459.15', '196.9', '7382.25', '2414.55', '7430.75', '732.5', '129.2', '375.25', '712.25', '1282.85', '7285.7', '1124.2', '1350.15', '1505.45', '3503.5', '2187.55', '4400.75', '5301.1', '2877.05', '5461.45', '387.4', '1549.75', '903.8', '6424.7', '2774.55', '2878.75', '679.8', '417.5', '3143.65', '3618.7', '3715.65', '5231.2', '45.55', '208.45', '646.85', '328.95', '1760.25', '340.25', '6457.15', '849.9', '99.95', '1188.25', '5038.45', '3874.1', '1279', '4921.2', '1291.35', '1554.9', '7107', '2007.25', '1297.35', '2441.7', '4048.95', '266.9', '135', '5357.75', '6858.9', '46.2', '1800.05', '3090.05', '5685.8', '74.45', '651.55', '2419.55', '1914.9', '62.9', '3196', '3094.65', '20.4', '2405.05', '41.2', '3670.5', '356.15', '31.2', '781.25', '1939.35', '996.85', '5750', '286.8', '1012.4', '1441.95', '3914.05', '693.45', '2696.55', '1381.8', '631.85', '6929.4', '788.05', '196.15', '3996.8', '3373.4', '8003.8', '2117.25', '6237.05', '541.15', '4549.45', '35.85', '2730.85', '2293.6', '609.65', '31.35', '54.9', '5774.55', '288.05', '1388.75', '2763', '554.25', '5459.2', '780.25', '114.7', '2151.6', '279.5', '2313.8', '219.65', '964.9', '1215.8', '4507.15', '1551.6', '4287.2', '7511.3', '4871.05', '137.1', '3975.7', '6263.8', '4284.8', '6595', '49.95', '3160.55', '4526.85', '465.7', '7051.95', '3078.1', '804.25', '3168.75', '599.3', '2483.65', '2762.75', '332.65', '4539.6', '4494.65', '3645.75', '1402.25', '2572.95', '5238.9', '1362.85', '1874.45', '75.75', '2692.75', '252', '1183.2', '6792.45', '7372.65', '4138.9', '85.15', '2308.6', '741.4', '48.75', '446.05', '1815', '4014', '84.4', '210.75', '740', '5376.4', '7806.5', '132.4', '475.2', '7657.4', '3775.85', '5817', '1798.9', '1538.6', '3452.55', '169.45', '4834', '3721.9', '2136.9', '2331.3', '4370.25', '2799', '401.5', '3687.85', '1165.55', '2847.4', '2636.05', '1790.65', '3858.05', '1424.4', '743.3', '679.85', '5598.3', '857.75', '113.35', '116.6', '5116.6', '95.55', '246.25', '3729.6', '4729.3', '1477.65', '6273.4', '1036.75', '5717.85', '1855.65', '1874.3', '5676', '4860.85', '3067.2', '653.25', '71.15', '990.85', '8476.5', '4367.35', '1842.8', '5125.5', '1787.35', '2316.85', '1288.75', '217.55', '5930.05', '555.4', '644.35', '51.6', '79.1', '518.75', '3565.65', '2407.3', '4822.85', '5611.75', '300.4', '146.3', '4060.9', '4811.6', '1336.65', '3382.3', '1325.85', '287.4', '4614.55', '2635', '4014.6', '469.65', '5432.2', '2065.4', '1715.15', '1342.15', '5566.4', '2220.1', '1871.15', '6225.4', '943.1', '4853.75', '123.05', '7291.75', '3090.65', '2642.05', '2083.1', '1470.05', '2354.8', '2552.9', '75.8', '3482.85', '79.7', '225.6', '178.1', '371.65', '1445.2', '4973.4', '3369.05', '38', '3361.05', '69.4', '503.6', '5602.25', '7156.2', '2459.8', '3066.45', '519.15', '99.6', '3561.15', '7616', '1261.7', '4364.1', '1343.4', '496.9', '1156.55', '943.85', '3270.25', '1980.3', '1424.5', '716.1', '50.15', '577.6', '4847.35', '1389.85', '3132.75', '228', '494.05', '708.8', '4469.1', '469.25', '6017.65', '4719.75', '100.25', '2654.05', '6418.9', '1003.05', '245.15', '1309.15', '3334.9', '52.2', '893', '8058.85', '1316.9', '4399.5', '2020.9', '2187.15', '29.95', '1678.05', '272.2', '6028.95', '191.1', '1067.15', '962.9', '406.95', '6910.3', '2088.75', '115.95', '71.2', '6733', '1639.3', '573.05', '1006.9', '4922.4', '45.8', '70.35', '7689.95', '1130', '1964.6', '2715.3', '3237.05', '184.15', '3181.8', '273', '5873.75', '2809.05', '583.3', '47.7', '419.7', '2791.5', '289.3', '106.55', '4707.85', '647.5', '171.15', '690.25', '4421.95', '1096.6', '2227.8', '458.1', '7767.25', '5244.45', '551.35', '96.45', '5012.1', '24.8', '165.2', '2188.45', '1614.9', '3765.05', '1131.5', '1253.5', '5918.8', '963.95', '1723.95', '5728.55', '3952.65', '962.25', '1834.15', '1240.25', '1529.65', '4917.9', '1060.6', '856.65', '7432.05', '6705.7', '7711.25', '220.75', '1994.3', '2911.3', '6871.7', '8196.4', '1151.55', '700.85', '365.8', '198.7', '4968', '8250', '952.3', '2564.3', '61.15', '2344.5', '426.35', '597.9', '4495.65', '5581.05', '5377.8', '1103.25', '6812.95', '2542.45', '1837.7', '1225.65', '927.65', '611.45', '5921.35', '1013.2', '4818.8', '4323.45', '40.25', '804.85', '5662.25', '4718.25', '450.8', '969.85', '5812.6', '3751.15', '4422.95', '83.4', '155.9', '767.55', '1203.9', '2453.3', '2549.1', '889.9', '323.15', '472.65', '2198.3', '471.35', '1617.5', '141.65', '4913.3', '8425.15', '4914.8', '69.8', '2548.65', '242.8', '620.35', '1834.95', '5720.35', '738.2', '63.15', '5011.15', '3894.4', '2719.2', '4300.8', '6710.5', '1500.25', '892.15', '746.5', '396.3', '260.7', '1574.5', '203.95', '5522.7', '422.6', '144.15', '4295.35', '1054.8', '318.6', '3835.55', '449.75', '30.5', '899.8', '74.35', '3789.2', '2911.8', '1397.65', '1597.25', '854.8', '8220.4', '58.9', '1588.25', '571.75', '7511.9', '7985.9', '1559.25', '1386.8', '190.25', '3965.05', '3512.5', '6385.95', '673.25', '1077.05', '8277.05', '372.45', '45.15', '6018.65', '2513.5', '181.5', '3366.05', '82.3', '3001.2', '25.35', '501.2', '7555', '70.4', '2564.95', '2198.9', '3772.5', '2599.95', '260.8', '524.5', '109.3', '1271.8', '5510.65', '270.95', '612.1', '2966.95', '659.65', '75.35', '263.65', '275.4', '4671.65', '267.35', '3886.85', '209.1', '579.4', '155.35', '7723.9', '5779.6', '678.75', '7554.05', '1715.65', '90.55', '6841.45', '6713.2', '2423.4', '861.85', '109.6', '3168', '1319.95', '1669.4', '3346.8', '75.5', '45.95', '4273.45', '80.05', '298.7', '733.55', '5914.4', '2395.05', '301.55', '69.6', '1246.4', '333.55', '7110.75', '5580.8', '4433.3', '5283.95', '1581.2', '335.4', '1621.35', '435.4', '247', '3623.95', '5711.05', '1555.65', '172.85', '48.55', '928.4', '274.7', '1387', '317.75', '70.45', '677.05', '2130.55', '980.35', '4124.65', '4135', '73.5', '418.4', '4473.45', '1014.25', '554.45', '512.45', '964.35', '943', '2664.3', '1434.6', '460.25', '767.9', '4689.5', '8012.75', '1734.2', '2224.5', '1387.45', '1647', '4179.1', '2001.5', '4941.8', '54.5', '273.25', '8529.5', '3021.3', '110.15', '1423.85', '654.85', '235', '1522.7', '610.2', '770.4', '6081.4', '3351.55', '866.4', '1756.6', '666.75', '1899.65', '92.75', '4535.85', '4869.5', '324.6', '6786.1', '313.6', '5138.1', '4217.8', '6603.8', '564.65', '470', '187.35', '797.25', '480.6', '2093.9', '1020.75', '2659.45', '950.75', '2462.6', '528.35', '360.55', '2227.1', '5032.25', '249.55', '2985.25', '3437.45', '511.25', '7076.35', '635.6', '4733.1', '2230.85', '2249.1', '542.4', '2156.25', '788.55', '565.35', '707.5', '79.05', '149.05', '369.15', '3600.65', '229.4', '6396.45', '3691.2', '5913.95', '4801.1', '2971.7', '2473.95', '5440.9', '308.05', '67.55', '2838.7', '521.35', '35.55', '6526.65', '2433.9', '7132.15', '6129.65', '3252', '341.35', '2497.2', '100.4', '4916.4', '6503.2', '544.55', '1234.8', '5071.05', '2587.7', '772.85', '4323.35', '1130.85', '134.6', '280.4', '2974.5', '5189.75', '6300.85', '5953', '574.5', '3182.95', '165.4', '1975.85', '4116.8', '5893.15', '758.6', '4750.95', '3201.55', '228.75', '35.1', '2983.65', '270.7', '6981.35', '818.05', '5974.3', '2287.25', '344.5', '424.5', '1458.1', '220.1', '2021.2', '452.55', '7898.45', '180.25', '550.35', '2278.75', '712.85', '2921.75', '168.6', '180.3', '4707.1', '6430.9', '3626.1', '1588.75', '4131.95', '4804.75', '775.6', '227.35', '477.55', '2647.1', '197.7', '348.15', '1857.3', '185.2', '69.15', '2896.55', '4620.4', '4456.35', '4354.45', '651.4', '562.6', '3824.2', '4566.5', '1490.95', '1023.75', '536.35', '109.2', '492.55', '1782.05', '4784.45', '6891.45', '1813.35', '5632.55', '908.55', '3457.9', '1319.85', '2545.75', '436.2', '2640.55', '486.05', '35.9', '434.1', '4335.2', '2610.65', '995.35', '2033.85', '6588.95', '762.1', '50.35', '1302.65', '329.75', '1961.6', '1268.85', '1848.8', '7422.1', '267.4', '958.45', '1384.75', '561.15', '50.5', '19.75', '6468.6', '94.5', '5222.3', '76.45', '1148.1', '1064.95', '74.5', '730.4', '3281.65', '3549.25', '4084.35', '3541.1', '245.2', '1082.8', '1301.9', '7171.7', '1380.1', '64.55', '451.55', '7990.05', '6129.2', '1867.7', '3292.3', '7299.65', '34.7', '193.05', '739.9', '6700.05', '7723.7', '174.75', '5430.65', '2697.4', '5683.6', '893.2', '248.95', '6825.65', '389.8', '546.45', '392.5', '273.4', '130.5', '3046.05', '3377.8', '1023.9', '1191.4', '4134.85', '4515.85', '1174.35', '89.05', '3876.2', '4759.75', '714.15', '4504.9', '5958.85', '1725.95', '1559.3', '754.65', '948.9', '6671.7', '70.75', '1378.25', '764.55', '3339.05', '74.2', '70.25', '134.5', '389.6', '174.2', '6000.1', '5645.8', '1782', '1738.9', '1505.9', '620.75', '7658.3', '1345.75', '1182.55', '5168.1', '6822.15', '201.7', '2511.3', '2245.4', '279.3', '6997.3', '6668.35', '2036.55', '369.6', '218.5', '5621.85', '255.5', '2263.4', '3124.5', '4854.3', '567.45', '1468.75', '24', '1345.65', '1336.35', '4487.3', '4134.7', '2049.05', '674.55', '20.45', '6252.7', '307', '6871.9', '5755.8', '505.9', '602.55', '768.05', '2319.8', '497.55', '1728.2', '2424.05', '2936.25', '2119.5', '6794.75', '571.15', '2072.75', '809.75', '1615.1', '5099.15', '20.3', '3283.05', '85.5', '302.35', '1424.6', '1745.2', '3865.6', '978.6', '1636.95', '4261.2', '208.7', '5016.65', '5275.8', '1802.15', '294.45', '62.05', '6725.3', '237.75', '68.45', '1930.9', '2221.55', '1755.35', '892.65', '2743.45', '390.4', '1207', '1415.55', '2157.5', '4310.35', '3834.4', '96.1', '356.1', '2029.05', '5231.3', '4308.25', '4391.45', '902', '5936.55', '961.4', '1957.1', '5931', '4613.95', '156.4', '1444.65', '5637.85', '1046.2', '118.25', '308.7', '789.2', '3029.1', '162.55', '1663.5', '3913.3', '6463.15', '2429.1', '4639.45', '763.1', '6520.8', '914.4', '1553.95', '45', '676.15', '445.85', '7475.1', '706.6', '4179.2', '1189.4', '332.5', '3021.45', '1500.5', '1973.75', '4154.8', '870.25', '7188.5', '521.9', '3580.95', '571.45', '194.2', '1086.75', '5375.15', '973.45', '2031.95', '6595.9', '2854.55', '3413.25', '1573.05', '6332.75', '1416.2', '270.8', '1097.15', '1070.25', '1992.2', '1929.35', '1880.85', '53.5', '254.5', '1739.6', '4759.85', '152.3', '2766.4', '610.75', '6125.4', '232.4', '3741.85', '493.65', '467.5', '1427.55', '154.55', '7758.9', '3211.9', '232.1', '1914.5', '80.5', '697.25', '345.9', '641.25', '4211.55', '5589.3', '1156.35', '5742.9', '5016.25', '1296.8', '6936.85', '279.55', '1692.6', '1776', '73.6', '4616.05', '3210.35', '265.3', '7447.7', '2404.1', '2522.4', '3121.4', '1023.95', '3956.7', '174.45', '2254.2', '1522.65', '689.75', '1859.1', '317.25', '635.9', '7133.1', '706.85', '1192.7', '186.15', '189.45', '7737.55', '1640', '1595.5', '633.45', '4137.2', '4517.25', '168.65', '8065.65', '165.5', '2553.35', '3994.05', '392.65', '717.3', '44.45', '1273.3', '424.45', '2832.75', '1716.45', '5135.35', '83.75', '1818.3', '795.65', '638.95', '1441.8', '6096.9', '1424.95', '1540.2', '576.7', '2964.8', '302.45', '6185.8', '6951.15', '384.25', '8248.5', '2265.25', '1445.95', '2812.2', '71.25', '1209.25', '5401.9', '2680.15', '3673.15', '930.9', '1359.5', '1565.7', '47.95', '1334.45', '24.75', '7869.05', '1066.9', '1258.6', '2395.7', '1426.4', '2275.1', '1482.3', '1637.3', '2961.4', '265.35', '90.75', '2548.55', '39.85', '340.4', '659.35', '786.3', '713.75', '322.5', '8375.05', '260.9', '6572.85', '1374.2', '6042.7', '967.9', '5336.35', '695.05', '938.95', '1334', '8496.7', '2796.45', '70.3', '5535.8', '80.25', '3379.25', '5500.6', '232.55', '3019.5', '429.55', '6110.2', '4068', '762.45', '2509.25', '3128.8', '50.75', '1059.55', '4895.1', '2264.5', '1378.75', '1496.45', '4549.05', '5484.4', '683.25', '70.55', '188.1', '141.1', '2010.95', '1126.75', '575.45', '220.65', '942.95', '195.65', '164.85', '966.25', '92.25', '3694.45', '4299.75', '4888.2', '5295.7', '2656.7', '178.85', '518.3', '2204.35', '4146.05', '6330.4', '324.25', '160.75', '824.85', '1396', '3131.55', '79.25', '2274.35', '6914.95', '2970.8', '1643.55', '503.25', '8126.65', '5293.4', '1789.25', '95.6', '3807.35', '646.05', '255.55', '1028.9', '59.55', '71.1', '1121.05', '447.75', '5084.65', '3107.3', '147.55', '341.6', '1832.4', '1392.25', '309.4', '1250.85', '4847.05', '2964.05', '5963.95', '4480.7', '2901.8', '1547.35', '134.05', '185.6', '1776.95', '5574.35', '1492.1', '727.8', '4107.25', '3650.35', '468.35', '1011.05', '2421.75', '613.4', '7634.8', '418.8', '244.45', '5481.25', '1214.05', '2515.3', '3861.45', '5661.7', '35', '2751', '1046.5', '1971.15', '7707.7', '4378.9', '4097.05', '3082.1', '3539.25', '190.1', '403.35', '139.05', '4018.05', '3205.6', '1218.25', '1623.15', '1893.95', '1185.95', '1679.65', '599.25', '2108.35', '592.75', '1916.2', '799.65', '939.8', '344.2', '1412.65', '1336.1', '6215.35', '4744.35', '24.7', '81.7', '3593.8', '207.4', '4631.7', '474.9', '4900.65', '3246.45', '80.15', '6562.9', '3629.2', '2274.9', '1419.4', '937.1', '630.6', '1195.95', '6019.35', '1498.65', '999.9', '40.2', '2606.35', '165.35', '3467', '1216.35', '1090.6', '1115.6', '404.35', '93.55', '50.45', '2003.6', '2006.95', '57.4', '1761.45', '8109.8', '7240.65', '220.8', '1524.85', '95.45', '5860.7', '33.2', '108.05', '5980.55', '8041.65', '1292.2', '8022.85', '314.55', '3856.75', '5464.65', '371.6', '1382.9', '1406', '514.6', '1704.95', '2959.8', '66.95', '2724.6', '2109.35', '5396.25', '2603.95', '1004.75', '2068.55', '1573.95', '1074.65', '820.5', '8547.15', '5957.9', '199.85', '24.2', '846.8', '44.75', '6254.2', '7261.75', '3005.8', '2869.85', '4016.2', '48.35', '283.95', '73.65', '1058.6', '5121.3', '215.8', '5315.8', '86.35', '2479.25', '3958.25', '1813.1', '1748.55', '4026.4', '4520.15', '4616.1', '347.65', '1114.85', '6912.7', '1111.65', '63.6', '221.7', '871.4', '7690.9', '217.45', '2804.45', '83.3', '4054.2', '629.35', '6613.65', '45.6', '5595.3', '3000.25', '4577.9', '608', '898.35', '973.25', '4192.15', '30.55', '1190.5', '2351.8', '1776.45', '1654.45', '111.65', '1327.15', '1396.25', '235.05', '4748.7', '7168.25', '289.1', '1758.9', '3017.65', '1836.9', '1614.7', '857.8', '1050.5', '330.15', '867.3', '1238.65', '2104.55', '132.2', '457.3', '1992.55', '3244.4', '193.8', '1139.2', '1714.95', '4116.9', '5038.15', '85', '1094.35', '5153.5', '811.8', '3008.15', '6602.9', '6470.1', '397', '1198.8', '498.25', '81.95', '7932.5', '795.15', '2780.6', '1297.8', '2044.95', '815.5', '3767.4', '1025.05', '754', '4113.15', '3541.4', '921.3', '306.6', '909.25', '696.8', '896.9', '899.45', '3810.55', '7493.05', '4808.7', '5293.2', '1093.2', '4807.45', '4391.25', '177.4', '3478.15', '3327.05', '982.95', '3725.5', '3734.25', '322.9', '4816.7', '4259.3', '5083.55', '43.95', '1718.35', '2070.05', '7383.7', '498.1', '2917.5', '5264.25', '3653', '7446.9', '3122.4', '1047.7', '1077.5', '1777.9', '911.6', '1864.65', '1198.05', '1974.8', '1102.4', '692.35', '601.25', '1592.35', '6521.9', '224.85', '949.8', '603', '229.7', '108.7', '7939.25', '3450.15', '595.05', '6827.5', '53.05', '1511.2', '3970.4', '4533.9', '3946.9', '5443.65', '4013.8', '1308.4', '4348.1', '445.3', '1020.2', '1745.5', '57.5', '3038.55'}\n",
      "\n",
      "************* Churn *************\n",
      "\n",
      "{'No', 'Yes'}\n",
      "\n"
     ]
    }
   ],
   "source": [
    "# Total Charges given as object ,check for values\n",
    "for i in dataset.columns:\n",
    "    print('*************',i,'*************')\n",
    "    print()\n",
    "    print(set(dataset[i].tolist()))\n",
    "    print()"
   ]
  },
  {
   "cell_type": "code",
   "execution_count": 7,
   "id": "51841f99",
   "metadata": {},
   "outputs": [
    {
     "data": {
      "text/plain": [
       "          11\n",
       "20.2      11\n",
       "19.75      9\n",
       "20.05      8\n",
       "19.9       8\n",
       "          ..\n",
       "6849.4     1\n",
       "692.35     1\n",
       "130.15     1\n",
       "3211.9     1\n",
       "6844.5     1\n",
       "Name: TotalCharges, Length: 6531, dtype: int64"
      ]
     },
     "execution_count": 7,
     "metadata": {},
     "output_type": "execute_result"
    }
   ],
   "source": [
    "dataset['TotalCharges'].value_counts()   #11 space as values"
   ]
  },
  {
   "cell_type": "code",
   "execution_count": 8,
   "id": "fd81edc1",
   "metadata": {},
   "outputs": [],
   "source": [
    "dataset['TotalCharges']=dataset['TotalCharges'].replace(\" \",np.nan)\n",
    "dataset['TotalCharges']=dataset['TotalCharges'].fillna(dataset['TotalCharges'].median())"
   ]
  },
  {
   "cell_type": "code",
   "execution_count": 9,
   "id": "552ea76a",
   "metadata": {},
   "outputs": [],
   "source": [
    "dataset['TotalCharges']=dataset['TotalCharges'].astype('float')"
   ]
  },
  {
   "cell_type": "code",
   "execution_count": 10,
   "id": "fcb2cde8",
   "metadata": {},
   "outputs": [
    {
     "name": "stdout",
     "output_type": "stream",
     "text": [
      "<class 'pandas.core.frame.DataFrame'>\n",
      "RangeIndex: 7043 entries, 0 to 7042\n",
      "Data columns (total 21 columns):\n",
      " #   Column            Non-Null Count  Dtype  \n",
      "---  ------            --------------  -----  \n",
      " 0   customerID        7043 non-null   object \n",
      " 1   gender            7043 non-null   object \n",
      " 2   SeniorCitizen     7043 non-null   int64  \n",
      " 3   Partner           7043 non-null   object \n",
      " 4   Dependents        7043 non-null   object \n",
      " 5   tenure            7043 non-null   int64  \n",
      " 6   PhoneService      7043 non-null   object \n",
      " 7   MultipleLines     7043 non-null   object \n",
      " 8   InternetService   7043 non-null   object \n",
      " 9   OnlineSecurity    7043 non-null   object \n",
      " 10  OnlineBackup      7043 non-null   object \n",
      " 11  DeviceProtection  7043 non-null   object \n",
      " 12  TechSupport       7043 non-null   object \n",
      " 13  StreamingTV       7043 non-null   object \n",
      " 14  StreamingMovies   7043 non-null   object \n",
      " 15  Contract          7043 non-null   object \n",
      " 16  PaperlessBilling  7043 non-null   object \n",
      " 17  PaymentMethod     7043 non-null   object \n",
      " 18  MonthlyCharges    7043 non-null   float64\n",
      " 19  TotalCharges      7043 non-null   float64\n",
      " 20  Churn             7043 non-null   object \n",
      "dtypes: float64(2), int64(2), object(17)\n",
      "memory usage: 1.1+ MB\n"
     ]
    }
   ],
   "source": [
    "dataset.info()"
   ]
  },
  {
   "cell_type": "code",
   "execution_count": 11,
   "id": "bd1a9d47",
   "metadata": {},
   "outputs": [],
   "source": [
    "dataset=dataset.drop(['customerID'],axis=1)"
   ]
  },
  {
   "cell_type": "markdown",
   "id": "7cdd0e68",
   "metadata": {},
   "source": [
    "### Missing Values"
   ]
  },
  {
   "cell_type": "code",
   "execution_count": 12,
   "id": "846317d5",
   "metadata": {},
   "outputs": [
    {
     "data": {
      "text/plain": [
       "gender              0\n",
       "SeniorCitizen       0\n",
       "Partner             0\n",
       "Dependents          0\n",
       "tenure              0\n",
       "PhoneService        0\n",
       "MultipleLines       0\n",
       "InternetService     0\n",
       "OnlineSecurity      0\n",
       "OnlineBackup        0\n",
       "DeviceProtection    0\n",
       "TechSupport         0\n",
       "StreamingTV         0\n",
       "StreamingMovies     0\n",
       "Contract            0\n",
       "PaperlessBilling    0\n",
       "PaymentMethod       0\n",
       "MonthlyCharges      0\n",
       "TotalCharges        0\n",
       "Churn               0\n",
       "dtype: int64"
      ]
     },
     "execution_count": 12,
     "metadata": {},
     "output_type": "execute_result"
    }
   ],
   "source": [
    "dataset.isnull().sum()"
   ]
  },
  {
   "cell_type": "markdown",
   "id": "2ead60ff",
   "metadata": {},
   "source": [
    "### Outlier Treatment"
   ]
  },
  {
   "cell_type": "code",
   "execution_count": 13,
   "id": "24a7d2dc",
   "metadata": {},
   "outputs": [
    {
     "data": {
      "text/html": [
       "<div>\n",
       "<style scoped>\n",
       "    .dataframe tbody tr th:only-of-type {\n",
       "        vertical-align: middle;\n",
       "    }\n",
       "\n",
       "    .dataframe tbody tr th {\n",
       "        vertical-align: top;\n",
       "    }\n",
       "\n",
       "    .dataframe thead th {\n",
       "        text-align: right;\n",
       "    }\n",
       "</style>\n",
       "<table border=\"1\" class=\"dataframe\">\n",
       "  <thead>\n",
       "    <tr style=\"text-align: right;\">\n",
       "      <th></th>\n",
       "      <th>SeniorCitizen</th>\n",
       "      <th>tenure</th>\n",
       "      <th>MonthlyCharges</th>\n",
       "      <th>TotalCharges</th>\n",
       "    </tr>\n",
       "  </thead>\n",
       "  <tbody>\n",
       "    <tr>\n",
       "      <th>count</th>\n",
       "      <td>7043.000000</td>\n",
       "      <td>7043.000000</td>\n",
       "      <td>7043.000000</td>\n",
       "      <td>7043.000000</td>\n",
       "    </tr>\n",
       "    <tr>\n",
       "      <th>mean</th>\n",
       "      <td>0.162147</td>\n",
       "      <td>32.371149</td>\n",
       "      <td>64.761692</td>\n",
       "      <td>2281.916928</td>\n",
       "    </tr>\n",
       "    <tr>\n",
       "      <th>std</th>\n",
       "      <td>0.368612</td>\n",
       "      <td>24.559481</td>\n",
       "      <td>30.090047</td>\n",
       "      <td>2265.270398</td>\n",
       "    </tr>\n",
       "    <tr>\n",
       "      <th>min</th>\n",
       "      <td>0.000000</td>\n",
       "      <td>0.000000</td>\n",
       "      <td>18.250000</td>\n",
       "      <td>18.800000</td>\n",
       "    </tr>\n",
       "    <tr>\n",
       "      <th>25%</th>\n",
       "      <td>0.000000</td>\n",
       "      <td>9.000000</td>\n",
       "      <td>35.500000</td>\n",
       "      <td>402.225000</td>\n",
       "    </tr>\n",
       "    <tr>\n",
       "      <th>50%</th>\n",
       "      <td>0.000000</td>\n",
       "      <td>29.000000</td>\n",
       "      <td>70.350000</td>\n",
       "      <td>1397.475000</td>\n",
       "    </tr>\n",
       "    <tr>\n",
       "      <th>75%</th>\n",
       "      <td>0.000000</td>\n",
       "      <td>55.000000</td>\n",
       "      <td>89.850000</td>\n",
       "      <td>3786.600000</td>\n",
       "    </tr>\n",
       "    <tr>\n",
       "      <th>max</th>\n",
       "      <td>1.000000</td>\n",
       "      <td>72.000000</td>\n",
       "      <td>118.750000</td>\n",
       "      <td>8684.800000</td>\n",
       "    </tr>\n",
       "  </tbody>\n",
       "</table>\n",
       "</div>"
      ],
      "text/plain": [
       "       SeniorCitizen       tenure  MonthlyCharges  TotalCharges\n",
       "count    7043.000000  7043.000000     7043.000000   7043.000000\n",
       "mean        0.162147    32.371149       64.761692   2281.916928\n",
       "std         0.368612    24.559481       30.090047   2265.270398\n",
       "min         0.000000     0.000000       18.250000     18.800000\n",
       "25%         0.000000     9.000000       35.500000    402.225000\n",
       "50%         0.000000    29.000000       70.350000   1397.475000\n",
       "75%         0.000000    55.000000       89.850000   3786.600000\n",
       "max         1.000000    72.000000      118.750000   8684.800000"
      ]
     },
     "execution_count": 13,
     "metadata": {},
     "output_type": "execute_result"
    }
   ],
   "source": [
    "dataset.describe()"
   ]
  },
  {
   "cell_type": "code",
   "execution_count": 14,
   "id": "e6ad7d3f",
   "metadata": {},
   "outputs": [
    {
     "data": {
      "text/plain": [
       "<AxesSubplot:xlabel='TotalCharges'>"
      ]
     },
     "execution_count": 14,
     "metadata": {},
     "output_type": "execute_result"
    },
    {
     "data": {
      "image/png": "[encoded data removed]",
      "text/plain": [
       "<Figure size 640x480 with 1 Axes>"
      ]
     },
     "metadata": {},
     "output_type": "display_data"
    }
   ],
   "source": [
    "sns.boxplot(dataset['TotalCharges'])    #No outliers"
   ]
  },
  {
   "cell_type": "markdown",
   "id": "084ca198",
   "metadata": {},
   "source": [
    "# EDA"
   ]
  },
  {
   "cell_type": "code",
   "execution_count": 15,
   "id": "e043ddb0",
   "metadata": {},
   "outputs": [
    {
     "data": {
      "text/plain": [
       "(7043, 20)"
      ]
     },
     "execution_count": 15,
     "metadata": {},
     "output_type": "execute_result"
    }
   ],
   "source": [
    "dataset.shape"
   ]
  },
  {
   "cell_type": "code",
   "execution_count": 16,
   "id": "3a98eb0c",
   "metadata": {},
   "outputs": [
    {
     "data": {
      "text/plain": [
       "Male      3555\n",
       "Female    3488\n",
       "Name: gender, dtype: int64"
      ]
     },
     "execution_count": 16,
     "metadata": {},
     "output_type": "execute_result"
    }
   ],
   "source": [
    "dataset['gender'].value_counts()"
   ]
  },
  {
   "cell_type": "code",
   "execution_count": 17,
   "id": "737c740d",
   "metadata": {},
   "outputs": [
    {
     "data": {
      "text/plain": [
       "0    5901\n",
       "1    1142\n",
       "Name: SeniorCitizen, dtype: int64"
      ]
     },
     "execution_count": 17,
     "metadata": {},
     "output_type": "execute_result"
    }
   ],
   "source": [
    "dataset['SeniorCitizen'].value_counts()    #most people are not senior citizen"
   ]
  },
  {
   "cell_type": "code",
   "execution_count": 18,
   "id": "98074ddf",
   "metadata": {},
   "outputs": [
    {
     "data": {
      "text/plain": [
       "No     3641\n",
       "Yes    3402\n",
       "Name: Partner, dtype: int64"
      ]
     },
     "execution_count": 18,
     "metadata": {},
     "output_type": "execute_result"
    }
   ],
   "source": [
    "dataset['Partner'].value_counts()"
   ]
  },
  {
   "cell_type": "code",
   "execution_count": 19,
   "id": "9a1ea7af",
   "metadata": {},
   "outputs": [
    {
     "data": {
      "text/plain": [
       "No     4933\n",
       "Yes    2110\n",
       "Name: Dependents, dtype: int64"
      ]
     },
     "execution_count": 19,
     "metadata": {},
     "output_type": "execute_result"
    }
   ],
   "source": [
    "dataset['Dependents'].value_counts()"
   ]
  },
  {
   "cell_type": "code",
   "execution_count": 20,
   "id": "f9efd58d",
   "metadata": {},
   "outputs": [
    {
     "data": {
      "text/plain": [
       "Fiber optic    3096\n",
       "DSL            2421\n",
       "No             1526\n",
       "Name: InternetService, dtype: int64"
      ]
     },
     "execution_count": 20,
     "metadata": {},
     "output_type": "execute_result"
    }
   ],
   "source": [
    "dataset['InternetService'].value_counts()"
   ]
  },
  {
   "cell_type": "code",
   "execution_count": 21,
   "id": "04b77440",
   "metadata": {},
   "outputs": [
    {
     "data": {
      "text/plain": [
       "Yes    6361\n",
       "No      682\n",
       "Name: PhoneService, dtype: int64"
      ]
     },
     "execution_count": 21,
     "metadata": {},
     "output_type": "execute_result"
    }
   ],
   "source": [
    "dataset['PhoneService'].value_counts()"
   ]
  },
  {
   "cell_type": "code",
   "execution_count": 22,
   "id": "343d452c",
   "metadata": {},
   "outputs": [
    {
     "data": {
      "text/plain": [
       "Yes    4171\n",
       "No     2872\n",
       "Name: PaperlessBilling, dtype: int64"
      ]
     },
     "execution_count": 22,
     "metadata": {},
     "output_type": "execute_result"
    }
   ],
   "source": [
    "dataset['PaperlessBilling'].value_counts()"
   ]
  },
  {
   "cell_type": "code",
   "execution_count": 23,
   "id": "87aa2e05",
   "metadata": {},
   "outputs": [
    {
     "data": {
      "text/plain": [
       "No     5174\n",
       "Yes    1869\n",
       "Name: Churn, dtype: int64"
      ]
     },
     "execution_count": 23,
     "metadata": {},
     "output_type": "execute_result"
    }
   ],
   "source": [
    "dataset['Churn'].value_counts()   #imbalance dataset"
   ]
  },
  {
   "cell_type": "code",
   "execution_count": 24,
   "id": "24665f31",
   "metadata": {},
   "outputs": [
    {
     "data": {
      "application/vnd.jupyter.widget-view+json": {
       "model_id": "ff12e903bd674065a95fc9649095d092",
       "version_major": 2,
       "version_minor": 0
      },
      "text/plain": [
       "Summarize dataset:   0%|          | 0/5 [00:00<?, ?it/s]"
      ]
     },
     "metadata": {},
     "output_type": "display_data"
    },
    {
     "data": {
      "application/vnd.jupyter.widget-view+json": {
       "model_id": "e17e374cbc264cdd975a4a05a9814889",
       "version_major": 2,
       "version_minor": 0
      },
      "text/plain": [
       "Generate report structure:   0%|          | 0/1 [00:00<?, ?it/s]"
      ]
     },
     "metadata": {},
     "output_type": "display_data"
    },
    {
     "data": {
      "application/vnd.jupyter.widget-view+json": {
       "model_id": "0da3c305a87841e4a3e0b662d42c6e67",
       "version_major": 2,
       "version_minor": 0
      },
      "text/plain": [
       "Render HTML:   0%|          | 0/1 [00:00<?, ?it/s]"
      ]
     },
     "metadata": {},
     "output_type": "display_data"
    },
    {
     "data": {
      "application/vnd.jupyter.widget-view+json": {
       "model_id": "753022dadfed4779af504212d0833901",
       "version_major": 2,
       "version_minor": 0
      },
      "text/plain": [
       "Export report to file:   0%|          | 0/1 [00:00<?, ?it/s]"
      ]
     },
     "metadata": {},
     "output_type": "display_data"
    }
   ],
   "source": [
    "#pandas profiling\n",
    "from pandas_profiling import ProfileReport\n",
    "report=ProfileReport(dataset)\n",
    "report.to_file(output_file=\"Pandas Profiling EDA.html\")"
   ]
  },
  {
   "cell_type": "markdown",
   "id": "9be66f1f",
   "metadata": {},
   "source": [
    "### Imbalance Treatment"
   ]
  },
  {
   "cell_type": "code",
   "execution_count": 25,
   "id": "7c2098fe",
   "metadata": {},
   "outputs": [
    {
     "data": {
      "text/plain": [
       "No     73.463013\n",
       "Yes    26.536987\n",
       "Name: Churn, dtype: float64"
      ]
     },
     "execution_count": 25,
     "metadata": {},
     "output_type": "execute_result"
    }
   ],
   "source": [
    "dataset['Churn'].value_counts()/len(dataset)*100"
   ]
  },
  {
   "cell_type": "code",
   "execution_count": 26,
   "id": "41dc79f9",
   "metadata": {},
   "outputs": [
    {
     "data": {
      "text/plain": [
       "0    5174\n",
       "1    1869\n",
       "Name: Churn, dtype: int64"
      ]
     },
     "execution_count": 26,
     "metadata": {},
     "output_type": "execute_result"
    }
   ],
   "source": [
    "dataset['Churn']=dataset['Churn'].replace({'Yes':1,'No':0})\n",
    "dataset['Churn'].value_counts()"
   ]
  },
  {
   "cell_type": "markdown",
   "id": "e1ac1f71",
   "metadata": {},
   "source": [
    "### Encoding"
   ]
  },
  {
   "cell_type": "code",
   "execution_count": 27,
   "id": "e7958ef5",
   "metadata": {},
   "outputs": [
    {
     "data": {
      "text/plain": [
       "Index(['gender', 'SeniorCitizen', 'Partner', 'Dependents', 'tenure',\n",
       "       'PhoneService', 'MultipleLines', 'InternetService', 'OnlineSecurity',\n",
       "       'OnlineBackup', 'DeviceProtection', 'TechSupport', 'StreamingTV',\n",
       "       'StreamingMovies', 'Contract', 'PaperlessBilling', 'PaymentMethod',\n",
       "       'MonthlyCharges', 'TotalCharges', 'Churn'],\n",
       "      dtype='object')"
      ]
     },
     "execution_count": 27,
     "metadata": {},
     "output_type": "execute_result"
    }
   ],
   "source": [
    "dataset.columns"
   ]
  },
  {
   "cell_type": "code",
   "execution_count": 28,
   "id": "5d4ae93a",
   "metadata": {},
   "outputs": [],
   "source": [
    "dataset=pd.get_dummies(dataset,columns=['gender', 'Partner', 'Dependents',\n",
    "       'PhoneService', 'MultipleLines', 'InternetService', 'OnlineSecurity',\n",
    "       'OnlineBackup', 'DeviceProtection', 'TechSupport', 'StreamingTV',\n",
    "       'StreamingMovies', 'Contract', 'PaperlessBilling', 'PaymentMethod'],drop_first=True)"
   ]
  },
  {
   "cell_type": "code",
   "execution_count": 29,
   "id": "14ea176b",
   "metadata": {},
   "outputs": [
    {
     "data": {
      "text/html": [
       "<div>\n",
       "<style scoped>\n",
       "    .dataframe tbody tr th:only-of-type {\n",
       "        vertical-align: middle;\n",
       "    }\n",
       "\n",
       "    .dataframe tbody tr th {\n",
       "        vertical-align: top;\n",
       "    }\n",
       "\n",
       "    .dataframe thead th {\n",
       "        text-align: right;\n",
       "    }\n",
       "</style>\n",
       "<table border=\"1\" class=\"dataframe\">\n",
       "  <thead>\n",
       "    <tr style=\"text-align: right;\">\n",
       "      <th></th>\n",
       "      <th>SeniorCitizen</th>\n",
       "      <th>tenure</th>\n",
       "      <th>MonthlyCharges</th>\n",
       "      <th>TotalCharges</th>\n",
       "      <th>Churn</th>\n",
       "      <th>gender_Male</th>\n",
       "      <th>Partner_Yes</th>\n",
       "      <th>Dependents_Yes</th>\n",
       "      <th>PhoneService_Yes</th>\n",
       "      <th>MultipleLines_No phone service</th>\n",
       "      <th>...</th>\n",
       "      <th>StreamingTV_No internet service</th>\n",
       "      <th>StreamingTV_Yes</th>\n",
       "      <th>StreamingMovies_No internet service</th>\n",
       "      <th>StreamingMovies_Yes</th>\n",
       "      <th>Contract_One year</th>\n",
       "      <th>Contract_Two year</th>\n",
       "      <th>PaperlessBilling_Yes</th>\n",
       "      <th>PaymentMethod_Credit card (automatic)</th>\n",
       "      <th>PaymentMethod_Electronic check</th>\n",
       "      <th>PaymentMethod_Mailed check</th>\n",
       "    </tr>\n",
       "  </thead>\n",
       "  <tbody>\n",
       "    <tr>\n",
       "      <th>0</th>\n",
       "      <td>0</td>\n",
       "      <td>1</td>\n",
       "      <td>29.85</td>\n",
       "      <td>29.85</td>\n",
       "      <td>0</td>\n",
       "      <td>0</td>\n",
       "      <td>1</td>\n",
       "      <td>0</td>\n",
       "      <td>0</td>\n",
       "      <td>1</td>\n",
       "      <td>...</td>\n",
       "      <td>0</td>\n",
       "      <td>0</td>\n",
       "      <td>0</td>\n",
       "      <td>0</td>\n",
       "      <td>0</td>\n",
       "      <td>0</td>\n",
       "      <td>1</td>\n",
       "      <td>0</td>\n",
       "      <td>1</td>\n",
       "      <td>0</td>\n",
       "    </tr>\n",
       "    <tr>\n",
       "      <th>1</th>\n",
       "      <td>0</td>\n",
       "      <td>34</td>\n",
       "      <td>56.95</td>\n",
       "      <td>1889.50</td>\n",
       "      <td>0</td>\n",
       "      <td>1</td>\n",
       "      <td>0</td>\n",
       "      <td>0</td>\n",
       "      <td>1</td>\n",
       "      <td>0</td>\n",
       "      <td>...</td>\n",
       "      <td>0</td>\n",
       "      <td>0</td>\n",
       "      <td>0</td>\n",
       "      <td>0</td>\n",
       "      <td>1</td>\n",
       "      <td>0</td>\n",
       "      <td>0</td>\n",
       "      <td>0</td>\n",
       "      <td>0</td>\n",
       "      <td>1</td>\n",
       "    </tr>\n",
       "    <tr>\n",
       "      <th>2</th>\n",
       "      <td>0</td>\n",
       "      <td>2</td>\n",
       "      <td>53.85</td>\n",
       "      <td>108.15</td>\n",
       "      <td>1</td>\n",
       "      <td>1</td>\n",
       "      <td>0</td>\n",
       "      <td>0</td>\n",
       "      <td>1</td>\n",
       "      <td>0</td>\n",
       "      <td>...</td>\n",
       "      <td>0</td>\n",
       "      <td>0</td>\n",
       "      <td>0</td>\n",
       "      <td>0</td>\n",
       "      <td>0</td>\n",
       "      <td>0</td>\n",
       "      <td>1</td>\n",
       "      <td>0</td>\n",
       "      <td>0</td>\n",
       "      <td>1</td>\n",
       "    </tr>\n",
       "    <tr>\n",
       "      <th>3</th>\n",
       "      <td>0</td>\n",
       "      <td>45</td>\n",
       "      <td>42.30</td>\n",
       "      <td>1840.75</td>\n",
       "      <td>0</td>\n",
       "      <td>1</td>\n",
       "      <td>0</td>\n",
       "      <td>0</td>\n",
       "      <td>0</td>\n",
       "      <td>1</td>\n",
       "      <td>...</td>\n",
       "      <td>0</td>\n",
       "      <td>0</td>\n",
       "      <td>0</td>\n",
       "      <td>0</td>\n",
       "      <td>1</td>\n",
       "      <td>0</td>\n",
       "      <td>0</td>\n",
       "      <td>0</td>\n",
       "      <td>0</td>\n",
       "      <td>0</td>\n",
       "    </tr>\n",
       "    <tr>\n",
       "      <th>4</th>\n",
       "      <td>0</td>\n",
       "      <td>2</td>\n",
       "      <td>70.70</td>\n",
       "      <td>151.65</td>\n",
       "      <td>1</td>\n",
       "      <td>0</td>\n",
       "      <td>0</td>\n",
       "      <td>0</td>\n",
       "      <td>1</td>\n",
       "      <td>0</td>\n",
       "      <td>...</td>\n",
       "      <td>0</td>\n",
       "      <td>0</td>\n",
       "      <td>0</td>\n",
       "      <td>0</td>\n",
       "      <td>0</td>\n",
       "      <td>0</td>\n",
       "      <td>1</td>\n",
       "      <td>0</td>\n",
       "      <td>1</td>\n",
       "      <td>0</td>\n",
       "    </tr>\n",
       "  </tbody>\n",
       "</table>\n",
       "<p>5 rows × 31 columns</p>\n",
       "</div>"
      ],
      "text/plain": [
       "   SeniorCitizen  tenure  MonthlyCharges  TotalCharges  Churn  gender_Male  \\\n",
       "0              0       1           29.85         29.85      0            0   \n",
       "1              0      34           56.95       1889.50      0            1   \n",
       "2              0       2           53.85        108.15      1            1   \n",
       "3              0      45           42.30       1840.75      0            1   \n",
       "4              0       2           70.70        151.65      1            0   \n",
       "\n",
       "   Partner_Yes  Dependents_Yes  PhoneService_Yes  \\\n",
       "0            1               0                 0   \n",
       "1            0               0                 1   \n",
       "2            0               0                 1   \n",
       "3            0               0                 0   \n",
       "4            0               0                 1   \n",
       "\n",
       "   MultipleLines_No phone service  ...  StreamingTV_No internet service  \\\n",
       "0                               1  ...                                0   \n",
       "1                               0  ...                                0   \n",
       "2                               0  ...                                0   \n",
       "3                               1  ...                                0   \n",
       "4                               0  ...                                0   \n",
       "\n",
       "   StreamingTV_Yes  StreamingMovies_No internet service  StreamingMovies_Yes  \\\n",
       "0                0                                    0                    0   \n",
       "1                0                                    0                    0   \n",
       "2                0                                    0                    0   \n",
       "3                0                                    0                    0   \n",
       "4                0                                    0                    0   \n",
       "\n",
       "   Contract_One year  Contract_Two year  PaperlessBilling_Yes  \\\n",
       "0                  0                  0                     1   \n",
       "1                  1                  0                     0   \n",
       "2                  0                  0                     1   \n",
       "3                  1                  0                     0   \n",
       "4                  0                  0                     1   \n",
       "\n",
       "   PaymentMethod_Credit card (automatic)  PaymentMethod_Electronic check  \\\n",
       "0                                      0                               1   \n",
       "1                                      0                               0   \n",
       "2                                      0                               0   \n",
       "3                                      0                               0   \n",
       "4                                      0                               1   \n",
       "\n",
       "   PaymentMethod_Mailed check  \n",
       "0                           0  \n",
       "1                           1  \n",
       "2                           1  \n",
       "3                           0  \n",
       "4                           0  \n",
       "\n",
       "[5 rows x 31 columns]"
      ]
     },
     "execution_count": 29,
     "metadata": {},
     "output_type": "execute_result"
    }
   ],
   "source": [
    "dataset.head()"
   ]
  },
  {
   "cell_type": "markdown",
   "id": "3354c378",
   "metadata": {},
   "source": [
    "### Feature Scaling"
   ]
  },
  {
   "cell_type": "code",
   "execution_count": 30,
   "id": "b2d99c8b",
   "metadata": {},
   "outputs": [],
   "source": [
    "#required in tenure, MonthlyCharges, TotalCharges"
   ]
  },
  {
   "cell_type": "code",
   "execution_count": 31,
   "id": "e76ce503",
   "metadata": {},
   "outputs": [
    {
     "data": {
      "text/html": [
       "<div>\n",
       "<style scoped>\n",
       "    .dataframe tbody tr th:only-of-type {\n",
       "        vertical-align: middle;\n",
       "    }\n",
       "\n",
       "    .dataframe tbody tr th {\n",
       "        vertical-align: top;\n",
       "    }\n",
       "\n",
       "    .dataframe thead th {\n",
       "        text-align: right;\n",
       "    }\n",
       "</style>\n",
       "<table border=\"1\" class=\"dataframe\">\n",
       "  <thead>\n",
       "    <tr style=\"text-align: right;\">\n",
       "      <th></th>\n",
       "      <th>SeniorCitizen</th>\n",
       "      <th>tenure</th>\n",
       "      <th>MonthlyCharges</th>\n",
       "      <th>TotalCharges</th>\n",
       "      <th>Churn</th>\n",
       "      <th>gender_Male</th>\n",
       "      <th>Partner_Yes</th>\n",
       "      <th>Dependents_Yes</th>\n",
       "      <th>PhoneService_Yes</th>\n",
       "      <th>MultipleLines_No phone service</th>\n",
       "      <th>...</th>\n",
       "      <th>StreamingTV_No internet service</th>\n",
       "      <th>StreamingTV_Yes</th>\n",
       "      <th>StreamingMovies_No internet service</th>\n",
       "      <th>StreamingMovies_Yes</th>\n",
       "      <th>Contract_One year</th>\n",
       "      <th>Contract_Two year</th>\n",
       "      <th>PaperlessBilling_Yes</th>\n",
       "      <th>PaymentMethod_Credit card (automatic)</th>\n",
       "      <th>PaymentMethod_Electronic check</th>\n",
       "      <th>PaymentMethod_Mailed check</th>\n",
       "    </tr>\n",
       "  </thead>\n",
       "  <tbody>\n",
       "    <tr>\n",
       "      <th>0</th>\n",
       "      <td>0</td>\n",
       "      <td>-1.277445</td>\n",
       "      <td>-1.160323</td>\n",
       "      <td>-0.994242</td>\n",
       "      <td>0</td>\n",
       "      <td>0</td>\n",
       "      <td>1</td>\n",
       "      <td>0</td>\n",
       "      <td>0</td>\n",
       "      <td>1</td>\n",
       "      <td>...</td>\n",
       "      <td>0</td>\n",
       "      <td>0</td>\n",
       "      <td>0</td>\n",
       "      <td>0</td>\n",
       "      <td>0</td>\n",
       "      <td>0</td>\n",
       "      <td>1</td>\n",
       "      <td>0</td>\n",
       "      <td>1</td>\n",
       "      <td>0</td>\n",
       "    </tr>\n",
       "    <tr>\n",
       "      <th>1</th>\n",
       "      <td>0</td>\n",
       "      <td>0.066327</td>\n",
       "      <td>-0.259629</td>\n",
       "      <td>-0.173244</td>\n",
       "      <td>0</td>\n",
       "      <td>1</td>\n",
       "      <td>0</td>\n",
       "      <td>0</td>\n",
       "      <td>1</td>\n",
       "      <td>0</td>\n",
       "      <td>...</td>\n",
       "      <td>0</td>\n",
       "      <td>0</td>\n",
       "      <td>0</td>\n",
       "      <td>0</td>\n",
       "      <td>1</td>\n",
       "      <td>0</td>\n",
       "      <td>0</td>\n",
       "      <td>0</td>\n",
       "      <td>0</td>\n",
       "      <td>1</td>\n",
       "    </tr>\n",
       "    <tr>\n",
       "      <th>2</th>\n",
       "      <td>0</td>\n",
       "      <td>-1.236724</td>\n",
       "      <td>-0.362660</td>\n",
       "      <td>-0.959674</td>\n",
       "      <td>1</td>\n",
       "      <td>1</td>\n",
       "      <td>0</td>\n",
       "      <td>0</td>\n",
       "      <td>1</td>\n",
       "      <td>0</td>\n",
       "      <td>...</td>\n",
       "      <td>0</td>\n",
       "      <td>0</td>\n",
       "      <td>0</td>\n",
       "      <td>0</td>\n",
       "      <td>0</td>\n",
       "      <td>0</td>\n",
       "      <td>1</td>\n",
       "      <td>0</td>\n",
       "      <td>0</td>\n",
       "      <td>1</td>\n",
       "    </tr>\n",
       "    <tr>\n",
       "      <th>3</th>\n",
       "      <td>0</td>\n",
       "      <td>0.514251</td>\n",
       "      <td>-0.746535</td>\n",
       "      <td>-0.194766</td>\n",
       "      <td>0</td>\n",
       "      <td>1</td>\n",
       "      <td>0</td>\n",
       "      <td>0</td>\n",
       "      <td>0</td>\n",
       "      <td>1</td>\n",
       "      <td>...</td>\n",
       "      <td>0</td>\n",
       "      <td>0</td>\n",
       "      <td>0</td>\n",
       "      <td>0</td>\n",
       "      <td>1</td>\n",
       "      <td>0</td>\n",
       "      <td>0</td>\n",
       "      <td>0</td>\n",
       "      <td>0</td>\n",
       "      <td>0</td>\n",
       "    </tr>\n",
       "    <tr>\n",
       "      <th>4</th>\n",
       "      <td>0</td>\n",
       "      <td>-1.236724</td>\n",
       "      <td>0.197365</td>\n",
       "      <td>-0.940470</td>\n",
       "      <td>1</td>\n",
       "      <td>0</td>\n",
       "      <td>0</td>\n",
       "      <td>0</td>\n",
       "      <td>1</td>\n",
       "      <td>0</td>\n",
       "      <td>...</td>\n",
       "      <td>0</td>\n",
       "      <td>0</td>\n",
       "      <td>0</td>\n",
       "      <td>0</td>\n",
       "      <td>0</td>\n",
       "      <td>0</td>\n",
       "      <td>1</td>\n",
       "      <td>0</td>\n",
       "      <td>1</td>\n",
       "      <td>0</td>\n",
       "    </tr>\n",
       "  </tbody>\n",
       "</table>\n",
       "<p>5 rows × 31 columns</p>\n",
       "</div>"
      ],
      "text/plain": [
       "   SeniorCitizen    tenure  MonthlyCharges  TotalCharges  Churn  gender_Male  \\\n",
       "0              0 -1.277445       -1.160323     -0.994242      0            0   \n",
       "1              0  0.066327       -0.259629     -0.173244      0            1   \n",
       "2              0 -1.236724       -0.362660     -0.959674      1            1   \n",
       "3              0  0.514251       -0.746535     -0.194766      0            1   \n",
       "4              0 -1.236724        0.197365     -0.940470      1            0   \n",
       "\n",
       "   Partner_Yes  Dependents_Yes  PhoneService_Yes  \\\n",
       "0            1               0                 0   \n",
       "1            0               0                 1   \n",
       "2            0               0                 1   \n",
       "3            0               0                 0   \n",
       "4            0               0                 1   \n",
       "\n",
       "   MultipleLines_No phone service  ...  StreamingTV_No internet service  \\\n",
       "0                               1  ...                                0   \n",
       "1                               0  ...                                0   \n",
       "2                               0  ...                                0   \n",
       "3                               1  ...                                0   \n",
       "4                               0  ...                                0   \n",
       "\n",
       "   StreamingTV_Yes  StreamingMovies_No internet service  StreamingMovies_Yes  \\\n",
       "0                0                                    0                    0   \n",
       "1                0                                    0                    0   \n",
       "2                0                                    0                    0   \n",
       "3                0                                    0                    0   \n",
       "4                0                                    0                    0   \n",
       "\n",
       "   Contract_One year  Contract_Two year  PaperlessBilling_Yes  \\\n",
       "0                  0                  0                     1   \n",
       "1                  1                  0                     0   \n",
       "2                  0                  0                     1   \n",
       "3                  1                  0                     0   \n",
       "4                  0                  0                     1   \n",
       "\n",
       "   PaymentMethod_Credit card (automatic)  PaymentMethod_Electronic check  \\\n",
       "0                                      0                               1   \n",
       "1                                      0                               0   \n",
       "2                                      0                               0   \n",
       "3                                      0                               0   \n",
       "4                                      0                               1   \n",
       "\n",
       "   PaymentMethod_Mailed check  \n",
       "0                           0  \n",
       "1                           1  \n",
       "2                           1  \n",
       "3                           0  \n",
       "4                           0  \n",
       "\n",
       "[5 rows x 31 columns]"
      ]
     },
     "execution_count": 31,
     "metadata": {},
     "output_type": "execute_result"
    }
   ],
   "source": [
    "from sklearn.preprocessing import StandardScaler\n",
    "scaler=StandardScaler()\n",
    "scaler_columns=['tenure','MonthlyCharges','TotalCharges']\n",
    "dataset[scaler_columns]=scaler.fit_transform(dataset[scaler_columns])\n",
    "dataset.head()"
   ]
  },
  {
   "cell_type": "markdown",
   "id": "3b66b04a",
   "metadata": {},
   "source": [
    "## Split data into I.V. and D.V"
   ]
  },
  {
   "cell_type": "code",
   "execution_count": 32,
   "id": "316d2219",
   "metadata": {},
   "outputs": [
    {
     "data": {
      "text/html": [
       "<div>\n",
       "<style scoped>\n",
       "    .dataframe tbody tr th:only-of-type {\n",
       "        vertical-align: middle;\n",
       "    }\n",
       "\n",
       "    .dataframe tbody tr th {\n",
       "        vertical-align: top;\n",
       "    }\n",
       "\n",
       "    .dataframe thead th {\n",
       "        text-align: right;\n",
       "    }\n",
       "</style>\n",
       "<table border=\"1\" class=\"dataframe\">\n",
       "  <thead>\n",
       "    <tr style=\"text-align: right;\">\n",
       "      <th></th>\n",
       "      <th>SeniorCitizen</th>\n",
       "      <th>tenure</th>\n",
       "      <th>MonthlyCharges</th>\n",
       "      <th>TotalCharges</th>\n",
       "      <th>gender_Male</th>\n",
       "      <th>Partner_Yes</th>\n",
       "      <th>Dependents_Yes</th>\n",
       "      <th>PhoneService_Yes</th>\n",
       "      <th>MultipleLines_No phone service</th>\n",
       "      <th>MultipleLines_Yes</th>\n",
       "      <th>...</th>\n",
       "      <th>StreamingTV_No internet service</th>\n",
       "      <th>StreamingTV_Yes</th>\n",
       "      <th>StreamingMovies_No internet service</th>\n",
       "      <th>StreamingMovies_Yes</th>\n",
       "      <th>Contract_One year</th>\n",
       "      <th>Contract_Two year</th>\n",
       "      <th>PaperlessBilling_Yes</th>\n",
       "      <th>PaymentMethod_Credit card (automatic)</th>\n",
       "      <th>PaymentMethod_Electronic check</th>\n",
       "      <th>PaymentMethod_Mailed check</th>\n",
       "    </tr>\n",
       "  </thead>\n",
       "  <tbody>\n",
       "    <tr>\n",
       "      <th>0</th>\n",
       "      <td>0</td>\n",
       "      <td>-1.277445</td>\n",
       "      <td>-1.160323</td>\n",
       "      <td>-0.994242</td>\n",
       "      <td>0</td>\n",
       "      <td>1</td>\n",
       "      <td>0</td>\n",
       "      <td>0</td>\n",
       "      <td>1</td>\n",
       "      <td>0</td>\n",
       "      <td>...</td>\n",
       "      <td>0</td>\n",
       "      <td>0</td>\n",
       "      <td>0</td>\n",
       "      <td>0</td>\n",
       "      <td>0</td>\n",
       "      <td>0</td>\n",
       "      <td>1</td>\n",
       "      <td>0</td>\n",
       "      <td>1</td>\n",
       "      <td>0</td>\n",
       "    </tr>\n",
       "    <tr>\n",
       "      <th>1</th>\n",
       "      <td>0</td>\n",
       "      <td>0.066327</td>\n",
       "      <td>-0.259629</td>\n",
       "      <td>-0.173244</td>\n",
       "      <td>1</td>\n",
       "      <td>0</td>\n",
       "      <td>0</td>\n",
       "      <td>1</td>\n",
       "      <td>0</td>\n",
       "      <td>0</td>\n",
       "      <td>...</td>\n",
       "      <td>0</td>\n",
       "      <td>0</td>\n",
       "      <td>0</td>\n",
       "      <td>0</td>\n",
       "      <td>1</td>\n",
       "      <td>0</td>\n",
       "      <td>0</td>\n",
       "      <td>0</td>\n",
       "      <td>0</td>\n",
       "      <td>1</td>\n",
       "    </tr>\n",
       "  </tbody>\n",
       "</table>\n",
       "<p>2 rows × 30 columns</p>\n",
       "</div>"
      ],
      "text/plain": [
       "   SeniorCitizen    tenure  MonthlyCharges  TotalCharges  gender_Male  \\\n",
       "0              0 -1.277445       -1.160323     -0.994242            0   \n",
       "1              0  0.066327       -0.259629     -0.173244            1   \n",
       "\n",
       "   Partner_Yes  Dependents_Yes  PhoneService_Yes  \\\n",
       "0            1               0                 0   \n",
       "1            0               0                 1   \n",
       "\n",
       "   MultipleLines_No phone service  MultipleLines_Yes  ...  \\\n",
       "0                               1                  0  ...   \n",
       "1                               0                  0  ...   \n",
       "\n",
       "   StreamingTV_No internet service  StreamingTV_Yes  \\\n",
       "0                                0                0   \n",
       "1                                0                0   \n",
       "\n",
       "   StreamingMovies_No internet service  StreamingMovies_Yes  \\\n",
       "0                                    0                    0   \n",
       "1                                    0                    0   \n",
       "\n",
       "   Contract_One year  Contract_Two year  PaperlessBilling_Yes  \\\n",
       "0                  0                  0                     1   \n",
       "1                  1                  0                     0   \n",
       "\n",
       "   PaymentMethod_Credit card (automatic)  PaymentMethod_Electronic check  \\\n",
       "0                                      0                               1   \n",
       "1                                      0                               0   \n",
       "\n",
       "   PaymentMethod_Mailed check  \n",
       "0                           0  \n",
       "1                           1  \n",
       "\n",
       "[2 rows x 30 columns]"
      ]
     },
     "execution_count": 32,
     "metadata": {},
     "output_type": "execute_result"
    }
   ],
   "source": [
    "x=dataset.drop(['Churn'],axis=1)\n",
    "y=dataset['Churn']\n",
    "x.head(2)"
   ]
  },
  {
   "cell_type": "code",
   "execution_count": 33,
   "id": "45b44840",
   "metadata": {},
   "outputs": [
    {
     "data": {
      "text/plain": [
       "0    0\n",
       "1    0\n",
       "Name: Churn, dtype: int64"
      ]
     },
     "execution_count": 33,
     "metadata": {},
     "output_type": "execute_result"
    }
   ],
   "source": [
    "y.head(2)"
   ]
  },
  {
   "cell_type": "markdown",
   "id": "c5bbed4f",
   "metadata": {},
   "source": [
    "## Handling imbalance (SMOTE)"
   ]
  },
  {
   "cell_type": "code",
   "execution_count": 34,
   "id": "108b0984",
   "metadata": {},
   "outputs": [
    {
     "name": "stdout",
     "output_type": "stream",
     "text": [
      "0    5174\n",
      "1    1869\n",
      "Name: Churn, dtype: int64\n",
      "************************\n",
      "0    5174\n",
      "1    5174\n",
      "Name: Churn, dtype: int64\n"
     ]
    }
   ],
   "source": [
    "import imblearn\n",
    "from imblearn.over_sampling import SMOTE\n",
    "smote=SMOTE()\n",
    "x_sm,y_sm=smote.fit_resample(x,y)\n",
    "print(y.value_counts())\n",
    "print(\"************************\")\n",
    "print(y_sm.value_counts())"
   ]
  },
  {
   "cell_type": "code",
   "execution_count": 35,
   "id": "b5f1d4fd",
   "metadata": {},
   "outputs": [
    {
     "name": "stdout",
     "output_type": "stream",
     "text": [
      "(7043, 30)\n",
      "************\n",
      "(10348, 30)\n"
     ]
    }
   ],
   "source": [
    "print(x.shape)\n",
    "print(\"************\")\n",
    "print(x_sm.shape)"
   ]
  },
  {
   "cell_type": "markdown",
   "id": "b05cabae",
   "metadata": {},
   "source": [
    "## Split the data into training and test"
   ]
  },
  {
   "cell_type": "code",
   "execution_count": 36,
   "id": "465ef083",
   "metadata": {},
   "outputs": [],
   "source": [
    "from sklearn.model_selection import train_test_split\n",
    "x_train,x_test,y_train,y_test=train_test_split(x_sm,y_sm,test_size=0.3,random_state=101)"
   ]
  },
  {
   "cell_type": "markdown",
   "id": "386fd279",
   "metadata": {},
   "source": [
    "# Model Building"
   ]
  },
  {
   "cell_type": "markdown",
   "id": "3b9d9ced",
   "metadata": {},
   "source": [
    "## 1. Logistic Regression"
   ]
  },
  {
   "cell_type": "code",
   "execution_count": 37,
   "id": "4beaa560",
   "metadata": {},
   "outputs": [
    {
     "data": {
      "text/plain": [
       "LogisticRegression()"
      ]
     },
     "execution_count": 37,
     "metadata": {},
     "output_type": "execute_result"
    }
   ],
   "source": [
    "from sklearn.linear_model import LogisticRegression\n",
    "logit=LogisticRegression()\n",
    "logit.fit(x_train,y_train)"
   ]
  },
  {
   "cell_type": "code",
   "execution_count": 38,
   "id": "9161765d",
   "metadata": {},
   "outputs": [],
   "source": [
    "#predict result\n",
    "y_pred_logit_train=logit.predict(x_train)\n",
    "y_pred_logit_test=logit.predict(x_test)"
   ]
  },
  {
   "cell_type": "code",
   "execution_count": 39,
   "id": "d743c432",
   "metadata": {},
   "outputs": [
    {
     "name": "stdout",
     "output_type": "stream",
     "text": [
      "              precision    recall  f1-score   support\n",
      "\n",
      "           0       0.85      0.77      0.81      1560\n",
      "           1       0.79      0.86      0.82      1545\n",
      "\n",
      "    accuracy                           0.82      3105\n",
      "   macro avg       0.82      0.82      0.82      3105\n",
      "weighted avg       0.82      0.82      0.82      3105\n",
      "\n"
     ]
    }
   ],
   "source": [
    "#evaluate the model\n",
    "from sklearn.metrics import confusion_matrix,classification_report,accuracy_score\n",
    "print(classification_report(y_test,y_pred_logit_test))"
   ]
  },
  {
   "cell_type": "code",
   "execution_count": 40,
   "id": "4b7afa39",
   "metadata": {},
   "outputs": [
    {
     "name": "stdout",
     "output_type": "stream",
     "text": [
      "Confusion matrix is :\n",
      "[[1208  352]\n",
      " [ 221 1324]]\n"
     ]
    }
   ],
   "source": [
    "print('Confusion matrix is :')\n",
    "print(confusion_matrix(y_test,y_pred_logit_test))"
   ]
  },
  {
   "cell_type": "code",
   "execution_count": 41,
   "id": "f16e725f",
   "metadata": {},
   "outputs": [
    {
     "name": "stdout",
     "output_type": "stream",
     "text": [
      "Training Accuracy is : 0.7987021952229739\n",
      "Test Accuracy is : 0.8154589371980676\n"
     ]
    }
   ],
   "source": [
    "print(\"Training Accuracy is :\",accuracy_score(y_train,y_pred_logit_train))\n",
    "print(\"Test Accuracy is :\",accuracy_score(y_test,y_pred_logit_test))"
   ]
  },
  {
   "cell_type": "code",
   "execution_count": 42,
   "id": "fd55a0e6",
   "metadata": {},
   "outputs": [],
   "source": [
    "#good accuracy,no bias and variance\n",
    "#precision- 0.81\n",
    "#recall - 0.81"
   ]
  },
  {
   "cell_type": "markdown",
   "id": "c0a7c314",
   "metadata": {},
   "source": [
    "## Probability that customers will churn"
   ]
  },
  {
   "cell_type": "code",
   "execution_count": 43,
   "id": "8689948f",
   "metadata": {},
   "outputs": [],
   "source": [
    "dataset['Probability']=logit.predict_proba(dataset[x_test.columns])[:,1]"
   ]
  },
  {
   "cell_type": "code",
   "execution_count": 44,
   "id": "aaeda33f",
   "metadata": {},
   "outputs": [
    {
     "data": {
      "text/html": [
       "<div>\n",
       "<style scoped>\n",
       "    .dataframe tbody tr th:only-of-type {\n",
       "        vertical-align: middle;\n",
       "    }\n",
       "\n",
       "    .dataframe tbody tr th {\n",
       "        vertical-align: top;\n",
       "    }\n",
       "\n",
       "    .dataframe thead th {\n",
       "        text-align: right;\n",
       "    }\n",
       "</style>\n",
       "<table border=\"1\" class=\"dataframe\">\n",
       "  <thead>\n",
       "    <tr style=\"text-align: right;\">\n",
       "      <th></th>\n",
       "      <th>SeniorCitizen</th>\n",
       "      <th>tenure</th>\n",
       "      <th>MonthlyCharges</th>\n",
       "      <th>TotalCharges</th>\n",
       "      <th>Churn</th>\n",
       "      <th>gender_Male</th>\n",
       "      <th>Partner_Yes</th>\n",
       "      <th>Dependents_Yes</th>\n",
       "      <th>PhoneService_Yes</th>\n",
       "      <th>MultipleLines_No phone service</th>\n",
       "      <th>...</th>\n",
       "      <th>StreamingTV_Yes</th>\n",
       "      <th>StreamingMovies_No internet service</th>\n",
       "      <th>StreamingMovies_Yes</th>\n",
       "      <th>Contract_One year</th>\n",
       "      <th>Contract_Two year</th>\n",
       "      <th>PaperlessBilling_Yes</th>\n",
       "      <th>PaymentMethod_Credit card (automatic)</th>\n",
       "      <th>PaymentMethod_Electronic check</th>\n",
       "      <th>PaymentMethod_Mailed check</th>\n",
       "      <th>Probability</th>\n",
       "    </tr>\n",
       "  </thead>\n",
       "  <tbody>\n",
       "    <tr>\n",
       "      <th>0</th>\n",
       "      <td>0</td>\n",
       "      <td>-1.277445</td>\n",
       "      <td>-1.160323</td>\n",
       "      <td>-0.994242</td>\n",
       "      <td>0</td>\n",
       "      <td>0</td>\n",
       "      <td>1</td>\n",
       "      <td>0</td>\n",
       "      <td>0</td>\n",
       "      <td>1</td>\n",
       "      <td>...</td>\n",
       "      <td>0</td>\n",
       "      <td>0</td>\n",
       "      <td>0</td>\n",
       "      <td>0</td>\n",
       "      <td>0</td>\n",
       "      <td>1</td>\n",
       "      <td>0</td>\n",
       "      <td>1</td>\n",
       "      <td>0</td>\n",
       "      <td>0.778890</td>\n",
       "    </tr>\n",
       "    <tr>\n",
       "      <th>1</th>\n",
       "      <td>0</td>\n",
       "      <td>0.066327</td>\n",
       "      <td>-0.259629</td>\n",
       "      <td>-0.173244</td>\n",
       "      <td>0</td>\n",
       "      <td>1</td>\n",
       "      <td>0</td>\n",
       "      <td>0</td>\n",
       "      <td>1</td>\n",
       "      <td>0</td>\n",
       "      <td>...</td>\n",
       "      <td>0</td>\n",
       "      <td>0</td>\n",
       "      <td>0</td>\n",
       "      <td>1</td>\n",
       "      <td>0</td>\n",
       "      <td>0</td>\n",
       "      <td>0</td>\n",
       "      <td>0</td>\n",
       "      <td>1</td>\n",
       "      <td>0.106710</td>\n",
       "    </tr>\n",
       "    <tr>\n",
       "      <th>2</th>\n",
       "      <td>0</td>\n",
       "      <td>-1.236724</td>\n",
       "      <td>-0.362660</td>\n",
       "      <td>-0.959674</td>\n",
       "      <td>1</td>\n",
       "      <td>1</td>\n",
       "      <td>0</td>\n",
       "      <td>0</td>\n",
       "      <td>1</td>\n",
       "      <td>0</td>\n",
       "      <td>...</td>\n",
       "      <td>0</td>\n",
       "      <td>0</td>\n",
       "      <td>0</td>\n",
       "      <td>0</td>\n",
       "      <td>0</td>\n",
       "      <td>1</td>\n",
       "      <td>0</td>\n",
       "      <td>0</td>\n",
       "      <td>1</td>\n",
       "      <td>0.291422</td>\n",
       "    </tr>\n",
       "    <tr>\n",
       "      <th>3</th>\n",
       "      <td>0</td>\n",
       "      <td>0.514251</td>\n",
       "      <td>-0.746535</td>\n",
       "      <td>-0.194766</td>\n",
       "      <td>0</td>\n",
       "      <td>1</td>\n",
       "      <td>0</td>\n",
       "      <td>0</td>\n",
       "      <td>0</td>\n",
       "      <td>1</td>\n",
       "      <td>...</td>\n",
       "      <td>0</td>\n",
       "      <td>0</td>\n",
       "      <td>0</td>\n",
       "      <td>1</td>\n",
       "      <td>0</td>\n",
       "      <td>0</td>\n",
       "      <td>0</td>\n",
       "      <td>0</td>\n",
       "      <td>0</td>\n",
       "      <td>0.104462</td>\n",
       "    </tr>\n",
       "    <tr>\n",
       "      <th>4</th>\n",
       "      <td>0</td>\n",
       "      <td>-1.236724</td>\n",
       "      <td>0.197365</td>\n",
       "      <td>-0.940470</td>\n",
       "      <td>1</td>\n",
       "      <td>0</td>\n",
       "      <td>0</td>\n",
       "      <td>0</td>\n",
       "      <td>1</td>\n",
       "      <td>0</td>\n",
       "      <td>...</td>\n",
       "      <td>0</td>\n",
       "      <td>0</td>\n",
       "      <td>0</td>\n",
       "      <td>0</td>\n",
       "      <td>0</td>\n",
       "      <td>1</td>\n",
       "      <td>0</td>\n",
       "      <td>1</td>\n",
       "      <td>0</td>\n",
       "      <td>0.901783</td>\n",
       "    </tr>\n",
       "  </tbody>\n",
       "</table>\n",
       "<p>5 rows × 32 columns</p>\n",
       "</div>"
      ],
      "text/plain": [
       "   SeniorCitizen    tenure  MonthlyCharges  TotalCharges  Churn  gender_Male  \\\n",
       "0              0 -1.277445       -1.160323     -0.994242      0            0   \n",
       "1              0  0.066327       -0.259629     -0.173244      0            1   \n",
       "2              0 -1.236724       -0.362660     -0.959674      1            1   \n",
       "3              0  0.514251       -0.746535     -0.194766      0            1   \n",
       "4              0 -1.236724        0.197365     -0.940470      1            0   \n",
       "\n",
       "   Partner_Yes  Dependents_Yes  PhoneService_Yes  \\\n",
       "0            1               0                 0   \n",
       "1            0               0                 1   \n",
       "2            0               0                 1   \n",
       "3            0               0                 0   \n",
       "4            0               0                 1   \n",
       "\n",
       "   MultipleLines_No phone service  ...  StreamingTV_Yes  \\\n",
       "0                               1  ...                0   \n",
       "1                               0  ...                0   \n",
       "2                               0  ...                0   \n",
       "3                               1  ...                0   \n",
       "4                               0  ...                0   \n",
       "\n",
       "   StreamingMovies_No internet service  StreamingMovies_Yes  \\\n",
       "0                                    0                    0   \n",
       "1                                    0                    0   \n",
       "2                                    0                    0   \n",
       "3                                    0                    0   \n",
       "4                                    0                    0   \n",
       "\n",
       "   Contract_One year  Contract_Two year  PaperlessBilling_Yes  \\\n",
       "0                  0                  0                     1   \n",
       "1                  1                  0                     0   \n",
       "2                  0                  0                     1   \n",
       "3                  1                  0                     0   \n",
       "4                  0                  0                     1   \n",
       "\n",
       "   PaymentMethod_Credit card (automatic)  PaymentMethod_Electronic check  \\\n",
       "0                                      0                               1   \n",
       "1                                      0                               0   \n",
       "2                                      0                               0   \n",
       "3                                      0                               0   \n",
       "4                                      0                               1   \n",
       "\n",
       "   PaymentMethod_Mailed check  Probability  \n",
       "0                           0     0.778890  \n",
       "1                           1     0.106710  \n",
       "2                           1     0.291422  \n",
       "3                           0     0.104462  \n",
       "4                           0     0.901783  \n",
       "\n",
       "[5 rows x 32 columns]"
      ]
     },
     "execution_count": 44,
     "metadata": {},
     "output_type": "execute_result"
    }
   ],
   "source": [
    "dataset.head()"
   ]
  },
  {
   "cell_type": "code",
   "execution_count": 48,
   "id": "b63d10c6",
   "metadata": {},
   "outputs": [
    {
     "data": {
      "text/html": [
       "<div>\n",
       "<style scoped>\n",
       "    .dataframe tbody tr th:only-of-type {\n",
       "        vertical-align: middle;\n",
       "    }\n",
       "\n",
       "    .dataframe tbody tr th {\n",
       "        vertical-align: top;\n",
       "    }\n",
       "\n",
       "    .dataframe thead th {\n",
       "        text-align: right;\n",
       "    }\n",
       "</style>\n",
       "<table border=\"1\" class=\"dataframe\">\n",
       "  <thead>\n",
       "    <tr style=\"text-align: right;\">\n",
       "      <th></th>\n",
       "      <th>customerID</th>\n",
       "      <th>Probability</th>\n",
       "    </tr>\n",
       "  </thead>\n",
       "  <tbody>\n",
       "    <tr>\n",
       "      <th>0</th>\n",
       "      <td>7590-VHVEG</td>\n",
       "      <td>0.778890</td>\n",
       "    </tr>\n",
       "    <tr>\n",
       "      <th>1</th>\n",
       "      <td>5575-GNVDE</td>\n",
       "      <td>0.106710</td>\n",
       "    </tr>\n",
       "    <tr>\n",
       "      <th>2</th>\n",
       "      <td>3668-QPYBK</td>\n",
       "      <td>0.291422</td>\n",
       "    </tr>\n",
       "    <tr>\n",
       "      <th>3</th>\n",
       "      <td>7795-CFOCW</td>\n",
       "      <td>0.104462</td>\n",
       "    </tr>\n",
       "    <tr>\n",
       "      <th>4</th>\n",
       "      <td>9237-HQITU</td>\n",
       "      <td>0.901783</td>\n",
       "    </tr>\n",
       "  </tbody>\n",
       "</table>\n",
       "</div>"
      ],
      "text/plain": [
       "   customerID  Probability\n",
       "0  7590-VHVEG     0.778890\n",
       "1  5575-GNVDE     0.106710\n",
       "2  3668-QPYBK     0.291422\n",
       "3  7795-CFOCW     0.104462\n",
       "4  9237-HQITU     0.901783"
      ]
     },
     "execution_count": 48,
     "metadata": {},
     "output_type": "execute_result"
    }
   ],
   "source": [
    "dataset2=pd.concat([dataset1['customerID'],dataset['Probability']],axis=1)\n",
    "#datset2=dataset1['customerID']+dataset['Probability']\n",
    "dataset2.head()"
   ]
  },
  {
   "cell_type": "markdown",
   "id": "c90b4444",
   "metadata": {},
   "source": [
    "### ROC-AUC"
   ]
  },
  {
   "cell_type": "code",
   "execution_count": 49,
   "id": "f527f54c",
   "metadata": {},
   "outputs": [
    {
     "name": "stdout",
     "output_type": "stream",
     "text": [
      "0.8156584515807818\n"
     ]
    }
   ],
   "source": [
    "from sklearn.metrics import roc_auc_score\n",
    "logit_roc_auc=roc_auc_score(y_test,y_pred_logit_test)\n",
    "print(logit_roc_auc)                   # 81% accuracy"
   ]
  },
  {
   "cell_type": "code",
   "execution_count": 50,
   "id": "4a78b499",
   "metadata": {},
   "outputs": [],
   "source": [
    "#ROC-AUC Curve\n",
    "from sklearn.metrics import roc_curve\n",
    "fpr,tpr,thresholds=roc_curve(y_test,y_pred_logit_test)"
   ]
  },
  {
   "cell_type": "code",
   "execution_count": 51,
   "id": "aa15754d",
   "metadata": {},
   "outputs": [
    {
     "data": {
      "image/png": "[encoded data removed]",
      "text/plain": [
       "<Figure size 640x480 with 1 Axes>"
      ]
     },
     "metadata": {},
     "output_type": "display_data"
    }
   ],
   "source": [
    "plt.figure()\n",
    "plt.plot(fpr,tpr,label='ROC Curve(area=%0.2f)'%logit_roc_auc)\n",
    "plt.plot([0,1],[0,1],'k--')\n",
    "plt.xlim([0.0,1.0])\n",
    "plt.ylim([0.0,1.0])\n",
    "plt.xlabel(\"FPR\")\n",
    "plt.ylabel(\"TPR\")\n",
    "plt.title('ROC-AUC Curve')\n",
    "plt.legend(loc='lower right')\n",
    "plt.show()"
   ]
  },
  {
   "cell_type": "code",
   "execution_count": 52,
   "id": "a3fb8742",
   "metadata": {},
   "outputs": [],
   "source": [
    "#ROC curve above AUC, good model"
   ]
  },
  {
   "cell_type": "markdown",
   "id": "23348e52",
   "metadata": {},
   "source": [
    "## 2. Decision Tree Model"
   ]
  },
  {
   "cell_type": "code",
   "execution_count": 56,
   "id": "caf64dee",
   "metadata": {},
   "outputs": [
    {
     "data": {
      "text/plain": [
       "DecisionTreeClassifier(criterion='entropy')"
      ]
     },
     "execution_count": 56,
     "metadata": {},
     "output_type": "execute_result"
    }
   ],
   "source": [
    "from sklearn.tree import DecisionTreeClassifier\n",
    "dtree=DecisionTreeClassifier(criterion='entropy')   #criterion gini / entropy, check whichever gives better accuracy\n",
    "dtree.fit(x_train,y_train)"
   ]
  },
  {
   "cell_type": "code",
   "execution_count": 57,
   "id": "84948af5",
   "metadata": {},
   "outputs": [],
   "source": [
    "y_pred_dt_train=dtree.predict(x_train)\n",
    "y_pred_dt_test=dtree.predict(x_test)"
   ]
  },
  {
   "cell_type": "code",
   "execution_count": 58,
   "id": "216247c5",
   "metadata": {},
   "outputs": [
    {
     "name": "stdout",
     "output_type": "stream",
     "text": [
      "Training Accuracy is : 0.9987574209581666\n",
      "Test Accuracy is : 0.7758454106280194\n"
     ]
    }
   ],
   "source": [
    "print(\"Training Accuracy is :\",accuracy_score(y_train,y_pred_dt_train))\n",
    "print(\"Test Accuracy is :\",accuracy_score(y_test,y_pred_dt_test))"
   ]
  },
  {
   "cell_type": "code",
   "execution_count": 59,
   "id": "c770a21e",
   "metadata": {},
   "outputs": [],
   "source": [
    "#high variance (DT is overfitting the model) ---- solution- Bagging"
   ]
  },
  {
   "cell_type": "markdown",
   "id": "f5c65dec",
   "metadata": {},
   "source": [
    "## 3. Random Forest"
   ]
  },
  {
   "cell_type": "code",
   "execution_count": 60,
   "id": "da5d08ff",
   "metadata": {},
   "outputs": [
    {
     "data": {
      "text/plain": [
       "RandomForestClassifier(criterion='entropy', n_estimators=500, random_state=101)"
      ]
     },
     "execution_count": 60,
     "metadata": {},
     "output_type": "execute_result"
    }
   ],
   "source": [
    "from sklearn.ensemble import RandomForestClassifier\n",
    "rf=RandomForestClassifier(n_estimators=500,criterion='entropy',random_state=101)\n",
    "rf.fit(x_train,y_train)"
   ]
  },
  {
   "cell_type": "code",
   "execution_count": 61,
   "id": "a9ae2833",
   "metadata": {},
   "outputs": [],
   "source": [
    "y_pred_rf_train=rf.predict(x_train)\n",
    "y_pred_rf_test=rf.predict(x_test)"
   ]
  },
  {
   "cell_type": "code",
   "execution_count": 62,
   "id": "d59a1bab",
   "metadata": {},
   "outputs": [
    {
     "name": "stdout",
     "output_type": "stream",
     "text": [
      "Training Accuracy is : 0.9987574209581666\n",
      "Test Accuracy is : 0.8553945249597423\n"
     ]
    }
   ],
   "source": [
    "print(\"Training Accuracy is :\",accuracy_score(y_train,y_pred_rf_train))\n",
    "print(\"Test Accuracy is :\",accuracy_score(y_test,y_pred_rf_test))  #(variance less than 15% now)"
   ]
  },
  {
   "cell_type": "code",
   "execution_count": 63,
   "id": "ad63ac79",
   "metadata": {},
   "outputs": [],
   "source": [
    "#Cross validation or XGBoost now for improving model more"
   ]
  },
  {
   "cell_type": "markdown",
   "id": "22fc64aa",
   "metadata": {},
   "source": [
    "## 4. XGBoost"
   ]
  },
  {
   "cell_type": "code",
   "execution_count": 72,
   "id": "e4be8d9c",
   "metadata": {},
   "outputs": [
    {
     "data": {
      "text/plain": [
       "XGBClassifier(base_score=None, booster=None, callbacks=None,\n",
       "              colsample_bylevel=None, colsample_bynode=None,\n",
       "              colsample_bytree=None, early_stopping_rounds=None,\n",
       "              enable_categorical=False, eval_metric=None, feature_types=None,\n",
       "              gamma=None, gpu_id=None, grow_policy=None, importance_type=None,\n",
       "              interaction_constraints=None, learning_rate=None, max_bin=None,\n",
       "              max_cat_threshold=None, max_cat_to_onehot=None,\n",
       "              max_delta_step=None, max_depth=None, max_leaves=None,\n",
       "              min_child_weight=None, missing=nan, monotone_constraints=None,\n",
       "              n_estimators=100, n_jobs=None, num_parallel_tree=None,\n",
       "              predictor=None, random_state=None, ...)"
      ]
     },
     "execution_count": 72,
     "metadata": {},
     "output_type": "execute_result"
    }
   ],
   "source": [
    "from xgboost import XGBClassifier\n",
    "xgb=XGBClassifier()\n",
    "xgb.fit(x_train,y_train)"
   ]
  },
  {
   "cell_type": "code",
   "execution_count": 73,
   "id": "97122ee3",
   "metadata": {},
   "outputs": [],
   "source": [
    "#predict\n",
    "y_pred_xgb_train=xgb.predict(x_train)\n",
    "y_pred_xgb_test=xgb.predict(x_test)"
   ]
  },
  {
   "cell_type": "code",
   "execution_count": 74,
   "id": "75a2364e",
   "metadata": {},
   "outputs": [
    {
     "name": "stdout",
     "output_type": "stream",
     "text": [
      "Train accuracy:  0.9486400662708823\n",
      "Test accuracy:  0.8312399355877617\n"
     ]
    }
   ],
   "source": [
    "#evaluate\n",
    "print('Train accuracy: ',accuracy_score(y_train,y_pred_xgb_train))\n",
    "print('Test accuracy: ',accuracy_score(y_test,y_pred_xgb_test))"
   ]
  },
  {
   "cell_type": "markdown",
   "id": "44b99cd3",
   "metadata": {},
   "source": [
    "## 5.AdaBoost"
   ]
  },
  {
   "cell_type": "code",
   "execution_count": 75,
   "id": "1a358fc5",
   "metadata": {},
   "outputs": [
    {
     "data": {
      "text/plain": [
       "AdaBoostClassifier(n_estimators=100, random_state=101)"
      ]
     },
     "execution_count": 75,
     "metadata": {},
     "output_type": "execute_result"
    }
   ],
   "source": [
    "from sklearn.ensemble import AdaBoostClassifier\n",
    "adaboost=AdaBoostClassifier(n_estimators=100,random_state=101)\n",
    "adaboost.fit(x_train,y_train)"
   ]
  },
  {
   "cell_type": "code",
   "execution_count": 76,
   "id": "dc7b527b",
   "metadata": {},
   "outputs": [],
   "source": [
    "#predict\n",
    "y_pred_ada_train=adaboost.predict(x_train)\n",
    "y_pred_ada_test=adaboost.predict(x_test)"
   ]
  },
  {
   "cell_type": "code",
   "execution_count": 77,
   "id": "95d9194e",
   "metadata": {},
   "outputs": [
    {
     "name": "stdout",
     "output_type": "stream",
     "text": [
      "Train accuracy:  0.794008007731603\n",
      "Test accuracy:  0.8054750402576489\n"
     ]
    }
   ],
   "source": [
    "#evaluate\n",
    "print('Train accuracy: ',accuracy_score(y_train,y_pred_ada_train))\n",
    "print('Test accuracy: ',accuracy_score(y_test,y_pred_ada_test))"
   ]
  },
  {
   "cell_type": "markdown",
   "id": "492964d2",
   "metadata": {},
   "source": [
    "## 6.PyCaret Package"
   ]
  },
  {
   "cell_type": "code",
   "execution_count": 78,
   "id": "c61d31ba",
   "metadata": {},
   "outputs": [],
   "source": [
    "from pycaret.classification import *"
   ]
  },
  {
   "cell_type": "code",
   "execution_count": 79,
   "id": "c1cc3c85",
   "metadata": {},
   "outputs": [
    {
     "data": {
      "text/html": [
       "<style type=\"text/css\">\n",
       "#T_7c8d9_row8_col1 {\n",
       "  background-color: lightgreen;\n",
       "}\n",
       "</style>\n",
       "<table id=\"T_7c8d9\">\n",
       "  <thead>\n",
       "    <tr>\n",
       "      <th class=\"blank level0\" >&nbsp;</th>\n",
       "      <th id=\"T_7c8d9_level0_col0\" class=\"col_heading level0 col0\" >Description</th>\n",
       "      <th id=\"T_7c8d9_level0_col1\" class=\"col_heading level0 col1\" >Value</th>\n",
       "    </tr>\n",
       "  </thead>\n",
       "  <tbody>\n",
       "    <tr>\n",
       "      <th id=\"T_7c8d9_level0_row0\" class=\"row_heading level0 row0\" >0</th>\n",
       "      <td id=\"T_7c8d9_row0_col0\" class=\"data row0 col0\" >Session id</td>\n",
       "      <td id=\"T_7c8d9_row0_col1\" class=\"data row0 col1\" >123</td>\n",
       "    </tr>\n",
       "    <tr>\n",
       "      <th id=\"T_7c8d9_level0_row1\" class=\"row_heading level0 row1\" >1</th>\n",
       "      <td id=\"T_7c8d9_row1_col0\" class=\"data row1 col0\" >Target</td>\n",
       "      <td id=\"T_7c8d9_row1_col1\" class=\"data row1 col1\" >Churn</td>\n",
       "    </tr>\n",
       "    <tr>\n",
       "      <th id=\"T_7c8d9_level0_row2\" class=\"row_heading level0 row2\" >2</th>\n",
       "      <td id=\"T_7c8d9_row2_col0\" class=\"data row2 col0\" >Target type</td>\n",
       "      <td id=\"T_7c8d9_row2_col1\" class=\"data row2 col1\" >Binary</td>\n",
       "    </tr>\n",
       "    <tr>\n",
       "      <th id=\"T_7c8d9_level0_row3\" class=\"row_heading level0 row3\" >3</th>\n",
       "      <td id=\"T_7c8d9_row3_col0\" class=\"data row3 col0\" >Original data shape</td>\n",
       "      <td id=\"T_7c8d9_row3_col1\" class=\"data row3 col1\" >(7043, 32)</td>\n",
       "    </tr>\n",
       "    <tr>\n",
       "      <th id=\"T_7c8d9_level0_row4\" class=\"row_heading level0 row4\" >4</th>\n",
       "      <td id=\"T_7c8d9_row4_col0\" class=\"data row4 col0\" >Transformed data shape</td>\n",
       "      <td id=\"T_7c8d9_row4_col1\" class=\"data row4 col1\" >(7043, 32)</td>\n",
       "    </tr>\n",
       "    <tr>\n",
       "      <th id=\"T_7c8d9_level0_row5\" class=\"row_heading level0 row5\" >5</th>\n",
       "      <td id=\"T_7c8d9_row5_col0\" class=\"data row5 col0\" >Transformed train set shape</td>\n",
       "      <td id=\"T_7c8d9_row5_col1\" class=\"data row5 col1\" >(4930, 32)</td>\n",
       "    </tr>\n",
       "    <tr>\n",
       "      <th id=\"T_7c8d9_level0_row6\" class=\"row_heading level0 row6\" >6</th>\n",
       "      <td id=\"T_7c8d9_row6_col0\" class=\"data row6 col0\" >Transformed test set shape</td>\n",
       "      <td id=\"T_7c8d9_row6_col1\" class=\"data row6 col1\" >(2113, 32)</td>\n",
       "    </tr>\n",
       "    <tr>\n",
       "      <th id=\"T_7c8d9_level0_row7\" class=\"row_heading level0 row7\" >7</th>\n",
       "      <td id=\"T_7c8d9_row7_col0\" class=\"data row7 col0\" >Numeric features</td>\n",
       "      <td id=\"T_7c8d9_row7_col1\" class=\"data row7 col1\" >31</td>\n",
       "    </tr>\n",
       "    <tr>\n",
       "      <th id=\"T_7c8d9_level0_row8\" class=\"row_heading level0 row8\" >8</th>\n",
       "      <td id=\"T_7c8d9_row8_col0\" class=\"data row8 col0\" >Preprocess</td>\n",
       "      <td id=\"T_7c8d9_row8_col1\" class=\"data row8 col1\" >True</td>\n",
       "    </tr>\n",
       "    <tr>\n",
       "      <th id=\"T_7c8d9_level0_row9\" class=\"row_heading level0 row9\" >9</th>\n",
       "      <td id=\"T_7c8d9_row9_col0\" class=\"data row9 col0\" >Imputation type</td>\n",
       "      <td id=\"T_7c8d9_row9_col1\" class=\"data row9 col1\" >simple</td>\n",
       "    </tr>\n",
       "    <tr>\n",
       "      <th id=\"T_7c8d9_level0_row10\" class=\"row_heading level0 row10\" >10</th>\n",
       "      <td id=\"T_7c8d9_row10_col0\" class=\"data row10 col0\" >Numeric imputation</td>\n",
       "      <td id=\"T_7c8d9_row10_col1\" class=\"data row10 col1\" >mean</td>\n",
       "    </tr>\n",
       "    <tr>\n",
       "      <th id=\"T_7c8d9_level0_row11\" class=\"row_heading level0 row11\" >11</th>\n",
       "      <td id=\"T_7c8d9_row11_col0\" class=\"data row11 col0\" >Categorical imputation</td>\n",
       "      <td id=\"T_7c8d9_row11_col1\" class=\"data row11 col1\" >mode</td>\n",
       "    </tr>\n",
       "    <tr>\n",
       "      <th id=\"T_7c8d9_level0_row12\" class=\"row_heading level0 row12\" >12</th>\n",
       "      <td id=\"T_7c8d9_row12_col0\" class=\"data row12 col0\" >Fold Generator</td>\n",
       "      <td id=\"T_7c8d9_row12_col1\" class=\"data row12 col1\" >StratifiedKFold</td>\n",
       "    </tr>\n",
       "    <tr>\n",
       "      <th id=\"T_7c8d9_level0_row13\" class=\"row_heading level0 row13\" >13</th>\n",
       "      <td id=\"T_7c8d9_row13_col0\" class=\"data row13 col0\" >Fold Number</td>\n",
       "      <td id=\"T_7c8d9_row13_col1\" class=\"data row13 col1\" >10</td>\n",
       "    </tr>\n",
       "    <tr>\n",
       "      <th id=\"T_7c8d9_level0_row14\" class=\"row_heading level0 row14\" >14</th>\n",
       "      <td id=\"T_7c8d9_row14_col0\" class=\"data row14 col0\" >CPU Jobs</td>\n",
       "      <td id=\"T_7c8d9_row14_col1\" class=\"data row14 col1\" >-1</td>\n",
       "    </tr>\n",
       "    <tr>\n",
       "      <th id=\"T_7c8d9_level0_row15\" class=\"row_heading level0 row15\" >15</th>\n",
       "      <td id=\"T_7c8d9_row15_col0\" class=\"data row15 col0\" >Use GPU</td>\n",
       "      <td id=\"T_7c8d9_row15_col1\" class=\"data row15 col1\" >False</td>\n",
       "    </tr>\n",
       "    <tr>\n",
       "      <th id=\"T_7c8d9_level0_row16\" class=\"row_heading level0 row16\" >16</th>\n",
       "      <td id=\"T_7c8d9_row16_col0\" class=\"data row16 col0\" >Log Experiment</td>\n",
       "      <td id=\"T_7c8d9_row16_col1\" class=\"data row16 col1\" >False</td>\n",
       "    </tr>\n",
       "    <tr>\n",
       "      <th id=\"T_7c8d9_level0_row17\" class=\"row_heading level0 row17\" >17</th>\n",
       "      <td id=\"T_7c8d9_row17_col0\" class=\"data row17 col0\" >Experiment Name</td>\n",
       "      <td id=\"T_7c8d9_row17_col1\" class=\"data row17 col1\" >clf-default-name</td>\n",
       "    </tr>\n",
       "    <tr>\n",
       "      <th id=\"T_7c8d9_level0_row18\" class=\"row_heading level0 row18\" >18</th>\n",
       "      <td id=\"T_7c8d9_row18_col0\" class=\"data row18 col0\" >USI</td>\n",
       "      <td id=\"T_7c8d9_row18_col1\" class=\"data row18 col1\" >54d8</td>\n",
       "    </tr>\n",
       "  </tbody>\n",
       "</table>\n"
      ],
      "text/plain": [
       "<pandas.io.formats.style.Styler at 0x203cf49f310>"
      ]
     },
     "metadata": {},
     "output_type": "display_data"
    }
   ],
   "source": [
    "classif=setup(data=dataset,target='Churn',session_id=123)"
   ]
  },
  {
   "cell_type": "code",
   "execution_count": 80,
   "id": "b6b7d10b",
   "metadata": {},
   "outputs": [
    {
     "data": {
      "text/html": [],
      "text/plain": [
       "<IPython.core.display.HTML object>"
      ]
     },
     "metadata": {},
     "output_type": "display_data"
    },
    {
     "data": {
      "text/html": [
       "<style type=\"text/css\">\n",
       "#T_96184 th {\n",
       "  text-align: left;\n",
       "}\n",
       "#T_96184_row0_col0, #T_96184_row0_col3, #T_96184_row0_col4, #T_96184_row0_col5, #T_96184_row0_col6, #T_96184_row0_col7, #T_96184_row1_col0, #T_96184_row1_col1, #T_96184_row1_col2, #T_96184_row1_col3, #T_96184_row1_col5, #T_96184_row1_col6, #T_96184_row1_col7, #T_96184_row2_col0, #T_96184_row2_col1, #T_96184_row2_col2, #T_96184_row2_col3, #T_96184_row2_col4, #T_96184_row2_col5, #T_96184_row2_col6, #T_96184_row2_col7, #T_96184_row3_col0, #T_96184_row3_col1, #T_96184_row3_col2, #T_96184_row3_col3, #T_96184_row3_col4, #T_96184_row4_col0, #T_96184_row4_col1, #T_96184_row4_col2, #T_96184_row4_col3, #T_96184_row4_col4, #T_96184_row4_col5, #T_96184_row4_col6, #T_96184_row4_col7, #T_96184_row5_col0, #T_96184_row5_col1, #T_96184_row5_col2, #T_96184_row5_col3, #T_96184_row5_col4, #T_96184_row5_col5, #T_96184_row5_col6, #T_96184_row5_col7, #T_96184_row6_col0, #T_96184_row6_col1, #T_96184_row6_col2, #T_96184_row6_col3, #T_96184_row6_col4, #T_96184_row6_col5, #T_96184_row6_col6, #T_96184_row6_col7, #T_96184_row7_col0, #T_96184_row7_col1, #T_96184_row7_col2, #T_96184_row7_col3, #T_96184_row7_col4, #T_96184_row7_col5, #T_96184_row7_col6, #T_96184_row7_col7, #T_96184_row8_col0, #T_96184_row8_col1, #T_96184_row8_col2, #T_96184_row8_col3, #T_96184_row8_col4, #T_96184_row8_col5, #T_96184_row8_col6, #T_96184_row8_col7, #T_96184_row9_col0, #T_96184_row9_col1, #T_96184_row9_col2, #T_96184_row9_col3, #T_96184_row9_col4, #T_96184_row9_col5, #T_96184_row9_col6, #T_96184_row9_col7, #T_96184_row10_col0, #T_96184_row10_col1, #T_96184_row10_col2, #T_96184_row10_col3, #T_96184_row10_col4, #T_96184_row10_col5, #T_96184_row10_col6, #T_96184_row10_col7, #T_96184_row11_col0, #T_96184_row11_col1, #T_96184_row11_col2, #T_96184_row11_col3, #T_96184_row11_col4, #T_96184_row11_col5, #T_96184_row11_col6, #T_96184_row11_col7, #T_96184_row12_col0, #T_96184_row12_col1, #T_96184_row12_col2, #T_96184_row12_col3, #T_96184_row12_col4, #T_96184_row12_col5, #T_96184_row12_col6, #T_96184_row12_col7, #T_96184_row13_col0, #T_96184_row13_col1, #T_96184_row13_col2, #T_96184_row13_col3, #T_96184_row13_col4, #T_96184_row13_col5, #T_96184_row13_col6, #T_96184_row13_col7, #T_96184_row14_col0, #T_96184_row14_col1, #T_96184_row14_col2, #T_96184_row14_col4, #T_96184_row14_col5, #T_96184_row14_col6, #T_96184_row14_col7 {\n",
       "  text-align: left;\n",
       "}\n",
       "#T_96184_row0_col1, #T_96184_row0_col2, #T_96184_row1_col4, #T_96184_row3_col5, #T_96184_row3_col6, #T_96184_row3_col7, #T_96184_row14_col3 {\n",
       "  text-align: left;\n",
       "  background-color: yellow;\n",
       "}\n",
       "#T_96184_row0_col8, #T_96184_row1_col8, #T_96184_row3_col8, #T_96184_row4_col8, #T_96184_row5_col8, #T_96184_row6_col8, #T_96184_row7_col8, #T_96184_row8_col8, #T_96184_row9_col8, #T_96184_row10_col8, #T_96184_row11_col8, #T_96184_row12_col8, #T_96184_row14_col8 {\n",
       "  text-align: left;\n",
       "  background-color: lightgrey;\n",
       "}\n",
       "#T_96184_row2_col8, #T_96184_row13_col8 {\n",
       "  text-align: left;\n",
       "  background-color: yellow;\n",
       "  background-color: lightgrey;\n",
       "}\n",
       "</style>\n",
       "<table id=\"T_96184\">\n",
       "  <thead>\n",
       "    <tr>\n",
       "      <th class=\"blank level0\" >&nbsp;</th>\n",
       "      <th id=\"T_96184_level0_col0\" class=\"col_heading level0 col0\" >Model</th>\n",
       "      <th id=\"T_96184_level0_col1\" class=\"col_heading level0 col1\" >Accuracy</th>\n",
       "      <th id=\"T_96184_level0_col2\" class=\"col_heading level0 col2\" >AUC</th>\n",
       "      <th id=\"T_96184_level0_col3\" class=\"col_heading level0 col3\" >Recall</th>\n",
       "      <th id=\"T_96184_level0_col4\" class=\"col_heading level0 col4\" >Prec.</th>\n",
       "      <th id=\"T_96184_level0_col5\" class=\"col_heading level0 col5\" >F1</th>\n",
       "      <th id=\"T_96184_level0_col6\" class=\"col_heading level0 col6\" >Kappa</th>\n",
       "      <th id=\"T_96184_level0_col7\" class=\"col_heading level0 col7\" >MCC</th>\n",
       "      <th id=\"T_96184_level0_col8\" class=\"col_heading level0 col8\" >TT (Sec)</th>\n",
       "    </tr>\n",
       "  </thead>\n",
       "  <tbody>\n",
       "    <tr>\n",
       "      <th id=\"T_96184_level0_row0\" class=\"row_heading level0 row0\" >lr</th>\n",
       "      <td id=\"T_96184_row0_col0\" class=\"data row0 col0\" >Logistic Regression</td>\n",
       "      <td id=\"T_96184_row0_col1\" class=\"data row0 col1\" >0.8022</td>\n",
       "      <td id=\"T_96184_row0_col2\" class=\"data row0 col2\" >0.8449</td>\n",
       "      <td id=\"T_96184_row0_col3\" class=\"data row0 col3\" >0.5520</td>\n",
       "      <td id=\"T_96184_row0_col4\" class=\"data row0 col4\" >0.6521</td>\n",
       "      <td id=\"T_96184_row0_col5\" class=\"data row0 col5\" >0.5974</td>\n",
       "      <td id=\"T_96184_row0_col6\" class=\"data row0 col6\" >0.4675</td>\n",
       "      <td id=\"T_96184_row0_col7\" class=\"data row0 col7\" >0.4707</td>\n",
       "      <td id=\"T_96184_row0_col8\" class=\"data row0 col8\" >0.5480</td>\n",
       "    </tr>\n",
       "    <tr>\n",
       "      <th id=\"T_96184_level0_row1\" class=\"row_heading level0 row1\" >ada</th>\n",
       "      <td id=\"T_96184_row1_col0\" class=\"data row1 col0\" >Ada Boost Classifier</td>\n",
       "      <td id=\"T_96184_row1_col1\" class=\"data row1 col1\" >0.7990</td>\n",
       "      <td id=\"T_96184_row1_col2\" class=\"data row1 col2\" >0.8410</td>\n",
       "      <td id=\"T_96184_row1_col3\" class=\"data row1 col3\" >0.5131</td>\n",
       "      <td id=\"T_96184_row1_col4\" class=\"data row1 col4\" >0.6563</td>\n",
       "      <td id=\"T_96184_row1_col5\" class=\"data row1 col5\" >0.5745</td>\n",
       "      <td id=\"T_96184_row1_col6\" class=\"data row1 col6\" >0.4458</td>\n",
       "      <td id=\"T_96184_row1_col7\" class=\"data row1 col7\" >0.4524</td>\n",
       "      <td id=\"T_96184_row1_col8\" class=\"data row1 col8\" >0.1760</td>\n",
       "    </tr>\n",
       "    <tr>\n",
       "      <th id=\"T_96184_level0_row2\" class=\"row_heading level0 row2\" >ridge</th>\n",
       "      <td id=\"T_96184_row2_col0\" class=\"data row2 col0\" >Ridge Classifier</td>\n",
       "      <td id=\"T_96184_row2_col1\" class=\"data row2 col1\" >0.7984</td>\n",
       "      <td id=\"T_96184_row2_col2\" class=\"data row2 col2\" >0.0000</td>\n",
       "      <td id=\"T_96184_row2_col3\" class=\"data row2 col3\" >0.5528</td>\n",
       "      <td id=\"T_96184_row2_col4\" class=\"data row2 col4\" >0.6416</td>\n",
       "      <td id=\"T_96184_row2_col5\" class=\"data row2 col5\" >0.5929</td>\n",
       "      <td id=\"T_96184_row2_col6\" class=\"data row2 col6\" >0.4600</td>\n",
       "      <td id=\"T_96184_row2_col7\" class=\"data row2 col7\" >0.4629</td>\n",
       "      <td id=\"T_96184_row2_col8\" class=\"data row2 col8\" >0.0110</td>\n",
       "    </tr>\n",
       "    <tr>\n",
       "      <th id=\"T_96184_level0_row3\" class=\"row_heading level0 row3\" >lda</th>\n",
       "      <td id=\"T_96184_row3_col0\" class=\"data row3 col0\" >Linear Discriminant Analysis</td>\n",
       "      <td id=\"T_96184_row3_col1\" class=\"data row3 col1\" >0.7984</td>\n",
       "      <td id=\"T_96184_row3_col2\" class=\"data row3 col2\" >0.8412</td>\n",
       "      <td id=\"T_96184_row3_col3\" class=\"data row3 col3\" >0.5925</td>\n",
       "      <td id=\"T_96184_row3_col4\" class=\"data row3 col4\" >0.6291</td>\n",
       "      <td id=\"T_96184_row3_col5\" class=\"data row3 col5\" >0.6096</td>\n",
       "      <td id=\"T_96184_row3_col6\" class=\"data row3 col6\" >0.4740</td>\n",
       "      <td id=\"T_96184_row3_col7\" class=\"data row3 col7\" >0.4748</td>\n",
       "      <td id=\"T_96184_row3_col8\" class=\"data row3 col8\" >0.0300</td>\n",
       "    </tr>\n",
       "    <tr>\n",
       "      <th id=\"T_96184_level0_row4\" class=\"row_heading level0 row4\" >gbc</th>\n",
       "      <td id=\"T_96184_row4_col0\" class=\"data row4 col0\" >Gradient Boosting Classifier</td>\n",
       "      <td id=\"T_96184_row4_col1\" class=\"data row4 col1\" >0.7980</td>\n",
       "      <td id=\"T_96184_row4_col2\" class=\"data row4 col2\" >0.8436</td>\n",
       "      <td id=\"T_96184_row4_col3\" class=\"data row4 col3\" >0.5123</td>\n",
       "      <td id=\"T_96184_row4_col4\" class=\"data row4 col4\" >0.6526</td>\n",
       "      <td id=\"T_96184_row4_col5\" class=\"data row4 col5\" >0.5730</td>\n",
       "      <td id=\"T_96184_row4_col6\" class=\"data row4 col6\" >0.4434</td>\n",
       "      <td id=\"T_96184_row4_col7\" class=\"data row4 col7\" >0.4496</td>\n",
       "      <td id=\"T_96184_row4_col8\" class=\"data row4 col8\" >0.4670</td>\n",
       "    </tr>\n",
       "    <tr>\n",
       "      <th id=\"T_96184_level0_row5\" class=\"row_heading level0 row5\" >lightgbm</th>\n",
       "      <td id=\"T_96184_row5_col0\" class=\"data row5 col0\" >Light Gradient Boosting Machine</td>\n",
       "      <td id=\"T_96184_row5_col1\" class=\"data row5 col1\" >0.7895</td>\n",
       "      <td id=\"T_96184_row5_col2\" class=\"data row5 col2\" >0.8297</td>\n",
       "      <td id=\"T_96184_row5_col3\" class=\"data row5 col3\" >0.5131</td>\n",
       "      <td id=\"T_96184_row5_col4\" class=\"data row5 col4\" >0.6270</td>\n",
       "      <td id=\"T_96184_row5_col5\" class=\"data row5 col5\" >0.5629</td>\n",
       "      <td id=\"T_96184_row5_col6\" class=\"data row5 col6\" >0.4264</td>\n",
       "      <td id=\"T_96184_row5_col7\" class=\"data row5 col7\" >0.4310</td>\n",
       "      <td id=\"T_96184_row5_col8\" class=\"data row5 col8\" >0.2730</td>\n",
       "    </tr>\n",
       "    <tr>\n",
       "      <th id=\"T_96184_level0_row6\" class=\"row_heading level0 row6\" >rf</th>\n",
       "      <td id=\"T_96184_row6_col0\" class=\"data row6 col0\" >Random Forest Classifier</td>\n",
       "      <td id=\"T_96184_row6_col1\" class=\"data row6 col1\" >0.7874</td>\n",
       "      <td id=\"T_96184_row6_col2\" class=\"data row6 col2\" >0.8244</td>\n",
       "      <td id=\"T_96184_row6_col3\" class=\"data row6 col3\" >0.4840</td>\n",
       "      <td id=\"T_96184_row6_col4\" class=\"data row6 col4\" >0.6309</td>\n",
       "      <td id=\"T_96184_row6_col5\" class=\"data row6 col5\" >0.5469</td>\n",
       "      <td id=\"T_96184_row6_col6\" class=\"data row6 col6\" >0.4113</td>\n",
       "      <td id=\"T_96184_row6_col7\" class=\"data row6 col7\" >0.4180</td>\n",
       "      <td id=\"T_96184_row6_col8\" class=\"data row6 col8\" >0.2560</td>\n",
       "    </tr>\n",
       "    <tr>\n",
       "      <th id=\"T_96184_level0_row7\" class=\"row_heading level0 row7\" >svm</th>\n",
       "      <td id=\"T_96184_row7_col0\" class=\"data row7 col0\" >SVM - Linear Kernel</td>\n",
       "      <td id=\"T_96184_row7_col1\" class=\"data row7 col1\" >0.7809</td>\n",
       "      <td id=\"T_96184_row7_col2\" class=\"data row7 col2\" >0.0000</td>\n",
       "      <td id=\"T_96184_row7_col3\" class=\"data row7 col3\" >0.4596</td>\n",
       "      <td id=\"T_96184_row7_col4\" class=\"data row7 col4\" >0.6389</td>\n",
       "      <td id=\"T_96184_row7_col5\" class=\"data row7 col5\" >0.5007</td>\n",
       "      <td id=\"T_96184_row7_col6\" class=\"data row7 col6\" >0.3756</td>\n",
       "      <td id=\"T_96184_row7_col7\" class=\"data row7 col7\" >0.3958</td>\n",
       "      <td id=\"T_96184_row7_col8\" class=\"data row7 col8\" >0.0170</td>\n",
       "    </tr>\n",
       "    <tr>\n",
       "      <th id=\"T_96184_level0_row8\" class=\"row_heading level0 row8\" >xgboost</th>\n",
       "      <td id=\"T_96184_row8_col0\" class=\"data row8 col0\" >Extreme Gradient Boosting</td>\n",
       "      <td id=\"T_96184_row8_col1\" class=\"data row8 col1\" >0.7803</td>\n",
       "      <td id=\"T_96184_row8_col2\" class=\"data row8 col2\" >0.8205</td>\n",
       "      <td id=\"T_96184_row8_col3\" class=\"data row8 col3\" >0.5070</td>\n",
       "      <td id=\"T_96184_row8_col4\" class=\"data row8 col4\" >0.6032</td>\n",
       "      <td id=\"T_96184_row8_col5\" class=\"data row8 col5\" >0.5499</td>\n",
       "      <td id=\"T_96184_row8_col6\" class=\"data row8 col6\" >0.4063</td>\n",
       "      <td id=\"T_96184_row8_col7\" class=\"data row8 col7\" >0.4096</td>\n",
       "      <td id=\"T_96184_row8_col8\" class=\"data row8 col8\" >0.4930</td>\n",
       "    </tr>\n",
       "    <tr>\n",
       "      <th id=\"T_96184_level0_row9\" class=\"row_heading level0 row9\" >et</th>\n",
       "      <td id=\"T_96184_row9_col0\" class=\"data row9 col0\" >Extra Trees Classifier</td>\n",
       "      <td id=\"T_96184_row9_col1\" class=\"data row9 col1\" >0.7732</td>\n",
       "      <td id=\"T_96184_row9_col2\" class=\"data row9 col2\" >0.8080</td>\n",
       "      <td id=\"T_96184_row9_col3\" class=\"data row9 col3\" >0.4695</td>\n",
       "      <td id=\"T_96184_row9_col4\" class=\"data row9 col4\" >0.5923</td>\n",
       "      <td id=\"T_96184_row9_col5\" class=\"data row9 col5\" >0.5223</td>\n",
       "      <td id=\"T_96184_row9_col6\" class=\"data row9 col6\" >0.3767</td>\n",
       "      <td id=\"T_96184_row9_col7\" class=\"data row9 col7\" >0.3818</td>\n",
       "      <td id=\"T_96184_row9_col8\" class=\"data row9 col8\" >0.2670</td>\n",
       "    </tr>\n",
       "    <tr>\n",
       "      <th id=\"T_96184_level0_row10\" class=\"row_heading level0 row10\" >knn</th>\n",
       "      <td id=\"T_96184_row10_col0\" class=\"data row10 col0\" >K Neighbors Classifier</td>\n",
       "      <td id=\"T_96184_row10_col1\" class=\"data row10 col1\" >0.7684</td>\n",
       "      <td id=\"T_96184_row10_col2\" class=\"data row10 col2\" >0.7804</td>\n",
       "      <td id=\"T_96184_row10_col3\" class=\"data row10 col3\" >0.5222</td>\n",
       "      <td id=\"T_96184_row10_col4\" class=\"data row10 col4\" >0.5688</td>\n",
       "      <td id=\"T_96184_row10_col5\" class=\"data row10 col5\" >0.5437</td>\n",
       "      <td id=\"T_96184_row10_col6\" class=\"data row10 col6\" >0.3891</td>\n",
       "      <td id=\"T_96184_row10_col7\" class=\"data row10 col7\" >0.3902</td>\n",
       "      <td id=\"T_96184_row10_col8\" class=\"data row10 col8\" >0.0420</td>\n",
       "    </tr>\n",
       "    <tr>\n",
       "      <th id=\"T_96184_level0_row11\" class=\"row_heading level0 row11\" >dummy</th>\n",
       "      <td id=\"T_96184_row11_col0\" class=\"data row11 col0\" >Dummy Classifier</td>\n",
       "      <td id=\"T_96184_row11_col1\" class=\"data row11 col1\" >0.7347</td>\n",
       "      <td id=\"T_96184_row11_col2\" class=\"data row11 col2\" >0.5000</td>\n",
       "      <td id=\"T_96184_row11_col3\" class=\"data row11 col3\" >0.0000</td>\n",
       "      <td id=\"T_96184_row11_col4\" class=\"data row11 col4\" >0.0000</td>\n",
       "      <td id=\"T_96184_row11_col5\" class=\"data row11 col5\" >0.0000</td>\n",
       "      <td id=\"T_96184_row11_col6\" class=\"data row11 col6\" >0.0000</td>\n",
       "      <td id=\"T_96184_row11_col7\" class=\"data row11 col7\" >0.0000</td>\n",
       "      <td id=\"T_96184_row11_col8\" class=\"data row11 col8\" >0.0190</td>\n",
       "    </tr>\n",
       "    <tr>\n",
       "      <th id=\"T_96184_level0_row12\" class=\"row_heading level0 row12\" >dt</th>\n",
       "      <td id=\"T_96184_row12_col0\" class=\"data row12 col0\" >Decision Tree Classifier</td>\n",
       "      <td id=\"T_96184_row12_col1\" class=\"data row12 col1\" >0.7245</td>\n",
       "      <td id=\"T_96184_row12_col2\" class=\"data row12 col2\" >0.6553</td>\n",
       "      <td id=\"T_96184_row12_col3\" class=\"data row12 col3\" >0.5046</td>\n",
       "      <td id=\"T_96184_row12_col4\" class=\"data row12 col4\" >0.4827</td>\n",
       "      <td id=\"T_96184_row12_col5\" class=\"data row12 col5\" >0.4927</td>\n",
       "      <td id=\"T_96184_row12_col6\" class=\"data row12 col6\" >0.3041</td>\n",
       "      <td id=\"T_96184_row12_col7\" class=\"data row12 col7\" >0.3046</td>\n",
       "      <td id=\"T_96184_row12_col8\" class=\"data row12 col8\" >0.0150</td>\n",
       "    </tr>\n",
       "    <tr>\n",
       "      <th id=\"T_96184_level0_row13\" class=\"row_heading level0 row13\" >nb</th>\n",
       "      <td id=\"T_96184_row13_col0\" class=\"data row13 col0\" >Naive Bayes</td>\n",
       "      <td id=\"T_96184_row13_col1\" class=\"data row13 col1\" >0.6846</td>\n",
       "      <td id=\"T_96184_row13_col2\" class=\"data row13 col2\" >0.8226</td>\n",
       "      <td id=\"T_96184_row13_col3\" class=\"data row13 col3\" >0.8571</td>\n",
       "      <td id=\"T_96184_row13_col4\" class=\"data row13 col4\" >0.4505</td>\n",
       "      <td id=\"T_96184_row13_col5\" class=\"data row13 col5\" >0.5905</td>\n",
       "      <td id=\"T_96184_row13_col6\" class=\"data row13 col6\" >0.3721</td>\n",
       "      <td id=\"T_96184_row13_col7\" class=\"data row13 col7\" >0.4235</td>\n",
       "      <td id=\"T_96184_row13_col8\" class=\"data row13 col8\" >0.0110</td>\n",
       "    </tr>\n",
       "    <tr>\n",
       "      <th id=\"T_96184_level0_row14\" class=\"row_heading level0 row14\" >qda</th>\n",
       "      <td id=\"T_96184_row14_col0\" class=\"data row14 col0\" >Quadratic Discriminant Analysis</td>\n",
       "      <td id=\"T_96184_row14_col1\" class=\"data row14 col1\" >0.4540</td>\n",
       "      <td id=\"T_96184_row14_col2\" class=\"data row14 col2\" >0.6067</td>\n",
       "      <td id=\"T_96184_row14_col3\" class=\"data row14 col3\" >0.9320</td>\n",
       "      <td id=\"T_96184_row14_col4\" class=\"data row14 col4\" >0.3193</td>\n",
       "      <td id=\"T_96184_row14_col5\" class=\"data row14 col5\" >0.4754</td>\n",
       "      <td id=\"T_96184_row14_col6\" class=\"data row14 col6\" >0.1326</td>\n",
       "      <td id=\"T_96184_row14_col7\" class=\"data row14 col7\" >0.2266</td>\n",
       "      <td id=\"T_96184_row14_col8\" class=\"data row14 col8\" >0.0250</td>\n",
       "    </tr>\n",
       "  </tbody>\n",
       "</table>\n"
      ],
      "text/plain": [
       "<pandas.io.formats.style.Styler at 0x203d61c5160>"
      ]
     },
     "metadata": {},
     "output_type": "display_data"
    },
    {
     "data": {
      "application/vnd.jupyter.widget-view+json": {
       "model_id": "",
       "version_major": 2,
       "version_minor": 0
      },
      "text/plain": [
       "Processing:   0%|          | 0/65 [00:00<?, ?it/s]"
      ]
     },
     "metadata": {},
     "output_type": "display_data"
    },
    {
     "data": {
      "text/plain": [
       "LogisticRegression(C=1.0, class_weight=None, dual=False, fit_intercept=True,\n",
       "                   intercept_scaling=1, l1_ratio=None, max_iter=1000,\n",
       "                   multi_class='auto', n_jobs=None, penalty='l2',\n",
       "                   random_state=123, solver='lbfgs', tol=0.0001, verbose=0,\n",
       "                   warm_start=False)"
      ]
     },
     "execution_count": 80,
     "metadata": {},
     "output_type": "execute_result"
    }
   ],
   "source": [
    "compare_models()"
   ]
  },
  {
   "cell_type": "code",
   "execution_count": 81,
   "id": "bdb2b0cd",
   "metadata": {},
   "outputs": [
    {
     "data": {
      "text/html": [],
      "text/plain": [
       "<IPython.core.display.HTML object>"
      ]
     },
     "metadata": {},
     "output_type": "display_data"
    },
    {
     "data": {
      "text/html": [
       "<style type=\"text/css\">\n",
       "#T_a8b00_row10_col0, #T_a8b00_row10_col1, #T_a8b00_row10_col2, #T_a8b00_row10_col3, #T_a8b00_row10_col4, #T_a8b00_row10_col5, #T_a8b00_row10_col6 {\n",
       "  background: yellow;\n",
       "}\n",
       "</style>\n",
       "<table id=\"T_a8b00\">\n",
       "  <thead>\n",
       "    <tr>\n",
       "      <th class=\"blank level0\" >&nbsp;</th>\n",
       "      <th id=\"T_a8b00_level0_col0\" class=\"col_heading level0 col0\" >Accuracy</th>\n",
       "      <th id=\"T_a8b00_level0_col1\" class=\"col_heading level0 col1\" >AUC</th>\n",
       "      <th id=\"T_a8b00_level0_col2\" class=\"col_heading level0 col2\" >Recall</th>\n",
       "      <th id=\"T_a8b00_level0_col3\" class=\"col_heading level0 col3\" >Prec.</th>\n",
       "      <th id=\"T_a8b00_level0_col4\" class=\"col_heading level0 col4\" >F1</th>\n",
       "      <th id=\"T_a8b00_level0_col5\" class=\"col_heading level0 col5\" >Kappa</th>\n",
       "      <th id=\"T_a8b00_level0_col6\" class=\"col_heading level0 col6\" >MCC</th>\n",
       "    </tr>\n",
       "    <tr>\n",
       "      <th class=\"index_name level0\" >Fold</th>\n",
       "      <th class=\"blank col0\" >&nbsp;</th>\n",
       "      <th class=\"blank col1\" >&nbsp;</th>\n",
       "      <th class=\"blank col2\" >&nbsp;</th>\n",
       "      <th class=\"blank col3\" >&nbsp;</th>\n",
       "      <th class=\"blank col4\" >&nbsp;</th>\n",
       "      <th class=\"blank col5\" >&nbsp;</th>\n",
       "      <th class=\"blank col6\" >&nbsp;</th>\n",
       "    </tr>\n",
       "  </thead>\n",
       "  <tbody>\n",
       "    <tr>\n",
       "      <th id=\"T_a8b00_level0_row0\" class=\"row_heading level0 row0\" >0</th>\n",
       "      <td id=\"T_a8b00_row0_col0\" class=\"data row0 col0\" >0.7870</td>\n",
       "      <td id=\"T_a8b00_row0_col1\" class=\"data row0 col1\" >0.8425</td>\n",
       "      <td id=\"T_a8b00_row0_col2\" class=\"data row0 col2\" >0.5538</td>\n",
       "      <td id=\"T_a8b00_row0_col3\" class=\"data row0 col3\" >0.6050</td>\n",
       "      <td id=\"T_a8b00_row0_col4\" class=\"data row0 col4\" >0.5783</td>\n",
       "      <td id=\"T_a8b00_row0_col5\" class=\"data row0 col5\" >0.4362</td>\n",
       "      <td id=\"T_a8b00_row0_col6\" class=\"data row0 col6\" >0.4370</td>\n",
       "    </tr>\n",
       "    <tr>\n",
       "      <th id=\"T_a8b00_level0_row1\" class=\"row_heading level0 row1\" >1</th>\n",
       "      <td id=\"T_a8b00_row1_col0\" class=\"data row1 col0\" >0.7931</td>\n",
       "      <td id=\"T_a8b00_row1_col1\" class=\"data row1 col1\" >0.8285</td>\n",
       "      <td id=\"T_a8b00_row1_col2\" class=\"data row1 col2\" >0.5538</td>\n",
       "      <td id=\"T_a8b00_row1_col3\" class=\"data row1 col3\" >0.6207</td>\n",
       "      <td id=\"T_a8b00_row1_col4\" class=\"data row1 col4\" >0.5854</td>\n",
       "      <td id=\"T_a8b00_row1_col5\" class=\"data row1 col5\" >0.4481</td>\n",
       "      <td id=\"T_a8b00_row1_col6\" class=\"data row1 col6\" >0.4494</td>\n",
       "    </tr>\n",
       "    <tr>\n",
       "      <th id=\"T_a8b00_level0_row2\" class=\"row_heading level0 row2\" >2</th>\n",
       "      <td id=\"T_a8b00_row2_col0\" class=\"data row2 col0\" >0.8053</td>\n",
       "      <td id=\"T_a8b00_row2_col1\" class=\"data row2 col1\" >0.8202</td>\n",
       "      <td id=\"T_a8b00_row2_col2\" class=\"data row2 col2\" >0.5725</td>\n",
       "      <td id=\"T_a8b00_row2_col3\" class=\"data row2 col3\" >0.6522</td>\n",
       "      <td id=\"T_a8b00_row2_col4\" class=\"data row2 col4\" >0.6098</td>\n",
       "      <td id=\"T_a8b00_row2_col5\" class=\"data row2 col5\" >0.4808</td>\n",
       "      <td id=\"T_a8b00_row2_col6\" class=\"data row2 col6\" >0.4826</td>\n",
       "    </tr>\n",
       "    <tr>\n",
       "      <th id=\"T_a8b00_level0_row3\" class=\"row_heading level0 row3\" >3</th>\n",
       "      <td id=\"T_a8b00_row3_col0\" class=\"data row3 col0\" >0.7992</td>\n",
       "      <td id=\"T_a8b00_row3_col1\" class=\"data row3 col1\" >0.8427</td>\n",
       "      <td id=\"T_a8b00_row3_col2\" class=\"data row3 col2\" >0.5344</td>\n",
       "      <td id=\"T_a8b00_row3_col3\" class=\"data row3 col3\" >0.6481</td>\n",
       "      <td id=\"T_a8b00_row3_col4\" class=\"data row3 col4\" >0.5858</td>\n",
       "      <td id=\"T_a8b00_row3_col5\" class=\"data row3 col5\" >0.4549</td>\n",
       "      <td id=\"T_a8b00_row3_col6\" class=\"data row3 col6\" >0.4586</td>\n",
       "    </tr>\n",
       "    <tr>\n",
       "      <th id=\"T_a8b00_level0_row4\" class=\"row_heading level0 row4\" >4</th>\n",
       "      <td id=\"T_a8b00_row4_col0\" class=\"data row4 col0\" >0.7688</td>\n",
       "      <td id=\"T_a8b00_row4_col1\" class=\"data row4 col1\" >0.8235</td>\n",
       "      <td id=\"T_a8b00_row4_col2\" class=\"data row4 col2\" >0.5191</td>\n",
       "      <td id=\"T_a8b00_row4_col3\" class=\"data row4 col3\" >0.5714</td>\n",
       "      <td id=\"T_a8b00_row4_col4\" class=\"data row4 col4\" >0.5440</td>\n",
       "      <td id=\"T_a8b00_row4_col5\" class=\"data row4 col5\" >0.3896</td>\n",
       "      <td id=\"T_a8b00_row4_col6\" class=\"data row4 col6\" >0.3904</td>\n",
       "    </tr>\n",
       "    <tr>\n",
       "      <th id=\"T_a8b00_level0_row5\" class=\"row_heading level0 row5\" >5</th>\n",
       "      <td id=\"T_a8b00_row5_col0\" class=\"data row5 col0\" >0.7951</td>\n",
       "      <td id=\"T_a8b00_row5_col1\" class=\"data row5 col1\" >0.8342</td>\n",
       "      <td id=\"T_a8b00_row5_col2\" class=\"data row5 col2\" >0.5420</td>\n",
       "      <td id=\"T_a8b00_row5_col3\" class=\"data row5 col3\" >0.6339</td>\n",
       "      <td id=\"T_a8b00_row5_col4\" class=\"data row5 col4\" >0.5844</td>\n",
       "      <td id=\"T_a8b00_row5_col5\" class=\"data row5 col5\" >0.4495</td>\n",
       "      <td id=\"T_a8b00_row5_col6\" class=\"data row5 col6\" >0.4520</td>\n",
       "    </tr>\n",
       "    <tr>\n",
       "      <th id=\"T_a8b00_level0_row6\" class=\"row_heading level0 row6\" >6</th>\n",
       "      <td id=\"T_a8b00_row6_col0\" class=\"data row6 col0\" >0.8174</td>\n",
       "      <td id=\"T_a8b00_row6_col1\" class=\"data row6 col1\" >0.8666</td>\n",
       "      <td id=\"T_a8b00_row6_col2\" class=\"data row6 col2\" >0.5725</td>\n",
       "      <td id=\"T_a8b00_row6_col3\" class=\"data row6 col3\" >0.6881</td>\n",
       "      <td id=\"T_a8b00_row6_col4\" class=\"data row6 col4\" >0.6250</td>\n",
       "      <td id=\"T_a8b00_row6_col5\" class=\"data row6 col5\" >0.5057</td>\n",
       "      <td id=\"T_a8b00_row6_col6\" class=\"data row6 col6\" >0.5094</td>\n",
       "    </tr>\n",
       "    <tr>\n",
       "      <th id=\"T_a8b00_level0_row7\" class=\"row_heading level0 row7\" >7</th>\n",
       "      <td id=\"T_a8b00_row7_col0\" class=\"data row7 col0\" >0.8053</td>\n",
       "      <td id=\"T_a8b00_row7_col1\" class=\"data row7 col1\" >0.8586</td>\n",
       "      <td id=\"T_a8b00_row7_col2\" class=\"data row7 col2\" >0.5420</td>\n",
       "      <td id=\"T_a8b00_row7_col3\" class=\"data row7 col3\" >0.6636</td>\n",
       "      <td id=\"T_a8b00_row7_col4\" class=\"data row7 col4\" >0.5966</td>\n",
       "      <td id=\"T_a8b00_row7_col5\" class=\"data row7 col5\" >0.4700</td>\n",
       "      <td id=\"T_a8b00_row7_col6\" class=\"data row7 col6\" >0.4742</td>\n",
       "    </tr>\n",
       "    <tr>\n",
       "      <th id=\"T_a8b00_level0_row8\" class=\"row_heading level0 row8\" >8</th>\n",
       "      <td id=\"T_a8b00_row8_col0\" class=\"data row8 col0\" >0.8235</td>\n",
       "      <td id=\"T_a8b00_row8_col1\" class=\"data row8 col1\" >0.8659</td>\n",
       "      <td id=\"T_a8b00_row8_col2\" class=\"data row8 col2\" >0.5725</td>\n",
       "      <td id=\"T_a8b00_row8_col3\" class=\"data row8 col3\" >0.7075</td>\n",
       "      <td id=\"T_a8b00_row8_col4\" class=\"data row8 col4\" >0.6329</td>\n",
       "      <td id=\"T_a8b00_row8_col5\" class=\"data row8 col5\" >0.5185</td>\n",
       "      <td id=\"T_a8b00_row8_col6\" class=\"data row8 col6\" >0.5235</td>\n",
       "    </tr>\n",
       "    <tr>\n",
       "      <th id=\"T_a8b00_level0_row9\" class=\"row_heading level0 row9\" >9</th>\n",
       "      <td id=\"T_a8b00_row9_col0\" class=\"data row9 col0\" >0.8276</td>\n",
       "      <td id=\"T_a8b00_row9_col1\" class=\"data row9 col1\" >0.8662</td>\n",
       "      <td id=\"T_a8b00_row9_col2\" class=\"data row9 col2\" >0.5573</td>\n",
       "      <td id=\"T_a8b00_row9_col3\" class=\"data row9 col3\" >0.7300</td>\n",
       "      <td id=\"T_a8b00_row9_col4\" class=\"data row9 col4\" >0.6320</td>\n",
       "      <td id=\"T_a8b00_row9_col5\" class=\"data row9 col5\" >0.5221</td>\n",
       "      <td id=\"T_a8b00_row9_col6\" class=\"data row9 col6\" >0.5302</td>\n",
       "    </tr>\n",
       "    <tr>\n",
       "      <th id=\"T_a8b00_level0_row10\" class=\"row_heading level0 row10\" >Mean</th>\n",
       "      <td id=\"T_a8b00_row10_col0\" class=\"data row10 col0\" >0.8022</td>\n",
       "      <td id=\"T_a8b00_row10_col1\" class=\"data row10 col1\" >0.8449</td>\n",
       "      <td id=\"T_a8b00_row10_col2\" class=\"data row10 col2\" >0.5520</td>\n",
       "      <td id=\"T_a8b00_row10_col3\" class=\"data row10 col3\" >0.6521</td>\n",
       "      <td id=\"T_a8b00_row10_col4\" class=\"data row10 col4\" >0.5974</td>\n",
       "      <td id=\"T_a8b00_row10_col5\" class=\"data row10 col5\" >0.4675</td>\n",
       "      <td id=\"T_a8b00_row10_col6\" class=\"data row10 col6\" >0.4707</td>\n",
       "    </tr>\n",
       "    <tr>\n",
       "      <th id=\"T_a8b00_level0_row11\" class=\"row_heading level0 row11\" >Std</th>\n",
       "      <td id=\"T_a8b00_row11_col0\" class=\"data row11 col0\" >0.0169</td>\n",
       "      <td id=\"T_a8b00_row11_col1\" class=\"data row11 col1\" >0.0174</td>\n",
       "      <td id=\"T_a8b00_row11_col2\" class=\"data row11 col2\" >0.0170</td>\n",
       "      <td id=\"T_a8b00_row11_col3\" class=\"data row11 col3\" >0.0454</td>\n",
       "      <td id=\"T_a8b00_row11_col4\" class=\"data row11 col4\" >0.0265</td>\n",
       "      <td id=\"T_a8b00_row11_col5\" class=\"data row11 col5\" >0.0389</td>\n",
       "      <td id=\"T_a8b00_row11_col6\" class=\"data row11 col6\" >0.0406</td>\n",
       "    </tr>\n",
       "  </tbody>\n",
       "</table>\n"
      ],
      "text/plain": [
       "<pandas.io.formats.style.Styler at 0x203cfd4b820>"
      ]
     },
     "metadata": {},
     "output_type": "display_data"
    },
    {
     "data": {
      "application/vnd.jupyter.widget-view+json": {
       "model_id": "",
       "version_major": 2,
       "version_minor": 0
      },
      "text/plain": [
       "Processing:   0%|          | 0/4 [00:00<?, ?it/s]"
      ]
     },
     "metadata": {},
     "output_type": "display_data"
    }
   ],
   "source": [
    "#best model- logistic reg\n",
    "logistic=create_model(\"lr\")"
   ]
  },
  {
   "cell_type": "code",
   "execution_count": 82,
   "id": "bcca128a",
   "metadata": {},
   "outputs": [
    {
     "data": {
      "text/html": [],
      "text/plain": [
       "<IPython.core.display.HTML object>"
      ]
     },
     "metadata": {},
     "output_type": "display_data"
    },
    {
     "data": {
      "text/html": [
       "<style type=\"text/css\">\n",
       "#T_f4edc_row10_col0, #T_f4edc_row10_col1, #T_f4edc_row10_col2, #T_f4edc_row10_col3, #T_f4edc_row10_col4, #T_f4edc_row10_col5, #T_f4edc_row10_col6 {\n",
       "  background: yellow;\n",
       "}\n",
       "</style>\n",
       "<table id=\"T_f4edc\">\n",
       "  <thead>\n",
       "    <tr>\n",
       "      <th class=\"blank level0\" >&nbsp;</th>\n",
       "      <th id=\"T_f4edc_level0_col0\" class=\"col_heading level0 col0\" >Accuracy</th>\n",
       "      <th id=\"T_f4edc_level0_col1\" class=\"col_heading level0 col1\" >AUC</th>\n",
       "      <th id=\"T_f4edc_level0_col2\" class=\"col_heading level0 col2\" >Recall</th>\n",
       "      <th id=\"T_f4edc_level0_col3\" class=\"col_heading level0 col3\" >Prec.</th>\n",
       "      <th id=\"T_f4edc_level0_col4\" class=\"col_heading level0 col4\" >F1</th>\n",
       "      <th id=\"T_f4edc_level0_col5\" class=\"col_heading level0 col5\" >Kappa</th>\n",
       "      <th id=\"T_f4edc_level0_col6\" class=\"col_heading level0 col6\" >MCC</th>\n",
       "    </tr>\n",
       "    <tr>\n",
       "      <th class=\"index_name level0\" >Fold</th>\n",
       "      <th class=\"blank col0\" >&nbsp;</th>\n",
       "      <th class=\"blank col1\" >&nbsp;</th>\n",
       "      <th class=\"blank col2\" >&nbsp;</th>\n",
       "      <th class=\"blank col3\" >&nbsp;</th>\n",
       "      <th class=\"blank col4\" >&nbsp;</th>\n",
       "      <th class=\"blank col5\" >&nbsp;</th>\n",
       "      <th class=\"blank col6\" >&nbsp;</th>\n",
       "    </tr>\n",
       "  </thead>\n",
       "  <tbody>\n",
       "    <tr>\n",
       "      <th id=\"T_f4edc_level0_row0\" class=\"row_heading level0 row0\" >0</th>\n",
       "      <td id=\"T_f4edc_row0_col0\" class=\"data row0 col0\" >0.7890</td>\n",
       "      <td id=\"T_f4edc_row0_col1\" class=\"data row0 col1\" >0.8426</td>\n",
       "      <td id=\"T_f4edc_row0_col2\" class=\"data row0 col2\" >0.5615</td>\n",
       "      <td id=\"T_f4edc_row0_col3\" class=\"data row0 col3\" >0.6083</td>\n",
       "      <td id=\"T_f4edc_row0_col4\" class=\"data row0 col4\" >0.5840</td>\n",
       "      <td id=\"T_f4edc_row0_col5\" class=\"data row0 col5\" >0.4430</td>\n",
       "      <td id=\"T_f4edc_row0_col6\" class=\"data row0 col6\" >0.4436</td>\n",
       "    </tr>\n",
       "    <tr>\n",
       "      <th id=\"T_f4edc_level0_row1\" class=\"row_heading level0 row1\" >1</th>\n",
       "      <td id=\"T_f4edc_row1_col0\" class=\"data row1 col0\" >0.7951</td>\n",
       "      <td id=\"T_f4edc_row1_col1\" class=\"data row1 col1\" >0.8286</td>\n",
       "      <td id=\"T_f4edc_row1_col2\" class=\"data row1 col2\" >0.5538</td>\n",
       "      <td id=\"T_f4edc_row1_col3\" class=\"data row1 col3\" >0.6261</td>\n",
       "      <td id=\"T_f4edc_row1_col4\" class=\"data row1 col4\" >0.5878</td>\n",
       "      <td id=\"T_f4edc_row1_col5\" class=\"data row1 col5\" >0.4521</td>\n",
       "      <td id=\"T_f4edc_row1_col6\" class=\"data row1 col6\" >0.4536</td>\n",
       "    </tr>\n",
       "    <tr>\n",
       "      <th id=\"T_f4edc_level0_row2\" class=\"row_heading level0 row2\" >2</th>\n",
       "      <td id=\"T_f4edc_row2_col0\" class=\"data row2 col0\" >0.8032</td>\n",
       "      <td id=\"T_f4edc_row2_col1\" class=\"data row2 col1\" >0.8209</td>\n",
       "      <td id=\"T_f4edc_row2_col2\" class=\"data row2 col2\" >0.5649</td>\n",
       "      <td id=\"T_f4edc_row2_col3\" class=\"data row2 col3\" >0.6491</td>\n",
       "      <td id=\"T_f4edc_row2_col4\" class=\"data row2 col4\" >0.6041</td>\n",
       "      <td id=\"T_f4edc_row2_col5\" class=\"data row2 col5\" >0.4740</td>\n",
       "      <td id=\"T_f4edc_row2_col6\" class=\"data row2 col6\" >0.4760</td>\n",
       "    </tr>\n",
       "    <tr>\n",
       "      <th id=\"T_f4edc_level0_row3\" class=\"row_heading level0 row3\" >3</th>\n",
       "      <td id=\"T_f4edc_row3_col0\" class=\"data row3 col0\" >0.8012</td>\n",
       "      <td id=\"T_f4edc_row3_col1\" class=\"data row3 col1\" >0.8432</td>\n",
       "      <td id=\"T_f4edc_row3_col2\" class=\"data row3 col2\" >0.5420</td>\n",
       "      <td id=\"T_f4edc_row3_col3\" class=\"data row3 col3\" >0.6514</td>\n",
       "      <td id=\"T_f4edc_row3_col4\" class=\"data row3 col4\" >0.5917</td>\n",
       "      <td id=\"T_f4edc_row3_col5\" class=\"data row3 col5\" >0.4618</td>\n",
       "      <td id=\"T_f4edc_row3_col6\" class=\"data row3 col6\" >0.4652</td>\n",
       "    </tr>\n",
       "    <tr>\n",
       "      <th id=\"T_f4edc_level0_row4\" class=\"row_heading level0 row4\" >4</th>\n",
       "      <td id=\"T_f4edc_row4_col0\" class=\"data row4 col0\" >0.7728</td>\n",
       "      <td id=\"T_f4edc_row4_col1\" class=\"data row4 col1\" >0.8234</td>\n",
       "      <td id=\"T_f4edc_row4_col2\" class=\"data row4 col2\" >0.5267</td>\n",
       "      <td id=\"T_f4edc_row4_col3\" class=\"data row4 col3\" >0.5798</td>\n",
       "      <td id=\"T_f4edc_row4_col4\" class=\"data row4 col4\" >0.5520</td>\n",
       "      <td id=\"T_f4edc_row4_col5\" class=\"data row4 col5\" >0.4003</td>\n",
       "      <td id=\"T_f4edc_row4_col6\" class=\"data row4 col6\" >0.4011</td>\n",
       "    </tr>\n",
       "    <tr>\n",
       "      <th id=\"T_f4edc_level0_row5\" class=\"row_heading level0 row5\" >5</th>\n",
       "      <td id=\"T_f4edc_row5_col0\" class=\"data row5 col0\" >0.7951</td>\n",
       "      <td id=\"T_f4edc_row5_col1\" class=\"data row5 col1\" >0.8335</td>\n",
       "      <td id=\"T_f4edc_row5_col2\" class=\"data row5 col2\" >0.5496</td>\n",
       "      <td id=\"T_f4edc_row5_col3\" class=\"data row5 col3\" >0.6316</td>\n",
       "      <td id=\"T_f4edc_row5_col4\" class=\"data row5 col4\" >0.5878</td>\n",
       "      <td id=\"T_f4edc_row5_col5\" class=\"data row5 col5\" >0.4523</td>\n",
       "      <td id=\"T_f4edc_row5_col6\" class=\"data row5 col6\" >0.4543</td>\n",
       "    </tr>\n",
       "    <tr>\n",
       "      <th id=\"T_f4edc_level0_row6\" class=\"row_heading level0 row6\" >6</th>\n",
       "      <td id=\"T_f4edc_row6_col0\" class=\"data row6 col0\" >0.8195</td>\n",
       "      <td id=\"T_f4edc_row6_col1\" class=\"data row6 col1\" >0.8679</td>\n",
       "      <td id=\"T_f4edc_row6_col2\" class=\"data row6 col2\" >0.5725</td>\n",
       "      <td id=\"T_f4edc_row6_col3\" class=\"data row6 col3\" >0.6944</td>\n",
       "      <td id=\"T_f4edc_row6_col4\" class=\"data row6 col4\" >0.6276</td>\n",
       "      <td id=\"T_f4edc_row6_col5\" class=\"data row6 col5\" >0.5099</td>\n",
       "      <td id=\"T_f4edc_row6_col6\" class=\"data row6 col6\" >0.5141</td>\n",
       "    </tr>\n",
       "    <tr>\n",
       "      <th id=\"T_f4edc_level0_row7\" class=\"row_heading level0 row7\" >7</th>\n",
       "      <td id=\"T_f4edc_row7_col0\" class=\"data row7 col0\" >0.8053</td>\n",
       "      <td id=\"T_f4edc_row7_col1\" class=\"data row7 col1\" >0.8590</td>\n",
       "      <td id=\"T_f4edc_row7_col2\" class=\"data row7 col2\" >0.5344</td>\n",
       "      <td id=\"T_f4edc_row7_col3\" class=\"data row7 col3\" >0.6667</td>\n",
       "      <td id=\"T_f4edc_row7_col4\" class=\"data row7 col4\" >0.5932</td>\n",
       "      <td id=\"T_f4edc_row7_col5\" class=\"data row7 col5\" >0.4673</td>\n",
       "      <td id=\"T_f4edc_row7_col6\" class=\"data row7 col6\" >0.4722</td>\n",
       "    </tr>\n",
       "    <tr>\n",
       "      <th id=\"T_f4edc_level0_row8\" class=\"row_heading level0 row8\" >8</th>\n",
       "      <td id=\"T_f4edc_row8_col0\" class=\"data row8 col0\" >0.8235</td>\n",
       "      <td id=\"T_f4edc_row8_col1\" class=\"data row8 col1\" >0.8662</td>\n",
       "      <td id=\"T_f4edc_row8_col2\" class=\"data row8 col2\" >0.5725</td>\n",
       "      <td id=\"T_f4edc_row8_col3\" class=\"data row8 col3\" >0.7075</td>\n",
       "      <td id=\"T_f4edc_row8_col4\" class=\"data row8 col4\" >0.6329</td>\n",
       "      <td id=\"T_f4edc_row8_col5\" class=\"data row8 col5\" >0.5185</td>\n",
       "      <td id=\"T_f4edc_row8_col6\" class=\"data row8 col6\" >0.5235</td>\n",
       "    </tr>\n",
       "    <tr>\n",
       "      <th id=\"T_f4edc_level0_row9\" class=\"row_heading level0 row9\" >9</th>\n",
       "      <td id=\"T_f4edc_row9_col0\" class=\"data row9 col0\" >0.8276</td>\n",
       "      <td id=\"T_f4edc_row9_col1\" class=\"data row9 col1\" >0.8665</td>\n",
       "      <td id=\"T_f4edc_row9_col2\" class=\"data row9 col2\" >0.5573</td>\n",
       "      <td id=\"T_f4edc_row9_col3\" class=\"data row9 col3\" >0.7300</td>\n",
       "      <td id=\"T_f4edc_row9_col4\" class=\"data row9 col4\" >0.6320</td>\n",
       "      <td id=\"T_f4edc_row9_col5\" class=\"data row9 col5\" >0.5221</td>\n",
       "      <td id=\"T_f4edc_row9_col6\" class=\"data row9 col6\" >0.5302</td>\n",
       "    </tr>\n",
       "    <tr>\n",
       "      <th id=\"T_f4edc_level0_row10\" class=\"row_heading level0 row10\" >Mean</th>\n",
       "      <td id=\"T_f4edc_row10_col0\" class=\"data row10 col0\" >0.8032</td>\n",
       "      <td id=\"T_f4edc_row10_col1\" class=\"data row10 col1\" >0.8452</td>\n",
       "      <td id=\"T_f4edc_row10_col2\" class=\"data row10 col2\" >0.5535</td>\n",
       "      <td id=\"T_f4edc_row10_col3\" class=\"data row10 col3\" >0.6545</td>\n",
       "      <td id=\"T_f4edc_row10_col4\" class=\"data row10 col4\" >0.5993</td>\n",
       "      <td id=\"T_f4edc_row10_col5\" class=\"data row10 col5\" >0.4701</td>\n",
       "      <td id=\"T_f4edc_row10_col6\" class=\"data row10 col6\" >0.4734</td>\n",
       "    </tr>\n",
       "    <tr>\n",
       "      <th id=\"T_f4edc_level0_row11\" class=\"row_heading level0 row11\" >Std</th>\n",
       "      <td id=\"T_f4edc_row11_col0\" class=\"data row11 col0\" >0.0159</td>\n",
       "      <td id=\"T_f4edc_row11_col1\" class=\"data row11 col1\" >0.0176</td>\n",
       "      <td id=\"T_f4edc_row11_col2\" class=\"data row11 col2\" >0.0147</td>\n",
       "      <td id=\"T_f4edc_row11_col3\" class=\"data row11 col3\" >0.0440</td>\n",
       "      <td id=\"T_f4edc_row11_col4\" class=\"data row11 col4\" >0.0242</td>\n",
       "      <td id=\"T_f4edc_row11_col5\" class=\"data row11 col5\" >0.0360</td>\n",
       "      <td id=\"T_f4edc_row11_col6\" class=\"data row11 col6\" >0.0379</td>\n",
       "    </tr>\n",
       "  </tbody>\n",
       "</table>\n"
      ],
      "text/plain": [
       "<pandas.io.formats.style.Styler at 0x203cfd4b310>"
      ]
     },
     "metadata": {},
     "output_type": "display_data"
    },
    {
     "data": {
      "application/vnd.jupyter.widget-view+json": {
       "model_id": "",
       "version_major": 2,
       "version_minor": 0
      },
      "text/plain": [
       "Processing:   0%|          | 0/7 [00:00<?, ?it/s]"
      ]
     },
     "metadata": {},
     "output_type": "display_data"
    },
    {
     "name": "stdout",
     "output_type": "stream",
     "text": [
      "Fitting 10 folds for each of 10 candidates, totalling 100 fits\n"
     ]
    }
   ],
   "source": [
    "#further tuning\n",
    "tuned=tune_model(logistic)"
   ]
  },
  {
   "cell_type": "code",
   "execution_count": 83,
   "id": "e86d87b3",
   "metadata": {},
   "outputs": [
    {
     "data": {
      "application/vnd.jupyter.widget-view+json": {
       "model_id": "f1a4c538c4ec4e58bcf7d6cd4fed5842",
       "version_major": 2,
       "version_minor": 0
      },
      "text/plain": [
       "interactive(children=(ToggleButtons(description='Plot Type:', icons=('',), options=(('Pipeline Plot', 'pipelin…"
      ]
     },
     "metadata": {},
     "output_type": "display_data"
    }
   ],
   "source": [
    "evaluate_model(tuned)"
   ]
  },
  {
   "cell_type": "code",
   "execution_count": null,
   "id": "b3a7feb8",
   "metadata": {},
   "outputs": [],
   "source": []
  }
 ],
 "metadata": {
  "kernelspec": {
   "display_name": "Python 3 (ipykernel)",
   "language": "python",
   "name": "python3"
  },
  "language_info": {
   "codemirror_mode": {
    "name": "ipython",
    "version": 3
   },
   "file_extension": ".py",
   "mimetype": "text/x-python",
   "name": "python",
   "nbconvert_exporter": "python",
   "pygments_lexer": "ipython3",
   "version": "3.9.13"
  }
 },
 "nbformat": 4,
 "nbformat_minor": 5
}
